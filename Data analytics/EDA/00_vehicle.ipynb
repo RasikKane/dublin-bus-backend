{
 "cells": [
  {
   "cell_type": "markdown",
   "metadata": {},
   "source": [
    "# Analysis for VEHICLE database  : Dublin Bus"
   ]
  },
  {
   "cell_type": "code",
   "execution_count": 1,
   "metadata": {},
   "outputs": [],
   "source": [
    "import pandas as pd"
   ]
  },
  {
   "cell_type": "markdown",
   "metadata": {},
   "source": [
    "## Vehicles data"
   ]
  },
  {
   "cell_type": "markdown",
   "metadata": {},
   "source": [
    "### Load file into dataframe"
   ]
  },
  {
   "cell_type": "code",
   "execution_count": 20,
   "metadata": {},
   "outputs": [],
   "source": [
    "df_v = pd.read_csv(\"../DB/monthlyData/rt_vehicles_DB_2018.csv\",skip_blank_lines=True,index_col=False)"
   ]
  },
  {
   "cell_type": "markdown",
   "metadata": {},
   "source": [
    "### View vehicle data"
   ]
  },
  {
   "cell_type": "code",
   "execution_count": 21,
   "metadata": {},
   "outputs": [
    {
     "data": {
      "text/html": [
       "<div>\n",
       "<style scoped>\n",
       "    .dataframe tbody tr th:only-of-type {\n",
       "        vertical-align: middle;\n",
       "    }\n",
       "\n",
       "    .dataframe tbody tr th {\n",
       "        vertical-align: top;\n",
       "    }\n",
       "\n",
       "    .dataframe thead th {\n",
       "        text-align: right;\n",
       "    }\n",
       "</style>\n",
       "<table border=\"1\" class=\"dataframe\">\n",
       "  <thead>\n",
       "    <tr style=\"text-align: right;\">\n",
       "      <th></th>\n",
       "      <th>DATASOURCE</th>\n",
       "      <th>DAYOFSERVICE</th>\n",
       "      <th>VEHICLEID</th>\n",
       "      <th>DISTANCE</th>\n",
       "      <th>MINUTES</th>\n",
       "      <th>LASTUPDATE</th>\n",
       "      <th>NOTE</th>\n",
       "    </tr>\n",
       "  </thead>\n",
       "  <tbody>\n",
       "    <tr>\n",
       "      <th>0</th>\n",
       "      <td>DB</td>\n",
       "      <td>23-NOV-18 00:00:00</td>\n",
       "      <td>3303848</td>\n",
       "      <td>286166</td>\n",
       "      <td>58849</td>\n",
       "      <td>04-DEC-18 08:03:09</td>\n",
       "      <td>NaN</td>\n",
       "    </tr>\n",
       "    <tr>\n",
       "      <th>1</th>\n",
       "      <td>DB</td>\n",
       "      <td>23-NOV-18 00:00:00</td>\n",
       "      <td>3303847</td>\n",
       "      <td>259545</td>\n",
       "      <td>56828</td>\n",
       "      <td>04-DEC-18 08:03:09</td>\n",
       "      <td>NaN</td>\n",
       "    </tr>\n",
       "    <tr>\n",
       "      <th>2</th>\n",
       "      <td>DB</td>\n",
       "      <td>28-FEB-18 00:00:00</td>\n",
       "      <td>2868329</td>\n",
       "      <td>103096</td>\n",
       "      <td>40967</td>\n",
       "      <td>08-MAR-18 10:35:59</td>\n",
       "      <td>NaN</td>\n",
       "    </tr>\n",
       "    <tr>\n",
       "      <th>3</th>\n",
       "      <td>DB</td>\n",
       "      <td>28-FEB-18 00:00:00</td>\n",
       "      <td>2868330</td>\n",
       "      <td>147277</td>\n",
       "      <td>43599</td>\n",
       "      <td>08-MAR-18 10:35:59</td>\n",
       "      <td>NaN</td>\n",
       "    </tr>\n",
       "    <tr>\n",
       "      <th>4</th>\n",
       "      <td>DB</td>\n",
       "      <td>28-FEB-18 00:00:00</td>\n",
       "      <td>2868331</td>\n",
       "      <td>224682</td>\n",
       "      <td>40447</td>\n",
       "      <td>08-MAR-18 10:35:59</td>\n",
       "      <td>NaN</td>\n",
       "    </tr>\n",
       "  </tbody>\n",
       "</table>\n",
       "</div>"
      ],
      "text/plain": [
       "  DATASOURCE        DAYOFSERVICE  VEHICLEID  DISTANCE  MINUTES  \\\n",
       "0         DB  23-NOV-18 00:00:00    3303848    286166    58849   \n",
       "1         DB  23-NOV-18 00:00:00    3303847    259545    56828   \n",
       "2         DB  28-FEB-18 00:00:00    2868329    103096    40967   \n",
       "3         DB  28-FEB-18 00:00:00    2868330    147277    43599   \n",
       "4         DB  28-FEB-18 00:00:00    2868331    224682    40447   \n",
       "\n",
       "           LASTUPDATE  NOTE  \n",
       "0  04-DEC-18 08:03:09   NaN  \n",
       "1  04-DEC-18 08:03:09   NaN  \n",
       "2  08-MAR-18 10:35:59   NaN  \n",
       "3  08-MAR-18 10:35:59   NaN  \n",
       "4  08-MAR-18 10:35:59   NaN  "
      ]
     },
     "execution_count": 21,
     "metadata": {},
     "output_type": "execute_result"
    }
   ],
   "source": [
    "df_v.head()"
   ]
  },
  {
   "cell_type": "markdown",
   "metadata": {},
   "source": [
    "### Properties of features"
   ]
  },
  {
   "cell_type": "code",
   "execution_count": 22,
   "metadata": {
    "scrolled": true
   },
   "outputs": [
    {
     "name": "stdout",
     "output_type": "stream",
     "text": [
      "<class 'pandas.core.frame.DataFrame'>\n",
      "RangeIndex: 272622 entries, 0 to 272621\n",
      "Data columns (total 7 columns):\n",
      " #   Column        Non-Null Count   Dtype  \n",
      "---  ------        --------------   -----  \n",
      " 0   DATASOURCE    272622 non-null  object \n",
      " 1   DAYOFSERVICE  272622 non-null  object \n",
      " 2   VEHICLEID     272622 non-null  int64  \n",
      " 3   DISTANCE      272622 non-null  int64  \n",
      " 4   MINUTES       272622 non-null  int64  \n",
      " 5   LASTUPDATE    272622 non-null  object \n",
      " 6   NOTE          0 non-null       float64\n",
      "dtypes: float64(1), int64(3), object(3)\n",
      "memory usage: 14.6+ MB\n"
     ]
    }
   ],
   "source": [
    "df_v.info()"
   ]
  },
  {
   "cell_type": "code",
   "execution_count": 23,
   "metadata": {},
   "outputs": [
    {
     "data": {
      "text/plain": [
       "DATASOURCE           1\n",
       "DAYOFSERVICE       360\n",
       "VEHICLEID         1152\n",
       "DISTANCE        170498\n",
       "MINUTES          57523\n",
       "LASTUPDATE         360\n",
       "NOTE                 0\n",
       "dtype: int64"
      ]
     },
     "execution_count": 23,
     "metadata": {},
     "output_type": "execute_result"
    }
   ],
   "source": [
    "df_v.nunique()"
   ]
  },
  {
   "cell_type": "markdown",
   "metadata": {},
   "source": [
    "**REVIEW OF FEATURES**\n",
    "\n",
    "| Features        | Observation   | Decision  |\n",
    "| :--------------- |:-------------|:-----|\n",
    "| **DATASOURCE**      | Non -null column with single value DB; indicates source of datasource| **Drop** |\n",
    "| **DAYOFSERVICE**    | Non -null column with  360 unique entries; maps vehicles which served on specific day of year| **No action** |\n",
    "| **VEHICLEID**       | Non -null column with  1152 unique entries; indicate vehicle in service| **No action** |\n",
    "| **DISTANCE**        | Non -null column with  170498 unique entries; expresses km travelled by vehicle on the day. Can be binned into 10s of km| **No action** |\n",
    "| **MINUTES**         | Non -null column with  57523 unique entries;  expresses time served by vehicle on the day. Can be binned into 10s of minutes| **No action** |\n",
    "| **LASTUPDATE**      | Non -null column with  360 unique entries; indicates timestamp for this data entry. Not relevent for vehicle information| **Drop** |\n",
    "| **Note**            | Null column | **Drop** |"
   ]
  },
  {
   "cell_type": "code",
   "execution_count": 24,
   "metadata": {},
   "outputs": [
    {
     "data": {
      "text/html": [
       "<div>\n",
       "<style scoped>\n",
       "    .dataframe tbody tr th:only-of-type {\n",
       "        vertical-align: middle;\n",
       "    }\n",
       "\n",
       "    .dataframe tbody tr th {\n",
       "        vertical-align: top;\n",
       "    }\n",
       "\n",
       "    .dataframe thead th {\n",
       "        text-align: right;\n",
       "    }\n",
       "</style>\n",
       "<table border=\"1\" class=\"dataframe\">\n",
       "  <thead>\n",
       "    <tr style=\"text-align: right;\">\n",
       "      <th></th>\n",
       "      <th>DAYOFSERVICE</th>\n",
       "      <th>VEHICLEID</th>\n",
       "      <th>DISTANCE</th>\n",
       "      <th>MINUTES</th>\n",
       "    </tr>\n",
       "  </thead>\n",
       "  <tbody>\n",
       "    <tr>\n",
       "      <th>0</th>\n",
       "      <td>2018-11-23</td>\n",
       "      <td>3303848</td>\n",
       "      <td>286166</td>\n",
       "      <td>58849</td>\n",
       "    </tr>\n",
       "    <tr>\n",
       "      <th>1</th>\n",
       "      <td>2018-11-23</td>\n",
       "      <td>3303847</td>\n",
       "      <td>259545</td>\n",
       "      <td>56828</td>\n",
       "    </tr>\n",
       "    <tr>\n",
       "      <th>2</th>\n",
       "      <td>2018-02-28</td>\n",
       "      <td>2868329</td>\n",
       "      <td>103096</td>\n",
       "      <td>40967</td>\n",
       "    </tr>\n",
       "    <tr>\n",
       "      <th>3</th>\n",
       "      <td>2018-02-28</td>\n",
       "      <td>2868330</td>\n",
       "      <td>147277</td>\n",
       "      <td>43599</td>\n",
       "    </tr>\n",
       "    <tr>\n",
       "      <th>4</th>\n",
       "      <td>2018-02-28</td>\n",
       "      <td>2868331</td>\n",
       "      <td>224682</td>\n",
       "      <td>40447</td>\n",
       "    </tr>\n",
       "  </tbody>\n",
       "</table>\n",
       "</div>"
      ],
      "text/plain": [
       "  DAYOFSERVICE  VEHICLEID  DISTANCE  MINUTES\n",
       "0   2018-11-23    3303848    286166    58849\n",
       "1   2018-11-23    3303847    259545    56828\n",
       "2   2018-02-28    2868329    103096    40967\n",
       "3   2018-02-28    2868330    147277    43599\n",
       "4   2018-02-28    2868331    224682    40447"
      ]
     },
     "execution_count": 24,
     "metadata": {},
     "output_type": "execute_result"
    }
   ],
   "source": [
    "df_v.drop(columns=['DATASOURCE','LASTUPDATE','NOTE'],inplace=True)\n",
    "df_v['DAYOFSERVICE'] =  pd.to_datetime(df_v['DAYOFSERVICE'])\n",
    "df_v.head()"
   ]
  },
  {
   "cell_type": "code",
   "execution_count": 25,
   "metadata": {},
   "outputs": [],
   "source": [
    "VEHICLEID_unique = df_v['VEHICLEID'].unique()\n",
    "group_vehicleID = df_v.groupby(by='VEHICLEID',axis=1)\n"
   ]
  },
  {
   "cell_type": "code",
   "execution_count": 26,
   "metadata": {},
   "outputs": [
    {
     "data": {
      "text/html": [
       "<div>\n",
       "<style scoped>\n",
       "    .dataframe tbody tr th:only-of-type {\n",
       "        vertical-align: middle;\n",
       "    }\n",
       "\n",
       "    .dataframe tbody tr th {\n",
       "        vertical-align: top;\n",
       "    }\n",
       "\n",
       "    .dataframe thead th {\n",
       "        text-align: right;\n",
       "    }\n",
       "</style>\n",
       "<table border=\"1\" class=\"dataframe\">\n",
       "  <thead>\n",
       "    <tr style=\"text-align: right;\">\n",
       "      <th></th>\n",
       "      <th>DAYOFSERVICE</th>\n",
       "      <th>VEHICLEID</th>\n",
       "      <th>DISTANCE</th>\n",
       "      <th>MINUTES</th>\n",
       "    </tr>\n",
       "  </thead>\n",
       "  <tbody>\n",
       "    <tr>\n",
       "      <th>250722</th>\n",
       "      <td>2018-10-19</td>\n",
       "      <td>3303848</td>\n",
       "      <td>26209</td>\n",
       "      <td>3909</td>\n",
       "    </tr>\n",
       "    <tr>\n",
       "      <th>207495</th>\n",
       "      <td>2018-10-20</td>\n",
       "      <td>3303848</td>\n",
       "      <td>220081</td>\n",
       "      <td>50415</td>\n",
       "    </tr>\n",
       "    <tr>\n",
       "      <th>257566</th>\n",
       "      <td>2018-10-21</td>\n",
       "      <td>3303848</td>\n",
       "      <td>234549</td>\n",
       "      <td>45537</td>\n",
       "    </tr>\n",
       "    <tr>\n",
       "      <th>228050</th>\n",
       "      <td>2018-10-22</td>\n",
       "      <td>3303848</td>\n",
       "      <td>302517</td>\n",
       "      <td>65491</td>\n",
       "    </tr>\n",
       "    <tr>\n",
       "      <th>163915</th>\n",
       "      <td>2018-10-23</td>\n",
       "      <td>3303848</td>\n",
       "      <td>213884</td>\n",
       "      <td>58108</td>\n",
       "    </tr>\n",
       "    <tr>\n",
       "      <th>...</th>\n",
       "      <td>...</td>\n",
       "      <td>...</td>\n",
       "      <td>...</td>\n",
       "      <td>...</td>\n",
       "    </tr>\n",
       "    <tr>\n",
       "      <th>262877</th>\n",
       "      <td>2018-12-20</td>\n",
       "      <td>3303848</td>\n",
       "      <td>307391</td>\n",
       "      <td>58295</td>\n",
       "    </tr>\n",
       "    <tr>\n",
       "      <th>260089</th>\n",
       "      <td>2018-12-21</td>\n",
       "      <td>3303848</td>\n",
       "      <td>228080</td>\n",
       "      <td>62226</td>\n",
       "    </tr>\n",
       "    <tr>\n",
       "      <th>272596</th>\n",
       "      <td>2018-12-29</td>\n",
       "      <td>3303848</td>\n",
       "      <td>171668</td>\n",
       "      <td>46215</td>\n",
       "    </tr>\n",
       "    <tr>\n",
       "      <th>266915</th>\n",
       "      <td>2018-12-30</td>\n",
       "      <td>3303848</td>\n",
       "      <td>292171</td>\n",
       "      <td>54587</td>\n",
       "    </tr>\n",
       "    <tr>\n",
       "      <th>267756</th>\n",
       "      <td>2018-12-31</td>\n",
       "      <td>3303848</td>\n",
       "      <td>356593</td>\n",
       "      <td>58693</td>\n",
       "    </tr>\n",
       "  </tbody>\n",
       "</table>\n",
       "<p>63 rows × 4 columns</p>\n",
       "</div>"
      ],
      "text/plain": [
       "       DAYOFSERVICE  VEHICLEID  DISTANCE  MINUTES\n",
       "250722   2018-10-19    3303848     26209     3909\n",
       "207495   2018-10-20    3303848    220081    50415\n",
       "257566   2018-10-21    3303848    234549    45537\n",
       "228050   2018-10-22    3303848    302517    65491\n",
       "163915   2018-10-23    3303848    213884    58108\n",
       "...             ...        ...       ...      ...\n",
       "262877   2018-12-20    3303848    307391    58295\n",
       "260089   2018-12-21    3303848    228080    62226\n",
       "272596   2018-12-29    3303848    171668    46215\n",
       "266915   2018-12-30    3303848    292171    54587\n",
       "267756   2018-12-31    3303848    356593    58693\n",
       "\n",
       "[63 rows x 4 columns]"
      ]
     },
     "execution_count": 26,
     "metadata": {},
     "output_type": "execute_result"
    }
   ],
   "source": [
    "df_v.loc[df_v['VEHICLEID'] == VEHICLEID_unique[0]].sort_values(by=['DAYOFSERVICE'])"
   ]
  },
  {
   "cell_type": "code",
   "execution_count": null,
   "metadata": {},
   "outputs": [],
   "source": []
  }
 ],
 "metadata": {
  "kernelspec": {
   "display_name": "envDA",
   "language": "python",
   "name": "envda"
  },
  "language_info": {
   "codemirror_mode": {
    "name": "ipython",
    "version": 3
   },
   "file_extension": ".py",
   "mimetype": "text/x-python",
   "name": "python",
   "nbconvert_exporter": "python",
   "pygments_lexer": "ipython3",
   "version": "3.7.7"
  },
  "toc": {
   "base_numbering": 1,
   "nav_menu": {},
   "number_sections": true,
   "sideBar": true,
   "skip_h1_title": false,
   "title_cell": "Table of Contents",
   "title_sidebar": "Contents",
   "toc_cell": false,
   "toc_position": {},
   "toc_section_display": true,
   "toc_window_display": false
  }
 },
 "nbformat": 4,
 "nbformat_minor": 4
}
