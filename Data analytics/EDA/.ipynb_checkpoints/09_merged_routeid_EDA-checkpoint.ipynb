{
 "cells": [
  {
   "cell_type": "code",
   "execution_count": 1,
   "metadata": {},
   "outputs": [],
   "source": [
    "import numpy as np\n",
    "import pandas as pd\n",
    "import matplotlib.pyplot as plt\n",
    "import seaborn as sns\n",
    "from dython import nominal"
   ]
  },
  {
   "cell_type": "markdown",
   "metadata": {},
   "source": [
    "## Source of Truth\n",
    "### Source of Truth gathered in prior EDA\n",
    "* **TRIPID**\n",
    "    * **TRIPID are shared across days for perticular LINEID on particular ROUTEID**\n",
    "    * For a single TRIPID, only one corresponding LINEID and ROUTEID are present\n",
    "    * TRIPID for inbound and outbound directions are mutually exclusive\n",
    "    * For certein TRIPIDs; PROGNUMBER do not start at 1; which should. It means, some entries are missing.\n",
    "* **ROUTEID**\n",
    "    * A LINEID has multiple ROUTEID \n",
    "    * A LINEID may / may not have trips with both INBOUND-going(1)/OUTBOUND-returning(2) direction \n",
    "\n",
    "### Source of Truth gathered in this notebook\n",
    "* **LINEID**\n",
    "    * **For a LINEID; ROUTEIDs and TRIPIDs used for DIFFERENT DIRECTION are MUTUALLY EXCLUSIVE**\n",
    "* **ROUTEID**\n",
    "    * **THOUGH 2 ROUTEIDs FOR A LINEID ARE HAVING SAME DIRECTION; STOPPOINTIDs VISITED ARE DIFFERENT**\n",
    "    * **FOR A SINGLE ROUTEID; STOPS VISITED DURING DIFFERENT TRIPS ARE DIFEENRENT**\n",
    "    * **AS ROUTEIDs ARE NOT KNOWN TO USER _AND_ ROUTEIDs ARE NOT TIMEBOUND; IT IS NOT POSSIBLE TO TRAIN ML MODEL USING ALL ROUTEIDs**"
   ]
  },
  {
   "cell_type": "markdown",
   "metadata": {},
   "source": [
    "## read rt_trips_DB_2018.csv\n",
    "rt_trips_DB_2018.txt consists data for ENTIRE 2018\n",
    "* Based on priliminary EDA, only following features are preserved while converting trips file into csv<br>\n",
    " [DAYOFSERVICE, TRIPID, LINEID, ROUTEID, DIRECTION, PLANNEDTIME_ARR, PLANNEDTIME_DEP, ACTUALTIME_ARR, ACTUALTIME_DEP ]"
   ]
  },
  {
   "cell_type": "code",
   "execution_count": 2,
   "metadata": {},
   "outputs": [],
   "source": [
    "df_trips = pd.read_csv(\"../DB/monthlyData/rt_trips_DB_2018.csv\",skip_blank_lines=True,index_col=False)"
   ]
  },
  {
   "cell_type": "code",
   "execution_count": 3,
   "metadata": {
    "scrolled": false
   },
   "outputs": [],
   "source": [
    "df_trips['DAYOFSERVICE'] = pd.to_datetime(df_trips['DAYOFSERVICE'])\n",
    "df_trips['TRIPID'] = pd.to_numeric(df_trips['TRIPID'], downcast='integer', errors='coerce')\n",
    "df_trips['LINEID'] = df_trips['LINEID'].astype('str')\n",
    "df_trips['ROUTEID'] = df_trips['ROUTEID'].astype('str')\n",
    "df_trips['DIRECTION'] = pd.to_numeric(df_trips['DIRECTION'], downcast='integer', errors='coerce')\n",
    "df_trips['PLANNEDTIME_ARR'] = pd.to_numeric(df_trips['PLANNEDTIME_ARR'], downcast='integer', errors='coerce')\n",
    "df_trips['PLANNEDTIME_DEP'] = pd.to_numeric(df_trips['PLANNEDTIME_DEP'], downcast='integer', errors='coerce')\n",
    "df_trips['ACTUALTIME_ARR'] = pd.to_numeric(df_trips['ACTUALTIME_ARR'], downcast='integer', errors='coerce')\n",
    "df_trips['ACTUALTIME_DEP'] = pd.to_numeric(df_trips['ACTUALTIME_DEP'], downcast='integer', errors='coerce')"
   ]
  },
  {
   "cell_type": "markdown",
   "metadata": {},
   "source": [
    "### Object types and valid entries"
   ]
  },
  {
   "cell_type": "code",
   "execution_count": 4,
   "metadata": {},
   "outputs": [
    {
     "name": "stdout",
     "output_type": "stream",
     "text": [
      "<class 'pandas.core.frame.DataFrame'>\n",
      "RangeIndex: 2182637 entries, 0 to 2182636\n",
      "Data columns (total 9 columns):\n",
      " #   Column           Non-Null Count    Dtype         \n",
      "---  ------           --------------    -----         \n",
      " 0   DAYOFSERVICE     2182637 non-null  datetime64[ns]\n",
      " 1   TRIPID           2182637 non-null  int32         \n",
      " 2   LINEID           2182637 non-null  object        \n",
      " 3   ROUTEID          2182637 non-null  object        \n",
      " 4   DIRECTION        2182637 non-null  int8          \n",
      " 5   PLANNEDTIME_ARR  2182637 non-null  int32         \n",
      " 6   PLANNEDTIME_DEP  2182637 non-null  int32         \n",
      " 7   ACTUALTIME_ARR   2045430 non-null  float64       \n",
      " 8   ACTUALTIME_DEP   2018086 non-null  float64       \n",
      "dtypes: datetime64[ns](1), float64(2), int32(3), int8(1), object(2)\n",
      "memory usage: 110.3+ MB\n",
      "None\n"
     ]
    }
   ],
   "source": [
    "print(df_trips.info(null_counts = True))"
   ]
  },
  {
   "cell_type": "markdown",
   "metadata": {},
   "source": [
    "### Nature of data"
   ]
  },
  {
   "cell_type": "code",
   "execution_count": 5,
   "metadata": {
    "scrolled": false
   },
   "outputs": [
    {
     "data": {
      "text/html": [
       "<div>\n",
       "<style scoped>\n",
       "    .dataframe tbody tr th:only-of-type {\n",
       "        vertical-align: middle;\n",
       "    }\n",
       "\n",
       "    .dataframe tbody tr th {\n",
       "        vertical-align: top;\n",
       "    }\n",
       "\n",
       "    .dataframe thead th {\n",
       "        text-align: right;\n",
       "    }\n",
       "</style>\n",
       "<table border=\"1\" class=\"dataframe\">\n",
       "  <thead>\n",
       "    <tr style=\"text-align: right;\">\n",
       "      <th></th>\n",
       "      <th>DAYOFSERVICE</th>\n",
       "      <th>TRIPID</th>\n",
       "      <th>LINEID</th>\n",
       "      <th>ROUTEID</th>\n",
       "      <th>DIRECTION</th>\n",
       "      <th>PLANNEDTIME_ARR</th>\n",
       "      <th>PLANNEDTIME_DEP</th>\n",
       "      <th>ACTUALTIME_ARR</th>\n",
       "      <th>ACTUALTIME_DEP</th>\n",
       "    </tr>\n",
       "  </thead>\n",
       "  <tbody>\n",
       "    <tr>\n",
       "      <th>0</th>\n",
       "      <td>2018-02-07</td>\n",
       "      <td>6253783</td>\n",
       "      <td>68</td>\n",
       "      <td>68_80</td>\n",
       "      <td>1</td>\n",
       "      <td>87245</td>\n",
       "      <td>84600</td>\n",
       "      <td>87524.0</td>\n",
       "      <td>84600.0</td>\n",
       "    </tr>\n",
       "    <tr>\n",
       "      <th>1</th>\n",
       "      <td>2018-02-07</td>\n",
       "      <td>6262138</td>\n",
       "      <td>25B</td>\n",
       "      <td>25B_271</td>\n",
       "      <td>2</td>\n",
       "      <td>30517</td>\n",
       "      <td>26460</td>\n",
       "      <td>32752.0</td>\n",
       "      <td>NaN</td>\n",
       "    </tr>\n",
       "    <tr>\n",
       "      <th>2</th>\n",
       "      <td>2018-02-07</td>\n",
       "      <td>6254942</td>\n",
       "      <td>45A</td>\n",
       "      <td>45A_70</td>\n",
       "      <td>2</td>\n",
       "      <td>35512</td>\n",
       "      <td>32100</td>\n",
       "      <td>36329.0</td>\n",
       "      <td>32082.0</td>\n",
       "    </tr>\n",
       "    <tr>\n",
       "      <th>3</th>\n",
       "      <td>2018-02-07</td>\n",
       "      <td>6259460</td>\n",
       "      <td>25A</td>\n",
       "      <td>25A_273</td>\n",
       "      <td>1</td>\n",
       "      <td>57261</td>\n",
       "      <td>54420</td>\n",
       "      <td>58463.0</td>\n",
       "      <td>54443.0</td>\n",
       "    </tr>\n",
       "    <tr>\n",
       "      <th>4</th>\n",
       "      <td>2018-02-07</td>\n",
       "      <td>6253175</td>\n",
       "      <td>14</td>\n",
       "      <td>14_15</td>\n",
       "      <td>1</td>\n",
       "      <td>85383</td>\n",
       "      <td>81600</td>\n",
       "      <td>84682.0</td>\n",
       "      <td>81608.0</td>\n",
       "    </tr>\n",
       "  </tbody>\n",
       "</table>\n",
       "</div>"
      ],
      "text/plain": [
       "  DAYOFSERVICE   TRIPID LINEID  ROUTEID  DIRECTION  PLANNEDTIME_ARR  \\\n",
       "0   2018-02-07  6253783     68    68_80          1            87245   \n",
       "1   2018-02-07  6262138    25B  25B_271          2            30517   \n",
       "2   2018-02-07  6254942    45A   45A_70          2            35512   \n",
       "3   2018-02-07  6259460    25A  25A_273          1            57261   \n",
       "4   2018-02-07  6253175     14    14_15          1            85383   \n",
       "\n",
       "   PLANNEDTIME_DEP  ACTUALTIME_ARR  ACTUALTIME_DEP  \n",
       "0            84600         87524.0         84600.0  \n",
       "1            26460         32752.0             NaN  \n",
       "2            32100         36329.0         32082.0  \n",
       "3            54420         58463.0         54443.0  \n",
       "4            81600         84682.0         81608.0  "
      ]
     },
     "execution_count": 5,
     "metadata": {},
     "output_type": "execute_result"
    }
   ],
   "source": [
    "df_trips.head()"
   ]
  },
  {
   "cell_type": "markdown",
   "metadata": {},
   "source": [
    "### Unique entries"
   ]
  },
  {
   "cell_type": "code",
   "execution_count": 6,
   "metadata": {
    "scrolled": false
   },
   "outputs": [
    {
     "data": {
      "text/plain": [
       "DAYOFSERVICE          360\n",
       "TRIPID             658964\n",
       "LINEID                130\n",
       "ROUTEID               588\n",
       "DIRECTION               2\n",
       "PLANNEDTIME_ARR     64461\n",
       "PLANNEDTIME_DEP       791\n",
       "ACTUALTIME_ARR      68122\n",
       "ACTUALTIME_DEP      66771\n",
       "dtype: int64"
      ]
     },
     "execution_count": 6,
     "metadata": {},
     "output_type": "execute_result"
    }
   ],
   "source": [
    "df_trips.nunique()"
   ]
  },
  {
   "cell_type": "markdown",
   "metadata": {},
   "source": [
    "## read Janury_2018.csv\n",
    "* rt_leavetimes_DB_2018.txt is of size ~ 11 GB. It is memory expensive to read and anlyze\n",
    "* Hence it is devided into 1 GB chunks -- resulting into 11 subfiles\n",
    "* Further, these **1 GB subfiles files are succesively processed to generate seperate files named <month_year.csv> of data for each month**\n",
    "* Based on priliminary EDA, only following features are preserved while converting trips file into csv<br>\n",
    " [DAYOFSERVICE, TRIPID, PROGRNUMBER, STOPPOINTID, PLANNEDTIME_ARR, PLANNEDTIME_DEP, ACTUALTIME_ARR, ACTUALTIME_DEP]"
   ]
  },
  {
   "cell_type": "code",
   "execution_count": 7,
   "metadata": {},
   "outputs": [],
   "source": [
    "df_Jan = pd.read_csv(\"../DB/monthlyData/January_2018.csv\",skip_blank_lines=True,index_col=False)\n",
    "df_Jan.drop('VEHICLEID',axis=1,inplace=True)"
   ]
  },
  {
   "cell_type": "code",
   "execution_count": 8,
   "metadata": {
    "scrolled": false
   },
   "outputs": [],
   "source": [
    "df_Jan['DAYOFSERVICE'] = pd.to_datetime(df_Jan['DAYOFSERVICE'])\n",
    "df_Jan['TRIPID'] = pd.to_numeric(df_Jan['TRIPID'], downcast='integer', errors='coerce')\n",
    "df_Jan['PROGRNUMBER'] = pd.to_numeric(df_Jan['PROGRNUMBER'], downcast='integer', errors='coerce')\n",
    "df_Jan['STOPPOINTID'] = pd.to_numeric(df_Jan['STOPPOINTID'], downcast='integer', errors='coerce')\n",
    "df_Jan['PLANNEDTIME_ARR'] = pd.to_numeric(df_Jan['PLANNEDTIME_ARR'], downcast='integer', errors='coerce')\n",
    "df_Jan['PLANNEDTIME_DEP'] = pd.to_numeric(df_Jan['PLANNEDTIME_DEP'], downcast='integer', errors='coerce')\n",
    "df_Jan['ACTUALTIME_ARR'] = pd.to_numeric(df_Jan['ACTUALTIME_ARR'], downcast='integer', errors='coerce')\n",
    "df_Jan['ACTUALTIME_DEP'] = pd.to_numeric(df_Jan['ACTUALTIME_DEP'], downcast='integer', errors='coerce')"
   ]
  },
  {
   "cell_type": "markdown",
   "metadata": {},
   "source": [
    "### Object types and valid entries"
   ]
  },
  {
   "cell_type": "code",
   "execution_count": 9,
   "metadata": {
    "scrolled": true
   },
   "outputs": [
    {
     "name": "stdout",
     "output_type": "stream",
     "text": [
      "<class 'pandas.core.frame.DataFrame'>\n",
      "RangeIndex: 10525004 entries, 0 to 10525003\n",
      "Data columns (total 8 columns):\n",
      " #   Column           Non-Null Count     Dtype         \n",
      "---  ------           --------------     -----         \n",
      " 0   DAYOFSERVICE     10525004 non-null  datetime64[ns]\n",
      " 1   TRIPID           10525004 non-null  int32         \n",
      " 2   PROGRNUMBER      10525004 non-null  int8          \n",
      " 3   STOPPOINTID      10525004 non-null  int16         \n",
      " 4   PLANNEDTIME_ARR  10525004 non-null  int32         \n",
      " 5   PLANNEDTIME_DEP  10525004 non-null  int32         \n",
      " 6   ACTUALTIME_ARR   10525004 non-null  int32         \n",
      " 7   ACTUALTIME_DEP   10525004 non-null  int32         \n",
      "dtypes: datetime64[ns](1), int16(1), int32(5), int8(1)\n",
      "memory usage: 311.2 MB\n",
      "None\n"
     ]
    }
   ],
   "source": [
    "print(df_Jan.info(null_counts = True))"
   ]
  },
  {
   "cell_type": "markdown",
   "metadata": {},
   "source": [
    "### Nature of data"
   ]
  },
  {
   "cell_type": "code",
   "execution_count": 10,
   "metadata": {
    "scrolled": false
   },
   "outputs": [
    {
     "data": {
      "text/html": [
       "<div>\n",
       "<style scoped>\n",
       "    .dataframe tbody tr th:only-of-type {\n",
       "        vertical-align: middle;\n",
       "    }\n",
       "\n",
       "    .dataframe tbody tr th {\n",
       "        vertical-align: top;\n",
       "    }\n",
       "\n",
       "    .dataframe thead th {\n",
       "        text-align: right;\n",
       "    }\n",
       "</style>\n",
       "<table border=\"1\" class=\"dataframe\">\n",
       "  <thead>\n",
       "    <tr style=\"text-align: right;\">\n",
       "      <th></th>\n",
       "      <th>DAYOFSERVICE</th>\n",
       "      <th>TRIPID</th>\n",
       "      <th>PROGRNUMBER</th>\n",
       "      <th>STOPPOINTID</th>\n",
       "      <th>PLANNEDTIME_ARR</th>\n",
       "      <th>PLANNEDTIME_DEP</th>\n",
       "      <th>ACTUALTIME_ARR</th>\n",
       "      <th>ACTUALTIME_DEP</th>\n",
       "    </tr>\n",
       "  </thead>\n",
       "  <tbody>\n",
       "    <tr>\n",
       "      <th>0</th>\n",
       "      <td>2018-01-01</td>\n",
       "      <td>5958355</td>\n",
       "      <td>3</td>\n",
       "      <td>1172</td>\n",
       "      <td>23799</td>\n",
       "      <td>23799</td>\n",
       "      <td>23863</td>\n",
       "      <td>23863</td>\n",
       "    </tr>\n",
       "    <tr>\n",
       "      <th>1</th>\n",
       "      <td>2018-01-01</td>\n",
       "      <td>5958355</td>\n",
       "      <td>4</td>\n",
       "      <td>1173</td>\n",
       "      <td>23860</td>\n",
       "      <td>23860</td>\n",
       "      <td>23934</td>\n",
       "      <td>24072</td>\n",
       "    </tr>\n",
       "    <tr>\n",
       "      <th>2</th>\n",
       "      <td>2018-01-01</td>\n",
       "      <td>5958355</td>\n",
       "      <td>5</td>\n",
       "      <td>1174</td>\n",
       "      <td>23937</td>\n",
       "      <td>23937</td>\n",
       "      <td>24114</td>\n",
       "      <td>24140</td>\n",
       "    </tr>\n",
       "    <tr>\n",
       "      <th>3</th>\n",
       "      <td>2018-01-01</td>\n",
       "      <td>5958355</td>\n",
       "      <td>6</td>\n",
       "      <td>1175</td>\n",
       "      <td>24048</td>\n",
       "      <td>24048</td>\n",
       "      <td>24180</td>\n",
       "      <td>24192</td>\n",
       "    </tr>\n",
       "    <tr>\n",
       "      <th>4</th>\n",
       "      <td>2018-01-01</td>\n",
       "      <td>5958355</td>\n",
       "      <td>7</td>\n",
       "      <td>15</td>\n",
       "      <td>24130</td>\n",
       "      <td>24130</td>\n",
       "      <td>24227</td>\n",
       "      <td>24257</td>\n",
       "    </tr>\n",
       "  </tbody>\n",
       "</table>\n",
       "</div>"
      ],
      "text/plain": [
       "  DAYOFSERVICE   TRIPID  PROGRNUMBER  STOPPOINTID  PLANNEDTIME_ARR  \\\n",
       "0   2018-01-01  5958355            3         1172            23799   \n",
       "1   2018-01-01  5958355            4         1173            23860   \n",
       "2   2018-01-01  5958355            5         1174            23937   \n",
       "3   2018-01-01  5958355            6         1175            24048   \n",
       "4   2018-01-01  5958355            7           15            24130   \n",
       "\n",
       "   PLANNEDTIME_DEP  ACTUALTIME_ARR  ACTUALTIME_DEP  \n",
       "0            23799           23863           23863  \n",
       "1            23860           23934           24072  \n",
       "2            23937           24114           24140  \n",
       "3            24048           24180           24192  \n",
       "4            24130           24227           24257  "
      ]
     },
     "execution_count": 10,
     "metadata": {},
     "output_type": "execute_result"
    }
   ],
   "source": [
    "df_Jan.head()"
   ]
  },
  {
   "cell_type": "markdown",
   "metadata": {},
   "source": [
    "### Unique entries"
   ]
  },
  {
   "cell_type": "code",
   "execution_count": 11,
   "metadata": {
    "scrolled": true
   },
   "outputs": [
    {
     "data": {
      "text/plain": [
       "DAYOFSERVICE          31\n",
       "TRIPID             76453\n",
       "PROGRNUMBER          103\n",
       "STOPPOINTID         4714\n",
       "PLANNEDTIME_ARR    68859\n",
       "PLANNEDTIME_DEP    68859\n",
       "ACTUALTIME_ARR     71982\n",
       "ACTUALTIME_DEP     71965\n",
       "dtype: int64"
      ]
     },
     "execution_count": 11,
     "metadata": {},
     "output_type": "execute_result"
    }
   ],
   "source": [
    "df_Jan.nunique()"
   ]
  },
  {
   "cell_type": "markdown",
   "metadata": {},
   "source": [
    "## Merge df_Jan with df_trips on 'TRIPID'\n",
    "* Arrival and departure time related features of df_trips give End to End Planned and Atcual timings for trip\n",
    "* They can be calculated by grouping TRIPID - DAYOFSERVICE data available in leavetimes [i.e df_Jan] dataframe; hence are dropped while making merged datframe"
   ]
  },
  {
   "cell_type": "code",
   "execution_count": 12,
   "metadata": {
    "scrolled": true
   },
   "outputs": [],
   "source": [
    "df_Jan_trips = df_Jan.drop_duplicates().merge(df_trips[['DAYOFSERVICE','TRIPID', 'LINEID', 'DIRECTION','ROUTEID']],on=['TRIPID','DAYOFSERVICE']).drop_duplicates()"
   ]
  },
  {
   "cell_type": "markdown",
   "metadata": {},
   "source": [
    "### Object types and valid entries"
   ]
  },
  {
   "cell_type": "code",
   "execution_count": 13,
   "metadata": {
    "scrolled": true
   },
   "outputs": [
    {
     "name": "stdout",
     "output_type": "stream",
     "text": [
      "<class 'pandas.core.frame.DataFrame'>\n",
      "Int64Index: 10525004 entries, 0 to 10525003\n",
      "Data columns (total 11 columns):\n",
      " #   Column           Non-Null Count     Dtype         \n",
      "---  ------           --------------     -----         \n",
      " 0   DAYOFSERVICE     10525004 non-null  datetime64[ns]\n",
      " 1   TRIPID           10525004 non-null  int32         \n",
      " 2   PROGRNUMBER      10525004 non-null  int8          \n",
      " 3   STOPPOINTID      10525004 non-null  int16         \n",
      " 4   PLANNEDTIME_ARR  10525004 non-null  int32         \n",
      " 5   PLANNEDTIME_DEP  10525004 non-null  int32         \n",
      " 6   ACTUALTIME_ARR   10525004 non-null  int32         \n",
      " 7   ACTUALTIME_DEP   10525004 non-null  int32         \n",
      " 8   LINEID           10525004 non-null  object        \n",
      " 9   DIRECTION        10525004 non-null  int8          \n",
      " 10  ROUTEID          10525004 non-null  object        \n",
      "dtypes: datetime64[ns](1), int16(1), int32(5), int8(2), object(2)\n",
      "memory usage: 562.1+ MB\n",
      "None\n"
     ]
    }
   ],
   "source": [
    "print(df_Jan_trips.info(null_counts = True))"
   ]
  },
  {
   "cell_type": "markdown",
   "metadata": {},
   "source": [
    "### Nature of data"
   ]
  },
  {
   "cell_type": "code",
   "execution_count": 14,
   "metadata": {
    "scrolled": false
   },
   "outputs": [
    {
     "data": {
      "text/html": [
       "<div>\n",
       "<style scoped>\n",
       "    .dataframe tbody tr th:only-of-type {\n",
       "        vertical-align: middle;\n",
       "    }\n",
       "\n",
       "    .dataframe tbody tr th {\n",
       "        vertical-align: top;\n",
       "    }\n",
       "\n",
       "    .dataframe thead th {\n",
       "        text-align: right;\n",
       "    }\n",
       "</style>\n",
       "<table border=\"1\" class=\"dataframe\">\n",
       "  <thead>\n",
       "    <tr style=\"text-align: right;\">\n",
       "      <th></th>\n",
       "      <th>DAYOFSERVICE</th>\n",
       "      <th>TRIPID</th>\n",
       "      <th>PROGRNUMBER</th>\n",
       "      <th>STOPPOINTID</th>\n",
       "      <th>PLANNEDTIME_ARR</th>\n",
       "      <th>PLANNEDTIME_DEP</th>\n",
       "      <th>ACTUALTIME_ARR</th>\n",
       "      <th>ACTUALTIME_DEP</th>\n",
       "      <th>LINEID</th>\n",
       "      <th>DIRECTION</th>\n",
       "      <th>ROUTEID</th>\n",
       "    </tr>\n",
       "  </thead>\n",
       "  <tbody>\n",
       "    <tr>\n",
       "      <th>0</th>\n",
       "      <td>2018-01-01</td>\n",
       "      <td>5958355</td>\n",
       "      <td>3</td>\n",
       "      <td>1172</td>\n",
       "      <td>23799</td>\n",
       "      <td>23799</td>\n",
       "      <td>23863</td>\n",
       "      <td>23863</td>\n",
       "      <td>41</td>\n",
       "      <td>1</td>\n",
       "      <td>41_3</td>\n",
       "    </tr>\n",
       "    <tr>\n",
       "      <th>1</th>\n",
       "      <td>2018-01-01</td>\n",
       "      <td>5958355</td>\n",
       "      <td>4</td>\n",
       "      <td>1173</td>\n",
       "      <td>23860</td>\n",
       "      <td>23860</td>\n",
       "      <td>23934</td>\n",
       "      <td>24072</td>\n",
       "      <td>41</td>\n",
       "      <td>1</td>\n",
       "      <td>41_3</td>\n",
       "    </tr>\n",
       "    <tr>\n",
       "      <th>2</th>\n",
       "      <td>2018-01-01</td>\n",
       "      <td>5958355</td>\n",
       "      <td>5</td>\n",
       "      <td>1174</td>\n",
       "      <td>23937</td>\n",
       "      <td>23937</td>\n",
       "      <td>24114</td>\n",
       "      <td>24140</td>\n",
       "      <td>41</td>\n",
       "      <td>1</td>\n",
       "      <td>41_3</td>\n",
       "    </tr>\n",
       "    <tr>\n",
       "      <th>3</th>\n",
       "      <td>2018-01-01</td>\n",
       "      <td>5958355</td>\n",
       "      <td>6</td>\n",
       "      <td>1175</td>\n",
       "      <td>24048</td>\n",
       "      <td>24048</td>\n",
       "      <td>24180</td>\n",
       "      <td>24192</td>\n",
       "      <td>41</td>\n",
       "      <td>1</td>\n",
       "      <td>41_3</td>\n",
       "    </tr>\n",
       "    <tr>\n",
       "      <th>4</th>\n",
       "      <td>2018-01-01</td>\n",
       "      <td>5958355</td>\n",
       "      <td>7</td>\n",
       "      <td>15</td>\n",
       "      <td>24130</td>\n",
       "      <td>24130</td>\n",
       "      <td>24227</td>\n",
       "      <td>24257</td>\n",
       "      <td>41</td>\n",
       "      <td>1</td>\n",
       "      <td>41_3</td>\n",
       "    </tr>\n",
       "    <tr>\n",
       "      <th>...</th>\n",
       "      <td>...</td>\n",
       "      <td>...</td>\n",
       "      <td>...</td>\n",
       "      <td>...</td>\n",
       "      <td>...</td>\n",
       "      <td>...</td>\n",
       "      <td>...</td>\n",
       "      <td>...</td>\n",
       "      <td>...</td>\n",
       "      <td>...</td>\n",
       "      <td>...</td>\n",
       "    </tr>\n",
       "    <tr>\n",
       "      <th>95</th>\n",
       "      <td>2018-01-01</td>\n",
       "      <td>5958088</td>\n",
       "      <td>47</td>\n",
       "      <td>3958</td>\n",
       "      <td>27943</td>\n",
       "      <td>27943</td>\n",
       "      <td>28473</td>\n",
       "      <td>28473</td>\n",
       "      <td>66</td>\n",
       "      <td>1</td>\n",
       "      <td>66_11</td>\n",
       "    </tr>\n",
       "    <tr>\n",
       "      <th>96</th>\n",
       "      <td>2018-01-01</td>\n",
       "      <td>5958088</td>\n",
       "      <td>48</td>\n",
       "      <td>3959</td>\n",
       "      <td>27990</td>\n",
       "      <td>27990</td>\n",
       "      <td>28508</td>\n",
       "      <td>28508</td>\n",
       "      <td>66</td>\n",
       "      <td>1</td>\n",
       "      <td>66_11</td>\n",
       "    </tr>\n",
       "    <tr>\n",
       "      <th>97</th>\n",
       "      <td>2018-01-01</td>\n",
       "      <td>5958088</td>\n",
       "      <td>49</td>\n",
       "      <td>3960</td>\n",
       "      <td>28024</td>\n",
       "      <td>28024</td>\n",
       "      <td>28534</td>\n",
       "      <td>28534</td>\n",
       "      <td>66</td>\n",
       "      <td>1</td>\n",
       "      <td>66_11</td>\n",
       "    </tr>\n",
       "    <tr>\n",
       "      <th>98</th>\n",
       "      <td>2018-01-01</td>\n",
       "      <td>5958088</td>\n",
       "      <td>50</td>\n",
       "      <td>3961</td>\n",
       "      <td>28058</td>\n",
       "      <td>28058</td>\n",
       "      <td>28551</td>\n",
       "      <td>28562</td>\n",
       "      <td>66</td>\n",
       "      <td>1</td>\n",
       "      <td>66_11</td>\n",
       "    </tr>\n",
       "    <tr>\n",
       "      <th>99</th>\n",
       "      <td>2018-01-01</td>\n",
       "      <td>5958088</td>\n",
       "      <td>51</td>\n",
       "      <td>3962</td>\n",
       "      <td>28114</td>\n",
       "      <td>28114</td>\n",
       "      <td>28600</td>\n",
       "      <td>28610</td>\n",
       "      <td>66</td>\n",
       "      <td>1</td>\n",
       "      <td>66_11</td>\n",
       "    </tr>\n",
       "  </tbody>\n",
       "</table>\n",
       "<p>100 rows × 11 columns</p>\n",
       "</div>"
      ],
      "text/plain": [
       "   DAYOFSERVICE   TRIPID  PROGRNUMBER  STOPPOINTID  PLANNEDTIME_ARR  \\\n",
       "0    2018-01-01  5958355            3         1172            23799   \n",
       "1    2018-01-01  5958355            4         1173            23860   \n",
       "2    2018-01-01  5958355            5         1174            23937   \n",
       "3    2018-01-01  5958355            6         1175            24048   \n",
       "4    2018-01-01  5958355            7           15            24130   \n",
       "..          ...      ...          ...          ...              ...   \n",
       "95   2018-01-01  5958088           47         3958            27943   \n",
       "96   2018-01-01  5958088           48         3959            27990   \n",
       "97   2018-01-01  5958088           49         3960            28024   \n",
       "98   2018-01-01  5958088           50         3961            28058   \n",
       "99   2018-01-01  5958088           51         3962            28114   \n",
       "\n",
       "    PLANNEDTIME_DEP  ACTUALTIME_ARR  ACTUALTIME_DEP LINEID  DIRECTION ROUTEID  \n",
       "0             23799           23863           23863     41          1    41_3  \n",
       "1             23860           23934           24072     41          1    41_3  \n",
       "2             23937           24114           24140     41          1    41_3  \n",
       "3             24048           24180           24192     41          1    41_3  \n",
       "4             24130           24227           24257     41          1    41_3  \n",
       "..              ...             ...             ...    ...        ...     ...  \n",
       "95            27943           28473           28473     66          1   66_11  \n",
       "96            27990           28508           28508     66          1   66_11  \n",
       "97            28024           28534           28534     66          1   66_11  \n",
       "98            28058           28551           28562     66          1   66_11  \n",
       "99            28114           28600           28610     66          1   66_11  \n",
       "\n",
       "[100 rows x 11 columns]"
      ]
     },
     "execution_count": 14,
     "metadata": {},
     "output_type": "execute_result"
    }
   ],
   "source": [
    "df_Jan_trips.head(100)"
   ]
  },
  {
   "cell_type": "markdown",
   "metadata": {},
   "source": [
    "### Unique entries"
   ]
  },
  {
   "cell_type": "code",
   "execution_count": 15,
   "metadata": {
    "scrolled": false
   },
   "outputs": [
    {
     "data": {
      "text/plain": [
       "DAYOFSERVICE          31\n",
       "TRIPID             76453\n",
       "PROGRNUMBER          103\n",
       "STOPPOINTID         4714\n",
       "PLANNEDTIME_ARR    68859\n",
       "PLANNEDTIME_DEP    68859\n",
       "ACTUALTIME_ARR     71982\n",
       "ACTUALTIME_DEP     71965\n",
       "LINEID               126\n",
       "DIRECTION              2\n",
       "ROUTEID              498\n",
       "dtype: int64"
      ]
     },
     "execution_count": 15,
     "metadata": {},
     "output_type": "execute_result"
    }
   ],
   "source": [
    "df_Jan_trips.nunique()"
   ]
  },
  {
   "cell_type": "markdown",
   "metadata": {},
   "source": [
    "### Save to CSV"
   ]
  },
  {
   "cell_type": "code",
   "execution_count": 16,
   "metadata": {},
   "outputs": [],
   "source": [
    "df_Jan_trips.to_csv(\"../DB/ML/Jan_trips_MERGED.csv\",index=False)"
   ]
  },
  {
   "cell_type": "markdown",
   "metadata": {},
   "source": [
    "## Check nature of data for a random LINEID"
   ]
  },
  {
   "cell_type": "code",
   "execution_count": 17,
   "metadata": {},
   "outputs": [],
   "source": [
    "import pandas as pd"
   ]
  },
  {
   "cell_type": "code",
   "execution_count": 18,
   "metadata": {},
   "outputs": [],
   "source": [
    "df_Jan_trips = pd.read_csv(\"../DB/ML/Jan_trips_MERGED.csv\")"
   ]
  },
  {
   "cell_type": "code",
   "execution_count": 19,
   "metadata": {},
   "outputs": [],
   "source": [
    "df_Jan_trips['DAYOFSERVICE'] = pd.to_datetime(df_Jan_trips['DAYOFSERVICE'])\n",
    "df_Jan_trips['TRIPID'] = pd.to_numeric(df_Jan_trips['TRIPID'], downcast='integer', errors='coerce')\n",
    "df_Jan_trips['PROGRNUMBER'] = pd.to_numeric(df_Jan_trips['PROGRNUMBER'], downcast='integer', errors='coerce')\n",
    "df_Jan_trips['STOPPOINTID'] = pd.to_numeric(df_Jan_trips['STOPPOINTID'], downcast='integer', errors='coerce')\n",
    "df_Jan_trips['PLANNEDTIME_ARR'] = pd.to_numeric(df_Jan_trips['PLANNEDTIME_ARR'], downcast='integer', errors='coerce')\n",
    "df_Jan_trips['PLANNEDTIME_DEP'] = pd.to_numeric(df_Jan_trips['PLANNEDTIME_DEP'], downcast='integer', errors='coerce')\n",
    "df_Jan_trips['ACTUALTIME_ARR'] = pd.to_numeric(df_Jan_trips['ACTUALTIME_ARR'], downcast='integer', errors='coerce')\n",
    "df_Jan_trips['ACTUALTIME_DEP'] = pd.to_numeric(df_Jan_trips['ACTUALTIME_DEP'], downcast='integer', errors='coerce')\n",
    "df_Jan_trips['LINEID'] = df_Jan_trips['LINEID'].astype('str')\n",
    "df_Jan_trips['ROUTEID'] = df_Jan_trips['ROUTEID'].astype('str')\n",
    "df_Jan_trips['DIRECTION'] = pd.to_numeric(df_Jan_trips['DIRECTION'], downcast='integer', errors='coerce')"
   ]
  },
  {
   "cell_type": "markdown",
   "metadata": {},
   "source": [
    "### Take samples for a random LINEID 41"
   ]
  },
  {
   "cell_type": "code",
   "execution_count": 20,
   "metadata": {},
   "outputs": [],
   "source": [
    "df_Jan_trips_41 = df_Jan_trips.loc[(df_Jan_trips['LINEID'] == '41')]"
   ]
  },
  {
   "cell_type": "code",
   "execution_count": 21,
   "metadata": {},
   "outputs": [
    {
     "data": {
      "text/html": [
       "<div>\n",
       "<style scoped>\n",
       "    .dataframe tbody tr th:only-of-type {\n",
       "        vertical-align: middle;\n",
       "    }\n",
       "\n",
       "    .dataframe tbody tr th {\n",
       "        vertical-align: top;\n",
       "    }\n",
       "\n",
       "    .dataframe thead th {\n",
       "        text-align: right;\n",
       "    }\n",
       "</style>\n",
       "<table border=\"1\" class=\"dataframe\">\n",
       "  <thead>\n",
       "    <tr style=\"text-align: right;\">\n",
       "      <th></th>\n",
       "      <th>DAYOFSERVICE</th>\n",
       "      <th>TRIPID</th>\n",
       "      <th>PROGRNUMBER</th>\n",
       "      <th>STOPPOINTID</th>\n",
       "      <th>PLANNEDTIME_ARR</th>\n",
       "      <th>PLANNEDTIME_DEP</th>\n",
       "      <th>ACTUALTIME_ARR</th>\n",
       "      <th>ACTUALTIME_DEP</th>\n",
       "      <th>LINEID</th>\n",
       "      <th>DIRECTION</th>\n",
       "      <th>ROUTEID</th>\n",
       "    </tr>\n",
       "  </thead>\n",
       "  <tbody>\n",
       "    <tr>\n",
       "      <th>0</th>\n",
       "      <td>2018-01-01</td>\n",
       "      <td>5958355</td>\n",
       "      <td>3</td>\n",
       "      <td>1172</td>\n",
       "      <td>23799</td>\n",
       "      <td>23799</td>\n",
       "      <td>23863</td>\n",
       "      <td>23863</td>\n",
       "      <td>41</td>\n",
       "      <td>1</td>\n",
       "      <td>41_3</td>\n",
       "    </tr>\n",
       "    <tr>\n",
       "      <th>1</th>\n",
       "      <td>2018-01-01</td>\n",
       "      <td>5958355</td>\n",
       "      <td>4</td>\n",
       "      <td>1173</td>\n",
       "      <td>23860</td>\n",
       "      <td>23860</td>\n",
       "      <td>23934</td>\n",
       "      <td>24072</td>\n",
       "      <td>41</td>\n",
       "      <td>1</td>\n",
       "      <td>41_3</td>\n",
       "    </tr>\n",
       "    <tr>\n",
       "      <th>2</th>\n",
       "      <td>2018-01-01</td>\n",
       "      <td>5958355</td>\n",
       "      <td>5</td>\n",
       "      <td>1174</td>\n",
       "      <td>23937</td>\n",
       "      <td>23937</td>\n",
       "      <td>24114</td>\n",
       "      <td>24140</td>\n",
       "      <td>41</td>\n",
       "      <td>1</td>\n",
       "      <td>41_3</td>\n",
       "    </tr>\n",
       "    <tr>\n",
       "      <th>3</th>\n",
       "      <td>2018-01-01</td>\n",
       "      <td>5958355</td>\n",
       "      <td>6</td>\n",
       "      <td>1175</td>\n",
       "      <td>24048</td>\n",
       "      <td>24048</td>\n",
       "      <td>24180</td>\n",
       "      <td>24192</td>\n",
       "      <td>41</td>\n",
       "      <td>1</td>\n",
       "      <td>41_3</td>\n",
       "    </tr>\n",
       "    <tr>\n",
       "      <th>4</th>\n",
       "      <td>2018-01-01</td>\n",
       "      <td>5958355</td>\n",
       "      <td>7</td>\n",
       "      <td>15</td>\n",
       "      <td>24130</td>\n",
       "      <td>24130</td>\n",
       "      <td>24227</td>\n",
       "      <td>24257</td>\n",
       "      <td>41</td>\n",
       "      <td>1</td>\n",
       "      <td>41_3</td>\n",
       "    </tr>\n",
       "    <tr>\n",
       "      <th>...</th>\n",
       "      <td>...</td>\n",
       "      <td>...</td>\n",
       "      <td>...</td>\n",
       "      <td>...</td>\n",
       "      <td>...</td>\n",
       "      <td>...</td>\n",
       "      <td>...</td>\n",
       "      <td>...</td>\n",
       "      <td>...</td>\n",
       "      <td>...</td>\n",
       "      <td>...</td>\n",
       "    </tr>\n",
       "    <tr>\n",
       "      <th>10523248</th>\n",
       "      <td>2018-01-31</td>\n",
       "      <td>6230682</td>\n",
       "      <td>51</td>\n",
       "      <td>48</td>\n",
       "      <td>86831</td>\n",
       "      <td>86831</td>\n",
       "      <td>86772</td>\n",
       "      <td>86772</td>\n",
       "      <td>41</td>\n",
       "      <td>2</td>\n",
       "      <td>41_7</td>\n",
       "    </tr>\n",
       "    <tr>\n",
       "      <th>10523249</th>\n",
       "      <td>2018-01-31</td>\n",
       "      <td>6230682</td>\n",
       "      <td>52</td>\n",
       "      <td>49</td>\n",
       "      <td>86890</td>\n",
       "      <td>86890</td>\n",
       "      <td>86797</td>\n",
       "      <td>86811</td>\n",
       "      <td>41</td>\n",
       "      <td>2</td>\n",
       "      <td>41_7</td>\n",
       "    </tr>\n",
       "    <tr>\n",
       "      <th>10523250</th>\n",
       "      <td>2018-01-31</td>\n",
       "      <td>6230682</td>\n",
       "      <td>53</td>\n",
       "      <td>51</td>\n",
       "      <td>86947</td>\n",
       "      <td>86947</td>\n",
       "      <td>86853</td>\n",
       "      <td>86853</td>\n",
       "      <td>41</td>\n",
       "      <td>2</td>\n",
       "      <td>41_7</td>\n",
       "    </tr>\n",
       "    <tr>\n",
       "      <th>10523251</th>\n",
       "      <td>2018-01-31</td>\n",
       "      <td>6230682</td>\n",
       "      <td>54</td>\n",
       "      <td>52</td>\n",
       "      <td>86978</td>\n",
       "      <td>86978</td>\n",
       "      <td>86869</td>\n",
       "      <td>86869</td>\n",
       "      <td>41</td>\n",
       "      <td>2</td>\n",
       "      <td>41_7</td>\n",
       "    </tr>\n",
       "    <tr>\n",
       "      <th>10523252</th>\n",
       "      <td>2018-01-31</td>\n",
       "      <td>6230682</td>\n",
       "      <td>55</td>\n",
       "      <td>277</td>\n",
       "      <td>87131</td>\n",
       "      <td>87131</td>\n",
       "      <td>87019</td>\n",
       "      <td>87019</td>\n",
       "      <td>41</td>\n",
       "      <td>2</td>\n",
       "      <td>41_7</td>\n",
       "    </tr>\n",
       "  </tbody>\n",
       "</table>\n",
       "<p>156082 rows × 11 columns</p>\n",
       "</div>"
      ],
      "text/plain": [
       "         DAYOFSERVICE   TRIPID  PROGRNUMBER  STOPPOINTID  PLANNEDTIME_ARR  \\\n",
       "0          2018-01-01  5958355            3         1172            23799   \n",
       "1          2018-01-01  5958355            4         1173            23860   \n",
       "2          2018-01-01  5958355            5         1174            23937   \n",
       "3          2018-01-01  5958355            6         1175            24048   \n",
       "4          2018-01-01  5958355            7           15            24130   \n",
       "...               ...      ...          ...          ...              ...   \n",
       "10523248   2018-01-31  6230682           51           48            86831   \n",
       "10523249   2018-01-31  6230682           52           49            86890   \n",
       "10523250   2018-01-31  6230682           53           51            86947   \n",
       "10523251   2018-01-31  6230682           54           52            86978   \n",
       "10523252   2018-01-31  6230682           55          277            87131   \n",
       "\n",
       "          PLANNEDTIME_DEP  ACTUALTIME_ARR  ACTUALTIME_DEP LINEID  DIRECTION  \\\n",
       "0                   23799           23863           23863     41          1   \n",
       "1                   23860           23934           24072     41          1   \n",
       "2                   23937           24114           24140     41          1   \n",
       "3                   24048           24180           24192     41          1   \n",
       "4                   24130           24227           24257     41          1   \n",
       "...                   ...             ...             ...    ...        ...   \n",
       "10523248            86831           86772           86772     41          2   \n",
       "10523249            86890           86797           86811     41          2   \n",
       "10523250            86947           86853           86853     41          2   \n",
       "10523251            86978           86869           86869     41          2   \n",
       "10523252            87131           87019           87019     41          2   \n",
       "\n",
       "         ROUTEID  \n",
       "0           41_3  \n",
       "1           41_3  \n",
       "2           41_3  \n",
       "3           41_3  \n",
       "4           41_3  \n",
       "...          ...  \n",
       "10523248    41_7  \n",
       "10523249    41_7  \n",
       "10523250    41_7  \n",
       "10523251    41_7  \n",
       "10523252    41_7  \n",
       "\n",
       "[156082 rows x 11 columns]"
      ]
     },
     "execution_count": 21,
     "metadata": {},
     "output_type": "execute_result"
    }
   ],
   "source": [
    "df_Jan_trips_41"
   ]
  },
  {
   "cell_type": "markdown",
   "metadata": {},
   "source": [
    "### Object types and valid entries"
   ]
  },
  {
   "cell_type": "code",
   "execution_count": 22,
   "metadata": {},
   "outputs": [
    {
     "name": "stdout",
     "output_type": "stream",
     "text": [
      "<class 'pandas.core.frame.DataFrame'>\n",
      "Int64Index: 156082 entries, 0 to 10523252\n",
      "Data columns (total 11 columns):\n",
      " #   Column           Non-Null Count   Dtype         \n",
      "---  ------           --------------   -----         \n",
      " 0   DAYOFSERVICE     156082 non-null  datetime64[ns]\n",
      " 1   TRIPID           156082 non-null  int32         \n",
      " 2   PROGRNUMBER      156082 non-null  int8          \n",
      " 3   STOPPOINTID      156082 non-null  int16         \n",
      " 4   PLANNEDTIME_ARR  156082 non-null  int32         \n",
      " 5   PLANNEDTIME_DEP  156082 non-null  int32         \n",
      " 6   ACTUALTIME_ARR   156082 non-null  int32         \n",
      " 7   ACTUALTIME_DEP   156082 non-null  int32         \n",
      " 8   LINEID           156082 non-null  object        \n",
      " 9   DIRECTION        156082 non-null  int8          \n",
      " 10  ROUTEID          156082 non-null  object        \n",
      "dtypes: datetime64[ns](1), int16(1), int32(5), int8(2), object(2)\n",
      "memory usage: 8.3+ MB\n"
     ]
    }
   ],
   "source": [
    "df_Jan_trips_41.info(null_counts=True)"
   ]
  },
  {
   "cell_type": "markdown",
   "metadata": {},
   "source": [
    "### Varify if ROUTEIDs and associated TRIPIDs for different DIRECTION for a LINEID are different"
   ]
  },
  {
   "cell_type": "markdown",
   "metadata": {},
   "source": [
    "#### Direction 1"
   ]
  },
  {
   "cell_type": "code",
   "execution_count": 23,
   "metadata": {
    "scrolled": true
   },
   "outputs": [],
   "source": [
    "df_41_DIR1 = df_Jan_trips_41.loc[(df_Jan_trips_41['DIRECTION'] == 1)].sort_values(by = 'PROGRNUMBER')"
   ]
  },
  {
   "cell_type": "code",
   "execution_count": 24,
   "metadata": {
    "scrolled": true
   },
   "outputs": [
    {
     "data": {
      "text/html": [
       "<div>\n",
       "<style scoped>\n",
       "    .dataframe tbody tr th:only-of-type {\n",
       "        vertical-align: middle;\n",
       "    }\n",
       "\n",
       "    .dataframe tbody tr th {\n",
       "        vertical-align: top;\n",
       "    }\n",
       "\n",
       "    .dataframe thead th {\n",
       "        text-align: right;\n",
       "    }\n",
       "</style>\n",
       "<table border=\"1\" class=\"dataframe\">\n",
       "  <thead>\n",
       "    <tr style=\"text-align: right;\">\n",
       "      <th></th>\n",
       "      <th>DAYOFSERVICE</th>\n",
       "      <th>TRIPID</th>\n",
       "      <th>PROGRNUMBER</th>\n",
       "      <th>STOPPOINTID</th>\n",
       "      <th>PLANNEDTIME_ARR</th>\n",
       "      <th>PLANNEDTIME_DEP</th>\n",
       "      <th>ACTUALTIME_ARR</th>\n",
       "      <th>ACTUALTIME_DEP</th>\n",
       "      <th>LINEID</th>\n",
       "      <th>DIRECTION</th>\n",
       "      <th>ROUTEID</th>\n",
       "    </tr>\n",
       "  </thead>\n",
       "  <tbody>\n",
       "    <tr>\n",
       "      <th>6270489</th>\n",
       "      <td>2018-01-19</td>\n",
       "      <td>6115935</td>\n",
       "      <td>1</td>\n",
       "      <td>288</td>\n",
       "      <td>43800</td>\n",
       "      <td>43800</td>\n",
       "      <td>43803</td>\n",
       "      <td>43803</td>\n",
       "      <td>41</td>\n",
       "      <td>1</td>\n",
       "      <td>41_3</td>\n",
       "    </tr>\n",
       "    <tr>\n",
       "      <th>4283850</th>\n",
       "      <td>2018-01-13</td>\n",
       "      <td>6093453</td>\n",
       "      <td>1</td>\n",
       "      <td>288</td>\n",
       "      <td>58800</td>\n",
       "      <td>58800</td>\n",
       "      <td>59684</td>\n",
       "      <td>59684</td>\n",
       "      <td>41</td>\n",
       "      <td>1</td>\n",
       "      <td>41_3</td>\n",
       "    </tr>\n",
       "    <tr>\n",
       "      <th>9662196</th>\n",
       "      <td>2018-01-29</td>\n",
       "      <td>6238592</td>\n",
       "      <td>1</td>\n",
       "      <td>288</td>\n",
       "      <td>63000</td>\n",
       "      <td>63000</td>\n",
       "      <td>63055</td>\n",
       "      <td>63055</td>\n",
       "      <td>41</td>\n",
       "      <td>1</td>\n",
       "      <td>41_3</td>\n",
       "    </tr>\n",
       "    <tr>\n",
       "      <th>2334981</th>\n",
       "      <td>2018-01-08</td>\n",
       "      <td>6093329</td>\n",
       "      <td>1</td>\n",
       "      <td>288</td>\n",
       "      <td>41100</td>\n",
       "      <td>41100</td>\n",
       "      <td>41114</td>\n",
       "      <td>41114</td>\n",
       "      <td>41</td>\n",
       "      <td>1</td>\n",
       "      <td>41_3</td>\n",
       "    </tr>\n",
       "    <tr>\n",
       "      <th>9997660</th>\n",
       "      <td>2018-01-30</td>\n",
       "      <td>6234994</td>\n",
       "      <td>1</td>\n",
       "      <td>288</td>\n",
       "      <td>57000</td>\n",
       "      <td>57000</td>\n",
       "      <td>57100</td>\n",
       "      <td>57100</td>\n",
       "      <td>41</td>\n",
       "      <td>1</td>\n",
       "      <td>41_3</td>\n",
       "    </tr>\n",
       "  </tbody>\n",
       "</table>\n",
       "</div>"
      ],
      "text/plain": [
       "        DAYOFSERVICE   TRIPID  PROGRNUMBER  STOPPOINTID  PLANNEDTIME_ARR  \\\n",
       "6270489   2018-01-19  6115935            1          288            43800   \n",
       "4283850   2018-01-13  6093453            1          288            58800   \n",
       "9662196   2018-01-29  6238592            1          288            63000   \n",
       "2334981   2018-01-08  6093329            1          288            41100   \n",
       "9997660   2018-01-30  6234994            1          288            57000   \n",
       "\n",
       "         PLANNEDTIME_DEP  ACTUALTIME_ARR  ACTUALTIME_DEP LINEID  DIRECTION  \\\n",
       "6270489            43800           43803           43803     41          1   \n",
       "4283850            58800           59684           59684     41          1   \n",
       "9662196            63000           63055           63055     41          1   \n",
       "2334981            41100           41114           41114     41          1   \n",
       "9997660            57000           57100           57100     41          1   \n",
       "\n",
       "        ROUTEID  \n",
       "6270489    41_3  \n",
       "4283850    41_3  \n",
       "9662196    41_3  \n",
       "2334981    41_3  \n",
       "9997660    41_3  "
      ]
     },
     "execution_count": 24,
     "metadata": {},
     "output_type": "execute_result"
    }
   ],
   "source": [
    "df_41_DIR1.head()"
   ]
  },
  {
   "cell_type": "markdown",
   "metadata": {},
   "source": [
    "#### Take unique values into dictionary"
   ]
  },
  {
   "cell_type": "code",
   "execution_count": 25,
   "metadata": {
    "scrolled": false
   },
   "outputs": [],
   "source": [
    "uniques = {}\n",
    "for col in df_41_DIR1.columns:\n",
    "    uniques[col] = df_41_DIR1[col].unique()"
   ]
  },
  {
   "cell_type": "markdown",
   "metadata": {},
   "source": [
    "##### Direction 1 ROUTES"
   ]
  },
  {
   "cell_type": "code",
   "execution_count": 26,
   "metadata": {
    "scrolled": false
   },
   "outputs": [],
   "source": [
    "LINE_41_DIR1_Routes = uniques['ROUTEID']"
   ]
  },
  {
   "cell_type": "code",
   "execution_count": 27,
   "metadata": {},
   "outputs": [
    {
     "data": {
      "text/plain": [
       "array(['41_3', '41_21', '41_6', '41_20', '41_4', '41_5'], dtype=object)"
      ]
     },
     "execution_count": 27,
     "metadata": {},
     "output_type": "execute_result"
    }
   ],
   "source": [
    "LINE_41_DIR1_Routes"
   ]
  },
  {
   "cell_type": "markdown",
   "metadata": {},
   "source": [
    "##### Direction 1 TRIPS"
   ]
  },
  {
   "cell_type": "code",
   "execution_count": 28,
   "metadata": {
    "scrolled": false
   },
   "outputs": [],
   "source": [
    "LINE_41_DIR1_Trips = uniques['TRIPID']"
   ]
  },
  {
   "cell_type": "code",
   "execution_count": 29,
   "metadata": {},
   "outputs": [
    {
     "data": {
      "text/plain": [
       "array([6115935, 6093453, 6238592, 6093329, 6234994, 5956158, 6094587,\n",
       "       6109496, 6220913, 6094016], dtype=int32)"
      ]
     },
     "execution_count": 29,
     "metadata": {},
     "output_type": "execute_result"
    }
   ],
   "source": [
    "LINE_41_DIR1_Trips[:10]"
   ]
  },
  {
   "cell_type": "markdown",
   "metadata": {},
   "source": [
    "<br>"
   ]
  },
  {
   "cell_type": "markdown",
   "metadata": {},
   "source": [
    "#### Direction 2"
   ]
  },
  {
   "cell_type": "code",
   "execution_count": 30,
   "metadata": {
    "scrolled": true
   },
   "outputs": [],
   "source": [
    "df_41_DIR2 = df_Jan_trips_41.loc[(df_Jan_trips_41['DIRECTION'] == 2)].sort_values(by = 'PROGRNUMBER')"
   ]
  },
  {
   "cell_type": "code",
   "execution_count": 31,
   "metadata": {
    "scrolled": true
   },
   "outputs": [
    {
     "data": {
      "text/html": [
       "<div>\n",
       "<style scoped>\n",
       "    .dataframe tbody tr th:only-of-type {\n",
       "        vertical-align: middle;\n",
       "    }\n",
       "\n",
       "    .dataframe tbody tr th {\n",
       "        vertical-align: top;\n",
       "    }\n",
       "\n",
       "    .dataframe thead th {\n",
       "        text-align: right;\n",
       "    }\n",
       "</style>\n",
       "<table border=\"1\" class=\"dataframe\">\n",
       "  <thead>\n",
       "    <tr style=\"text-align: right;\">\n",
       "      <th></th>\n",
       "      <th>DAYOFSERVICE</th>\n",
       "      <th>TRIPID</th>\n",
       "      <th>PROGRNUMBER</th>\n",
       "      <th>STOPPOINTID</th>\n",
       "      <th>PLANNEDTIME_ARR</th>\n",
       "      <th>PLANNEDTIME_DEP</th>\n",
       "      <th>ACTUALTIME_ARR</th>\n",
       "      <th>ACTUALTIME_DEP</th>\n",
       "      <th>LINEID</th>\n",
       "      <th>DIRECTION</th>\n",
       "      <th>ROUTEID</th>\n",
       "    </tr>\n",
       "  </thead>\n",
       "  <tbody>\n",
       "    <tr>\n",
       "      <th>181</th>\n",
       "      <td>2018-01-01</td>\n",
       "      <td>5965379</td>\n",
       "      <td>1</td>\n",
       "      <td>7347</td>\n",
       "      <td>26100</td>\n",
       "      <td>26100</td>\n",
       "      <td>26251</td>\n",
       "      <td>26251</td>\n",
       "      <td>41</td>\n",
       "      <td>2</td>\n",
       "      <td>41_10</td>\n",
       "    </tr>\n",
       "    <tr>\n",
       "      <th>1981564</th>\n",
       "      <td>2018-01-06</td>\n",
       "      <td>5960063</td>\n",
       "      <td>1</td>\n",
       "      <td>4843</td>\n",
       "      <td>79200</td>\n",
       "      <td>79200</td>\n",
       "      <td>79228</td>\n",
       "      <td>79228</td>\n",
       "      <td>41</td>\n",
       "      <td>2</td>\n",
       "      <td>41_7</td>\n",
       "    </tr>\n",
       "    <tr>\n",
       "      <th>7686543</th>\n",
       "      <td>2018-01-23</td>\n",
       "      <td>6215768</td>\n",
       "      <td>1</td>\n",
       "      <td>4843</td>\n",
       "      <td>68400</td>\n",
       "      <td>68400</td>\n",
       "      <td>68398</td>\n",
       "      <td>68398</td>\n",
       "      <td>41</td>\n",
       "      <td>2</td>\n",
       "      <td>41_7</td>\n",
       "    </tr>\n",
       "    <tr>\n",
       "      <th>10422730</th>\n",
       "      <td>2018-01-31</td>\n",
       "      <td>6242687</td>\n",
       "      <td>1</td>\n",
       "      <td>4843</td>\n",
       "      <td>63300</td>\n",
       "      <td>63300</td>\n",
       "      <td>63499</td>\n",
       "      <td>63499</td>\n",
       "      <td>41</td>\n",
       "      <td>2</td>\n",
       "      <td>41_7</td>\n",
       "    </tr>\n",
       "    <tr>\n",
       "      <th>4945366</th>\n",
       "      <td>2018-01-15</td>\n",
       "      <td>6108726</td>\n",
       "      <td>1</td>\n",
       "      <td>4843</td>\n",
       "      <td>75600</td>\n",
       "      <td>75600</td>\n",
       "      <td>75518</td>\n",
       "      <td>75518</td>\n",
       "      <td>41</td>\n",
       "      <td>2</td>\n",
       "      <td>41_7</td>\n",
       "    </tr>\n",
       "  </tbody>\n",
       "</table>\n",
       "</div>"
      ],
      "text/plain": [
       "         DAYOFSERVICE   TRIPID  PROGRNUMBER  STOPPOINTID  PLANNEDTIME_ARR  \\\n",
       "181        2018-01-01  5965379            1         7347            26100   \n",
       "1981564    2018-01-06  5960063            1         4843            79200   \n",
       "7686543    2018-01-23  6215768            1         4843            68400   \n",
       "10422730   2018-01-31  6242687            1         4843            63300   \n",
       "4945366    2018-01-15  6108726            1         4843            75600   \n",
       "\n",
       "          PLANNEDTIME_DEP  ACTUALTIME_ARR  ACTUALTIME_DEP LINEID  DIRECTION  \\\n",
       "181                 26100           26251           26251     41          2   \n",
       "1981564             79200           79228           79228     41          2   \n",
       "7686543             68400           68398           68398     41          2   \n",
       "10422730            63300           63499           63499     41          2   \n",
       "4945366             75600           75518           75518     41          2   \n",
       "\n",
       "         ROUTEID  \n",
       "181        41_10  \n",
       "1981564     41_7  \n",
       "7686543     41_7  \n",
       "10422730    41_7  \n",
       "4945366     41_7  "
      ]
     },
     "execution_count": 31,
     "metadata": {},
     "output_type": "execute_result"
    }
   ],
   "source": [
    "df_41_DIR2.head()"
   ]
  },
  {
   "cell_type": "markdown",
   "metadata": {},
   "source": [
    "#### Take unique values into dictionary"
   ]
  },
  {
   "cell_type": "code",
   "execution_count": 32,
   "metadata": {
    "scrolled": false
   },
   "outputs": [],
   "source": [
    "uniques = {}\n",
    "for col in df_41_DIR2.columns:\n",
    "    uniques[col] = df_41_DIR2[col].unique()"
   ]
  },
  {
   "cell_type": "markdown",
   "metadata": {},
   "source": [
    "##### Direction 2 ROUTES"
   ]
  },
  {
   "cell_type": "code",
   "execution_count": 33,
   "metadata": {
    "scrolled": false
   },
   "outputs": [],
   "source": [
    "LINE_41_DIR2_Routes = uniques['ROUTEID']"
   ]
  },
  {
   "cell_type": "code",
   "execution_count": 34,
   "metadata": {},
   "outputs": [
    {
     "data": {
      "text/plain": [
       "array(['41_10', '41_7', '41_9', '41_8'], dtype=object)"
      ]
     },
     "execution_count": 34,
     "metadata": {},
     "output_type": "execute_result"
    }
   ],
   "source": [
    "LINE_41_DIR2_Routes"
   ]
  },
  {
   "cell_type": "markdown",
   "metadata": {},
   "source": [
    "##### Direction 2 TRIPS"
   ]
  },
  {
   "cell_type": "code",
   "execution_count": 35,
   "metadata": {
    "scrolled": false
   },
   "outputs": [],
   "source": [
    "LINE_41_DIR2_Trips = uniques['TRIPID']"
   ]
  },
  {
   "cell_type": "code",
   "execution_count": 36,
   "metadata": {},
   "outputs": [
    {
     "data": {
      "text/plain": [
       "array([5965379, 5960063, 6215768, 6242687, 6108726, 6240229, 6089548,\n",
       "       5962111, 6218879, 6098757], dtype=int32)"
      ]
     },
     "execution_count": 36,
     "metadata": {},
     "output_type": "execute_result"
    }
   ],
   "source": [
    "LINE_41_DIR2_Trips[:10]"
   ]
  },
  {
   "cell_type": "markdown",
   "metadata": {},
   "source": [
    "<br>"
   ]
  },
  {
   "cell_type": "markdown",
   "metadata": {},
   "source": [
    "#### Confirm mutual exclusion for TRIPIDs and ROUTEIDs for different directions"
   ]
  },
  {
   "cell_type": "code",
   "execution_count": 37,
   "metadata": {},
   "outputs": [
    {
     "name": "stdout",
     "output_type": "stream",
     "text": [
      "Common ROUTEIDs between LINE 43 : Direction 1 & 2  set()\n"
     ]
    }
   ],
   "source": [
    "print(\"Common ROUTEIDs between LINE 43 : Direction 1 & 2 \",set(LINE_41_DIR1_Routes).intersection(LINE_41_DIR2_Routes))"
   ]
  },
  {
   "cell_type": "code",
   "execution_count": 38,
   "metadata": {},
   "outputs": [
    {
     "name": "stdout",
     "output_type": "stream",
     "text": [
      "Common TRIPIDs between LINE 43 : Direction 1 & 2  set()\n"
     ]
    }
   ],
   "source": [
    "print(\"Common TRIPIDs between LINE 43 : Direction 1 & 2 \",set(LINE_41_DIR1_Trips).intersection(LINE_41_DIR2_Trips))"
   ]
  },
  {
   "cell_type": "markdown",
   "metadata": {},
   "source": [
    "**$HENCE,\\ For\\ a\\ LINEID;\\ ROUTEIDs\\ and\\ TRIPIDs\\ used\\ for\\ DIFFERENT\\ DIRECTION\\ are\\ mutually\\ exclusive$**\n",
    "<br>\n",
    "<br>"
   ]
  },
  {
   "cell_type": "markdown",
   "metadata": {},
   "source": [
    "### Check if STOPIDs visited by different ROUTEIDs for a LINEID are different"
   ]
  },
  {
   "cell_type": "markdown",
   "metadata": {},
   "source": [
    "#### Take unique values into dictionary"
   ]
  },
  {
   "cell_type": "code",
   "execution_count": 39,
   "metadata": {
    "scrolled": false
   },
   "outputs": [],
   "source": [
    "uniques = {}\n",
    "for col in df_Jan_trips_41.columns:\n",
    "    uniques[col] = df_Jan_trips_41[col].unique()"
   ]
  },
  {
   "cell_type": "code",
   "execution_count": 40,
   "metadata": {
    "scrolled": false
   },
   "outputs": [
    {
     "data": {
      "text/plain": [
       "array(['41_3', '41_10', '41_7', '41_8', '41_5', '41_4', '41_6', '41_9',\n",
       "       '41_20', '41_21'], dtype=object)"
      ]
     },
     "execution_count": 40,
     "metadata": {},
     "output_type": "execute_result"
    }
   ],
   "source": [
    "uniques['ROUTEID']"
   ]
  },
  {
   "cell_type": "code",
   "execution_count": 41,
   "metadata": {},
   "outputs": [
    {
     "data": {
      "text/plain": [
       "array(['2018-01-01T00:00:00.000000000', '2018-01-02T00:00:00.000000000',\n",
       "       '2018-01-03T00:00:00.000000000', '2018-01-04T00:00:00.000000000',\n",
       "       '2018-01-05T00:00:00.000000000', '2018-01-06T00:00:00.000000000',\n",
       "       '2018-01-07T00:00:00.000000000', '2018-01-08T00:00:00.000000000',\n",
       "       '2018-01-09T00:00:00.000000000', '2018-01-10T00:00:00.000000000',\n",
       "       '2018-01-11T00:00:00.000000000', '2018-01-12T00:00:00.000000000',\n",
       "       '2018-01-13T00:00:00.000000000', '2018-01-14T00:00:00.000000000',\n",
       "       '2018-01-15T00:00:00.000000000', '2018-01-16T00:00:00.000000000',\n",
       "       '2018-01-17T00:00:00.000000000', '2018-01-18T00:00:00.000000000',\n",
       "       '2018-01-19T00:00:00.000000000', '2018-01-20T00:00:00.000000000',\n",
       "       '2018-01-21T00:00:00.000000000', '2018-01-22T00:00:00.000000000',\n",
       "       '2018-01-23T00:00:00.000000000', '2018-01-24T00:00:00.000000000',\n",
       "       '2018-01-25T00:00:00.000000000', '2018-01-26T00:00:00.000000000',\n",
       "       '2018-01-27T00:00:00.000000000', '2018-01-28T00:00:00.000000000',\n",
       "       '2018-01-29T00:00:00.000000000', '2018-01-30T00:00:00.000000000',\n",
       "       '2018-01-31T00:00:00.000000000'], dtype='datetime64[ns]')"
      ]
     },
     "execution_count": 41,
     "metadata": {},
     "output_type": "execute_result"
    }
   ],
   "source": [
    "uniques['DAYOFSERVICE']"
   ]
  },
  {
   "cell_type": "markdown",
   "metadata": {},
   "source": [
    "#### Check random entries for ROUTEID"
   ]
  },
  {
   "cell_type": "code",
   "execution_count": 63,
   "metadata": {
    "scrolled": true
   },
   "outputs": [
    {
     "data": {
      "text/html": [
       "<div>\n",
       "<style scoped>\n",
       "    .dataframe tbody tr th:only-of-type {\n",
       "        vertical-align: middle;\n",
       "    }\n",
       "\n",
       "    .dataframe tbody tr th {\n",
       "        vertical-align: top;\n",
       "    }\n",
       "\n",
       "    .dataframe thead th {\n",
       "        text-align: right;\n",
       "    }\n",
       "</style>\n",
       "<table border=\"1\" class=\"dataframe\">\n",
       "  <thead>\n",
       "    <tr style=\"text-align: right;\">\n",
       "      <th></th>\n",
       "      <th>DAYOFSERVICE</th>\n",
       "      <th>TRIPID</th>\n",
       "      <th>PROGRNUMBER</th>\n",
       "      <th>STOPPOINTID</th>\n",
       "      <th>PLANNEDTIME_ARR</th>\n",
       "      <th>PLANNEDTIME_DEP</th>\n",
       "      <th>ACTUALTIME_ARR</th>\n",
       "      <th>ACTUALTIME_DEP</th>\n",
       "      <th>LINEID</th>\n",
       "      <th>DIRECTION</th>\n",
       "      <th>ROUTEID</th>\n",
       "    </tr>\n",
       "  </thead>\n",
       "  <tbody>\n",
       "    <tr>\n",
       "      <th>7383709</th>\n",
       "      <td>2018-01-23</td>\n",
       "      <td>6216050</td>\n",
       "      <td>1</td>\n",
       "      <td>288</td>\n",
       "      <td>21600</td>\n",
       "      <td>21600</td>\n",
       "      <td>21581</td>\n",
       "      <td>21581</td>\n",
       "      <td>41</td>\n",
       "      <td>1</td>\n",
       "      <td>41_3</td>\n",
       "    </tr>\n",
       "    <tr>\n",
       "      <th>8807333</th>\n",
       "      <td>2018-01-26</td>\n",
       "      <td>6212621</td>\n",
       "      <td>1</td>\n",
       "      <td>288</td>\n",
       "      <td>66300</td>\n",
       "      <td>66300</td>\n",
       "      <td>66514</td>\n",
       "      <td>66514</td>\n",
       "      <td>41</td>\n",
       "      <td>1</td>\n",
       "      <td>41_3</td>\n",
       "    </tr>\n",
       "    <tr>\n",
       "      <th>4983921</th>\n",
       "      <td>2018-01-16</td>\n",
       "      <td>6115930</td>\n",
       "      <td>1</td>\n",
       "      <td>288</td>\n",
       "      <td>19800</td>\n",
       "      <td>19800</td>\n",
       "      <td>19783</td>\n",
       "      <td>19783</td>\n",
       "      <td>41</td>\n",
       "      <td>1</td>\n",
       "      <td>41_3</td>\n",
       "    </tr>\n",
       "    <tr>\n",
       "      <th>2931133</th>\n",
       "      <td>2018-01-09</td>\n",
       "      <td>6098110</td>\n",
       "      <td>1</td>\n",
       "      <td>288</td>\n",
       "      <td>76500</td>\n",
       "      <td>76500</td>\n",
       "      <td>76500</td>\n",
       "      <td>76500</td>\n",
       "      <td>41</td>\n",
       "      <td>1</td>\n",
       "      <td>41_3</td>\n",
       "    </tr>\n",
       "    <tr>\n",
       "      <th>1783885</th>\n",
       "      <td>2018-01-06</td>\n",
       "      <td>5972065</td>\n",
       "      <td>1</td>\n",
       "      <td>288</td>\n",
       "      <td>38400</td>\n",
       "      <td>38400</td>\n",
       "      <td>38357</td>\n",
       "      <td>38357</td>\n",
       "      <td>41</td>\n",
       "      <td>1</td>\n",
       "      <td>41_3</td>\n",
       "    </tr>\n",
       "  </tbody>\n",
       "</table>\n",
       "</div>"
      ],
      "text/plain": [
       "        DAYOFSERVICE   TRIPID  PROGRNUMBER  STOPPOINTID  PLANNEDTIME_ARR  \\\n",
       "7383709   2018-01-23  6216050            1          288            21600   \n",
       "8807333   2018-01-26  6212621            1          288            66300   \n",
       "4983921   2018-01-16  6115930            1          288            19800   \n",
       "2931133   2018-01-09  6098110            1          288            76500   \n",
       "1783885   2018-01-06  5972065            1          288            38400   \n",
       "\n",
       "         PLANNEDTIME_DEP  ACTUALTIME_ARR  ACTUALTIME_DEP LINEID  DIRECTION  \\\n",
       "7383709            21600           21581           21581     41          1   \n",
       "8807333            66300           66514           66514     41          1   \n",
       "4983921            19800           19783           19783     41          1   \n",
       "2931133            76500           76500           76500     41          1   \n",
       "1783885            38400           38357           38357     41          1   \n",
       "\n",
       "        ROUTEID  \n",
       "7383709    41_3  \n",
       "8807333    41_3  \n",
       "4983921    41_3  \n",
       "2931133    41_3  \n",
       "1783885    41_3  "
      ]
     },
     "execution_count": 63,
     "metadata": {},
     "output_type": "execute_result"
    }
   ],
   "source": [
    "df_Jan_trips_41.loc[(df_Jan_trips_41['ROUTEID'] == '41_3')].sort_values(by = 'PROGRNUMBER').head()"
   ]
  },
  {
   "cell_type": "code",
   "execution_count": 64,
   "metadata": {
    "scrolled": true
   },
   "outputs": [
    {
     "data": {
      "text/html": [
       "<div>\n",
       "<style scoped>\n",
       "    .dataframe tbody tr th:only-of-type {\n",
       "        vertical-align: middle;\n",
       "    }\n",
       "\n",
       "    .dataframe tbody tr th {\n",
       "        vertical-align: top;\n",
       "    }\n",
       "\n",
       "    .dataframe thead th {\n",
       "        text-align: right;\n",
       "    }\n",
       "</style>\n",
       "<table border=\"1\" class=\"dataframe\">\n",
       "  <thead>\n",
       "    <tr style=\"text-align: right;\">\n",
       "      <th></th>\n",
       "      <th>DAYOFSERVICE</th>\n",
       "      <th>TRIPID</th>\n",
       "      <th>PROGRNUMBER</th>\n",
       "      <th>STOPPOINTID</th>\n",
       "      <th>PLANNEDTIME_ARR</th>\n",
       "      <th>PLANNEDTIME_DEP</th>\n",
       "      <th>ACTUALTIME_ARR</th>\n",
       "      <th>ACTUALTIME_DEP</th>\n",
       "      <th>LINEID</th>\n",
       "      <th>DIRECTION</th>\n",
       "      <th>ROUTEID</th>\n",
       "    </tr>\n",
       "  </thead>\n",
       "  <tbody>\n",
       "    <tr>\n",
       "      <th>1883383</th>\n",
       "      <td>2018-01-06</td>\n",
       "      <td>5955994</td>\n",
       "      <td>1</td>\n",
       "      <td>1174</td>\n",
       "      <td>57600</td>\n",
       "      <td>57600</td>\n",
       "      <td>57622</td>\n",
       "      <td>57622</td>\n",
       "      <td>41</td>\n",
       "      <td>1</td>\n",
       "      <td>41_20</td>\n",
       "    </tr>\n",
       "    <tr>\n",
       "      <th>9064766</th>\n",
       "      <td>2018-01-27</td>\n",
       "      <td>6225628</td>\n",
       "      <td>1</td>\n",
       "      <td>1174</td>\n",
       "      <td>57600</td>\n",
       "      <td>57600</td>\n",
       "      <td>57757</td>\n",
       "      <td>57757</td>\n",
       "      <td>41</td>\n",
       "      <td>1</td>\n",
       "      <td>41_20</td>\n",
       "    </tr>\n",
       "    <tr>\n",
       "      <th>6677252</th>\n",
       "      <td>2018-01-20</td>\n",
       "      <td>6121831</td>\n",
       "      <td>1</td>\n",
       "      <td>1174</td>\n",
       "      <td>57600</td>\n",
       "      <td>57600</td>\n",
       "      <td>57552</td>\n",
       "      <td>57552</td>\n",
       "      <td>41</td>\n",
       "      <td>1</td>\n",
       "      <td>41_20</td>\n",
       "    </tr>\n",
       "    <tr>\n",
       "      <th>4277167</th>\n",
       "      <td>2018-01-13</td>\n",
       "      <td>6097348</td>\n",
       "      <td>1</td>\n",
       "      <td>1174</td>\n",
       "      <td>57600</td>\n",
       "      <td>57600</td>\n",
       "      <td>57614</td>\n",
       "      <td>57614</td>\n",
       "      <td>41</td>\n",
       "      <td>1</td>\n",
       "      <td>41_20</td>\n",
       "    </tr>\n",
       "    <tr>\n",
       "      <th>1883384</th>\n",
       "      <td>2018-01-06</td>\n",
       "      <td>5955994</td>\n",
       "      <td>2</td>\n",
       "      <td>1175</td>\n",
       "      <td>57703</td>\n",
       "      <td>57703</td>\n",
       "      <td>57650</td>\n",
       "      <td>57650</td>\n",
       "      <td>41</td>\n",
       "      <td>1</td>\n",
       "      <td>41_20</td>\n",
       "    </tr>\n",
       "  </tbody>\n",
       "</table>\n",
       "</div>"
      ],
      "text/plain": [
       "        DAYOFSERVICE   TRIPID  PROGRNUMBER  STOPPOINTID  PLANNEDTIME_ARR  \\\n",
       "1883383   2018-01-06  5955994            1         1174            57600   \n",
       "9064766   2018-01-27  6225628            1         1174            57600   \n",
       "6677252   2018-01-20  6121831            1         1174            57600   \n",
       "4277167   2018-01-13  6097348            1         1174            57600   \n",
       "1883384   2018-01-06  5955994            2         1175            57703   \n",
       "\n",
       "         PLANNEDTIME_DEP  ACTUALTIME_ARR  ACTUALTIME_DEP LINEID  DIRECTION  \\\n",
       "1883383            57600           57622           57622     41          1   \n",
       "9064766            57600           57757           57757     41          1   \n",
       "6677252            57600           57552           57552     41          1   \n",
       "4277167            57600           57614           57614     41          1   \n",
       "1883384            57703           57650           57650     41          1   \n",
       "\n",
       "        ROUTEID  \n",
       "1883383   41_20  \n",
       "9064766   41_20  \n",
       "6677252   41_20  \n",
       "4277167   41_20  \n",
       "1883384   41_20  "
      ]
     },
     "execution_count": 64,
     "metadata": {},
     "output_type": "execute_result"
    }
   ],
   "source": [
    "df_Jan_trips_41.loc[(df_Jan_trips_41['ROUTEID'] == '41_20')].sort_values(by = 'PROGRNUMBER').head()"
   ]
  },
  {
   "cell_type": "markdown",
   "metadata": {},
   "source": [
    "**IT IS EVIDENT FROM ABOVE SAMPLES THAT:**<BR>\n",
    "**THERE IS NO REALTION BETWEEN TIME OF OPERATION AND ROUTEID SELECTED**    \n",
    "<BR>\n",
    "<BR>\n",
    "<BR>    "
   ]
  },
  {
   "cell_type": "markdown",
   "metadata": {},
   "source": [
    "#### Choose a combination of keys for ROUTEID 41_3"
   ]
  },
  {
   "cell_type": "code",
   "execution_count": 65,
   "metadata": {
    "scrolled": true
   },
   "outputs": [
    {
     "data": {
      "text/html": [
       "<div>\n",
       "<style scoped>\n",
       "    .dataframe tbody tr th:only-of-type {\n",
       "        vertical-align: middle;\n",
       "    }\n",
       "\n",
       "    .dataframe tbody tr th {\n",
       "        vertical-align: top;\n",
       "    }\n",
       "\n",
       "    .dataframe thead th {\n",
       "        text-align: right;\n",
       "    }\n",
       "</style>\n",
       "<table border=\"1\" class=\"dataframe\">\n",
       "  <thead>\n",
       "    <tr style=\"text-align: right;\">\n",
       "      <th></th>\n",
       "      <th>DAYOFSERVICE</th>\n",
       "      <th>TRIPID</th>\n",
       "      <th>PROGRNUMBER</th>\n",
       "      <th>STOPPOINTID</th>\n",
       "      <th>PLANNEDTIME_ARR</th>\n",
       "      <th>PLANNEDTIME_DEP</th>\n",
       "      <th>ACTUALTIME_ARR</th>\n",
       "      <th>ACTUALTIME_DEP</th>\n",
       "      <th>LINEID</th>\n",
       "      <th>DIRECTION</th>\n",
       "      <th>ROUTEID</th>\n",
       "    </tr>\n",
       "  </thead>\n",
       "  <tbody>\n",
       "    <tr>\n",
       "      <th>2358345</th>\n",
       "      <td>2018-01-08</td>\n",
       "      <td>6099945</td>\n",
       "      <td>1</td>\n",
       "      <td>288</td>\n",
       "      <td>45000</td>\n",
       "      <td>45000</td>\n",
       "      <td>44996</td>\n",
       "      <td>44996</td>\n",
       "      <td>41</td>\n",
       "      <td>1</td>\n",
       "      <td>41_3</td>\n",
       "    </tr>\n",
       "    <tr>\n",
       "      <th>2358346</th>\n",
       "      <td>2018-01-08</td>\n",
       "      <td>6099945</td>\n",
       "      <td>2</td>\n",
       "      <td>1171</td>\n",
       "      <td>45067</td>\n",
       "      <td>45067</td>\n",
       "      <td>45039</td>\n",
       "      <td>45039</td>\n",
       "      <td>41</td>\n",
       "      <td>1</td>\n",
       "      <td>41_3</td>\n",
       "    </tr>\n",
       "    <tr>\n",
       "      <th>2358347</th>\n",
       "      <td>2018-01-08</td>\n",
       "      <td>6099945</td>\n",
       "      <td>3</td>\n",
       "      <td>1172</td>\n",
       "      <td>45118</td>\n",
       "      <td>45118</td>\n",
       "      <td>45055</td>\n",
       "      <td>45055</td>\n",
       "      <td>41</td>\n",
       "      <td>1</td>\n",
       "      <td>41_3</td>\n",
       "    </tr>\n",
       "    <tr>\n",
       "      <th>2358348</th>\n",
       "      <td>2018-01-08</td>\n",
       "      <td>6099945</td>\n",
       "      <td>4</td>\n",
       "      <td>1173</td>\n",
       "      <td>45191</td>\n",
       "      <td>45191</td>\n",
       "      <td>45134</td>\n",
       "      <td>45148</td>\n",
       "      <td>41</td>\n",
       "      <td>1</td>\n",
       "      <td>41_3</td>\n",
       "    </tr>\n",
       "    <tr>\n",
       "      <th>2358349</th>\n",
       "      <td>2018-01-08</td>\n",
       "      <td>6099945</td>\n",
       "      <td>5</td>\n",
       "      <td>1174</td>\n",
       "      <td>45285</td>\n",
       "      <td>45285</td>\n",
       "      <td>45182</td>\n",
       "      <td>45182</td>\n",
       "      <td>41</td>\n",
       "      <td>1</td>\n",
       "      <td>41_3</td>\n",
       "    </tr>\n",
       "  </tbody>\n",
       "</table>\n",
       "</div>"
      ],
      "text/plain": [
       "        DAYOFSERVICE   TRIPID  PROGRNUMBER  STOPPOINTID  PLANNEDTIME_ARR  \\\n",
       "2358345   2018-01-08  6099945            1          288            45000   \n",
       "2358346   2018-01-08  6099945            2         1171            45067   \n",
       "2358347   2018-01-08  6099945            3         1172            45118   \n",
       "2358348   2018-01-08  6099945            4         1173            45191   \n",
       "2358349   2018-01-08  6099945            5         1174            45285   \n",
       "\n",
       "         PLANNEDTIME_DEP  ACTUALTIME_ARR  ACTUALTIME_DEP LINEID  DIRECTION  \\\n",
       "2358345            45000           44996           44996     41          1   \n",
       "2358346            45067           45039           45039     41          1   \n",
       "2358347            45118           45055           45055     41          1   \n",
       "2358348            45191           45134           45148     41          1   \n",
       "2358349            45285           45182           45182     41          1   \n",
       "\n",
       "        ROUTEID  \n",
       "2358345    41_3  \n",
       "2358346    41_3  \n",
       "2358347    41_3  \n",
       "2358348    41_3  \n",
       "2358349    41_3  "
      ]
     },
     "execution_count": 65,
     "metadata": {},
     "output_type": "execute_result"
    }
   ],
   "source": [
    "df_41_3_sample = df_Jan_trips_41.loc[(df_Jan_trips_41['LINEID'] == '41') & \n",
    "                                       (df_Jan_trips_41['ROUTEID'] == '41_3') &\n",
    "                                       (df_Jan_trips_41['DAYOFSERVICE'] == '2018-01-08 00:00:00') &\n",
    "                                       (df_Jan_trips_41['TRIPID'] == 6099945) &                                       \n",
    "                                       (df_Jan_trips_41['DIRECTION'] == 1)\n",
    "                                      ].sort_values(by = 'PROGRNUMBER')\n",
    "df_41_3_sample.head()"
   ]
  },
  {
   "cell_type": "markdown",
   "metadata": {},
   "source": [
    "#### Choose a combination of keys for ROUTEID 41_20"
   ]
  },
  {
   "cell_type": "code",
   "execution_count": 66,
   "metadata": {
    "scrolled": true
   },
   "outputs": [
    {
     "data": {
      "text/html": [
       "<div>\n",
       "<style scoped>\n",
       "    .dataframe tbody tr th:only-of-type {\n",
       "        vertical-align: middle;\n",
       "    }\n",
       "\n",
       "    .dataframe tbody tr th {\n",
       "        vertical-align: top;\n",
       "    }\n",
       "\n",
       "    .dataframe thead th {\n",
       "        text-align: right;\n",
       "    }\n",
       "</style>\n",
       "<table border=\"1\" class=\"dataframe\">\n",
       "  <thead>\n",
       "    <tr style=\"text-align: right;\">\n",
       "      <th></th>\n",
       "      <th>DAYOFSERVICE</th>\n",
       "      <th>TRIPID</th>\n",
       "      <th>PROGRNUMBER</th>\n",
       "      <th>STOPPOINTID</th>\n",
       "      <th>PLANNEDTIME_ARR</th>\n",
       "      <th>PLANNEDTIME_DEP</th>\n",
       "      <th>ACTUALTIME_ARR</th>\n",
       "      <th>ACTUALTIME_DEP</th>\n",
       "      <th>LINEID</th>\n",
       "      <th>DIRECTION</th>\n",
       "      <th>ROUTEID</th>\n",
       "    </tr>\n",
       "  </thead>\n",
       "  <tbody>\n",
       "    <tr>\n",
       "      <th>1883383</th>\n",
       "      <td>2018-01-06</td>\n",
       "      <td>5955994</td>\n",
       "      <td>1</td>\n",
       "      <td>1174</td>\n",
       "      <td>57600</td>\n",
       "      <td>57600</td>\n",
       "      <td>57622</td>\n",
       "      <td>57622</td>\n",
       "      <td>41</td>\n",
       "      <td>1</td>\n",
       "      <td>41_20</td>\n",
       "    </tr>\n",
       "    <tr>\n",
       "      <th>1883384</th>\n",
       "      <td>2018-01-06</td>\n",
       "      <td>5955994</td>\n",
       "      <td>2</td>\n",
       "      <td>1175</td>\n",
       "      <td>57703</td>\n",
       "      <td>57703</td>\n",
       "      <td>57650</td>\n",
       "      <td>57650</td>\n",
       "      <td>41</td>\n",
       "      <td>1</td>\n",
       "      <td>41_20</td>\n",
       "    </tr>\n",
       "    <tr>\n",
       "      <th>1883385</th>\n",
       "      <td>2018-01-06</td>\n",
       "      <td>5955994</td>\n",
       "      <td>3</td>\n",
       "      <td>15</td>\n",
       "      <td>57780</td>\n",
       "      <td>57780</td>\n",
       "      <td>57716</td>\n",
       "      <td>57750</td>\n",
       "      <td>41</td>\n",
       "      <td>1</td>\n",
       "      <td>41_20</td>\n",
       "    </tr>\n",
       "    <tr>\n",
       "      <th>1883386</th>\n",
       "      <td>2018-01-06</td>\n",
       "      <td>5955994</td>\n",
       "      <td>4</td>\n",
       "      <td>17</td>\n",
       "      <td>57900</td>\n",
       "      <td>57900</td>\n",
       "      <td>57798</td>\n",
       "      <td>57798</td>\n",
       "      <td>41</td>\n",
       "      <td>1</td>\n",
       "      <td>41_20</td>\n",
       "    </tr>\n",
       "    <tr>\n",
       "      <th>1883387</th>\n",
       "      <td>2018-01-06</td>\n",
       "      <td>5955994</td>\n",
       "      <td>5</td>\n",
       "      <td>18</td>\n",
       "      <td>58001</td>\n",
       "      <td>58001</td>\n",
       "      <td>57865</td>\n",
       "      <td>57865</td>\n",
       "      <td>41</td>\n",
       "      <td>1</td>\n",
       "      <td>41_20</td>\n",
       "    </tr>\n",
       "  </tbody>\n",
       "</table>\n",
       "</div>"
      ],
      "text/plain": [
       "        DAYOFSERVICE   TRIPID  PROGRNUMBER  STOPPOINTID  PLANNEDTIME_ARR  \\\n",
       "1883383   2018-01-06  5955994            1         1174            57600   \n",
       "1883384   2018-01-06  5955994            2         1175            57703   \n",
       "1883385   2018-01-06  5955994            3           15            57780   \n",
       "1883386   2018-01-06  5955994            4           17            57900   \n",
       "1883387   2018-01-06  5955994            5           18            58001   \n",
       "\n",
       "         PLANNEDTIME_DEP  ACTUALTIME_ARR  ACTUALTIME_DEP LINEID  DIRECTION  \\\n",
       "1883383            57600           57622           57622     41          1   \n",
       "1883384            57703           57650           57650     41          1   \n",
       "1883385            57780           57716           57750     41          1   \n",
       "1883386            57900           57798           57798     41          1   \n",
       "1883387            58001           57865           57865     41          1   \n",
       "\n",
       "        ROUTEID  \n",
       "1883383   41_20  \n",
       "1883384   41_20  \n",
       "1883385   41_20  \n",
       "1883386   41_20  \n",
       "1883387   41_20  "
      ]
     },
     "execution_count": 66,
     "metadata": {},
     "output_type": "execute_result"
    }
   ],
   "source": [
    "df_41_20_sample = df_Jan_trips_41.loc[(df_Jan_trips_41['LINEID'] == '41') &\n",
    "                                        (df_Jan_trips_41['ROUTEID'] == '41_20') &\n",
    "                                        (df_Jan_trips_41['TRIPID'] == 5955994) &\n",
    "                                        (df_Jan_trips_41['DAYOFSERVICE'] == '2018-01-06 00:00:00') &\n",
    "                                        (df_Jan_trips_41['DIRECTION'] == 1)\n",
    "                                       ].sort_values(by = 'PROGRNUMBER')\n",
    "df_41_20_sample.head()"
   ]
  },
  {
   "cell_type": "markdown",
   "metadata": {},
   "source": [
    "#### View sets of STOPPOINTIDs visited for particular  ROUTEIDs "
   ]
  },
  {
   "cell_type": "code",
   "execution_count": 49,
   "metadata": {
    "scrolled": true
   },
   "outputs": [
    {
     "name": "stdout",
     "output_type": "stream",
     "text": [
      "ROUTE 41_3 {15, 17, 18, 1171, 1172, 1173, 1174, 1175, 19, 21, 3864, 3865, 3669, 288, 6054, 4910, 4911, 4912, 4913, 7602, 4914, 7348, 4915, 5076, 203, 204, 205, 5073, 5074, 5075, 1620, 85, 1622, 1623, 1624, 1625, 1626, 1627, 220, 1628, 1629, 1630, 3671, 3672, 3674, 3675, 3676, 3679, 3682, 4330, 4957} \n",
      "\n",
      "ROUTE 41_20 {15, 17, 18, 19, 21, 1174, 1175, 3864, 3865, 3669, 4910, 4911, 4912, 4913, 7602, 4914, 7348, 4915, 5076, 203, 204, 205, 5075, 1620, 85, 1622, 1623, 1624, 1625, 1626, 1627, 220, 1628, 1629, 1630, 3679, 4957, 3682}\n"
     ]
    }
   ],
   "source": [
    "print(\"ROUTE 41_3\",set(df_41_3_sample['STOPPOINTID']),\"\\n\")\n",
    "print(\"ROUTE 41_20\",set(df_41_20_sample['STOPPOINTID']))"
   ]
  },
  {
   "cell_type": "markdown",
   "metadata": {},
   "source": [
    "**OBSERVATIONS FROM ABOVE SETS**<BR>\n",
    "* **EVEN FOR ROUTEIDs HAAVING SAME DIRECTION (DIRECTION = 1); STOPPOINTIDs VISITED ARE DIFFERENT**\n",
    "* **AS ROUTEIDs ARE NOT KNOWN TO USER $\\Large \\&$ ROUTEIDs ARE NOT TIMEBOUND; IT IS NOT POSSIBLE TO TRAIN ML MODEL USING ALL ROUTEIDs**"
   ]
  },
  {
   "cell_type": "markdown",
   "metadata": {},
   "source": [
    "### Varify if STOPIDs visited by same ROUTEIDs for a LINEID are constant thoughout database"
   ]
  },
  {
   "cell_type": "code",
   "execution_count": 50,
   "metadata": {
    "scrolled": true
   },
   "outputs": [],
   "source": [
    "df_41_3 =  df_Jan_trips_41.loc[(df_Jan_trips_41['ROUTEID'] == '41_3')].sort_values(by = 'PROGRNUMBER')"
   ]
  },
  {
   "cell_type": "code",
   "execution_count": 51,
   "metadata": {
    "scrolled": true
   },
   "outputs": [
    {
     "data": {
      "text/html": [
       "<div>\n",
       "<style scoped>\n",
       "    .dataframe tbody tr th:only-of-type {\n",
       "        vertical-align: middle;\n",
       "    }\n",
       "\n",
       "    .dataframe tbody tr th {\n",
       "        vertical-align: top;\n",
       "    }\n",
       "\n",
       "    .dataframe thead th {\n",
       "        text-align: right;\n",
       "    }\n",
       "</style>\n",
       "<table border=\"1\" class=\"dataframe\">\n",
       "  <thead>\n",
       "    <tr style=\"text-align: right;\">\n",
       "      <th></th>\n",
       "      <th>DAYOFSERVICE</th>\n",
       "      <th>TRIPID</th>\n",
       "      <th>PROGRNUMBER</th>\n",
       "      <th>STOPPOINTID</th>\n",
       "      <th>PLANNEDTIME_ARR</th>\n",
       "      <th>PLANNEDTIME_DEP</th>\n",
       "      <th>ACTUALTIME_ARR</th>\n",
       "      <th>ACTUALTIME_DEP</th>\n",
       "      <th>LINEID</th>\n",
       "      <th>DIRECTION</th>\n",
       "      <th>ROUTEID</th>\n",
       "    </tr>\n",
       "  </thead>\n",
       "  <tbody>\n",
       "    <tr>\n",
       "      <th>7383709</th>\n",
       "      <td>2018-01-23</td>\n",
       "      <td>6216050</td>\n",
       "      <td>1</td>\n",
       "      <td>288</td>\n",
       "      <td>21600</td>\n",
       "      <td>21600</td>\n",
       "      <td>21581</td>\n",
       "      <td>21581</td>\n",
       "      <td>41</td>\n",
       "      <td>1</td>\n",
       "      <td>41_3</td>\n",
       "    </tr>\n",
       "    <tr>\n",
       "      <th>8807333</th>\n",
       "      <td>2018-01-26</td>\n",
       "      <td>6212621</td>\n",
       "      <td>1</td>\n",
       "      <td>288</td>\n",
       "      <td>66300</td>\n",
       "      <td>66300</td>\n",
       "      <td>66514</td>\n",
       "      <td>66514</td>\n",
       "      <td>41</td>\n",
       "      <td>1</td>\n",
       "      <td>41_3</td>\n",
       "    </tr>\n",
       "    <tr>\n",
       "      <th>4983921</th>\n",
       "      <td>2018-01-16</td>\n",
       "      <td>6115930</td>\n",
       "      <td>1</td>\n",
       "      <td>288</td>\n",
       "      <td>19800</td>\n",
       "      <td>19800</td>\n",
       "      <td>19783</td>\n",
       "      <td>19783</td>\n",
       "      <td>41</td>\n",
       "      <td>1</td>\n",
       "      <td>41_3</td>\n",
       "    </tr>\n",
       "    <tr>\n",
       "      <th>2931133</th>\n",
       "      <td>2018-01-09</td>\n",
       "      <td>6098110</td>\n",
       "      <td>1</td>\n",
       "      <td>288</td>\n",
       "      <td>76500</td>\n",
       "      <td>76500</td>\n",
       "      <td>76500</td>\n",
       "      <td>76500</td>\n",
       "      <td>41</td>\n",
       "      <td>1</td>\n",
       "      <td>41_3</td>\n",
       "    </tr>\n",
       "    <tr>\n",
       "      <th>1783885</th>\n",
       "      <td>2018-01-06</td>\n",
       "      <td>5972065</td>\n",
       "      <td>1</td>\n",
       "      <td>288</td>\n",
       "      <td>38400</td>\n",
       "      <td>38400</td>\n",
       "      <td>38357</td>\n",
       "      <td>38357</td>\n",
       "      <td>41</td>\n",
       "      <td>1</td>\n",
       "      <td>41_3</td>\n",
       "    </tr>\n",
       "    <tr>\n",
       "      <th>...</th>\n",
       "      <td>...</td>\n",
       "      <td>...</td>\n",
       "      <td>...</td>\n",
       "      <td>...</td>\n",
       "      <td>...</td>\n",
       "      <td>...</td>\n",
       "      <td>...</td>\n",
       "      <td>...</td>\n",
       "      <td>...</td>\n",
       "      <td>...</td>\n",
       "      <td>...</td>\n",
       "    </tr>\n",
       "    <tr>\n",
       "      <th>4535257</th>\n",
       "      <td>2018-01-14</td>\n",
       "      <td>6112919</td>\n",
       "      <td>51</td>\n",
       "      <td>4957</td>\n",
       "      <td>68636</td>\n",
       "      <td>68636</td>\n",
       "      <td>68737</td>\n",
       "      <td>68737</td>\n",
       "      <td>41</td>\n",
       "      <td>1</td>\n",
       "      <td>41_3</td>\n",
       "    </tr>\n",
       "    <tr>\n",
       "      <th>10293070</th>\n",
       "      <td>2018-01-31</td>\n",
       "      <td>6231183</td>\n",
       "      <td>51</td>\n",
       "      <td>4957</td>\n",
       "      <td>47131</td>\n",
       "      <td>47131</td>\n",
       "      <td>47595</td>\n",
       "      <td>47595</td>\n",
       "      <td>41</td>\n",
       "      <td>1</td>\n",
       "      <td>41_3</td>\n",
       "    </tr>\n",
       "    <tr>\n",
       "      <th>9438985</th>\n",
       "      <td>2018-01-29</td>\n",
       "      <td>6245143</td>\n",
       "      <td>51</td>\n",
       "      <td>4957</td>\n",
       "      <td>31490</td>\n",
       "      <td>31490</td>\n",
       "      <td>31762</td>\n",
       "      <td>31762</td>\n",
       "      <td>41</td>\n",
       "      <td>1</td>\n",
       "      <td>41_3</td>\n",
       "    </tr>\n",
       "    <tr>\n",
       "      <th>4400804</th>\n",
       "      <td>2018-01-14</td>\n",
       "      <td>6109174</td>\n",
       "      <td>51</td>\n",
       "      <td>4957</td>\n",
       "      <td>26496</td>\n",
       "      <td>26496</td>\n",
       "      <td>26293</td>\n",
       "      <td>26293</td>\n",
       "      <td>41</td>\n",
       "      <td>1</td>\n",
       "      <td>41_3</td>\n",
       "    </tr>\n",
       "    <tr>\n",
       "      <th>10512735</th>\n",
       "      <td>2018-01-31</td>\n",
       "      <td>6240440</td>\n",
       "      <td>51</td>\n",
       "      <td>4957</td>\n",
       "      <td>84336</td>\n",
       "      <td>84336</td>\n",
       "      <td>84129</td>\n",
       "      <td>84129</td>\n",
       "      <td>41</td>\n",
       "      <td>1</td>\n",
       "      <td>41_3</td>\n",
       "    </tr>\n",
       "  </tbody>\n",
       "</table>\n",
       "<p>71010 rows × 11 columns</p>\n",
       "</div>"
      ],
      "text/plain": [
       "         DAYOFSERVICE   TRIPID  PROGRNUMBER  STOPPOINTID  PLANNEDTIME_ARR  \\\n",
       "7383709    2018-01-23  6216050            1          288            21600   \n",
       "8807333    2018-01-26  6212621            1          288            66300   \n",
       "4983921    2018-01-16  6115930            1          288            19800   \n",
       "2931133    2018-01-09  6098110            1          288            76500   \n",
       "1783885    2018-01-06  5972065            1          288            38400   \n",
       "...               ...      ...          ...          ...              ...   \n",
       "4535257    2018-01-14  6112919           51         4957            68636   \n",
       "10293070   2018-01-31  6231183           51         4957            47131   \n",
       "9438985    2018-01-29  6245143           51         4957            31490   \n",
       "4400804    2018-01-14  6109174           51         4957            26496   \n",
       "10512735   2018-01-31  6240440           51         4957            84336   \n",
       "\n",
       "          PLANNEDTIME_DEP  ACTUALTIME_ARR  ACTUALTIME_DEP LINEID  DIRECTION  \\\n",
       "7383709             21600           21581           21581     41          1   \n",
       "8807333             66300           66514           66514     41          1   \n",
       "4983921             19800           19783           19783     41          1   \n",
       "2931133             76500           76500           76500     41          1   \n",
       "1783885             38400           38357           38357     41          1   \n",
       "...                   ...             ...             ...    ...        ...   \n",
       "4535257             68636           68737           68737     41          1   \n",
       "10293070            47131           47595           47595     41          1   \n",
       "9438985             31490           31762           31762     41          1   \n",
       "4400804             26496           26293           26293     41          1   \n",
       "10512735            84336           84129           84129     41          1   \n",
       "\n",
       "         ROUTEID  \n",
       "7383709     41_3  \n",
       "8807333     41_3  \n",
       "4983921     41_3  \n",
       "2931133     41_3  \n",
       "1783885     41_3  \n",
       "...          ...  \n",
       "4535257     41_3  \n",
       "10293070    41_3  \n",
       "9438985     41_3  \n",
       "4400804     41_3  \n",
       "10512735    41_3  \n",
       "\n",
       "[71010 rows x 11 columns]"
      ]
     },
     "execution_count": 51,
     "metadata": {},
     "output_type": "execute_result"
    }
   ],
   "source": [
    "df_41_3"
   ]
  },
  {
   "cell_type": "markdown",
   "metadata": {},
   "source": [
    "#### Take unique values into dictionary"
   ]
  },
  {
   "cell_type": "code",
   "execution_count": 52,
   "metadata": {
    "scrolled": false
   },
   "outputs": [],
   "source": [
    "uniques = {}\n",
    "for col in df_41_3.columns:\n",
    "    uniques[col] = df_41_3[col].unique()"
   ]
  },
  {
   "cell_type": "code",
   "execution_count": 53,
   "metadata": {
    "scrolled": false
   },
   "outputs": [
    {
     "data": {
      "text/plain": [
       "array(['41_3'], dtype=object)"
      ]
     },
     "execution_count": 53,
     "metadata": {},
     "output_type": "execute_result"
    }
   ],
   "source": [
    "uniques['ROUTEID']"
   ]
  },
  {
   "cell_type": "markdown",
   "metadata": {},
   "source": [
    "####  View DAYOFSERVICE  when ROUTE 41_3 was served"
   ]
  },
  {
   "cell_type": "code",
   "execution_count": 54,
   "metadata": {
    "scrolled": true
   },
   "outputs": [],
   "source": [
    "DAYOFSERVICE_43_3 = list(uniques['DAYOFSERVICE'])"
   ]
  },
  {
   "cell_type": "code",
   "execution_count": 55,
   "metadata": {},
   "outputs": [
    {
     "data": {
      "text/plain": [
       "[numpy.datetime64('2018-01-23T00:00:00.000000000'),\n",
       " numpy.datetime64('2018-01-26T00:00:00.000000000'),\n",
       " numpy.datetime64('2018-01-16T00:00:00.000000000'),\n",
       " numpy.datetime64('2018-01-09T00:00:00.000000000'),\n",
       " numpy.datetime64('2018-01-06T00:00:00.000000000')]"
      ]
     },
     "execution_count": 55,
     "metadata": {},
     "output_type": "execute_result"
    }
   ],
   "source": [
    "DAYOFSERVICE_43_3[:5]"
   ]
  },
  {
   "cell_type": "markdown",
   "metadata": {},
   "source": [
    "####  View TRIPIDs used to serve ROUTE 41_3"
   ]
  },
  {
   "cell_type": "code",
   "execution_count": 56,
   "metadata": {
    "scrolled": true
   },
   "outputs": [],
   "source": [
    "TRIPID_43_3 = list(uniques['TRIPID'])"
   ]
  },
  {
   "cell_type": "code",
   "execution_count": 57,
   "metadata": {},
   "outputs": [
    {
     "data": {
      "text/plain": [
       "[6216050, 6212621, 6115930, 6098110, 5972065]"
      ]
     },
     "execution_count": 57,
     "metadata": {},
     "output_type": "execute_result"
    }
   ],
   "source": [
    "TRIPID_43_3[:5]"
   ]
  },
  {
   "cell_type": "markdown",
   "metadata": {},
   "source": [
    "#### Make dictionary of STOPPOINTIDs visited during each of the TRIP on Route 41_3"
   ]
  },
  {
   "cell_type": "code",
   "execution_count": 58,
   "metadata": {},
   "outputs": [
    {
     "name": "stdout",
     "output_type": "stream",
     "text": [
      "Examples of Visited stoppoints DAYOFSERVICE  TRIPID \n",
      "2018-01-01    5955626    {15, 17, 18, 1171, 1172, 1173, 1174, 1175, 19,...\n",
      "              5955630    {15, 17, 18, 1171, 1172, 1173, 1174, 1175, 19,...\n",
      "              5955634    {15, 17, 18, 1171, 1172, 1173, 1174, 1175, 19,...\n",
      "              5955636    {15, 17, 18, 1171, 1172, 1173, 1174, 1175, 19,...\n",
      "              5957237    {15, 17, 18, 1171, 1172, 1173, 1174, 1175, 19,...\n",
      "                                               ...                        \n",
      "2018-01-03    5964154    {15, 17, 18, 1171, 1172, 1173, 1174, 1175, 19,...\n",
      "              5964190    {15, 17, 18, 1171, 1172, 1173, 1174, 1175, 19,...\n",
      "              5964193    {15, 17, 18, 1171, 1172, 1173, 1174, 1175, 19,...\n",
      "              5964207    {15, 17, 18, 1171, 1172, 1173, 1174, 1175, 19,...\n",
      "              5964586    {15, 17, 18, 1171, 1172, 1173, 1174, 1175, 19,...\n",
      "Name: STOPPOINTID, Length: 100, dtype: object\n",
      "\n",
      "All stops visited in a trip for a single ROUTE 41_3 are the same:  False\n"
     ]
    }
   ],
   "source": [
    "STOPS_trips_43_3 = {}\n",
    "trip_dayOfService_41_3 = df_41_3.reset_index(drop=True).groupby(['DAYOFSERVICE','TRIPID'])['STOPPOINTID'].apply(set)\n",
    "print(\"Examples of Visited stoppoints\",trip_dayOfService_41_3[:100])\n",
    "\n",
    "LIST_trip_dayOfService_41_3 =  list(trip_dayOfService_41_3 )\n",
    "\n",
    "print(\"\\nAll stops visited in a trip for a single ROUTE 41_3 are the same: \", (LIST_trip_dayOfService_41_3[1:] == LIST_trip_dayOfService_41_3[:-1]))"
   ]
  },
  {
   "cell_type": "markdown",
   "metadata": {},
   "source": [
    "**OBSERVATIONS FROM ABOVE SETS**<BR>\n",
    "* **FOR A SINGLE ROUTE; STOPS VISITED DURING DIFFERENT TRIPS ARE DIFEENRENT**"
   ]
  },
  {
   "cell_type": "markdown",
   "metadata": {},
   "source": [
    "## Check nature of Arrival and departure times\n",
    "* [Documentation on Dublin Bus data](https://brightspace.ucd.ie/d2l/le/content/54595/viewContent/922112/View) defines \n",
    "    * PlannedTime_Arr : Planned arrival time at the stop point, in seconds \n",
    "    * PlannedTime_Dep: Planned departure time from the stop point, in seconds\n",
    "    * ActualTime_Arr: Actual arrival time at the stop point, in seconds\n",
    "    * ActualTime_Dep: Actual departure time from the stop point, in seconds\n",
    "* **Value in seconds** is **offset in seconds from 00:00:00 for particular date**\n",
    "\n",
    "**EXTENDED TIMES**<br>\n",
    "* FOR LATE NIGHT TRIPS WHICH TECHNICALLY SPAN OVER 2 DAYS; **EXTENDED TIMES** ARE USED<br>\n",
    "For example a trip starting at 23:30 of 1st ofApril and ending at 00:30 of the 2nd of April could have the last AVL data tracked at “24:30of 1st of April”. To express this “extended time” the interface requires the use of secondspast the beginning of the operation day. In our example the DayOfService is “01/04/2014”and the extended time is “88200” (= 24*60*60 + 30*6)"
   ]
  },
  {
   "cell_type": "code",
   "execution_count": 103,
   "metadata": {},
   "outputs": [],
   "source": [
    "import pandas as pd"
   ]
  },
  {
   "cell_type": "code",
   "execution_count": 104,
   "metadata": {},
   "outputs": [],
   "source": [
    "df_Jan_trips = pd.read_csv(\"../DB/ML/Jan_trips_MERGED.csv\")"
   ]
  },
  {
   "cell_type": "code",
   "execution_count": 105,
   "metadata": {},
   "outputs": [],
   "source": [
    "df_Jan_trips['DAYOFSERVICE'] = pd.to_datetime(df_Jan_trips['DAYOFSERVICE'])\n",
    "df_Jan_trips['TRIPID'] = pd.to_numeric(df_Jan_trips['TRIPID'], downcast='integer', errors='coerce')\n",
    "df_Jan_trips['PROGRNUMBER'] = pd.to_numeric(df_Jan_trips['PROGRNUMBER'], downcast='integer', errors='coerce')\n",
    "df_Jan_trips['STOPPOINTID'] = pd.to_numeric(df_Jan_trips['STOPPOINTID'], downcast='integer', errors='coerce')\n",
    "df_Jan_trips['PLANNEDTIME_ARR'] = pd.to_numeric(df_Jan_trips['PLANNEDTIME_ARR'], downcast='integer', errors='coerce')\n",
    "df_Jan_trips['PLANNEDTIME_DEP'] = pd.to_numeric(df_Jan_trips['PLANNEDTIME_DEP'], downcast='integer', errors='coerce')\n",
    "df_Jan_trips['ACTUALTIME_ARR'] = pd.to_numeric(df_Jan_trips['ACTUALTIME_ARR'], downcast='integer', errors='coerce')\n",
    "df_Jan_trips['ACTUALTIME_DEP'] = pd.to_numeric(df_Jan_trips['ACTUALTIME_DEP'], downcast='integer', errors='coerce')\n",
    "df_Jan_trips['LINEID'] = df_Jan_trips['LINEID'].astype('str')\n",
    "df_Jan_trips['ROUTEID'] = df_Jan_trips['ROUTEID'].astype('str')\n",
    "df_Jan_trips['DIRECTION'] = pd.to_numeric(df_Jan_trips['DIRECTION'], downcast='integer', errors='coerce')"
   ]
  },
  {
   "cell_type": "code",
   "execution_count": 106,
   "metadata": {
    "scrolled": true
   },
   "outputs": [
    {
     "data": {
      "text/html": [
       "<div>\n",
       "<style scoped>\n",
       "    .dataframe tbody tr th:only-of-type {\n",
       "        vertical-align: middle;\n",
       "    }\n",
       "\n",
       "    .dataframe tbody tr th {\n",
       "        vertical-align: top;\n",
       "    }\n",
       "\n",
       "    .dataframe thead th {\n",
       "        text-align: right;\n",
       "    }\n",
       "</style>\n",
       "<table border=\"1\" class=\"dataframe\">\n",
       "  <thead>\n",
       "    <tr style=\"text-align: right;\">\n",
       "      <th></th>\n",
       "      <th>DAYOFSERVICE</th>\n",
       "      <th>TRIPID</th>\n",
       "      <th>PROGRNUMBER</th>\n",
       "      <th>STOPPOINTID</th>\n",
       "      <th>PLANNEDTIME_ARR</th>\n",
       "      <th>PLANNEDTIME_DEP</th>\n",
       "      <th>ACTUALTIME_ARR</th>\n",
       "      <th>ACTUALTIME_DEP</th>\n",
       "      <th>LINEID</th>\n",
       "      <th>DIRECTION</th>\n",
       "      <th>ROUTEID</th>\n",
       "    </tr>\n",
       "  </thead>\n",
       "  <tbody>\n",
       "    <tr>\n",
       "      <th>0</th>\n",
       "      <td>2018-01-01</td>\n",
       "      <td>5958355</td>\n",
       "      <td>3</td>\n",
       "      <td>1172</td>\n",
       "      <td>23799</td>\n",
       "      <td>23799</td>\n",
       "      <td>23863</td>\n",
       "      <td>23863</td>\n",
       "      <td>41</td>\n",
       "      <td>1</td>\n",
       "      <td>41_3</td>\n",
       "    </tr>\n",
       "    <tr>\n",
       "      <th>1</th>\n",
       "      <td>2018-01-01</td>\n",
       "      <td>5958355</td>\n",
       "      <td>4</td>\n",
       "      <td>1173</td>\n",
       "      <td>23860</td>\n",
       "      <td>23860</td>\n",
       "      <td>23934</td>\n",
       "      <td>24072</td>\n",
       "      <td>41</td>\n",
       "      <td>1</td>\n",
       "      <td>41_3</td>\n",
       "    </tr>\n",
       "    <tr>\n",
       "      <th>2</th>\n",
       "      <td>2018-01-01</td>\n",
       "      <td>5958355</td>\n",
       "      <td>5</td>\n",
       "      <td>1174</td>\n",
       "      <td>23937</td>\n",
       "      <td>23937</td>\n",
       "      <td>24114</td>\n",
       "      <td>24140</td>\n",
       "      <td>41</td>\n",
       "      <td>1</td>\n",
       "      <td>41_3</td>\n",
       "    </tr>\n",
       "    <tr>\n",
       "      <th>3</th>\n",
       "      <td>2018-01-01</td>\n",
       "      <td>5958355</td>\n",
       "      <td>6</td>\n",
       "      <td>1175</td>\n",
       "      <td>24048</td>\n",
       "      <td>24048</td>\n",
       "      <td>24180</td>\n",
       "      <td>24192</td>\n",
       "      <td>41</td>\n",
       "      <td>1</td>\n",
       "      <td>41_3</td>\n",
       "    </tr>\n",
       "    <tr>\n",
       "      <th>4</th>\n",
       "      <td>2018-01-01</td>\n",
       "      <td>5958355</td>\n",
       "      <td>7</td>\n",
       "      <td>15</td>\n",
       "      <td>24130</td>\n",
       "      <td>24130</td>\n",
       "      <td>24227</td>\n",
       "      <td>24257</td>\n",
       "      <td>41</td>\n",
       "      <td>1</td>\n",
       "      <td>41_3</td>\n",
       "    </tr>\n",
       "  </tbody>\n",
       "</table>\n",
       "</div>"
      ],
      "text/plain": [
       "  DAYOFSERVICE   TRIPID  PROGRNUMBER  STOPPOINTID  PLANNEDTIME_ARR  \\\n",
       "0   2018-01-01  5958355            3         1172            23799   \n",
       "1   2018-01-01  5958355            4         1173            23860   \n",
       "2   2018-01-01  5958355            5         1174            23937   \n",
       "3   2018-01-01  5958355            6         1175            24048   \n",
       "4   2018-01-01  5958355            7           15            24130   \n",
       "\n",
       "   PLANNEDTIME_DEP  ACTUALTIME_ARR  ACTUALTIME_DEP LINEID  DIRECTION ROUTEID  \n",
       "0            23799           23863           23863     41          1    41_3  \n",
       "1            23860           23934           24072     41          1    41_3  \n",
       "2            23937           24114           24140     41          1    41_3  \n",
       "3            24048           24180           24192     41          1    41_3  \n",
       "4            24130           24227           24257     41          1    41_3  "
      ]
     },
     "execution_count": 106,
     "metadata": {},
     "output_type": "execute_result"
    }
   ],
   "source": [
    "df_Jan_trips.head()"
   ]
  },
  {
   "cell_type": "code",
   "execution_count": 107,
   "metadata": {
    "scrolled": true
   },
   "outputs": [
    {
     "name": "stdout",
     "output_type": "stream",
     "text": [
      "<class 'pandas.core.frame.DataFrame'>\n",
      "RangeIndex: 10525004 entries, 0 to 10525003\n",
      "Data columns (total 11 columns):\n",
      " #   Column           Non-Null Count     Dtype         \n",
      "---  ------           --------------     -----         \n",
      " 0   DAYOFSERVICE     10525004 non-null  datetime64[ns]\n",
      " 1   TRIPID           10525004 non-null  int32         \n",
      " 2   PROGRNUMBER      10525004 non-null  int8          \n",
      " 3   STOPPOINTID      10525004 non-null  int16         \n",
      " 4   PLANNEDTIME_ARR  10525004 non-null  int32         \n",
      " 5   PLANNEDTIME_DEP  10525004 non-null  int32         \n",
      " 6   ACTUALTIME_ARR   10525004 non-null  int32         \n",
      " 7   ACTUALTIME_DEP   10525004 non-null  int32         \n",
      " 8   LINEID           10525004 non-null  object        \n",
      " 9   DIRECTION        10525004 non-null  int8          \n",
      " 10  ROUTEID          10525004 non-null  object        \n",
      "dtypes: datetime64[ns](1), int16(1), int32(5), int8(2), object(2)\n",
      "memory usage: 481.8+ MB\n"
     ]
    }
   ],
   "source": [
    "df_Jan_trips.info(null_counts=True)"
   ]
  },
  {
   "cell_type": "markdown",
   "metadata": {},
   "source": [
    "### Check Entries containing Exteded Time\n",
    "**All TIME feature entries greater than “86400” (=24*60*60) are extended time entries**"
   ]
  },
  {
   "cell_type": "code",
   "execution_count": 108,
   "metadata": {},
   "outputs": [
    {
     "data": {
      "text/html": [
       "<div>\n",
       "<style scoped>\n",
       "    .dataframe tbody tr th:only-of-type {\n",
       "        vertical-align: middle;\n",
       "    }\n",
       "\n",
       "    .dataframe tbody tr th {\n",
       "        vertical-align: top;\n",
       "    }\n",
       "\n",
       "    .dataframe thead th {\n",
       "        text-align: right;\n",
       "    }\n",
       "</style>\n",
       "<table border=\"1\" class=\"dataframe\">\n",
       "  <thead>\n",
       "    <tr style=\"text-align: right;\">\n",
       "      <th></th>\n",
       "      <th>DAYOFSERVICE</th>\n",
       "      <th>TRIPID</th>\n",
       "      <th>PROGRNUMBER</th>\n",
       "      <th>STOPPOINTID</th>\n",
       "      <th>PLANNEDTIME_ARR</th>\n",
       "      <th>PLANNEDTIME_DEP</th>\n",
       "      <th>ACTUALTIME_ARR</th>\n",
       "      <th>ACTUALTIME_DEP</th>\n",
       "      <th>LINEID</th>\n",
       "      <th>DIRECTION</th>\n",
       "      <th>ROUTEID</th>\n",
       "    </tr>\n",
       "  </thead>\n",
       "  <tbody>\n",
       "    <tr>\n",
       "      <th>191603</th>\n",
       "      <td>2018-01-01</td>\n",
       "      <td>5960398</td>\n",
       "      <td>83</td>\n",
       "      <td>1280</td>\n",
       "      <td>86202</td>\n",
       "      <td>86202</td>\n",
       "      <td>86443</td>\n",
       "      <td>86443</td>\n",
       "      <td>40</td>\n",
       "      <td>2</td>\n",
       "      <td>40_31</td>\n",
       "    </tr>\n",
       "    <tr>\n",
       "      <th>191604</th>\n",
       "      <td>2018-01-01</td>\n",
       "      <td>5960398</td>\n",
       "      <td>84</td>\n",
       "      <td>6348</td>\n",
       "      <td>86257</td>\n",
       "      <td>86257</td>\n",
       "      <td>86565</td>\n",
       "      <td>86565</td>\n",
       "      <td>40</td>\n",
       "      <td>2</td>\n",
       "      <td>40_31</td>\n",
       "    </tr>\n",
       "    <tr>\n",
       "      <th>191846</th>\n",
       "      <td>2018-01-01</td>\n",
       "      <td>5961860</td>\n",
       "      <td>71</td>\n",
       "      <td>2601</td>\n",
       "      <td>85882</td>\n",
       "      <td>85882</td>\n",
       "      <td>86439</td>\n",
       "      <td>86439</td>\n",
       "      <td>27</td>\n",
       "      <td>1</td>\n",
       "      <td>27_19</td>\n",
       "    </tr>\n",
       "    <tr>\n",
       "      <th>191847</th>\n",
       "      <td>2018-01-01</td>\n",
       "      <td>5961860</td>\n",
       "      <td>72</td>\n",
       "      <td>4446</td>\n",
       "      <td>85931</td>\n",
       "      <td>85931</td>\n",
       "      <td>86471</td>\n",
       "      <td>86471</td>\n",
       "      <td>27</td>\n",
       "      <td>1</td>\n",
       "      <td>27_19</td>\n",
       "    </tr>\n",
       "    <tr>\n",
       "      <th>191848</th>\n",
       "      <td>2018-01-01</td>\n",
       "      <td>5961860</td>\n",
       "      <td>73</td>\n",
       "      <td>2603</td>\n",
       "      <td>86002</td>\n",
       "      <td>86002</td>\n",
       "      <td>86513</td>\n",
       "      <td>86522</td>\n",
       "      <td>27</td>\n",
       "      <td>1</td>\n",
       "      <td>27_19</td>\n",
       "    </tr>\n",
       "  </tbody>\n",
       "</table>\n",
       "</div>"
      ],
      "text/plain": [
       "       DAYOFSERVICE   TRIPID  PROGRNUMBER  STOPPOINTID  PLANNEDTIME_ARR  \\\n",
       "191603   2018-01-01  5960398           83         1280            86202   \n",
       "191604   2018-01-01  5960398           84         6348            86257   \n",
       "191846   2018-01-01  5961860           71         2601            85882   \n",
       "191847   2018-01-01  5961860           72         4446            85931   \n",
       "191848   2018-01-01  5961860           73         2603            86002   \n",
       "\n",
       "        PLANNEDTIME_DEP  ACTUALTIME_ARR  ACTUALTIME_DEP LINEID  DIRECTION  \\\n",
       "191603            86202           86443           86443     40          2   \n",
       "191604            86257           86565           86565     40          2   \n",
       "191846            85882           86439           86439     27          1   \n",
       "191847            85931           86471           86471     27          1   \n",
       "191848            86002           86513           86522     27          1   \n",
       "\n",
       "       ROUTEID  \n",
       "191603   40_31  \n",
       "191604   40_31  \n",
       "191846   27_19  \n",
       "191847   27_19  \n",
       "191848   27_19  "
      ]
     },
     "execution_count": 108,
     "metadata": {},
     "output_type": "execute_result"
    }
   ],
   "source": [
    "df_Jan_trips_extendedTime = df_Jan_trips.loc[(df_Jan_trips['PLANNEDTIME_ARR'] > 86400) |\n",
    "                                             (df_Jan_trips['PLANNEDTIME_DEP'] > 86400) |\n",
    "                                             (df_Jan_trips['ACTUALTIME_ARR'] > 86400) |\n",
    "                                             (df_Jan_trips['ACTUALTIME_DEP'] > 86400)\n",
    "                                            ]\n",
    "df_Jan_trips_extendedTime.head()"
   ]
  },
  {
   "cell_type": "code",
   "execution_count": 128,
   "metadata": {
    "scrolled": true
   },
   "outputs": [
    {
     "data": {
      "text/plain": [
       "(42355, 11)"
      ]
     },
     "execution_count": 128,
     "metadata": {},
     "output_type": "execute_result"
    }
   ],
   "source": [
    "df_Jan_trips_extendedTime.shape"
   ]
  },
  {
   "cell_type": "code",
   "execution_count": 110,
   "metadata": {
    "scrolled": true
   },
   "outputs": [
    {
     "data": {
      "text/plain": [
       "DAYOFSERVICE         31\n",
       "TRIPID             1322\n",
       "PROGRNUMBER         102\n",
       "STOPPOINTID        1870\n",
       "PLANNEDTIME_ARR    3202\n",
       "PLANNEDTIME_DEP    3202\n",
       "ACTUALTIME_ARR     4549\n",
       "ACTUALTIME_DEP     4519\n",
       "LINEID               71\n",
       "DIRECTION             2\n",
       "ROUTEID             150\n",
       "dtype: int64"
      ]
     },
     "execution_count": 110,
     "metadata": {},
     "output_type": "execute_result"
    }
   ],
   "source": [
    "df_Jan_trips_extendedTime.nunique()"
   ]
  },
  {
   "cell_type": "markdown",
   "metadata": {},
   "source": [
    "### Check Entries where all TIME features are in extended format "
   ]
  },
  {
   "cell_type": "code",
   "execution_count": 111,
   "metadata": {},
   "outputs": [
    {
     "data": {
      "text/html": [
       "<div>\n",
       "<style scoped>\n",
       "    .dataframe tbody tr th:only-of-type {\n",
       "        vertical-align: middle;\n",
       "    }\n",
       "\n",
       "    .dataframe tbody tr th {\n",
       "        vertical-align: top;\n",
       "    }\n",
       "\n",
       "    .dataframe thead th {\n",
       "        text-align: right;\n",
       "    }\n",
       "</style>\n",
       "<table border=\"1\" class=\"dataframe\">\n",
       "  <thead>\n",
       "    <tr style=\"text-align: right;\">\n",
       "      <th></th>\n",
       "      <th>DAYOFSERVICE</th>\n",
       "      <th>TRIPID</th>\n",
       "      <th>PROGRNUMBER</th>\n",
       "      <th>STOPPOINTID</th>\n",
       "      <th>PLANNEDTIME_ARR</th>\n",
       "      <th>PLANNEDTIME_DEP</th>\n",
       "      <th>ACTUALTIME_ARR</th>\n",
       "      <th>ACTUALTIME_DEP</th>\n",
       "      <th>LINEID</th>\n",
       "      <th>DIRECTION</th>\n",
       "      <th>ROUTEID</th>\n",
       "    </tr>\n",
       "  </thead>\n",
       "  <tbody>\n",
       "    <tr>\n",
       "      <th>191856</th>\n",
       "      <td>2018-01-01</td>\n",
       "      <td>5961860</td>\n",
       "      <td>81</td>\n",
       "      <td>2621</td>\n",
       "      <td>86450</td>\n",
       "      <td>86450</td>\n",
       "      <td>87023</td>\n",
       "      <td>87036</td>\n",
       "      <td>27</td>\n",
       "      <td>1</td>\n",
       "      <td>27_19</td>\n",
       "    </tr>\n",
       "    <tr>\n",
       "      <th>191857</th>\n",
       "      <td>2018-01-01</td>\n",
       "      <td>5961860</td>\n",
       "      <td>82</td>\n",
       "      <td>2622</td>\n",
       "      <td>86481</td>\n",
       "      <td>86481</td>\n",
       "      <td>87081</td>\n",
       "      <td>87081</td>\n",
       "      <td>27</td>\n",
       "      <td>1</td>\n",
       "      <td>27_19</td>\n",
       "    </tr>\n",
       "    <tr>\n",
       "      <th>191858</th>\n",
       "      <td>2018-01-01</td>\n",
       "      <td>5961860</td>\n",
       "      <td>83</td>\n",
       "      <td>2623</td>\n",
       "      <td>86509</td>\n",
       "      <td>86509</td>\n",
       "      <td>87106</td>\n",
       "      <td>87121</td>\n",
       "      <td>27</td>\n",
       "      <td>1</td>\n",
       "      <td>27_19</td>\n",
       "    </tr>\n",
       "    <tr>\n",
       "      <th>191859</th>\n",
       "      <td>2018-01-01</td>\n",
       "      <td>5961860</td>\n",
       "      <td>84</td>\n",
       "      <td>2624</td>\n",
       "      <td>86567</td>\n",
       "      <td>86567</td>\n",
       "      <td>87163</td>\n",
       "      <td>87163</td>\n",
       "      <td>27</td>\n",
       "      <td>1</td>\n",
       "      <td>27_19</td>\n",
       "    </tr>\n",
       "    <tr>\n",
       "      <th>191860</th>\n",
       "      <td>2018-01-01</td>\n",
       "      <td>5961860</td>\n",
       "      <td>85</td>\n",
       "      <td>4441</td>\n",
       "      <td>86610</td>\n",
       "      <td>86610</td>\n",
       "      <td>87199</td>\n",
       "      <td>87207</td>\n",
       "      <td>27</td>\n",
       "      <td>1</td>\n",
       "      <td>27_19</td>\n",
       "    </tr>\n",
       "  </tbody>\n",
       "</table>\n",
       "</div>"
      ],
      "text/plain": [
       "       DAYOFSERVICE   TRIPID  PROGRNUMBER  STOPPOINTID  PLANNEDTIME_ARR  \\\n",
       "191856   2018-01-01  5961860           81         2621            86450   \n",
       "191857   2018-01-01  5961860           82         2622            86481   \n",
       "191858   2018-01-01  5961860           83         2623            86509   \n",
       "191859   2018-01-01  5961860           84         2624            86567   \n",
       "191860   2018-01-01  5961860           85         4441            86610   \n",
       "\n",
       "        PLANNEDTIME_DEP  ACTUALTIME_ARR  ACTUALTIME_DEP LINEID  DIRECTION  \\\n",
       "191856            86450           87023           87036     27          1   \n",
       "191857            86481           87081           87081     27          1   \n",
       "191858            86509           87106           87121     27          1   \n",
       "191859            86567           87163           87163     27          1   \n",
       "191860            86610           87199           87207     27          1   \n",
       "\n",
       "       ROUTEID  \n",
       "191856   27_19  \n",
       "191857   27_19  \n",
       "191858   27_19  \n",
       "191859   27_19  \n",
       "191860   27_19  "
      ]
     },
     "execution_count": 111,
     "metadata": {},
     "output_type": "execute_result"
    }
   ],
   "source": [
    "df_Jan_trips_extendedTime_all = df_Jan_trips.loc[(df_Jan_trips['PLANNEDTIME_ARR'] > 86400) &\n",
    "                                             (df_Jan_trips['PLANNEDTIME_DEP'] > 86400) &\n",
    "                                             (df_Jan_trips['ACTUALTIME_ARR'] > 86400) &\n",
    "                                             (df_Jan_trips['ACTUALTIME_DEP'] > 86400)\n",
    "                                            ]\n",
    "df_Jan_trips_extendedTime_all.head()"
   ]
  },
  {
   "cell_type": "code",
   "execution_count": 127,
   "metadata": {
    "scrolled": true
   },
   "outputs": [
    {
     "data": {
      "text/plain": [
       "(28338, 11)"
      ]
     },
     "execution_count": 127,
     "metadata": {},
     "output_type": "execute_result"
    }
   ],
   "source": [
    "df_Jan_trips_extendedTime_all.shape"
   ]
  },
  {
   "cell_type": "code",
   "execution_count": 129,
   "metadata": {
    "scrolled": true
   },
   "outputs": [
    {
     "data": {
      "text/plain": [
       "DAYOFSERVICE         31\n",
       "TRIPID              937\n",
       "PROGRNUMBER         102\n",
       "STOPPOINTID        1337\n",
       "PLANNEDTIME_ARR    2269\n",
       "PLANNEDTIME_DEP    2269\n",
       "ACTUALTIME_ARR     3569\n",
       "ACTUALTIME_DEP     3551\n",
       "LINEID               61\n",
       "DIRECTION             2\n",
       "ROUTEID             111\n",
       "dtype: int64"
      ]
     },
     "execution_count": 129,
     "metadata": {},
     "output_type": "execute_result"
    }
   ],
   "source": [
    "df_Jan_trips_extendedTime_all.nunique()"
   ]
  },
  {
   "cell_type": "markdown",
   "metadata": {},
   "source": [
    "### Entries where few of the TIME features is in Extended Time but not all"
   ]
  },
  {
   "cell_type": "code",
   "execution_count": 122,
   "metadata": {},
   "outputs": [],
   "source": [
    "df_Jan_trips_extendedTime_few = df_Jan_trips_extendedTime[~ df_Jan_trips_extendedTime.isin(df_Jan_trips_extendedTime_all)].dropna()"
   ]
  },
  {
   "cell_type": "code",
   "execution_count": 125,
   "metadata": {},
   "outputs": [
    {
     "data": {
      "text/html": [
       "<div>\n",
       "<style scoped>\n",
       "    .dataframe tbody tr th:only-of-type {\n",
       "        vertical-align: middle;\n",
       "    }\n",
       "\n",
       "    .dataframe tbody tr th {\n",
       "        vertical-align: top;\n",
       "    }\n",
       "\n",
       "    .dataframe thead th {\n",
       "        text-align: right;\n",
       "    }\n",
       "</style>\n",
       "<table border=\"1\" class=\"dataframe\">\n",
       "  <thead>\n",
       "    <tr style=\"text-align: right;\">\n",
       "      <th></th>\n",
       "      <th>DAYOFSERVICE</th>\n",
       "      <th>TRIPID</th>\n",
       "      <th>PROGRNUMBER</th>\n",
       "      <th>STOPPOINTID</th>\n",
       "      <th>PLANNEDTIME_ARR</th>\n",
       "      <th>PLANNEDTIME_DEP</th>\n",
       "      <th>ACTUALTIME_ARR</th>\n",
       "      <th>ACTUALTIME_DEP</th>\n",
       "      <th>LINEID</th>\n",
       "      <th>DIRECTION</th>\n",
       "      <th>ROUTEID</th>\n",
       "    </tr>\n",
       "  </thead>\n",
       "  <tbody>\n",
       "    <tr>\n",
       "      <th>191603</th>\n",
       "      <td>2018-01-01</td>\n",
       "      <td>5960398.0</td>\n",
       "      <td>83.0</td>\n",
       "      <td>1280.0</td>\n",
       "      <td>86202.0</td>\n",
       "      <td>86202.0</td>\n",
       "      <td>86443.0</td>\n",
       "      <td>86443.0</td>\n",
       "      <td>40</td>\n",
       "      <td>2.0</td>\n",
       "      <td>40_31</td>\n",
       "    </tr>\n",
       "    <tr>\n",
       "      <th>191604</th>\n",
       "      <td>2018-01-01</td>\n",
       "      <td>5960398.0</td>\n",
       "      <td>84.0</td>\n",
       "      <td>6348.0</td>\n",
       "      <td>86257.0</td>\n",
       "      <td>86257.0</td>\n",
       "      <td>86565.0</td>\n",
       "      <td>86565.0</td>\n",
       "      <td>40</td>\n",
       "      <td>2.0</td>\n",
       "      <td>40_31</td>\n",
       "    </tr>\n",
       "    <tr>\n",
       "      <th>191846</th>\n",
       "      <td>2018-01-01</td>\n",
       "      <td>5961860.0</td>\n",
       "      <td>71.0</td>\n",
       "      <td>2601.0</td>\n",
       "      <td>85882.0</td>\n",
       "      <td>85882.0</td>\n",
       "      <td>86439.0</td>\n",
       "      <td>86439.0</td>\n",
       "      <td>27</td>\n",
       "      <td>1.0</td>\n",
       "      <td>27_19</td>\n",
       "    </tr>\n",
       "    <tr>\n",
       "      <th>191847</th>\n",
       "      <td>2018-01-01</td>\n",
       "      <td>5961860.0</td>\n",
       "      <td>72.0</td>\n",
       "      <td>4446.0</td>\n",
       "      <td>85931.0</td>\n",
       "      <td>85931.0</td>\n",
       "      <td>86471.0</td>\n",
       "      <td>86471.0</td>\n",
       "      <td>27</td>\n",
       "      <td>1.0</td>\n",
       "      <td>27_19</td>\n",
       "    </tr>\n",
       "    <tr>\n",
       "      <th>191848</th>\n",
       "      <td>2018-01-01</td>\n",
       "      <td>5961860.0</td>\n",
       "      <td>73.0</td>\n",
       "      <td>2603.0</td>\n",
       "      <td>86002.0</td>\n",
       "      <td>86002.0</td>\n",
       "      <td>86513.0</td>\n",
       "      <td>86522.0</td>\n",
       "      <td>27</td>\n",
       "      <td>1.0</td>\n",
       "      <td>27_19</td>\n",
       "    </tr>\n",
       "  </tbody>\n",
       "</table>\n",
       "</div>"
      ],
      "text/plain": [
       "       DAYOFSERVICE     TRIPID  PROGRNUMBER  STOPPOINTID  PLANNEDTIME_ARR  \\\n",
       "191603   2018-01-01  5960398.0         83.0       1280.0          86202.0   \n",
       "191604   2018-01-01  5960398.0         84.0       6348.0          86257.0   \n",
       "191846   2018-01-01  5961860.0         71.0       2601.0          85882.0   \n",
       "191847   2018-01-01  5961860.0         72.0       4446.0          85931.0   \n",
       "191848   2018-01-01  5961860.0         73.0       2603.0          86002.0   \n",
       "\n",
       "        PLANNEDTIME_DEP  ACTUALTIME_ARR  ACTUALTIME_DEP LINEID  DIRECTION  \\\n",
       "191603          86202.0         86443.0         86443.0     40        2.0   \n",
       "191604          86257.0         86565.0         86565.0     40        2.0   \n",
       "191846          85882.0         86439.0         86439.0     27        1.0   \n",
       "191847          85931.0         86471.0         86471.0     27        1.0   \n",
       "191848          86002.0         86513.0         86522.0     27        1.0   \n",
       "\n",
       "       ROUTEID  \n",
       "191603   40_31  \n",
       "191604   40_31  \n",
       "191846   27_19  \n",
       "191847   27_19  \n",
       "191848   27_19  "
      ]
     },
     "execution_count": 125,
     "metadata": {},
     "output_type": "execute_result"
    }
   ],
   "source": [
    "df_Jan_trips_extendedTime_few.head()"
   ]
  },
  {
   "cell_type": "code",
   "execution_count": 130,
   "metadata": {},
   "outputs": [
    {
     "data": {
      "text/plain": [
       "(14017, 11)"
      ]
     },
     "execution_count": 130,
     "metadata": {},
     "output_type": "execute_result"
    }
   ],
   "source": [
    "df_Jan_trips_extendedTime_few.shape"
   ]
  },
  {
   "cell_type": "code",
   "execution_count": 131,
   "metadata": {
    "scrolled": true
   },
   "outputs": [
    {
     "data": {
      "text/plain": [
       "DAYOFSERVICE         31\n",
       "TRIPID             1240\n",
       "PROGRNUMBER          90\n",
       "STOPPOINTID        1548\n",
       "PLANNEDTIME_ARR    1576\n",
       "PLANNEDTIME_DEP    1576\n",
       "ACTUALTIME_ARR     1915\n",
       "ACTUALTIME_DEP     1924\n",
       "LINEID               71\n",
       "DIRECTION             2\n",
       "ROUTEID             150\n",
       "dtype: int64"
      ]
     },
     "execution_count": 131,
     "metadata": {},
     "output_type": "execute_result"
    }
   ],
   "source": [
    "df_Jan_trips_extendedTime_few.nunique()"
   ]
  },
  {
   "cell_type": "code",
   "execution_count": null,
   "metadata": {},
   "outputs": [],
   "source": []
  }
 ],
 "metadata": {
  "kernelspec": {
   "display_name": "envDA",
   "language": "python",
   "name": "envda"
  },
  "language_info": {
   "codemirror_mode": {
    "name": "ipython",
    "version": 3
   },
   "file_extension": ".py",
   "mimetype": "text/x-python",
   "name": "python",
   "nbconvert_exporter": "python",
   "pygments_lexer": "ipython3",
   "version": "3.7.7"
  },
  "toc": {
   "base_numbering": 1,
   "nav_menu": {},
   "number_sections": true,
   "sideBar": true,
   "skip_h1_title": false,
   "title_cell": "Table of Contents",
   "title_sidebar": "Contents",
   "toc_cell": false,
   "toc_position": {},
   "toc_section_display": true,
   "toc_window_display": false
  }
 },
 "nbformat": 4,
 "nbformat_minor": 4
}
