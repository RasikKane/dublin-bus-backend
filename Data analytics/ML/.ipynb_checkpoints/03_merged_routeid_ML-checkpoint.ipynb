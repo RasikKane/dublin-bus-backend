{
 "cells": [
  {
   "cell_type": "markdown",
   "metadata": {},
   "source": [
    "# Regerssors : Model for each route on each direction\n",
    "**Notebook genrates Linear regression models for each bus route on either direction**"
   ]
  },
  {
   "cell_type": "code",
   "execution_count": 30,
   "metadata": {},
   "outputs": [],
   "source": [
    "import numpy as np\n",
    "import pandas as pd\n",
    "import matplotlib.pyplot as plt\n",
    "import seaborn as sns"
   ]
  },
  {
   "cell_type": "code",
   "execution_count": 31,
   "metadata": {},
   "outputs": [],
   "source": [
    "from sklearn.pipeline import make_pipeline\n",
    "from lightgbm import LGBMRegressor\n",
    "from sklearn.preprocessing import OneHotEncoder, StandardScaler \n",
    "from sklearn.compose import ColumnTransformer\n",
    "from sklearn.model_selection import cross_val_predict\n",
    "from sklearn.metrics import roc_auc_score\n",
    "from sklearn.linear_model import LinearRegression \n",
    "from sklearn.ensemble import RandomForestRegressor\n",
    "from sklearn.compose import TransformedTargetRegressor\n",
    "from sklearn import metrics\n",
    "import math\n",
    "\n",
    "# Using sklearn to split data into training and testing sets,train classifier and regressor models \n",
    "from sklearn.model_selection import train_test_split\n",
    "\n",
    "#pickle package saves and loads sklearn models\n",
    "import pickle\n",
    "\n",
    "from warnings import filterwarnings\n",
    "filterwarnings('ignore')"
   ]
  },
  {
   "cell_type": "markdown",
   "metadata": {},
   "source": [
    "## Source of Truth gathered in prior EDA\n",
    "* **TRIPID**\n",
    "    * **TRIPID are shared across days for perticular LINEID on particular ROUTEID**\n",
    "    * For a single TRIPID, only one corresponding LINEID and ROUTEID are present\n",
    "    * TRIPID for inbound and outbound directions are mutually exclusive\n",
    "    * For certein TRIPIDs; PROGNUMBER do not start at 1; which should. It means, some entries are missing.\n",
    "* **LINEID**\n",
    "    * **For a LINEID; ROUTEIDs and TRIPIDs used for DIFFERENT DIRECTION are mutually exclusive**\n",
    "* **ROUTEID**\n",
    "    * A LINEID has multiple ROUTEID \n",
    "    * A LINEID may / may not have trips with both INBOUND-going(1)/OUTBOUND-returning(2) direction \n",
    "    * **THOUGH 2 ROUTES FOR A LINEID ARE HAVING SAME DIRECTION; STOPPOINTIDs VISITED ARE DIFFERENT**\n",
    "    * **FOR A SINGLE ROUTE; STOPS VISITED DURING DIFFERENT TRIPS ARE DIFEENRENT**\n",
    "    * **ROUTEIDs ARE NOT KNOWN TO USER & ROUTEIDs ARE NOT TIMEBOUND i.e. timetable DOES NOT exists to follow a ROUTEID**\n",
    "    * **majority of data for a LINEID is tied with a particular ROUTEID**\n",
    "* **PLANNED ARRIVAL AND DEPARTURE TIMES ARE SAME FOR ALL ENTRIES; HENCE \"PLANNEDTIME_DEP\" CAN BE DROPPED**    "
   ]
  },
  {
   "cell_type": "markdown",
   "metadata": {},
   "source": [
    "## Read Merge df_Jan with df_trips on 'TRIPID'"
   ]
  },
  {
   "cell_type": "code",
   "execution_count": 32,
   "metadata": {
    "scrolled": true
   },
   "outputs": [],
   "source": [
    "df_Jan_trips_arr = pd.read_csv(\"../DB/ML/Jan_Trips_arr.csv\")"
   ]
  },
  {
   "cell_type": "code",
   "execution_count": 33,
   "metadata": {},
   "outputs": [
    {
     "data": {
      "text/html": [
       "<div>\n",
       "<style scoped>\n",
       "    .dataframe tbody tr th:only-of-type {\n",
       "        vertical-align: middle;\n",
       "    }\n",
       "\n",
       "    .dataframe tbody tr th {\n",
       "        vertical-align: top;\n",
       "    }\n",
       "\n",
       "    .dataframe thead th {\n",
       "        text-align: right;\n",
       "    }\n",
       "</style>\n",
       "<table border=\"1\" class=\"dataframe\">\n",
       "  <thead>\n",
       "    <tr style=\"text-align: right;\">\n",
       "      <th></th>\n",
       "      <th>year</th>\n",
       "      <th>month</th>\n",
       "      <th>dayofweek_num</th>\n",
       "      <th>quarter</th>\n",
       "      <th>LINEID</th>\n",
       "      <th>DIRECTION</th>\n",
       "      <th>STOPPOINTID</th>\n",
       "      <th>PROGRNUMBER</th>\n",
       "      <th>PLANNEDTIME_ARR</th>\n",
       "      <th>ACTUALTIME_ARR</th>\n",
       "    </tr>\n",
       "  </thead>\n",
       "  <tbody>\n",
       "    <tr>\n",
       "      <th>0</th>\n",
       "      <td>2018</td>\n",
       "      <td>1</td>\n",
       "      <td>0</td>\n",
       "      <td>1</td>\n",
       "      <td>41</td>\n",
       "      <td>1</td>\n",
       "      <td>1172</td>\n",
       "      <td>3</td>\n",
       "      <td>23799</td>\n",
       "      <td>23863</td>\n",
       "    </tr>\n",
       "    <tr>\n",
       "      <th>1</th>\n",
       "      <td>2018</td>\n",
       "      <td>1</td>\n",
       "      <td>0</td>\n",
       "      <td>1</td>\n",
       "      <td>41</td>\n",
       "      <td>1</td>\n",
       "      <td>1173</td>\n",
       "      <td>4</td>\n",
       "      <td>23860</td>\n",
       "      <td>23934</td>\n",
       "    </tr>\n",
       "    <tr>\n",
       "      <th>2</th>\n",
       "      <td>2018</td>\n",
       "      <td>1</td>\n",
       "      <td>0</td>\n",
       "      <td>1</td>\n",
       "      <td>41</td>\n",
       "      <td>1</td>\n",
       "      <td>1174</td>\n",
       "      <td>5</td>\n",
       "      <td>23937</td>\n",
       "      <td>24114</td>\n",
       "    </tr>\n",
       "    <tr>\n",
       "      <th>3</th>\n",
       "      <td>2018</td>\n",
       "      <td>1</td>\n",
       "      <td>0</td>\n",
       "      <td>1</td>\n",
       "      <td>41</td>\n",
       "      <td>1</td>\n",
       "      <td>1175</td>\n",
       "      <td>6</td>\n",
       "      <td>24048</td>\n",
       "      <td>24180</td>\n",
       "    </tr>\n",
       "    <tr>\n",
       "      <th>4</th>\n",
       "      <td>2018</td>\n",
       "      <td>1</td>\n",
       "      <td>0</td>\n",
       "      <td>1</td>\n",
       "      <td>41</td>\n",
       "      <td>1</td>\n",
       "      <td>15</td>\n",
       "      <td>7</td>\n",
       "      <td>24130</td>\n",
       "      <td>24227</td>\n",
       "    </tr>\n",
       "  </tbody>\n",
       "</table>\n",
       "</div>"
      ],
      "text/plain": [
       "   year  month  dayofweek_num  quarter LINEID  DIRECTION  STOPPOINTID  \\\n",
       "0  2018      1              0        1     41          1         1172   \n",
       "1  2018      1              0        1     41          1         1173   \n",
       "2  2018      1              0        1     41          1         1174   \n",
       "3  2018      1              0        1     41          1         1175   \n",
       "4  2018      1              0        1     41          1           15   \n",
       "\n",
       "   PROGRNUMBER  PLANNEDTIME_ARR  ACTUALTIME_ARR  \n",
       "0            3            23799           23863  \n",
       "1            4            23860           23934  \n",
       "2            5            23937           24114  \n",
       "3            6            24048           24180  \n",
       "4            7            24130           24227  "
      ]
     },
     "execution_count": 33,
     "metadata": {},
     "output_type": "execute_result"
    }
   ],
   "source": [
    "df_Jan_trips_arr.head()"
   ]
  },
  {
   "cell_type": "code",
   "execution_count": 34,
   "metadata": {},
   "outputs": [],
   "source": [
    "df_Jan_trips_arr['year'] = df_Jan_trips_arr['year'].astype('category')\n",
    "df_Jan_trips_arr['month'] = df_Jan_trips_arr['month'].astype('category')\n",
    "df_Jan_trips_arr['dayofweek_num'] = df_Jan_trips_arr['dayofweek_num'].astype('category')\n",
    "df_Jan_trips_arr['quarter'] = df_Jan_trips_arr['quarter'].astype('category')\n",
    "df_Jan_trips_arr['PROGRNUMBER'] = df_Jan_trips_arr['PROGRNUMBER'].astype('category')\n",
    "df_Jan_trips_arr['STOPPOINTID'] = df_Jan_trips_arr['STOPPOINTID'].astype('category')\n",
    "df_Jan_trips_arr['PLANNEDTIME_ARR'] = pd.to_numeric(df_Jan_trips_arr['PLANNEDTIME_ARR'], downcast='integer', errors='coerce')\n",
    "df_Jan_trips_arr['ACTUALTIME_ARR'] = pd.to_numeric(df_Jan_trips_arr['ACTUALTIME_ARR'], downcast='integer', errors='coerce')\n",
    "df_Jan_trips_arr['LINEID'] = df_Jan_trips_arr['LINEID'].astype('category')\n",
    "df_Jan_trips_arr['DIRECTION'] = df_Jan_trips_arr['DIRECTION'].astype('category')"
   ]
  },
  {
   "cell_type": "markdown",
   "metadata": {},
   "source": [
    "### Object types and valid entries"
   ]
  },
  {
   "cell_type": "code",
   "execution_count": 35,
   "metadata": {
    "scrolled": true
   },
   "outputs": [
    {
     "name": "stdout",
     "output_type": "stream",
     "text": [
      "<class 'pandas.core.frame.DataFrame'>\n",
      "RangeIndex: 9600545 entries, 0 to 9600544\n",
      "Data columns (total 10 columns):\n",
      " #   Column           Non-Null Count    Dtype   \n",
      "---  ------           --------------    -----   \n",
      " 0   year             9600545 non-null  category\n",
      " 1   month            9600545 non-null  category\n",
      " 2   dayofweek_num    9600545 non-null  category\n",
      " 3   quarter          9600545 non-null  category\n",
      " 4   LINEID           9600545 non-null  category\n",
      " 5   DIRECTION        9600545 non-null  category\n",
      " 6   STOPPOINTID      9600545 non-null  category\n",
      " 7   PROGRNUMBER      9600545 non-null  category\n",
      " 8   PLANNEDTIME_ARR  9600545 non-null  int32   \n",
      " 9   ACTUALTIME_ARR   9600545 non-null  int32   \n",
      "dtypes: category(8), int32(2)\n",
      "memory usage: 155.9 MB\n",
      "None\n"
     ]
    }
   ],
   "source": [
    "print(df_Jan_trips_arr.info(null_counts = True))"
   ]
  },
  {
   "cell_type": "markdown",
   "metadata": {},
   "source": [
    "### Nature of data"
   ]
  },
  {
   "cell_type": "code",
   "execution_count": 36,
   "metadata": {
    "scrolled": false
   },
   "outputs": [
    {
     "data": {
      "text/html": [
       "<div>\n",
       "<style scoped>\n",
       "    .dataframe tbody tr th:only-of-type {\n",
       "        vertical-align: middle;\n",
       "    }\n",
       "\n",
       "    .dataframe tbody tr th {\n",
       "        vertical-align: top;\n",
       "    }\n",
       "\n",
       "    .dataframe thead th {\n",
       "        text-align: right;\n",
       "    }\n",
       "</style>\n",
       "<table border=\"1\" class=\"dataframe\">\n",
       "  <thead>\n",
       "    <tr style=\"text-align: right;\">\n",
       "      <th></th>\n",
       "      <th>year</th>\n",
       "      <th>month</th>\n",
       "      <th>dayofweek_num</th>\n",
       "      <th>quarter</th>\n",
       "      <th>LINEID</th>\n",
       "      <th>DIRECTION</th>\n",
       "      <th>STOPPOINTID</th>\n",
       "      <th>PROGRNUMBER</th>\n",
       "      <th>PLANNEDTIME_ARR</th>\n",
       "      <th>ACTUALTIME_ARR</th>\n",
       "    </tr>\n",
       "  </thead>\n",
       "  <tbody>\n",
       "    <tr>\n",
       "      <th>0</th>\n",
       "      <td>2018</td>\n",
       "      <td>1</td>\n",
       "      <td>0</td>\n",
       "      <td>1</td>\n",
       "      <td>41</td>\n",
       "      <td>1</td>\n",
       "      <td>1172</td>\n",
       "      <td>3</td>\n",
       "      <td>23799</td>\n",
       "      <td>23863</td>\n",
       "    </tr>\n",
       "    <tr>\n",
       "      <th>1</th>\n",
       "      <td>2018</td>\n",
       "      <td>1</td>\n",
       "      <td>0</td>\n",
       "      <td>1</td>\n",
       "      <td>41</td>\n",
       "      <td>1</td>\n",
       "      <td>1173</td>\n",
       "      <td>4</td>\n",
       "      <td>23860</td>\n",
       "      <td>23934</td>\n",
       "    </tr>\n",
       "    <tr>\n",
       "      <th>2</th>\n",
       "      <td>2018</td>\n",
       "      <td>1</td>\n",
       "      <td>0</td>\n",
       "      <td>1</td>\n",
       "      <td>41</td>\n",
       "      <td>1</td>\n",
       "      <td>1174</td>\n",
       "      <td>5</td>\n",
       "      <td>23937</td>\n",
       "      <td>24114</td>\n",
       "    </tr>\n",
       "    <tr>\n",
       "      <th>3</th>\n",
       "      <td>2018</td>\n",
       "      <td>1</td>\n",
       "      <td>0</td>\n",
       "      <td>1</td>\n",
       "      <td>41</td>\n",
       "      <td>1</td>\n",
       "      <td>1175</td>\n",
       "      <td>6</td>\n",
       "      <td>24048</td>\n",
       "      <td>24180</td>\n",
       "    </tr>\n",
       "    <tr>\n",
       "      <th>4</th>\n",
       "      <td>2018</td>\n",
       "      <td>1</td>\n",
       "      <td>0</td>\n",
       "      <td>1</td>\n",
       "      <td>41</td>\n",
       "      <td>1</td>\n",
       "      <td>15</td>\n",
       "      <td>7</td>\n",
       "      <td>24130</td>\n",
       "      <td>24227</td>\n",
       "    </tr>\n",
       "    <tr>\n",
       "      <th>...</th>\n",
       "      <td>...</td>\n",
       "      <td>...</td>\n",
       "      <td>...</td>\n",
       "      <td>...</td>\n",
       "      <td>...</td>\n",
       "      <td>...</td>\n",
       "      <td>...</td>\n",
       "      <td>...</td>\n",
       "      <td>...</td>\n",
       "      <td>...</td>\n",
       "    </tr>\n",
       "    <tr>\n",
       "      <th>95</th>\n",
       "      <td>2018</td>\n",
       "      <td>1</td>\n",
       "      <td>0</td>\n",
       "      <td>1</td>\n",
       "      <td>66</td>\n",
       "      <td>1</td>\n",
       "      <td>3958</td>\n",
       "      <td>47</td>\n",
       "      <td>27943</td>\n",
       "      <td>28473</td>\n",
       "    </tr>\n",
       "    <tr>\n",
       "      <th>96</th>\n",
       "      <td>2018</td>\n",
       "      <td>1</td>\n",
       "      <td>0</td>\n",
       "      <td>1</td>\n",
       "      <td>66</td>\n",
       "      <td>1</td>\n",
       "      <td>3959</td>\n",
       "      <td>48</td>\n",
       "      <td>27990</td>\n",
       "      <td>28508</td>\n",
       "    </tr>\n",
       "    <tr>\n",
       "      <th>97</th>\n",
       "      <td>2018</td>\n",
       "      <td>1</td>\n",
       "      <td>0</td>\n",
       "      <td>1</td>\n",
       "      <td>66</td>\n",
       "      <td>1</td>\n",
       "      <td>3960</td>\n",
       "      <td>49</td>\n",
       "      <td>28024</td>\n",
       "      <td>28534</td>\n",
       "    </tr>\n",
       "    <tr>\n",
       "      <th>98</th>\n",
       "      <td>2018</td>\n",
       "      <td>1</td>\n",
       "      <td>0</td>\n",
       "      <td>1</td>\n",
       "      <td>66</td>\n",
       "      <td>1</td>\n",
       "      <td>3961</td>\n",
       "      <td>50</td>\n",
       "      <td>28058</td>\n",
       "      <td>28551</td>\n",
       "    </tr>\n",
       "    <tr>\n",
       "      <th>99</th>\n",
       "      <td>2018</td>\n",
       "      <td>1</td>\n",
       "      <td>0</td>\n",
       "      <td>1</td>\n",
       "      <td>66</td>\n",
       "      <td>1</td>\n",
       "      <td>3962</td>\n",
       "      <td>51</td>\n",
       "      <td>28114</td>\n",
       "      <td>28600</td>\n",
       "    </tr>\n",
       "  </tbody>\n",
       "</table>\n",
       "<p>100 rows × 10 columns</p>\n",
       "</div>"
      ],
      "text/plain": [
       "    year month dayofweek_num quarter LINEID DIRECTION STOPPOINTID PROGRNUMBER  \\\n",
       "0   2018     1             0       1     41         1        1172           3   \n",
       "1   2018     1             0       1     41         1        1173           4   \n",
       "2   2018     1             0       1     41         1        1174           5   \n",
       "3   2018     1             0       1     41         1        1175           6   \n",
       "4   2018     1             0       1     41         1          15           7   \n",
       "..   ...   ...           ...     ...    ...       ...         ...         ...   \n",
       "95  2018     1             0       1     66         1        3958          47   \n",
       "96  2018     1             0       1     66         1        3959          48   \n",
       "97  2018     1             0       1     66         1        3960          49   \n",
       "98  2018     1             0       1     66         1        3961          50   \n",
       "99  2018     1             0       1     66         1        3962          51   \n",
       "\n",
       "    PLANNEDTIME_ARR  ACTUALTIME_ARR  \n",
       "0             23799           23863  \n",
       "1             23860           23934  \n",
       "2             23937           24114  \n",
       "3             24048           24180  \n",
       "4             24130           24227  \n",
       "..              ...             ...  \n",
       "95            27943           28473  \n",
       "96            27990           28508  \n",
       "97            28024           28534  \n",
       "98            28058           28551  \n",
       "99            28114           28600  \n",
       "\n",
       "[100 rows x 10 columns]"
      ]
     },
     "execution_count": 36,
     "metadata": {},
     "output_type": "execute_result"
    }
   ],
   "source": [
    "df_Jan_trips_arr.head(100)"
   ]
  },
  {
   "cell_type": "markdown",
   "metadata": {},
   "source": [
    "### Unique entries"
   ]
  },
  {
   "cell_type": "code",
   "execution_count": 37,
   "metadata": {
    "scrolled": false
   },
   "outputs": [
    {
     "data": {
      "text/plain": [
       "year                   1\n",
       "month                  1\n",
       "dayofweek_num          7\n",
       "quarter                1\n",
       "LINEID               126\n",
       "DIRECTION              2\n",
       "STOPPOINTID         4602\n",
       "PROGRNUMBER          102\n",
       "PLANNEDTIME_ARR    67749\n",
       "ACTUALTIME_ARR     70065\n",
       "dtype: int64"
      ]
     },
     "execution_count": 37,
     "metadata": {},
     "output_type": "execute_result"
    }
   ],
   "source": [
    "df_Jan_trips_arr.nunique()"
   ]
  },
  {
   "cell_type": "markdown",
   "metadata": {},
   "source": [
    "## Train model for each LINEID for each direction"
   ]
  },
  {
   "cell_type": "markdown",
   "metadata": {},
   "source": [
    "### Obtain pairs of LINEID for either direction\n",
    "* Some LINEIDs have Entries for a single direction only. Hence; this step avoids exceptions during model creation."
   ]
  },
  {
   "cell_type": "code",
   "execution_count": 38,
   "metadata": {},
   "outputs": [],
   "source": [
    "df_line_dir_pair = df_Jan_trips_arr.groupby(['LINEID','DIRECTION']).size().reset_index()[['LINEID','DIRECTION']]"
   ]
  },
  {
   "cell_type": "code",
   "execution_count": 39,
   "metadata": {},
   "outputs": [
    {
     "data": {
      "text/html": [
       "<div>\n",
       "<style scoped>\n",
       "    .dataframe tbody tr th:only-of-type {\n",
       "        vertical-align: middle;\n",
       "    }\n",
       "\n",
       "    .dataframe tbody tr th {\n",
       "        vertical-align: top;\n",
       "    }\n",
       "\n",
       "    .dataframe thead th {\n",
       "        text-align: right;\n",
       "    }\n",
       "</style>\n",
       "<table border=\"1\" class=\"dataframe\">\n",
       "  <thead>\n",
       "    <tr style=\"text-align: right;\">\n",
       "      <th></th>\n",
       "      <th>LINEID</th>\n",
       "      <th>DIRECTION</th>\n",
       "    </tr>\n",
       "  </thead>\n",
       "  <tbody>\n",
       "    <tr>\n",
       "      <th>0</th>\n",
       "      <td>1</td>\n",
       "      <td>1</td>\n",
       "    </tr>\n",
       "    <tr>\n",
       "      <th>1</th>\n",
       "      <td>1</td>\n",
       "      <td>2</td>\n",
       "    </tr>\n",
       "    <tr>\n",
       "      <th>2</th>\n",
       "      <td>102</td>\n",
       "      <td>1</td>\n",
       "    </tr>\n",
       "    <tr>\n",
       "      <th>3</th>\n",
       "      <td>102</td>\n",
       "      <td>2</td>\n",
       "    </tr>\n",
       "    <tr>\n",
       "      <th>4</th>\n",
       "      <td>104</td>\n",
       "      <td>1</td>\n",
       "    </tr>\n",
       "    <tr>\n",
       "      <th>...</th>\n",
       "      <td>...</td>\n",
       "      <td>...</td>\n",
       "    </tr>\n",
       "    <tr>\n",
       "      <th>247</th>\n",
       "      <td>84A</td>\n",
       "      <td>2</td>\n",
       "    </tr>\n",
       "    <tr>\n",
       "      <th>248</th>\n",
       "      <td>84X</td>\n",
       "      <td>1</td>\n",
       "    </tr>\n",
       "    <tr>\n",
       "      <th>249</th>\n",
       "      <td>84X</td>\n",
       "      <td>2</td>\n",
       "    </tr>\n",
       "    <tr>\n",
       "      <th>250</th>\n",
       "      <td>9</td>\n",
       "      <td>1</td>\n",
       "    </tr>\n",
       "    <tr>\n",
       "      <th>251</th>\n",
       "      <td>9</td>\n",
       "      <td>2</td>\n",
       "    </tr>\n",
       "  </tbody>\n",
       "</table>\n",
       "<p>252 rows × 2 columns</p>\n",
       "</div>"
      ],
      "text/plain": [
       "    LINEID DIRECTION\n",
       "0        1         1\n",
       "1        1         2\n",
       "2      102         1\n",
       "3      102         2\n",
       "4      104         1\n",
       "..     ...       ...\n",
       "247    84A         2\n",
       "248    84X         1\n",
       "249    84X         2\n",
       "250      9         1\n",
       "251      9         2\n",
       "\n",
       "[252 rows x 2 columns]"
      ]
     },
     "execution_count": 39,
     "metadata": {},
     "output_type": "execute_result"
    }
   ],
   "source": [
    "df_line_dir_pair"
   ]
  },
  {
   "cell_type": "markdown",
   "metadata": {},
   "source": [
    "## Model"
   ]
  },
  {
   "cell_type": "markdown",
   "metadata": {},
   "source": [
    "### Regression pipeline"
   ]
  },
  {
   "cell_type": "code",
   "execution_count": 40,
   "metadata": {
    "scrolled": false
   },
   "outputs": [],
   "source": [
    "'''\n",
    "Pipeline with transformed target regressor is defined\n",
    "'''\n",
    "def regressorModel(num_col,cat_col,regression_algo = \"Linear\"):\n",
    "    \n",
    "    \n",
    "    algorithms = {\"Linear\": LinearRegression(),\"LGBM\": LGBMRegressor()}\n",
    "    std_scalar = StandardScaler()\n",
    "    oh_encoder = OneHotEncoder()\n",
    "\n",
    "    pipe_lin_reg = make_pipeline(\n",
    "        ColumnTransformer([\n",
    "            ('num', std_scalar, num_col),\n",
    "            ('cat', oh_encoder, cat_col),    \n",
    "        ]),\n",
    "        algorithms[regression_algo]\n",
    "    )\n",
    "\n",
    "    regressor = TransformedTargetRegressor(regressor=pipe_lin_reg, transformer=std_scalar)\n",
    "    return regressor"
   ]
  },
  {
   "cell_type": "markdown",
   "metadata": {},
   "source": [
    "### list of feature based on datatypes"
   ]
  },
  {
   "cell_type": "code",
   "execution_count": 41,
   "metadata": {},
   "outputs": [],
   "source": [
    "'''\n",
    "get_column_lists(df) returns lists of catagorical and \n",
    "numerical columns in the input dataframe\n",
    "'''\n",
    "def get_column_lists(df):\n",
    "    cat_col = list(df.select_dtypes(include=['category']).columns)\n",
    "    num_col = list(df.select_dtypes(exclude=['category','object','datetime']).columns)\n",
    "    \n",
    "    return num_col,cat_col"
   ]
  },
  {
   "cell_type": "markdown",
   "metadata": {},
   "source": [
    "###  Train model with data for LINEID x  and  DIRECTION y"
   ]
  },
  {
   "cell_type": "code",
   "execution_count": 51,
   "metadata": {},
   "outputs": [],
   "source": [
    "for _, row in df_line_dir_pair.iterrows():\n",
    "    \n",
    "    # pair of LINEID and DIRECTION is taken in variable. Seperate model is trained for each pair\n",
    "    line = row['LINEID']\n",
    "    direction = row['DIRECTION']\n",
    "    \n",
    "    # Dataframe slice for pair of LINEID and DIRECTION is taken for operation\n",
    "    df_Jan_trips_arr_LINE_DIR = df_Jan_trips_arr.loc[(df_Jan_trips_arr[\"LINEID\"] == line) & \n",
    "                                                     (df_Jan_trips_arr[\"DIRECTION\"] == direction)].copy()\n",
    "    \n",
    "    # INPUT and TARGET features\n",
    "    X = df_Jan_trips_arr_LINE_DIR[[\"year\",\"month\",\"dayofweek_num\",\"quarter\",\"LINEID\",\"PROGRNUMBER\",\\\n",
    "                         \"STOPPOINTID\",\"DIRECTION\",\"PLANNEDTIME_ARR\"]]\n",
    "    Y = df_Jan_trips_arr_LINE_DIR[[\"ACTUALTIME_ARR\"]]\n",
    "    \n",
    "    #generate and fit model\n",
    "    num_col,cat_col = get_column_lists(X)\n",
    "    regressor = regressorModel(num_col,cat_col,regression_algo=\"Linear\")\n",
    "    model = regressor.fit(X, Y)\n",
    "    \n",
    "    # Save model\n",
    "    filename = str(line)+\"_\"+str(direction)+'.pkl'\n",
    "    pickle.dump(model, open(\"models/03/\"+filename, 'wb'))    "
   ]
  },
  {
   "cell_type": "markdown",
   "metadata": {},
   "source": [
    "## Validation and Evaluation"
   ]
  },
  {
   "cell_type": "markdown",
   "metadata": {},
   "source": [
    "### Model validation"
   ]
  },
  {
   "cell_type": "code",
   "execution_count": 58,
   "metadata": {},
   "outputs": [],
   "source": [
    "def calc_Regression(X, y, model, scoring='R2', cv=3):\n",
    "    \"\"\"Functions to carry out validation on the regression model.\n",
    "    Default number of validations cycles is 3. The randon state will be updated \n",
    "    at each iteration\"\"\"\n",
    "    \n",
    "    # store results\n",
    "    results = []\n",
    "    # evaluate cv times and append to results\n",
    "    for i in range(cv):\n",
    "        # set up train test split\n",
    "        X_train, X_test, y_train, y_test = train_test_split(X, y, random_state=i , test_size=0.8)\n",
    "        # Prediction\n",
    "        y_predict = model.predict(X_test)\n",
    "        # calc score\n",
    "        if scoring=='R2':\n",
    "            score = metrics.r2_score(y_test, y_predict)\n",
    "        elif scoring=='RMSE':\n",
    "            score = math.sqrt(metrics.mean_squared_error(y_test, y_predict))\n",
    "        # append to results\n",
    "        results.append(score)\n",
    "    return results"
   ]
  },
  {
   "cell_type": "code",
   "execution_count": 68,
   "metadata": {},
   "outputs": [],
   "source": [
    "def validation(X,y,model, cvVal=3):\n",
    "    \"\"\"Function performs cross validation for input model and store results \n",
    "    in dataframe. Cross validation looks at R2 score, RMSE\n",
    "    and returns a dataframe with results\"\"\"\n",
    "\n",
    "    regression_results = {}\n",
    "    # metrics to test against\n",
    "    test_metrics = ['R2','RMSE']\n",
    "    \n",
    "    for metric in test_metrics:\n",
    "        # generate test results\n",
    "        result = calc_Regression(X, y, model,cv=cvVal, scoring=metric)\n",
    "        length = len(result)\n",
    "        # store result in dict\n",
    "        regression_results[metric] = sum(result)/length\n",
    "\n",
    "    # create dataframe with results\n",
    "    LinRegDF = pd.DataFrame.from_dict(regression_results, orient='index', columns=['Regression'])\n",
    "    \n",
    "    return LinRegDF"
   ]
  },
  {
   "cell_type": "markdown",
   "metadata": {},
   "source": [
    "### Model evaluation"
   ]
  },
  {
   "cell_type": "markdown",
   "metadata": {},
   "source": [
    "#### Load data"
   ]
  },
  {
   "cell_type": "code",
   "execution_count": 69,
   "metadata": {},
   "outputs": [],
   "source": [
    "# load dataframe\n",
    "df_Jan_trips_arr_LINE_DIR = df_Jan_trips_arr.loc[(df_Jan_trips_arr[\"LINEID\"] == \"1\") &\n",
    "                                                 (df_Jan_trips_arr[\"DIRECTION\"] == 1)].copy()\n",
    "# Prepare INPUT and TARGET features\n",
    "X = df_Jan_trips_arr_LINE_DIR[[\"year\",\"month\",\"dayofweek_num\",\"quarter\",\"LINEID\",\"PROGRNUMBER\",\n",
    "                               \"STOPPOINTID\",\"DIRECTION\",\"PLANNEDTIME_ARR\"]]\n",
    "Y = df_Jan_trips_arr_LINE_DIR[[\"ACTUALTIME_ARR\"]]"
   ]
  },
  {
   "cell_type": "markdown",
   "metadata": {},
   "source": [
    "#### Load model"
   ]
  },
  {
   "cell_type": "code",
   "execution_count": 70,
   "metadata": {},
   "outputs": [],
   "source": [
    "# load the model \n",
    "model_1_1 = pickle.load(open(\"models/03/1_1.pkl\", 'rb'))"
   ]
  },
  {
   "cell_type": "markdown",
   "metadata": {},
   "source": [
    "#### Model validity"
   ]
  },
  {
   "cell_type": "code",
   "execution_count": 71,
   "metadata": {},
   "outputs": [
    {
     "name": "stdout",
     "output_type": "stream",
     "text": [
      "      Regression\n",
      "R2      0.999623\n",
      "RMSE  275.964557\n"
     ]
    }
   ],
   "source": [
    "# Display model validity\n",
    "print(validation(X,Y,model_1_1))"
   ]
  },
  {
   "cell_type": "markdown",
   "metadata": {},
   "source": [
    "#### Test run"
   ]
  },
  {
   "cell_type": "code",
   "execution_count": 78,
   "metadata": {},
   "outputs": [
    {
     "name": "stdout",
     "output_type": "stream",
     "text": [
      "Y test\n",
      "    ACTUALTIME_ARR\n",
      "0           36048\n",
      "1           36075\n",
      "2           36091\n",
      "3           36125\n",
      "4           36183\n",
      "5           36254\n",
      "6           36315\n",
      "7           36361\n",
      "8           36438\n",
      "9           36480 \n",
      "\n",
      "Y predict\n",
      " [[36014.82063939]\n",
      " [36053.64892332]\n",
      " [36083.07828805]\n",
      " [36138.06680613]\n",
      " [36180.45048497]\n",
      " [36274.83938967]\n",
      " [36363.89323105]\n",
      " [36404.42869289]\n",
      " [36477.93487258]\n",
      " [36524.15871362]]\n"
     ]
    }
   ],
   "source": [
    "print(\"Y test\\n\",Y[:10].reset_index(drop=True),\"\\n\")\n",
    "print(\"Y predict\\n\",model.predict(X[:10]))"
   ]
  },
  {
   "cell_type": "code",
   "execution_count": null,
   "metadata": {},
   "outputs": [],
   "source": []
  }
 ],
 "metadata": {
  "kernelspec": {
   "display_name": "envDA",
   "language": "python",
   "name": "envda"
  },
  "language_info": {
   "codemirror_mode": {
    "name": "ipython",
    "version": 3
   },
   "file_extension": ".py",
   "mimetype": "text/x-python",
   "name": "python",
   "nbconvert_exporter": "python",
   "pygments_lexer": "ipython3",
   "version": "3.7.7"
  },
  "toc": {
   "base_numbering": 1,
   "nav_menu": {},
   "number_sections": true,
   "sideBar": true,
   "skip_h1_title": false,
   "title_cell": "Table of Contents",
   "title_sidebar": "Contents",
   "toc_cell": false,
   "toc_position": {},
   "toc_section_display": true,
   "toc_window_display": false
  }
 },
 "nbformat": 4,
 "nbformat_minor": 4
}
