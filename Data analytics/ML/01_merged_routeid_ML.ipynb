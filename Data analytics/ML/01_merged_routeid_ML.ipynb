{
 "cells": [
  {
   "cell_type": "code",
   "execution_count": 1,
   "metadata": {},
   "outputs": [],
   "source": [
    "import numpy as np\n",
    "import pandas as pd\n",
    "import matplotlib.pyplot as plt\n",
    "import seaborn as sns"
   ]
  },
  {
   "cell_type": "code",
   "execution_count": 112,
   "metadata": {},
   "outputs": [],
   "source": [
    "from sklearn.pipeline import make_pipeline\n",
    "from lightgbm import LGBMClassifier\n",
    "from sklearn.preprocessing import OneHotEncoder, StandardScaler \n",
    "from sklearn.compose import ColumnTransformer\n",
    "from sklearn.model_selection import cross_val_predict\n",
    "from sklearn.metrics import roc_auc_score\n",
    "from sklearn.linear_model import LinearRegression \n",
    "from sklearn.ensemble import RandomForestRegressor\n",
    "from sklearn.compose import TransformedTargetRegressor\n",
    "from sklearn import metrics\n",
    "import math\n",
    "\n",
    "# Using sklearn to split data into training and testing sets,train classifier and regressor models \n",
    "from sklearn.model_selection import train_test_split\n",
    "\n",
    "#pickle package saves and loads sklearn models\n",
    "import pickle\n",
    "\n",
    "from warnings import filterwarnings\n",
    "filterwarnings('ignore')"
   ]
  },
  {
   "cell_type": "markdown",
   "metadata": {},
   "source": [
    "## Source of Truth gathered in prior EDA\n",
    "* **TRIPID**\n",
    "    * **TRIPID are shared across days for perticular LINEID on particular ROUTEID**\n",
    "    * For a single TRIPID, only one corresponding LINEID and ROUTEID are present\n",
    "    * TRIPID for inbound and outbound directions are mutually exclusive\n",
    "    * For certein TRIPIDs; PROGNUMBER do not start at 1; which should. It means, some entries are missing.\n",
    "* **LINEID**\n",
    "    * **For a LINEID; ROUTEIDs and TRIPIDs used for DIFFERENT DIRECTION are mutually exclusive**\n",
    "* **ROUTEID**\n",
    "    * A LINEID has multiple ROUTEID \n",
    "    * A LINEID may / may not have trips with both INBOUND-going(1)/OUTBOUND-returning(2) direction \n",
    "    * **THOUGH 2 ROUTES FOR A LINEID ARE HAVING SAME DIRECTION; STOPPOINTIDs VISITED ARE DIFFERENT**\n",
    "    * **FOR A SINGLE ROUTE; STOPS VISITED DURING DIFFERENT TRIPS ARE DIFEENRENT**\n",
    "    * **AS ROUTEIDs ARE NOT KNOWN TO USER _AND_ ROUTEIDs ARE NOT TIMEBOUND; IT IS NOT POSSIBLE TO TRAIN ML MODEL USING ALL ROUTEIDs**"
   ]
  },
  {
   "cell_type": "markdown",
   "metadata": {},
   "source": [
    "## Read Merge df_Jan with df_trips on 'TRIPID'"
   ]
  },
  {
   "cell_type": "code",
   "execution_count": 3,
   "metadata": {
    "scrolled": true
   },
   "outputs": [],
   "source": [
    "df_Jan_trips = pd.read_csv(\"../DB/ML/imp_ROUTEID_Jan_trips_MERGED.csv\")"
   ]
  },
  {
   "cell_type": "code",
   "execution_count": 4,
   "metadata": {},
   "outputs": [],
   "source": [
    "df_Jan_trips['DAYOFSERVICE'] = pd.to_datetime(df_Jan_trips['DAYOFSERVICE'])\n",
    "df_Jan_trips['TRIPID'] = pd.to_numeric(df_Jan_trips['TRIPID'], downcast='integer', errors='coerce')\n",
    "df_Jan_trips['PROGRNUMBER'] = pd.to_numeric(df_Jan_trips['PROGRNUMBER'], downcast='integer', errors='coerce')\n",
    "df_Jan_trips['STOPPOINTID'] = pd.to_numeric(df_Jan_trips['STOPPOINTID'], downcast='integer', errors='coerce')\n",
    "df_Jan_trips['PLANNEDTIME_ARR'] = pd.to_numeric(df_Jan_trips['PLANNEDTIME_ARR'], downcast='integer', errors='coerce')\n",
    "df_Jan_trips['ACTUALTIME_ARR'] = pd.to_numeric(df_Jan_trips['ACTUALTIME_ARR'], downcast='integer', errors='coerce')\n",
    "df_Jan_trips['ACTUALTIME_DEP'] = pd.to_numeric(df_Jan_trips['ACTUALTIME_DEP'], downcast='integer', errors='coerce')\n",
    "df_Jan_trips['LINEID'] = df_Jan_trips['LINEID'].astype('str')\n",
    "df_Jan_trips['ROUTEID'] = df_Jan_trips['ROUTEID'].astype('str')\n",
    "df_Jan_trips['DIRECTION'] = pd.to_numeric(df_Jan_trips['DIRECTION'], downcast='integer', errors='coerce')"
   ]
  },
  {
   "cell_type": "markdown",
   "metadata": {},
   "source": [
    "### Object types and valid entries"
   ]
  },
  {
   "cell_type": "code",
   "execution_count": 5,
   "metadata": {
    "scrolled": true
   },
   "outputs": [
    {
     "name": "stdout",
     "output_type": "stream",
     "text": [
      "<class 'pandas.core.frame.DataFrame'>\n",
      "RangeIndex: 9600545 entries, 0 to 9600544\n",
      "Data columns (total 13 columns):\n",
      " #   Column                    Non-Null Count    Dtype         \n",
      "---  ------                    --------------    -----         \n",
      " 0   DAYOFSERVICE              9600545 non-null  datetime64[ns]\n",
      " 1   TRIPID                    9600545 non-null  int32         \n",
      " 2   PROGRNUMBER               9600545 non-null  int8          \n",
      " 3   STOPPOINTID               9600545 non-null  int16         \n",
      " 4   PLANNEDTIME_ARR           9600545 non-null  int32         \n",
      " 5   ACTUALTIME_ARR            9600545 non-null  int32         \n",
      " 6   ACTUALTIME_DEP            9600545 non-null  int32         \n",
      " 7   LINEID                    9600545 non-null  object        \n",
      " 8   DIRECTION                 9600545 non-null  int8          \n",
      " 9   ROUTEID                   9600545 non-null  object        \n",
      " 10  Arrival_lateEarly         9600545 non-null  bool          \n",
      " 11  departure_lateEarly       9600545 non-null  bool          \n",
      " 12  planned_arr_dep_equality  9600545 non-null  bool          \n",
      "dtypes: bool(3), datetime64[ns](1), int16(1), int32(4), int8(2), object(2)\n",
      "memory usage: 430.3+ MB\n",
      "None\n"
     ]
    }
   ],
   "source": [
    "print(df_Jan_trips.info(null_counts = True))"
   ]
  },
  {
   "cell_type": "markdown",
   "metadata": {},
   "source": [
    "### Nature of data"
   ]
  },
  {
   "cell_type": "code",
   "execution_count": 6,
   "metadata": {
    "scrolled": false
   },
   "outputs": [
    {
     "data": {
      "text/html": [
       "<div>\n",
       "<style scoped>\n",
       "    .dataframe tbody tr th:only-of-type {\n",
       "        vertical-align: middle;\n",
       "    }\n",
       "\n",
       "    .dataframe tbody tr th {\n",
       "        vertical-align: top;\n",
       "    }\n",
       "\n",
       "    .dataframe thead th {\n",
       "        text-align: right;\n",
       "    }\n",
       "</style>\n",
       "<table border=\"1\" class=\"dataframe\">\n",
       "  <thead>\n",
       "    <tr style=\"text-align: right;\">\n",
       "      <th></th>\n",
       "      <th>DAYOFSERVICE</th>\n",
       "      <th>TRIPID</th>\n",
       "      <th>PROGRNUMBER</th>\n",
       "      <th>STOPPOINTID</th>\n",
       "      <th>PLANNEDTIME_ARR</th>\n",
       "      <th>ACTUALTIME_ARR</th>\n",
       "      <th>ACTUALTIME_DEP</th>\n",
       "      <th>LINEID</th>\n",
       "      <th>DIRECTION</th>\n",
       "      <th>ROUTEID</th>\n",
       "      <th>Arrival_lateEarly</th>\n",
       "      <th>departure_lateEarly</th>\n",
       "      <th>planned_arr_dep_equality</th>\n",
       "    </tr>\n",
       "  </thead>\n",
       "  <tbody>\n",
       "    <tr>\n",
       "      <th>0</th>\n",
       "      <td>2018-01-01</td>\n",
       "      <td>5958355</td>\n",
       "      <td>3</td>\n",
       "      <td>1172</td>\n",
       "      <td>23799</td>\n",
       "      <td>23863</td>\n",
       "      <td>23863</td>\n",
       "      <td>41</td>\n",
       "      <td>1</td>\n",
       "      <td>41_3</td>\n",
       "      <td>False</td>\n",
       "      <td>False</td>\n",
       "      <td>True</td>\n",
       "    </tr>\n",
       "    <tr>\n",
       "      <th>1</th>\n",
       "      <td>2018-01-01</td>\n",
       "      <td>5958355</td>\n",
       "      <td>4</td>\n",
       "      <td>1173</td>\n",
       "      <td>23860</td>\n",
       "      <td>23934</td>\n",
       "      <td>24072</td>\n",
       "      <td>41</td>\n",
       "      <td>1</td>\n",
       "      <td>41_3</td>\n",
       "      <td>False</td>\n",
       "      <td>False</td>\n",
       "      <td>True</td>\n",
       "    </tr>\n",
       "    <tr>\n",
       "      <th>2</th>\n",
       "      <td>2018-01-01</td>\n",
       "      <td>5958355</td>\n",
       "      <td>5</td>\n",
       "      <td>1174</td>\n",
       "      <td>23937</td>\n",
       "      <td>24114</td>\n",
       "      <td>24140</td>\n",
       "      <td>41</td>\n",
       "      <td>1</td>\n",
       "      <td>41_3</td>\n",
       "      <td>False</td>\n",
       "      <td>False</td>\n",
       "      <td>True</td>\n",
       "    </tr>\n",
       "    <tr>\n",
       "      <th>3</th>\n",
       "      <td>2018-01-01</td>\n",
       "      <td>5958355</td>\n",
       "      <td>6</td>\n",
       "      <td>1175</td>\n",
       "      <td>24048</td>\n",
       "      <td>24180</td>\n",
       "      <td>24192</td>\n",
       "      <td>41</td>\n",
       "      <td>1</td>\n",
       "      <td>41_3</td>\n",
       "      <td>False</td>\n",
       "      <td>False</td>\n",
       "      <td>True</td>\n",
       "    </tr>\n",
       "    <tr>\n",
       "      <th>4</th>\n",
       "      <td>2018-01-01</td>\n",
       "      <td>5958355</td>\n",
       "      <td>7</td>\n",
       "      <td>15</td>\n",
       "      <td>24130</td>\n",
       "      <td>24227</td>\n",
       "      <td>24257</td>\n",
       "      <td>41</td>\n",
       "      <td>1</td>\n",
       "      <td>41_3</td>\n",
       "      <td>False</td>\n",
       "      <td>False</td>\n",
       "      <td>True</td>\n",
       "    </tr>\n",
       "    <tr>\n",
       "      <th>...</th>\n",
       "      <td>...</td>\n",
       "      <td>...</td>\n",
       "      <td>...</td>\n",
       "      <td>...</td>\n",
       "      <td>...</td>\n",
       "      <td>...</td>\n",
       "      <td>...</td>\n",
       "      <td>...</td>\n",
       "      <td>...</td>\n",
       "      <td>...</td>\n",
       "      <td>...</td>\n",
       "      <td>...</td>\n",
       "      <td>...</td>\n",
       "    </tr>\n",
       "    <tr>\n",
       "      <th>95</th>\n",
       "      <td>2018-01-01</td>\n",
       "      <td>5958088</td>\n",
       "      <td>47</td>\n",
       "      <td>3958</td>\n",
       "      <td>27943</td>\n",
       "      <td>28473</td>\n",
       "      <td>28473</td>\n",
       "      <td>66</td>\n",
       "      <td>1</td>\n",
       "      <td>66_11</td>\n",
       "      <td>False</td>\n",
       "      <td>False</td>\n",
       "      <td>True</td>\n",
       "    </tr>\n",
       "    <tr>\n",
       "      <th>96</th>\n",
       "      <td>2018-01-01</td>\n",
       "      <td>5958088</td>\n",
       "      <td>48</td>\n",
       "      <td>3959</td>\n",
       "      <td>27990</td>\n",
       "      <td>28508</td>\n",
       "      <td>28508</td>\n",
       "      <td>66</td>\n",
       "      <td>1</td>\n",
       "      <td>66_11</td>\n",
       "      <td>False</td>\n",
       "      <td>False</td>\n",
       "      <td>True</td>\n",
       "    </tr>\n",
       "    <tr>\n",
       "      <th>97</th>\n",
       "      <td>2018-01-01</td>\n",
       "      <td>5958088</td>\n",
       "      <td>49</td>\n",
       "      <td>3960</td>\n",
       "      <td>28024</td>\n",
       "      <td>28534</td>\n",
       "      <td>28534</td>\n",
       "      <td>66</td>\n",
       "      <td>1</td>\n",
       "      <td>66_11</td>\n",
       "      <td>False</td>\n",
       "      <td>False</td>\n",
       "      <td>True</td>\n",
       "    </tr>\n",
       "    <tr>\n",
       "      <th>98</th>\n",
       "      <td>2018-01-01</td>\n",
       "      <td>5958088</td>\n",
       "      <td>50</td>\n",
       "      <td>3961</td>\n",
       "      <td>28058</td>\n",
       "      <td>28551</td>\n",
       "      <td>28562</td>\n",
       "      <td>66</td>\n",
       "      <td>1</td>\n",
       "      <td>66_11</td>\n",
       "      <td>False</td>\n",
       "      <td>False</td>\n",
       "      <td>True</td>\n",
       "    </tr>\n",
       "    <tr>\n",
       "      <th>99</th>\n",
       "      <td>2018-01-01</td>\n",
       "      <td>5958088</td>\n",
       "      <td>51</td>\n",
       "      <td>3962</td>\n",
       "      <td>28114</td>\n",
       "      <td>28600</td>\n",
       "      <td>28610</td>\n",
       "      <td>66</td>\n",
       "      <td>1</td>\n",
       "      <td>66_11</td>\n",
       "      <td>False</td>\n",
       "      <td>False</td>\n",
       "      <td>True</td>\n",
       "    </tr>\n",
       "  </tbody>\n",
       "</table>\n",
       "<p>100 rows × 13 columns</p>\n",
       "</div>"
      ],
      "text/plain": [
       "   DAYOFSERVICE   TRIPID  PROGRNUMBER  STOPPOINTID  PLANNEDTIME_ARR  \\\n",
       "0    2018-01-01  5958355            3         1172            23799   \n",
       "1    2018-01-01  5958355            4         1173            23860   \n",
       "2    2018-01-01  5958355            5         1174            23937   \n",
       "3    2018-01-01  5958355            6         1175            24048   \n",
       "4    2018-01-01  5958355            7           15            24130   \n",
       "..          ...      ...          ...          ...              ...   \n",
       "95   2018-01-01  5958088           47         3958            27943   \n",
       "96   2018-01-01  5958088           48         3959            27990   \n",
       "97   2018-01-01  5958088           49         3960            28024   \n",
       "98   2018-01-01  5958088           50         3961            28058   \n",
       "99   2018-01-01  5958088           51         3962            28114   \n",
       "\n",
       "    ACTUALTIME_ARR  ACTUALTIME_DEP LINEID  DIRECTION ROUTEID  \\\n",
       "0            23863           23863     41          1    41_3   \n",
       "1            23934           24072     41          1    41_3   \n",
       "2            24114           24140     41          1    41_3   \n",
       "3            24180           24192     41          1    41_3   \n",
       "4            24227           24257     41          1    41_3   \n",
       "..             ...             ...    ...        ...     ...   \n",
       "95           28473           28473     66          1   66_11   \n",
       "96           28508           28508     66          1   66_11   \n",
       "97           28534           28534     66          1   66_11   \n",
       "98           28551           28562     66          1   66_11   \n",
       "99           28600           28610     66          1   66_11   \n",
       "\n",
       "    Arrival_lateEarly  departure_lateEarly  planned_arr_dep_equality  \n",
       "0               False                False                      True  \n",
       "1               False                False                      True  \n",
       "2               False                False                      True  \n",
       "3               False                False                      True  \n",
       "4               False                False                      True  \n",
       "..                ...                  ...                       ...  \n",
       "95              False                False                      True  \n",
       "96              False                False                      True  \n",
       "97              False                False                      True  \n",
       "98              False                False                      True  \n",
       "99              False                False                      True  \n",
       "\n",
       "[100 rows x 13 columns]"
      ]
     },
     "execution_count": 6,
     "metadata": {},
     "output_type": "execute_result"
    }
   ],
   "source": [
    "df_Jan_trips.head(100)"
   ]
  },
  {
   "cell_type": "markdown",
   "metadata": {},
   "source": [
    "### Unique entries"
   ]
  },
  {
   "cell_type": "code",
   "execution_count": 7,
   "metadata": {
    "scrolled": false
   },
   "outputs": [
    {
     "data": {
      "text/plain": [
       "DAYOFSERVICE                   31\n",
       "TRIPID                      69359\n",
       "PROGRNUMBER                   102\n",
       "STOPPOINTID                  4602\n",
       "PLANNEDTIME_ARR             67749\n",
       "ACTUALTIME_ARR              70065\n",
       "ACTUALTIME_DEP              70063\n",
       "LINEID                        126\n",
       "DIRECTION                       2\n",
       "ROUTEID                       246\n",
       "Arrival_lateEarly               2\n",
       "departure_lateEarly             2\n",
       "planned_arr_dep_equality        1\n",
       "dtype: int64"
      ]
     },
     "execution_count": 7,
     "metadata": {},
     "output_type": "execute_result"
    }
   ],
   "source": [
    "df_Jan_trips.nunique()"
   ]
  },
  {
   "cell_type": "markdown",
   "metadata": {},
   "source": [
    "### Resolve datetime parameter"
   ]
  },
  {
   "cell_type": "code",
   "execution_count": 8,
   "metadata": {},
   "outputs": [],
   "source": [
    "df_Jan_trips['year'] = df_Jan_trips.DAYOFSERVICE.dt.year \n",
    "df_Jan_trips['day'] = df_Jan_trips.DAYOFSERVICE.dt.day\n",
    "df_Jan_trips['month'] = df_Jan_trips.DAYOFSERVICE.dt.month\n",
    "df_Jan_trips['dayofweek_num']=df_Jan_trips.DAYOFSERVICE.dt.dayofweek \n",
    "df_Jan_trips['quarter']=df_Jan_trips.DAYOFSERVICE.dt.quarter "
   ]
  },
  {
   "cell_type": "code",
   "execution_count": 9,
   "metadata": {},
   "outputs": [
    {
     "data": {
      "text/html": [
       "<div>\n",
       "<style scoped>\n",
       "    .dataframe tbody tr th:only-of-type {\n",
       "        vertical-align: middle;\n",
       "    }\n",
       "\n",
       "    .dataframe tbody tr th {\n",
       "        vertical-align: top;\n",
       "    }\n",
       "\n",
       "    .dataframe thead th {\n",
       "        text-align: right;\n",
       "    }\n",
       "</style>\n",
       "<table border=\"1\" class=\"dataframe\">\n",
       "  <thead>\n",
       "    <tr style=\"text-align: right;\">\n",
       "      <th></th>\n",
       "      <th>DAYOFSERVICE</th>\n",
       "      <th>TRIPID</th>\n",
       "      <th>PROGRNUMBER</th>\n",
       "      <th>STOPPOINTID</th>\n",
       "      <th>PLANNEDTIME_ARR</th>\n",
       "      <th>ACTUALTIME_ARR</th>\n",
       "      <th>ACTUALTIME_DEP</th>\n",
       "      <th>LINEID</th>\n",
       "      <th>DIRECTION</th>\n",
       "      <th>ROUTEID</th>\n",
       "      <th>Arrival_lateEarly</th>\n",
       "      <th>departure_lateEarly</th>\n",
       "      <th>planned_arr_dep_equality</th>\n",
       "      <th>year</th>\n",
       "      <th>day</th>\n",
       "      <th>month</th>\n",
       "      <th>dayofweek_num</th>\n",
       "      <th>quarter</th>\n",
       "    </tr>\n",
       "  </thead>\n",
       "  <tbody>\n",
       "    <tr>\n",
       "      <th>0</th>\n",
       "      <td>2018-01-01</td>\n",
       "      <td>5958355</td>\n",
       "      <td>3</td>\n",
       "      <td>1172</td>\n",
       "      <td>23799</td>\n",
       "      <td>23863</td>\n",
       "      <td>23863</td>\n",
       "      <td>41</td>\n",
       "      <td>1</td>\n",
       "      <td>41_3</td>\n",
       "      <td>False</td>\n",
       "      <td>False</td>\n",
       "      <td>True</td>\n",
       "      <td>2018</td>\n",
       "      <td>1</td>\n",
       "      <td>1</td>\n",
       "      <td>0</td>\n",
       "      <td>1</td>\n",
       "    </tr>\n",
       "    <tr>\n",
       "      <th>1</th>\n",
       "      <td>2018-01-01</td>\n",
       "      <td>5958355</td>\n",
       "      <td>4</td>\n",
       "      <td>1173</td>\n",
       "      <td>23860</td>\n",
       "      <td>23934</td>\n",
       "      <td>24072</td>\n",
       "      <td>41</td>\n",
       "      <td>1</td>\n",
       "      <td>41_3</td>\n",
       "      <td>False</td>\n",
       "      <td>False</td>\n",
       "      <td>True</td>\n",
       "      <td>2018</td>\n",
       "      <td>1</td>\n",
       "      <td>1</td>\n",
       "      <td>0</td>\n",
       "      <td>1</td>\n",
       "    </tr>\n",
       "    <tr>\n",
       "      <th>2</th>\n",
       "      <td>2018-01-01</td>\n",
       "      <td>5958355</td>\n",
       "      <td>5</td>\n",
       "      <td>1174</td>\n",
       "      <td>23937</td>\n",
       "      <td>24114</td>\n",
       "      <td>24140</td>\n",
       "      <td>41</td>\n",
       "      <td>1</td>\n",
       "      <td>41_3</td>\n",
       "      <td>False</td>\n",
       "      <td>False</td>\n",
       "      <td>True</td>\n",
       "      <td>2018</td>\n",
       "      <td>1</td>\n",
       "      <td>1</td>\n",
       "      <td>0</td>\n",
       "      <td>1</td>\n",
       "    </tr>\n",
       "    <tr>\n",
       "      <th>3</th>\n",
       "      <td>2018-01-01</td>\n",
       "      <td>5958355</td>\n",
       "      <td>6</td>\n",
       "      <td>1175</td>\n",
       "      <td>24048</td>\n",
       "      <td>24180</td>\n",
       "      <td>24192</td>\n",
       "      <td>41</td>\n",
       "      <td>1</td>\n",
       "      <td>41_3</td>\n",
       "      <td>False</td>\n",
       "      <td>False</td>\n",
       "      <td>True</td>\n",
       "      <td>2018</td>\n",
       "      <td>1</td>\n",
       "      <td>1</td>\n",
       "      <td>0</td>\n",
       "      <td>1</td>\n",
       "    </tr>\n",
       "    <tr>\n",
       "      <th>4</th>\n",
       "      <td>2018-01-01</td>\n",
       "      <td>5958355</td>\n",
       "      <td>7</td>\n",
       "      <td>15</td>\n",
       "      <td>24130</td>\n",
       "      <td>24227</td>\n",
       "      <td>24257</td>\n",
       "      <td>41</td>\n",
       "      <td>1</td>\n",
       "      <td>41_3</td>\n",
       "      <td>False</td>\n",
       "      <td>False</td>\n",
       "      <td>True</td>\n",
       "      <td>2018</td>\n",
       "      <td>1</td>\n",
       "      <td>1</td>\n",
       "      <td>0</td>\n",
       "      <td>1</td>\n",
       "    </tr>\n",
       "  </tbody>\n",
       "</table>\n",
       "</div>"
      ],
      "text/plain": [
       "  DAYOFSERVICE   TRIPID  PROGRNUMBER  STOPPOINTID  PLANNEDTIME_ARR  \\\n",
       "0   2018-01-01  5958355            3         1172            23799   \n",
       "1   2018-01-01  5958355            4         1173            23860   \n",
       "2   2018-01-01  5958355            5         1174            23937   \n",
       "3   2018-01-01  5958355            6         1175            24048   \n",
       "4   2018-01-01  5958355            7           15            24130   \n",
       "\n",
       "   ACTUALTIME_ARR  ACTUALTIME_DEP LINEID  DIRECTION ROUTEID  \\\n",
       "0           23863           23863     41          1    41_3   \n",
       "1           23934           24072     41          1    41_3   \n",
       "2           24114           24140     41          1    41_3   \n",
       "3           24180           24192     41          1    41_3   \n",
       "4           24227           24257     41          1    41_3   \n",
       "\n",
       "   Arrival_lateEarly  departure_lateEarly  planned_arr_dep_equality  year  \\\n",
       "0              False                False                      True  2018   \n",
       "1              False                False                      True  2018   \n",
       "2              False                False                      True  2018   \n",
       "3              False                False                      True  2018   \n",
       "4              False                False                      True  2018   \n",
       "\n",
       "   day  month  dayofweek_num  quarter  \n",
       "0    1      1              0        1  \n",
       "1    1      1              0        1  \n",
       "2    1      1              0        1  \n",
       "3    1      1              0        1  \n",
       "4    1      1              0        1  "
      ]
     },
     "execution_count": 9,
     "metadata": {},
     "output_type": "execute_result"
    }
   ],
   "source": [
    "df_Jan_trips.head()"
   ]
  },
  {
   "cell_type": "markdown",
   "metadata": {},
   "source": [
    "## Dataframe for model training\n",
    "**dataframe necessary To train a LightGBM Model for Target variable \"ACTUALTIME_ARR\" is ontained bellow**"
   ]
  },
  {
   "cell_type": "code",
   "execution_count": 78,
   "metadata": {},
   "outputs": [],
   "source": [
    "df_Jan_trips_arr = df_Jan_trips[[\"year\",\"month\",\"dayofweek_num\",\"quarter\",\"LINEID\",\"DIRECTION\",\"STOPPOINTID\",\"PROGRNUMBER\",\"PLANNEDTIME_ARR\",\"ACTUALTIME_ARR\"]]"
   ]
  },
  {
   "cell_type": "markdown",
   "metadata": {},
   "source": [
    "### Nature of data"
   ]
  },
  {
   "cell_type": "code",
   "execution_count": 79,
   "metadata": {
    "scrolled": true
   },
   "outputs": [
    {
     "data": {
      "text/html": [
       "<div>\n",
       "<style scoped>\n",
       "    .dataframe tbody tr th:only-of-type {\n",
       "        vertical-align: middle;\n",
       "    }\n",
       "\n",
       "    .dataframe tbody tr th {\n",
       "        vertical-align: top;\n",
       "    }\n",
       "\n",
       "    .dataframe thead th {\n",
       "        text-align: right;\n",
       "    }\n",
       "</style>\n",
       "<table border=\"1\" class=\"dataframe\">\n",
       "  <thead>\n",
       "    <tr style=\"text-align: right;\">\n",
       "      <th></th>\n",
       "      <th>year</th>\n",
       "      <th>month</th>\n",
       "      <th>dayofweek_num</th>\n",
       "      <th>quarter</th>\n",
       "      <th>LINEID</th>\n",
       "      <th>DIRECTION</th>\n",
       "      <th>STOPPOINTID</th>\n",
       "      <th>PROGRNUMBER</th>\n",
       "      <th>PLANNEDTIME_ARR</th>\n",
       "      <th>ACTUALTIME_ARR</th>\n",
       "    </tr>\n",
       "  </thead>\n",
       "  <tbody>\n",
       "    <tr>\n",
       "      <th>0</th>\n",
       "      <td>2018</td>\n",
       "      <td>1</td>\n",
       "      <td>0</td>\n",
       "      <td>1</td>\n",
       "      <td>41</td>\n",
       "      <td>1</td>\n",
       "      <td>1172</td>\n",
       "      <td>3</td>\n",
       "      <td>23799</td>\n",
       "      <td>23863</td>\n",
       "    </tr>\n",
       "    <tr>\n",
       "      <th>1</th>\n",
       "      <td>2018</td>\n",
       "      <td>1</td>\n",
       "      <td>0</td>\n",
       "      <td>1</td>\n",
       "      <td>41</td>\n",
       "      <td>1</td>\n",
       "      <td>1173</td>\n",
       "      <td>4</td>\n",
       "      <td>23860</td>\n",
       "      <td>23934</td>\n",
       "    </tr>\n",
       "    <tr>\n",
       "      <th>2</th>\n",
       "      <td>2018</td>\n",
       "      <td>1</td>\n",
       "      <td>0</td>\n",
       "      <td>1</td>\n",
       "      <td>41</td>\n",
       "      <td>1</td>\n",
       "      <td>1174</td>\n",
       "      <td>5</td>\n",
       "      <td>23937</td>\n",
       "      <td>24114</td>\n",
       "    </tr>\n",
       "    <tr>\n",
       "      <th>3</th>\n",
       "      <td>2018</td>\n",
       "      <td>1</td>\n",
       "      <td>0</td>\n",
       "      <td>1</td>\n",
       "      <td>41</td>\n",
       "      <td>1</td>\n",
       "      <td>1175</td>\n",
       "      <td>6</td>\n",
       "      <td>24048</td>\n",
       "      <td>24180</td>\n",
       "    </tr>\n",
       "    <tr>\n",
       "      <th>4</th>\n",
       "      <td>2018</td>\n",
       "      <td>1</td>\n",
       "      <td>0</td>\n",
       "      <td>1</td>\n",
       "      <td>41</td>\n",
       "      <td>1</td>\n",
       "      <td>15</td>\n",
       "      <td>7</td>\n",
       "      <td>24130</td>\n",
       "      <td>24227</td>\n",
       "    </tr>\n",
       "  </tbody>\n",
       "</table>\n",
       "</div>"
      ],
      "text/plain": [
       "   year  month  dayofweek_num  quarter LINEID  DIRECTION  STOPPOINTID  \\\n",
       "0  2018      1              0        1     41          1         1172   \n",
       "1  2018      1              0        1     41          1         1173   \n",
       "2  2018      1              0        1     41          1         1174   \n",
       "3  2018      1              0        1     41          1         1175   \n",
       "4  2018      1              0        1     41          1           15   \n",
       "\n",
       "   PROGRNUMBER  PLANNEDTIME_ARR  ACTUALTIME_ARR  \n",
       "0            3            23799           23863  \n",
       "1            4            23860           23934  \n",
       "2            5            23937           24114  \n",
       "3            6            24048           24180  \n",
       "4            7            24130           24227  "
      ]
     },
     "execution_count": 79,
     "metadata": {},
     "output_type": "execute_result"
    }
   ],
   "source": [
    "df_Jan_trips_arr.head()"
   ]
  },
  {
   "cell_type": "code",
   "execution_count": 80,
   "metadata": {},
   "outputs": [
    {
     "data": {
      "text/plain": [
       "year                int64\n",
       "month               int64\n",
       "dayofweek_num       int64\n",
       "quarter             int64\n",
       "LINEID             object\n",
       "DIRECTION            int8\n",
       "STOPPOINTID         int16\n",
       "PROGRNUMBER          int8\n",
       "PLANNEDTIME_ARR     int32\n",
       "ACTUALTIME_ARR      int32\n",
       "dtype: object"
      ]
     },
     "execution_count": 80,
     "metadata": {},
     "output_type": "execute_result"
    }
   ],
   "source": [
    "df_Jan_trips_arr.dtypes"
   ]
  },
  {
   "cell_type": "code",
   "execution_count": 81,
   "metadata": {},
   "outputs": [
    {
     "name": "stdout",
     "output_type": "stream",
     "text": [
      "<class 'pandas.core.frame.DataFrame'>\n",
      "RangeIndex: 9600545 entries, 0 to 9600544\n",
      "Data columns (total 10 columns):\n",
      " #   Column           Non-Null Count    Dtype \n",
      "---  ------           --------------    ----- \n",
      " 0   year             9600545 non-null  int64 \n",
      " 1   month            9600545 non-null  int64 \n",
      " 2   dayofweek_num    9600545 non-null  int64 \n",
      " 3   quarter          9600545 non-null  int64 \n",
      " 4   LINEID           9600545 non-null  object\n",
      " 5   DIRECTION        9600545 non-null  int8  \n",
      " 6   STOPPOINTID      9600545 non-null  int16 \n",
      " 7   PROGRNUMBER      9600545 non-null  int8  \n",
      " 8   PLANNEDTIME_ARR  9600545 non-null  int32 \n",
      " 9   ACTUALTIME_ARR   9600545 non-null  int32 \n",
      "dtypes: int16(1), int32(2), int64(4), int8(2), object(1)\n",
      "memory usage: 476.1+ MB\n"
     ]
    }
   ],
   "source": [
    "df_Jan_trips_arr.info(null_counts=True)"
   ]
  },
  {
   "cell_type": "code",
   "execution_count": 82,
   "metadata": {},
   "outputs": [
    {
     "data": {
      "text/plain": [
       "year                   1\n",
       "month                  1\n",
       "dayofweek_num          7\n",
       "quarter                1\n",
       "LINEID               126\n",
       "DIRECTION              2\n",
       "STOPPOINTID         4602\n",
       "PROGRNUMBER          102\n",
       "PLANNEDTIME_ARR    67749\n",
       "ACTUALTIME_ARR     70065\n",
       "dtype: int64"
      ]
     },
     "execution_count": 82,
     "metadata": {},
     "output_type": "execute_result"
    }
   ],
   "source": [
    "df_Jan_trips_arr.nunique()"
   ]
  },
  {
   "cell_type": "markdown",
   "metadata": {},
   "source": [
    "## Train model for each LINEID for each direction"
   ]
  },
  {
   "cell_type": "code",
   "execution_count": 83,
   "metadata": {},
   "outputs": [],
   "source": [
    "LINEID_list = df_Jan_trips_arr[\"LINEID\"].unique()\n",
    "# LINEID_list = array(['41', '66', '77A', '130', '151',...'161', '68X', '33D'],dtype=object)"
   ]
  },
  {
   "cell_type": "markdown",
   "metadata": {},
   "source": [
    "## Model"
   ]
  },
  {
   "cell_type": "markdown",
   "metadata": {},
   "source": [
    "###  Dataframe with data for LINEID 41"
   ]
  },
  {
   "cell_type": "code",
   "execution_count": 84,
   "metadata": {},
   "outputs": [],
   "source": [
    "df_Jan_trips_arr_41 = df_Jan_trips_arr.loc[(df_Jan_trips_arr[\"LINEID\"] == \"41\")].copy()"
   ]
  },
  {
   "cell_type": "code",
   "execution_count": 142,
   "metadata": {},
   "outputs": [
    {
     "name": "stdout",
     "output_type": "stream",
     "text": [
      "<class 'pandas.core.frame.DataFrame'>\n",
      "Int64Index: 147405 entries, 0 to 9599673\n",
      "Data columns (total 10 columns):\n",
      " #   Column           Non-Null Count   Dtype \n",
      "---  ------           --------------   ----- \n",
      " 0   year             147405 non-null  int64 \n",
      " 1   month            147405 non-null  int64 \n",
      " 2   dayofweek_num    147405 non-null  int64 \n",
      " 3   quarter          147405 non-null  int64 \n",
      " 4   LINEID           147405 non-null  object\n",
      " 5   DIRECTION        147405 non-null  int8  \n",
      " 6   STOPPOINTID      147405 non-null  int16 \n",
      " 7   PROGRNUMBER      147405 non-null  int8  \n",
      " 8   PLANNEDTIME_ARR  147405 non-null  int32 \n",
      " 9   ACTUALTIME_ARR   147405 non-null  int32 \n",
      "dtypes: int16(1), int32(2), int64(4), int8(2), object(1)\n",
      "memory usage: 8.4+ MB\n"
     ]
    }
   ],
   "source": [
    "df_Jan_trips_arr_41.info(null_counts=True)"
   ]
  },
  {
   "cell_type": "code",
   "execution_count": 85,
   "metadata": {},
   "outputs": [
    {
     "data": {
      "text/plain": [
       "year                   1\n",
       "month                  1\n",
       "dayofweek_num          7\n",
       "quarter                1\n",
       "LINEID                 1\n",
       "DIRECTION              2\n",
       "STOPPOINTID          105\n",
       "PROGRNUMBER           56\n",
       "PLANNEDTIME_ARR    26412\n",
       "ACTUALTIME_ARR     58511\n",
       "dtype: int64"
      ]
     },
     "execution_count": 85,
     "metadata": {},
     "output_type": "execute_result"
    }
   ],
   "source": [
    "df_Jan_trips_arr_41.nunique()"
   ]
  },
  {
   "cell_type": "markdown",
   "metadata": {},
   "source": [
    "### Input and Output features"
   ]
  },
  {
   "cell_type": "code",
   "execution_count": 98,
   "metadata": {
    "scrolled": false
   },
   "outputs": [],
   "source": [
    "X = df_Jan_trips_arr_41[[\"year\",\"month\",\"dayofweek_num\",\"quarter\",\"LINEID\",\"PROGRNUMBER\",\\\n",
    "                         \"STOPPOINTID\",\"DIRECTION\",\"PLANNEDTIME_ARR\"]]\n",
    "Y = df_Jan_trips_arr_41[[\"ACTUALTIME_ARR\"]]"
   ]
  },
  {
   "cell_type": "markdown",
   "metadata": {},
   "source": [
    "#### Typecast input features"
   ]
  },
  {
   "cell_type": "code",
   "execution_count": 99,
   "metadata": {},
   "outputs": [],
   "source": [
    "X['year'] = X['year'].astype('category')\n",
    "X['month'] = X['month'].astype('category')\n",
    "X['dayofweek_num'] = X['dayofweek_num'].astype('category')\n",
    "X['quarter'] = X['quarter'].astype('category')\n",
    "X['PROGRNUMBER'] = X['PROGRNUMBER'].astype('category')\n",
    "X['STOPPOINTID'] = X['STOPPOINTID'].astype('category')\n",
    "X['PLANNEDTIME_ARR'] = pd.to_numeric(X['PLANNEDTIME_ARR'], downcast='integer', errors='coerce')\n",
    "X['LINEID'] = X['LINEID'].astype('category')\n",
    "X['DIRECTION'] = X['DIRECTION'].astype('category')"
   ]
  },
  {
   "cell_type": "markdown",
   "metadata": {},
   "source": [
    "#### Typecast target features"
   ]
  },
  {
   "cell_type": "code",
   "execution_count": 100,
   "metadata": {},
   "outputs": [],
   "source": [
    "Y['ACTUALTIME_ARR'] = pd.to_numeric(Y['ACTUALTIME_ARR'], downcast='integer', errors='coerce')"
   ]
  },
  {
   "cell_type": "markdown",
   "metadata": {},
   "source": [
    "#### list categorical and numeric columns of input features for transformation"
   ]
  },
  {
   "cell_type": "code",
   "execution_count": 101,
   "metadata": {},
   "outputs": [],
   "source": [
    "cat_col = list(X.select_dtypes(include=['category']).columns)\n",
    "num_col = list(X.select_dtypes(exclude=['category','object','datetime']).columns)"
   ]
  },
  {
   "cell_type": "markdown",
   "metadata": {},
   "source": [
    "### Linear Regression pipeline"
   ]
  },
  {
   "cell_type": "code",
   "execution_count": 124,
   "metadata": {
    "scrolled": false
   },
   "outputs": [],
   "source": [
    "'''\n",
    "Pipeline with transformed target regressor is defined\n",
    "'''\n",
    "# X = pd.get_dummies(X)\n",
    "# X.head()\n",
    "\n",
    "std_scalar = StandardScaler()\n",
    "oh_encoder = OneHotEncoder()\n",
    "\n",
    "pipe_lin_reg = make_pipeline(\n",
    "    ColumnTransformer([\n",
    "        ('num', std_scalar, num_col),\n",
    "        ('cat', oh_encoder, cat_col),    \n",
    "    ]),\n",
    "    LinearRegression()\n",
    ")\n",
    "\n",
    "lin_regressor = TransformedTargetRegressor(regressor=pipe_lin_reg, transformer=std_scalar)"
   ]
  },
  {
   "cell_type": "code",
   "execution_count": 125,
   "metadata": {},
   "outputs": [],
   "source": [
    "def cross_val_LinRegCalc(X, y, scoring='accuracy', cv=3):\n",
    "    \"\"\"Functions to carry out cross validation on the linear regression model\n",
    "    Default number of validations is 3. The randon state will be updated \n",
    "    at each iteration to allow our results to be repeated\"\"\"\n",
    "    \n",
    "    # store results\n",
    "    results = []\n",
    "    # evaluate cv times and append to results\n",
    "    for i in range(cv):\n",
    "        # set up train test split\n",
    "        X_train, X_test, y_train, y_test = train_test_split(X, y, random_state=i , test_size=0.3)\n",
    "        # generate model\n",
    "        multi_LinReg_model = lin_regressor.fit(X_train, y_train)\n",
    "        # threshold\n",
    "        multi_LinReg_predict = multi_LinReg_model.predict(X_test)\n",
    "        # calc score\n",
    "        if scoring=='R2':\n",
    "            score = metrics.r2_score(y_test, multi_LinReg_predict)\n",
    "        elif scoring=='RMSE':\n",
    "            score = math.sqrt(metrics.mean_squared_error(y_test, multi_LinReg_predict))\n",
    "        # append to results\n",
    "        results.append(score)\n",
    "    return results, multi_LinReg_model"
   ]
  },
  {
   "cell_type": "code",
   "execution_count": 126,
   "metadata": {},
   "outputs": [],
   "source": [
    "def cross_val_linReg(X,y,cvVal=3):\n",
    "    \"\"\"Function to perform cross validation and store results \n",
    "    in dataframe. Cross validation looks at R2 score, RMSE\n",
    "    and returns a dataframe with results\"\"\"\n",
    "\n",
    "    linRegResults = {}\n",
    "    # metrics to test against\n",
    "    test_metrics = ['R2','RMSE']\n",
    "    \n",
    "    for metric in test_metrics:\n",
    "        # generate test results\n",
    "        result,multi_LinReg_model = cross_val_LinRegCalc(X, y, cv=cvVal, scoring=metric)\n",
    "        length = len(result)\n",
    "        # store result in dict\n",
    "        linRegResults[metric] = sum(result)/length\n",
    "\n",
    "    # create dataframe with results\n",
    "    LinRegDF = pd.DataFrame.from_dict(linRegResults, orient='index', columns=['Linear_Regression'])\n",
    "    \n",
    "    return LinRegDF"
   ]
  },
  {
   "cell_type": "markdown",
   "metadata": {},
   "source": [
    "### Model evaluation"
   ]
  },
  {
   "cell_type": "markdown",
   "metadata": {},
   "source": [
    "#### Model metrics"
   ]
  },
  {
   "cell_type": "code",
   "execution_count": 127,
   "metadata": {
    "scrolled": true
   },
   "outputs": [
    {
     "name": "stdout",
     "output_type": "stream",
     "text": [
      "      Linear_Regression\n",
      "R2             0.999679\n",
      "RMSE         313.304048\n"
     ]
    }
   ],
   "source": [
    "print(cross_val_linReg(X,Y))"
   ]
  },
  {
   "cell_type": "markdown",
   "metadata": {},
   "source": [
    "#### Model test IO pair"
   ]
  },
  {
   "cell_type": "code",
   "execution_count": 136,
   "metadata": {},
   "outputs": [],
   "source": [
    "X_train, X_test, y_train, y_test = train_test_split(X, Y, random_state=1 , test_size=0.3)"
   ]
  },
  {
   "cell_type": "code",
   "execution_count": 138,
   "metadata": {},
   "outputs": [
    {
     "data": {
      "text/html": [
       "<div>\n",
       "<style scoped>\n",
       "    .dataframe tbody tr th:only-of-type {\n",
       "        vertical-align: middle;\n",
       "    }\n",
       "\n",
       "    .dataframe tbody tr th {\n",
       "        vertical-align: top;\n",
       "    }\n",
       "\n",
       "    .dataframe thead th {\n",
       "        text-align: right;\n",
       "    }\n",
       "</style>\n",
       "<table border=\"1\" class=\"dataframe\">\n",
       "  <thead>\n",
       "    <tr style=\"text-align: right;\">\n",
       "      <th></th>\n",
       "      <th>year</th>\n",
       "      <th>month</th>\n",
       "      <th>dayofweek_num</th>\n",
       "      <th>quarter</th>\n",
       "      <th>LINEID</th>\n",
       "      <th>PROGRNUMBER</th>\n",
       "      <th>STOPPOINTID</th>\n",
       "      <th>DIRECTION</th>\n",
       "      <th>PLANNEDTIME_ARR</th>\n",
       "    </tr>\n",
       "  </thead>\n",
       "  <tbody>\n",
       "    <tr>\n",
       "      <th>2009826</th>\n",
       "      <td>2018</td>\n",
       "      <td>1</td>\n",
       "      <td>0</td>\n",
       "      <td>1</td>\n",
       "      <td>41</td>\n",
       "      <td>11</td>\n",
       "      <td>5078</td>\n",
       "      <td>2</td>\n",
       "      <td>23475</td>\n",
       "    </tr>\n",
       "    <tr>\n",
       "      <th>3587777</th>\n",
       "      <td>2018</td>\n",
       "      <td>1</td>\n",
       "      <td>4</td>\n",
       "      <td>1</td>\n",
       "      <td>41</td>\n",
       "      <td>33</td>\n",
       "      <td>3675</td>\n",
       "      <td>1</td>\n",
       "      <td>57264</td>\n",
       "    </tr>\n",
       "  </tbody>\n",
       "</table>\n",
       "</div>"
      ],
      "text/plain": [
       "         year month dayofweek_num quarter LINEID PROGRNUMBER STOPPOINTID  \\\n",
       "2009826  2018     1             0       1     41          11        5078   \n",
       "3587777  2018     1             4       1     41          33        3675   \n",
       "\n",
       "        DIRECTION  PLANNEDTIME_ARR  \n",
       "2009826         2            23475  \n",
       "3587777         1            57264  "
      ]
     },
     "execution_count": 138,
     "metadata": {},
     "output_type": "execute_result"
    }
   ],
   "source": [
    "X_test[:2]"
   ]
  },
  {
   "cell_type": "code",
   "execution_count": 140,
   "metadata": {},
   "outputs": [
    {
     "data": {
      "text/html": [
       "<div>\n",
       "<style scoped>\n",
       "    .dataframe tbody tr th:only-of-type {\n",
       "        vertical-align: middle;\n",
       "    }\n",
       "\n",
       "    .dataframe tbody tr th {\n",
       "        vertical-align: top;\n",
       "    }\n",
       "\n",
       "    .dataframe thead th {\n",
       "        text-align: right;\n",
       "    }\n",
       "</style>\n",
       "<table border=\"1\" class=\"dataframe\">\n",
       "  <thead>\n",
       "    <tr style=\"text-align: right;\">\n",
       "      <th></th>\n",
       "      <th>ACTUALTIME_ARR</th>\n",
       "    </tr>\n",
       "  </thead>\n",
       "  <tbody>\n",
       "    <tr>\n",
       "      <th>2009826</th>\n",
       "      <td>23454</td>\n",
       "    </tr>\n",
       "    <tr>\n",
       "      <th>3587777</th>\n",
       "      <td>57066</td>\n",
       "    </tr>\n",
       "  </tbody>\n",
       "</table>\n",
       "</div>"
      ],
      "text/plain": [
       "         ACTUALTIME_ARR\n",
       "2009826           23454\n",
       "3587777           57066"
      ]
     },
     "execution_count": 140,
     "metadata": {},
     "output_type": "execute_result"
    }
   ],
   "source": [
    "y_test[:2]"
   ]
  },
  {
   "cell_type": "markdown",
   "metadata": {},
   "source": [
    "#### Model test run"
   ]
  },
  {
   "cell_type": "code",
   "execution_count": 139,
   "metadata": {},
   "outputs": [
    {
     "data": {
      "text/plain": [
       "array([[23439.44989556],\n",
       "       [57388.43974369]])"
      ]
     },
     "execution_count": 139,
     "metadata": {},
     "output_type": "execute_result"
    }
   ],
   "source": [
    "multi_LinReg_model = lin_regressor.fit(X,Y)\n",
    "multi_LinReg_model.predict(X_test[:2])"
   ]
  },
  {
   "cell_type": "code",
   "execution_count": null,
   "metadata": {},
   "outputs": [],
   "source": [
    "    "
   ]
  }
 ],
 "metadata": {
  "kernelspec": {
   "display_name": "envDA",
   "language": "python",
   "name": "envda"
  },
  "language_info": {
   "codemirror_mode": {
    "name": "ipython",
    "version": 3
   },
   "file_extension": ".py",
   "mimetype": "text/x-python",
   "name": "python",
   "nbconvert_exporter": "python",
   "pygments_lexer": "ipython3",
   "version": "3.7.7"
  },
  "toc": {
   "base_numbering": 1,
   "nav_menu": {},
   "number_sections": true,
   "sideBar": true,
   "skip_h1_title": false,
   "title_cell": "Table of Contents",
   "title_sidebar": "Contents",
   "toc_cell": false,
   "toc_position": {},
   "toc_section_display": true,
   "toc_window_display": false
  }
 },
 "nbformat": 4,
 "nbformat_minor": 4
}
