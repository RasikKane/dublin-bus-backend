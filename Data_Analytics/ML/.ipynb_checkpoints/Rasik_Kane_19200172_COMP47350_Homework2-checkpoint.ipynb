{
 "cells": [
  {
   "cell_type": "markdown",
   "metadata": {},
   "source": [
    "**DATA ANALYTICS HOMEWORK 2**<br><br>\n",
    "Assignment for :  module COMP47350(CONV) offered at UCD school of computer science<br>\n",
    "Submitted by : Rasik Kane (19200172)\n",
    "\n",
    "Incase this file is not functioning well, please refer to attached html form of this notebook in folder /2019-Homework2-Notebook/2019-Homework2-Notebook.html"
   ]
  },
  {
   "cell_type": "markdown",
   "metadata": {
    "toc": true
   },
   "source": [
    "<h1>Table of Contents<span class=\"tocSkip\"></span></h1>\n",
    "<div class=\"toc\"><ul class=\"toc-item\"><li><ul class=\"toc-item\"><li><span><a href=\"#Exercises\" data-toc-modified-id=\"Exercises-0.1\"><span class=\"toc-item-num\">0.1&nbsp;&nbsp;</span>Exercises</a></span></li><li><span><a href=\"#Introduction\" data-toc-modified-id=\"Introduction-0.2\"><span class=\"toc-item-num\">0.2&nbsp;&nbsp;</span>Introduction</a></span></li><li><span><a href=\"#Key-sections-in-notebook-:-MUST-READ-!!!\" data-toc-modified-id=\"Key-sections-in-notebook-:-MUST-READ-!!!-0.3\"><span class=\"toc-item-num\">0.3&nbsp;&nbsp;</span>Key sections in notebook : MUST READ !!!</a></span></li></ul></li><li><span><a href=\"#Data-preparation\" data-toc-modified-id=\"Data-preparation-1\"><span class=\"toc-item-num\">1&nbsp;&nbsp;</span>Data preparation</a></span><ul class=\"toc-item\"><li><span><a href=\"#Import-modules-and-clean-data\" data-toc-modified-id=\"Import-modules-and-clean-data-1.1\"><span class=\"toc-item-num\">1.1&nbsp;&nbsp;</span>Import modules and clean data</a></span><ul class=\"toc-item\"><li><span><a href=\"#Import-modules\" data-toc-modified-id=\"Import-modules-1.1.1\"><span class=\"toc-item-num\">1.1.1&nbsp;&nbsp;</span>Import modules</a></span></li><li><span><a href=\"#Import-and-describe-data-from-CSV-file\" data-toc-modified-id=\"Import-and-describe-data-from-CSV-file-1.1.2\"><span class=\"toc-item-num\">1.1.2&nbsp;&nbsp;</span>Import and describe data from CSV file</a></span><ul class=\"toc-item\"><li><span><a href=\"#Summary-of-data-quality-plan\" data-toc-modified-id=\"Summary-of-data-quality-plan-1.1.2.1\"><span class=\"toc-item-num\">1.1.2.1&nbsp;&nbsp;</span>Summary of data quality plan</a></span></li><li><span><a href=\"#Covert-features-to-standard-data-types\" data-toc-modified-id=\"Covert-features-to-standard-data-types-1.1.2.2\"><span class=\"toc-item-num\">1.1.2.2&nbsp;&nbsp;</span>Covert features to standard data types</a></span></li><li><span><a href=\"#Count-number-of-distinct-values-assumed-by-data-for-each-feature\" data-toc-modified-id=\"Count-number-of-distinct-values-assumed-by-data-for-each-feature-1.1.2.3\"><span class=\"toc-item-num\">1.1.2.3&nbsp;&nbsp;</span>Count number of distinct values assumed by data for each feature</a></span></li><li><span><a href=\"#Discriptive-statistics-for-continuous-features\" data-toc-modified-id=\"Discriptive-statistics-for-continuous-features-1.1.2.4\"><span class=\"toc-item-num\">1.1.2.4&nbsp;&nbsp;</span>Discriptive statistics for continuous features</a></span></li><li><span><a href=\"#Discriptive-statistics-for-categorical-features\" data-toc-modified-id=\"Discriptive-statistics-for-categorical-features-1.1.2.5\"><span class=\"toc-item-num\">1.1.2.5&nbsp;&nbsp;</span>Discriptive statistics for categorical features</a></span></li><li><span><a href=\"#Confirming-status-of-correlation-for-continuous-columns\" data-toc-modified-id=\"Confirming-status-of-correlation-for-continuous-columns-1.1.2.6\"><span class=\"toc-item-num\">1.1.2.6&nbsp;&nbsp;</span>Confirming status of correlation for continuous columns</a></span></li></ul></li><li><span><a href=\"#Data-cleaning-action\" data-toc-modified-id=\"Data-cleaning-action-1.1.3\"><span class=\"toc-item-num\">1.1.3&nbsp;&nbsp;</span>Data cleaning action<br></a></span></li><li><span><a href=\"#Process-features-with-large-cardinality\" data-toc-modified-id=\"Process-features-with-large-cardinality-1.1.4\"><span class=\"toc-item-num\">1.1.4&nbsp;&nbsp;</span>Process features with large cardinality</a></span><ul class=\"toc-item\"><li><span><a href=\"#Name_Intake\" data-toc-modified-id=\"Name_Intake-1.1.4.1\"><span class=\"toc-item-num\">1.1.4.1&nbsp;&nbsp;</span>Name_Intake</a></span></li><li><span><a href=\"#Date-of-Birth,-DateTime_Intake,-DateTime_Outcome\" data-toc-modified-id=\"Date-of-Birth,-DateTime_Intake,-DateTime_Outcome-1.1.4.2\"><span class=\"toc-item-num\">1.1.4.2&nbsp;&nbsp;</span>Date of Birth, DateTime_Intake, DateTime_Outcome</a></span></li><li><span><a href=\"#Age-upon-Intake,-Age-upon-Outcome\" data-toc-modified-id=\"Age-upon-Intake,-Age-upon-Outcome-1.1.4.3\"><span class=\"toc-item-num\">1.1.4.3&nbsp;&nbsp;</span>Age upon Intake, Age upon Outcome</a></span></li><li><span><a href=\"#found_Address_Line1\" data-toc-modified-id=\"found_Address_Line1-1.1.4.4\"><span class=\"toc-item-num\">1.1.4.4&nbsp;&nbsp;</span>found_Address_Line1</a></span></li></ul></li><li><span><a href=\"#Data-type-casting\" data-toc-modified-id=\"Data-type-casting-1.1.5\"><span class=\"toc-item-num\">1.1.5&nbsp;&nbsp;</span>Data type casting</a></span><ul class=\"toc-item\"><li><span><a href=\"#Check-Datatypes\" data-toc-modified-id=\"Check-Datatypes-1.1.5.1\"><span class=\"toc-item-num\">1.1.5.1&nbsp;&nbsp;</span>Check Datatypes</a></span></li><li><span><a href=\"#Decide-Datatypes\" data-toc-modified-id=\"Decide-Datatypes-1.1.5.2\"><span class=\"toc-item-num\">1.1.5.2&nbsp;&nbsp;</span>Decide Datatypes</a></span></li><li><span><a href=\"#Convert-features-to-decided-data-types\" data-toc-modified-id=\"Convert-features-to-decided-data-types-1.1.5.3\"><span class=\"toc-item-num\">1.1.5.3&nbsp;&nbsp;</span>Convert features to decided data types</a></span></li><li><span><a href=\"#Check-Datatypes\" data-toc-modified-id=\"Check-Datatypes-1.1.5.4\"><span class=\"toc-item-num\">1.1.5.4&nbsp;&nbsp;</span>Check Datatypes</a></span></li></ul></li><li><span><a href=\"#Save-dataframe-for-future-use\" data-toc-modified-id=\"Save-dataframe-for-future-use-1.1.6\"><span class=\"toc-item-num\">1.1.6&nbsp;&nbsp;</span>Save dataframe for future use</a></span></li></ul></li><li><span><a href=\"#Data-visualization\" data-toc-modified-id=\"Data-visualization-1.2\"><span class=\"toc-item-num\">1.2&nbsp;&nbsp;</span>Data visualization</a></span><ul class=\"toc-item\"><li><span><a href=\"#Categorical-features-vs-Taget-feature\" data-toc-modified-id=\"Categorical-features-vs-Taget-feature-1.2.1\"><span class=\"toc-item-num\">1.2.1&nbsp;&nbsp;</span>Categorical features vs Taget feature</a></span></li><li><span><a href=\"#Select-features-for-prediction\" data-toc-modified-id=\"Select-features-for-prediction-1.2.2\"><span class=\"toc-item-num\">1.2.2&nbsp;&nbsp;</span>Select features for prediction</a></span></li><li><span><a href=\"#Dataframe-of-selected-features\" data-toc-modified-id=\"Dataframe-of-selected-features-1.2.3\"><span class=\"toc-item-num\">1.2.3&nbsp;&nbsp;</span>Dataframe of selected features</a></span></li><li><span><a href=\"#Save-dataframe-with-selected-columns-for-future-use\" data-toc-modified-id=\"Save-dataframe-with-selected-columns-for-future-use-1.2.4\"><span class=\"toc-item-num\">1.2.4&nbsp;&nbsp;</span>Save dataframe with selected columns for future use</a></span></li></ul></li><li><span><a href=\"#Chi-Squared-Test\" data-toc-modified-id=\"Chi-Squared-Test-1.3\"><span class=\"toc-item-num\">1.3&nbsp;&nbsp;</span>Chi Squared Test</a></span><ul class=\"toc-item\"><li><span><a href=\"#High-correlation-features\" data-toc-modified-id=\"High-correlation-features-1.3.1\"><span class=\"toc-item-num\">1.3.1&nbsp;&nbsp;</span>High correlation features</a></span></li><li><span><a href=\"#Save-dataframe-with-high-correlation-features-for-future-use\" data-toc-modified-id=\"Save-dataframe-with-high-correlation-features-for-future-use-1.3.2\"><span class=\"toc-item-num\">1.3.2&nbsp;&nbsp;</span>Save dataframe with high correlation features for future use</a></span></li><li><span><a href=\"#Interpretation-of-the-results\" data-toc-modified-id=\"Interpretation-of-the-results-1.3.3\"><span class=\"toc-item-num\">1.3.3&nbsp;&nbsp;</span>Interpretation of the results</a></span></li></ul></li><li><span><a href=\"#Form-datasets\" data-toc-modified-id=\"Form-datasets-1.4\"><span class=\"toc-item-num\">1.4&nbsp;&nbsp;</span>Form datasets</a></span><ul class=\"toc-item\"><li><span><a href=\"#One-hot-Encoded-feaures\" data-toc-modified-id=\"One-hot-Encoded-feaures-1.4.1\"><span class=\"toc-item-num\">1.4.1&nbsp;&nbsp;</span>One hot Encoded feaures</a></span></li><li><span><a href=\"#Split-and-view-data\" data-toc-modified-id=\"Split-and-view-data-1.4.2\"><span class=\"toc-item-num\">1.4.2&nbsp;&nbsp;</span>Split and view data</a></span></li><li><span><a href=\"#Support-functions\" data-toc-modified-id=\"Support-functions-1.4.3\"><span class=\"toc-item-num\">1.4.3&nbsp;&nbsp;</span>Support functions</a></span><ul class=\"toc-item\"><li><span><a href=\"#Print-prediction\" data-toc-modified-id=\"Print-prediction-1.4.3.1\"><span class=\"toc-item-num\">1.4.3.1&nbsp;&nbsp;</span>Print prediction</a></span></li><li><span><a href=\"#Print-result-metrics\" data-toc-modified-id=\"Print-result-metrics-1.4.3.2\"><span class=\"toc-item-num\">1.4.3.2&nbsp;&nbsp;</span>Print result metrics</a></span></li><li><span><a href=\"#Print-classification-report\" data-toc-modified-id=\"Print-classification-report-1.4.3.3\"><span class=\"toc-item-num\">1.4.3.3&nbsp;&nbsp;</span>Print classification report</a></span></li></ul></li></ul></li></ul></li><li><span><a href=\"#Linear-Regression\" data-toc-modified-id=\"Linear-Regression-2\"><span class=\"toc-item-num\">2&nbsp;&nbsp;</span>Linear Regression</a></span><ul class=\"toc-item\"><li><span><a href=\"#Generate-Model-with-train-data\" data-toc-modified-id=\"Generate-Model-with-train-data-2.1\"><span class=\"toc-item-num\">2.1&nbsp;&nbsp;</span>Generate Model with train data</a></span></li><li><span><a href=\"#Predict-on-training-data\" data-toc-modified-id=\"Predict-on-training-data-2.2\"><span class=\"toc-item-num\">2.2&nbsp;&nbsp;</span>Predict on training data</a></span><ul class=\"toc-item\"><li><span><a href=\"#Result-metrics\" data-toc-modified-id=\"Result-metrics-2.2.1\"><span class=\"toc-item-num\">2.2.1&nbsp;&nbsp;</span>Result metrics</a></span></li></ul></li><li><span><a href=\"#Predict-on-Testing-data\" data-toc-modified-id=\"Predict-on-Testing-data-2.3\"><span class=\"toc-item-num\">2.3&nbsp;&nbsp;</span>Predict on Testing data</a></span><ul class=\"toc-item\"><li><span><a href=\"#Result-metrics\" data-toc-modified-id=\"Result-metrics-2.3.1\"><span class=\"toc-item-num\">2.3.1&nbsp;&nbsp;</span>Result metrics</a></span></li></ul></li><li><span><a href=\"#Evaluate-model-with-3-fold-cross-vaidation\" data-toc-modified-id=\"Evaluate-model-with-3-fold-cross-vaidation-2.4\"><span class=\"toc-item-num\">2.4&nbsp;&nbsp;</span>Evaluate model with 3 fold cross vaidation</a></span></li></ul></li><li><span><a href=\"#Logistic-Regression\" data-toc-modified-id=\"Logistic-Regression-3\"><span class=\"toc-item-num\">3&nbsp;&nbsp;</span>Logistic Regression</a></span><ul class=\"toc-item\"><li><span><a href=\"#Generate-Model-with-train-data\" data-toc-modified-id=\"Generate-Model-with-train-data-3.1\"><span class=\"toc-item-num\">3.1&nbsp;&nbsp;</span>Generate Model with train data</a></span></li><li><span><a href=\"#Predict-on-training-data\" data-toc-modified-id=\"Predict-on-training-data-3.2\"><span class=\"toc-item-num\">3.2&nbsp;&nbsp;</span>Predict on training data</a></span><ul class=\"toc-item\"><li><span><a href=\"#Result-metrics\" data-toc-modified-id=\"Result-metrics-3.2.1\"><span class=\"toc-item-num\">3.2.1&nbsp;&nbsp;</span>Result metrics</a></span></li></ul></li><li><span><a href=\"#Predict-on-Testing-data\" data-toc-modified-id=\"Predict-on-Testing-data-3.3\"><span class=\"toc-item-num\">3.3&nbsp;&nbsp;</span>Predict on Testing data</a></span><ul class=\"toc-item\"><li><span><a href=\"#Result-metrics\" data-toc-modified-id=\"Result-metrics-3.3.1\"><span class=\"toc-item-num\">3.3.1&nbsp;&nbsp;</span>Result metrics</a></span></li></ul></li><li><span><a href=\"#Evaluate-model-with-3-fold-cross-vaidation\" data-toc-modified-id=\"Evaluate-model-with-3-fold-cross-vaidation-3.4\"><span class=\"toc-item-num\">3.4&nbsp;&nbsp;</span>Evaluate model with 3 fold cross vaidation</a></span></li></ul></li><li><span><a href=\"#Random-Forest\" data-toc-modified-id=\"Random-Forest-4\"><span class=\"toc-item-num\">4&nbsp;&nbsp;</span>Random Forest</a></span><ul class=\"toc-item\"><li><span><a href=\"#Random-Forest-model\" data-toc-modified-id=\"Random-Forest-model-4.1\"><span class=\"toc-item-num\">4.1&nbsp;&nbsp;</span>Random Forest model</a></span></li><li><span><a href=\"#Generate-Model-with-train-data\" data-toc-modified-id=\"Generate-Model-with-train-data-4.2\"><span class=\"toc-item-num\">4.2&nbsp;&nbsp;</span>Generate Model with train data</a></span></li><li><span><a href=\"#Predict-on-training-data\" data-toc-modified-id=\"Predict-on-training-data-4.3\"><span class=\"toc-item-num\">4.3&nbsp;&nbsp;</span>Predict on training data</a></span><ul class=\"toc-item\"><li><span><a href=\"#Result-metrics\" data-toc-modified-id=\"Result-metrics-4.3.1\"><span class=\"toc-item-num\">4.3.1&nbsp;&nbsp;</span>Result metrics</a></span></li></ul></li><li><span><a href=\"#Predict-on-Testing-data\" data-toc-modified-id=\"Predict-on-Testing-data-4.4\"><span class=\"toc-item-num\">4.4&nbsp;&nbsp;</span>Predict on Testing data</a></span><ul class=\"toc-item\"><li><span><a href=\"#Result-metrics\" data-toc-modified-id=\"Result-metrics-4.4.1\"><span class=\"toc-item-num\">4.4.1&nbsp;&nbsp;</span>Result metrics</a></span></li></ul></li><li><span><a href=\"#Evaluate-model-with-3-fold-cross-vaidation\" data-toc-modified-id=\"Evaluate-model-with-3-fold-cross-vaidation-4.5\"><span class=\"toc-item-num\">4.5&nbsp;&nbsp;</span>Evaluate model with 3 fold cross vaidation</a></span></li></ul></li><li><span><a href=\"#Improving-Predictive-Models\" data-toc-modified-id=\"Improving-Predictive-Models-5\"><span class=\"toc-item-num\">5&nbsp;&nbsp;</span>Improving Predictive Models</a></span><ul class=\"toc-item\"><li><span><a href=\"#Which-model-of-the-ones-trained-above-performs-better-at-predicting-the-target-feature?\" data-toc-modified-id=\"Which-model-of-the-ones-trained-above-performs-better-at-predicting-the-target-feature?-5.1\"><span class=\"toc-item-num\">5.1&nbsp;&nbsp;</span>Which model of the ones trained above performs better at predicting the target feature?</a></span></li><li><span><a href=\"#Compare-Model-performance-using-different-feature-subsets\" data-toc-modified-id=\"Compare-Model-performance-using-different-feature-subsets-5.2\"><span class=\"toc-item-num\">5.2&nbsp;&nbsp;</span>Compare Model performance using different feature subsets</a></span><ul class=\"toc-item\"><li><span><a href=\"#All-features\" data-toc-modified-id=\"All-features-5.2.1\"><span class=\"toc-item-num\">5.2.1&nbsp;&nbsp;</span>All features</a></span></li><li><span><a href=\"#Subset-features\" data-toc-modified-id=\"Subset-features-5.2.2\"><span class=\"toc-item-num\">5.2.2&nbsp;&nbsp;</span>Subset features</a></span></li><li><span><a href=\"#High-Correlation-features\" data-toc-modified-id=\"High-Correlation-features-5.2.3\"><span class=\"toc-item-num\">5.2.3&nbsp;&nbsp;</span>High Correlation features</a></span></li><li><span><a href=\"#Comparison-of-feature-sets\" data-toc-modified-id=\"Comparison-of-feature-sets-5.2.4\"><span class=\"toc-item-num\">5.2.4&nbsp;&nbsp;</span>Comparison of feature sets</a></span></li></ul></li><li><span><a href=\"#Further-optimisations\" data-toc-modified-id=\"Further-optimisations-5.3\"><span class=\"toc-item-num\">5.3&nbsp;&nbsp;</span>Further optimisations</a></span><ul class=\"toc-item\"><li><span><a href=\"#Optimise-Max-Depth\" data-toc-modified-id=\"Optimise-Max-Depth-5.3.1\"><span class=\"toc-item-num\">5.3.1&nbsp;&nbsp;</span>Optimise Max Depth</a></span></li><li><span><a href=\"#Optimise-Number-of-estimators\" data-toc-modified-id=\"Optimise-Number-of-estimators-5.3.2\"><span class=\"toc-item-num\">5.3.2&nbsp;&nbsp;</span>Optimise Number of estimators</a></span></li></ul></li><li><span><a href=\"#Optimise-number-of-features\" data-toc-modified-id=\"Optimise-number-of-features-5.4\"><span class=\"toc-item-num\">5.4&nbsp;&nbsp;</span>Optimise number of features</a></span><ul class=\"toc-item\"><li><ul class=\"toc-item\"><li><span><a href=\"#Obervations-for-optimal-features\" data-toc-modified-id=\"Obervations-for-optimal-features-5.4.0.1\"><span class=\"toc-item-num\">5.4.0.1&nbsp;&nbsp;</span>Obervations for optimal features</a></span></li></ul></li><li><span><a href=\"#Review-performance-of-all-models\" data-toc-modified-id=\"Review-performance-of-all-models-5.4.1\"><span class=\"toc-item-num\">5.4.1&nbsp;&nbsp;</span>Review performance of all models</a></span></li><li><span><a href=\"#Comparison-of-all-feature-sets\" data-toc-modified-id=\"Comparison-of-all-feature-sets-5.4.2\"><span class=\"toc-item-num\">5.4.2&nbsp;&nbsp;</span>Comparison of all feature sets</a></span></li><li><span><a href=\"#Save-final-model-for-future-use\" data-toc-modified-id=\"Save-final-model-for-future-use-5.4.3\"><span class=\"toc-item-num\">5.4.3&nbsp;&nbsp;</span>Save final model for future use</a></span></li><li><span><a href=\"#Test-Model-against-optimal-feature-inputs\" data-toc-modified-id=\"Test-Model-against-optimal-feature-inputs-5.4.4\"><span class=\"toc-item-num\">5.4.4&nbsp;&nbsp;</span>Test Model against optimal feature inputs</a></span></li></ul></li></ul></li><li><span><a href=\"#Evaluate-model-:-new-dataset-'28032020-AnimalWelfareRisk-binaryOutcome-recent-1k.csv'\" data-toc-modified-id=\"Evaluate-model-:-new-dataset-'28032020-AnimalWelfareRisk-binaryOutcome-recent-1k.csv'-6\"><span class=\"toc-item-num\">6&nbsp;&nbsp;</span>Evaluate model : new dataset '28032020-AnimalWelfareRisk-binaryOutcome-recent-1k.csv'</a></span><ul class=\"toc-item\"><li><span><a href=\"#Import-and-describe-data-from-CSV-file\" data-toc-modified-id=\"Import-and-describe-data-from-CSV-file-6.1\"><span class=\"toc-item-num\">6.1&nbsp;&nbsp;</span>Import and describe data from CSV file</a></span><ul class=\"toc-item\"><li><span><a href=\"#Covert-features-to-standard-data-types\" data-toc-modified-id=\"Covert-features-to-standard-data-types-6.1.1\"><span class=\"toc-item-num\">6.1.1&nbsp;&nbsp;</span>Covert features to standard data types</a></span></li></ul></li><li><span><a href=\"#Data-cleaning-action\" data-toc-modified-id=\"Data-cleaning-action-6.2\"><span class=\"toc-item-num\">6.2&nbsp;&nbsp;</span>Data cleaning action</a></span><ul class=\"toc-item\"><li><span><a href=\"#Name_Intake\" data-toc-modified-id=\"Name_Intake-6.2.1\"><span class=\"toc-item-num\">6.2.1&nbsp;&nbsp;</span>Name_Intake</a></span></li><li><span><a href=\"#Date-of-Birth,-DateTime_Intake,-DateTime_Outcome\" data-toc-modified-id=\"Date-of-Birth,-DateTime_Intake,-DateTime_Outcome-6.2.2\"><span class=\"toc-item-num\">6.2.2&nbsp;&nbsp;</span>Date of Birth, DateTime_Intake, DateTime_Outcome</a></span></li><li><span><a href=\"#Age-upon-Intake,-Age-upon-Outcome\" data-toc-modified-id=\"Age-upon-Intake,-Age-upon-Outcome-6.2.3\"><span class=\"toc-item-num\">6.2.3&nbsp;&nbsp;</span>Age upon Intake, Age upon Outcome</a></span></li><li><span><a href=\"#found_Address_Line1\" data-toc-modified-id=\"found_Address_Line1-6.2.4\"><span class=\"toc-item-num\">6.2.4&nbsp;&nbsp;</span>found_Address_Line1</a></span></li><li><span><a href=\"#Data-type-casting\" data-toc-modified-id=\"Data-type-casting-6.2.5\"><span class=\"toc-item-num\">6.2.5&nbsp;&nbsp;</span>Data type casting</a></span></li><li><span><a href=\"#Save-dataframe-for-future-use\" data-toc-modified-id=\"Save-dataframe-for-future-use-6.2.6\"><span class=\"toc-item-num\">6.2.6&nbsp;&nbsp;</span>Save dataframe for future use</a></span></li></ul></li><li><span><a href=\"#Predict-results-for-NEW-DATASET\" data-toc-modified-id=\"Predict-results-for-NEW-DATASET-6.3\"><span class=\"toc-item-num\">6.3&nbsp;&nbsp;</span>Predict results for NEW DATASET</a></span><ul class=\"toc-item\"><li><span><a href=\"#Form-dataframe-and-input-feature-columns\" data-toc-modified-id=\"Form-dataframe-and-input-feature-columns-6.3.1\"><span class=\"toc-item-num\">6.3.1&nbsp;&nbsp;</span>Form dataframe and input feature columns</a></span></li><li><span><a href=\"#Train-model-with-old-data-using-new-list-of-optimal-features\" data-toc-modified-id=\"Train-model-with-old-data-using-new-list-of-optimal-features-6.3.2\"><span class=\"toc-item-num\">6.3.2&nbsp;&nbsp;</span>Train model with old data using new list of optimal features</a></span></li><li><span><a href=\"#Train-and-save-model-on-old-data\" data-toc-modified-id=\"Train-and-save-model-on-old-data-6.3.3\"><span class=\"toc-item-num\">6.3.3&nbsp;&nbsp;</span>Train and save model on old data</a></span></li><li><span><a href=\"#Load-Model-and-predict-results-on-new-data\" data-toc-modified-id=\"Load-Model-and-predict-results-on-new-data-6.3.4\"><span class=\"toc-item-num\">6.3.4&nbsp;&nbsp;</span>Load Model and predict results on new data</a></span></li><li><span><a href=\"#Compare-Result-metrics-aginast-old-data-and-old-model\" data-toc-modified-id=\"Compare-Result-metrics-aginast-old-data-and-old-model-6.3.5\"><span class=\"toc-item-num\">6.3.5&nbsp;&nbsp;</span>Compare Result metrics aginast old data and old model</a></span></li></ul></li></ul></li><li><span><a href=\"#Summary\" data-toc-modified-id=\"Summary-7\"><span class=\"toc-item-num\">7&nbsp;&nbsp;</span>Summary</a></span><ul class=\"toc-item\"><li><span><a href=\"#Data-prediction-with-training-data\" data-toc-modified-id=\"Data-prediction-with-training-data-7.1\"><span class=\"toc-item-num\">7.1&nbsp;&nbsp;</span>Data prediction with training data</a></span></li><li><span><a href=\"#Data-prediction-with-new-data-provided-for-exercise\" data-toc-modified-id=\"Data-prediction-with-new-data-provided-for-exercise-7.2\"><span class=\"toc-item-num\">7.2&nbsp;&nbsp;</span>Data prediction with new data provided for exercise<br></a></span></li></ul></li></ul></div>"
   ]
  },
  {
   "cell_type": "markdown",
   "metadata": {},
   "source": [
    "<br>"
   ]
  },
  {
   "cell_type": "markdown",
   "metadata": {},
   "source": [
    "## Exercises\n",
    "\n",
    "**This homework focuses on building and evaluating prediction models for a particular problem and dataset.\n",
    "The problem and data come from an animal shelter concerned with animal welfare and reducing the risk of animal death.** \n",
    "<details>\n",
    "<summary>Assignment details</summary>\n",
    "The shelter wants to use the data collected about their animals to build a data analytics solution for death risk prediction to help them in their planning towards improving the welfare of the animals they shelter. The shelter collects some data for each animal they take in (columns in the dataset with keyword \"intake\") and also records the status of each animal when it left the shelter (columns in the dataset with keyword \"outcome\").\n",
    "The target variable to predict is a binary variable called **binary_outcome**. For this variable, the value “1” indicates that after intake, the animal outcome was negative, e.g., \"death\", while the value \"0\" indicates that the animal outcome was a positive one, e.g., was adopted or returned to the owner.\n",
    "The dataset we work with is a sample of the data released by this shelter:\n",
    "https://data.austintexas.gov/Health-and-Community-Services/Austin-Animal-Center-Outcomes/9t4d-g238\n",
    "The goal in this homework is to work with the data to build and evaluate prediction models that capture the relationship between the descriptive features and the target feature **binary_outcome**. For this homework you are asked to use the same dataset allocated to you in Homework1 (you can use your cleaned/prepared CSV from Homework1 or start from the raw dataset, clean it according to concepts covered in the lectures/labs, then use it for training prediction models).\n",
    "</details>  \n",
    "\n",
    "**There are 5 parts for this homework. Each part has an indicative maximum percentage given in brackets, e.g., part (1) has a maximum of 25% shown as [25]. The total that can be achieved is 100**\n",
    "\n",
    "<details>\n",
    "<summary>Data preparation</summary>\n",
    "      \n",
    "(1). [25] **Data Understanding and Prep:** Exploring relationships between feature pairs and selecting/transforming promising features based on a given training set.\n",
    "    - (1.1) Randomly shuffle the rows of your dataset and split the dataset into two datasets: 70% training and 30% test. Keep the test set aside. \n",
    "    - (1.2) On the training set:\n",
    "        - Plot the correlations between all the continuous features. Discuss what you see in these plots.\n",
    "        - For each continuous feature, plot its interaction with the target feature (a plot for each pair of continuous feature and target feature). Discuss what you observe from these plots, e.g., which continuous features seem to be better at predicting the target feature? Choose a subset of continuous features you find promising (if any). Justify your choices.\n",
    "        - For each categorical feature, plot its pairwise interaction with the target feature. Discuss what knowledge you gain from these plots, e.g., which categorical features seem to be better at predicting the target feature? Choose a subset of categorical features you find promising (if any). Justify your choices.\n",
    "</details>      \n",
    "\n",
    "<details>\n",
    "<summary>Linear regression</summary>\n",
    "      \n",
    "(2). [15] **Predictive Modeling:** Linear Regression.  \n",
    "    - (2.1) On the training set, train a linear regression model to predict the target feature, using only the descriptive features selected in exercise (1) above. \n",
    "    - (2.2) Print the coefficients learned by the model and discuss their role in the model (e.g., interpret the model by analysing each coefficient and how it relates the input feature to the target feature).    \n",
    "    - (2.3) Print the predicted target feature value for the first 10 training examples. Threshold the predicted target feature value given by the linear regression model at 0.5, to get the predicted class for each example. Print the predicted class for the first 10 examples. Print a few classification evaluation measures computed on the full training set (e.g., Accuracy, Confusion matrix, Precision, Recall, F1) and discuss your findings so far.\n",
    "    - (2.4) Evaluate the model using classification evaluation measures on the hold-out (30% examples) test set. Compare these results with the evaluation results obtained on the training (70%) dataset. Also compare these results with a cross-validated model (i.e., a new model trained and evaluated using cross-validation on the full dataset). You can use classic k-fold cross-validation or repeated train/test (70/30) splits. Compare the cross-validation metrics to those obtained on the single train/test split and discuss your findings.\n",
    "</details>\n",
    "\n",
    "<details>\n",
    "<summary>Logsitic regression</summary>\n",
    "          \n",
    "(3). [15] **Predictive Modeling:** Logistic Regression.  \n",
    "    - (3.1) On the training set, train a logistic regression model to predict the target feature, using the descriptive features selected in exercise (1) above.   \n",
    "    - (3.2) Print the coefficients learned by the model and discuss their role in the model (e.g., interpret the model).    \n",
    "    - (3.3) Print the predicted target feature value for the first 10 training examples. Print the predicted class f/or the first 10 examples. Print a few classification evaluation measures computed on the full training set (e.g., Accuracy, Confusion matrix, Precision, Recall, F1) and discuss your findings so far.\n",
    "    - (3.4) Evaluate the model using classification evaluation measures on the hold-out (30% examples) test set. Compare these results with the evaluation results obtained when using the training (70%) dataset for evaluation. Also compare these results with a cross-validated model (i.e., a new model trained and evaluated using cross-validation on the full dataset). You can use classic k-fold cross-validation or repeated train/test (70/30) splits. Compare the cross-validation metrics to those obtained on the single train/test split and discuss your findings.\n",
    "</details>    \n",
    "\n",
    "<details>\n",
    "<summary>Random forest</summary>\n",
    "          \n",
    "(4). [20] **Predictive Modeling:** Random Forest.  \n",
    "    - (3.1) On the training set, train a random forest model to predict the target feature, using the descriptive features selected in exercise (1) above.   \n",
    "    - (3.2) Can you interpret the random forest model? Discuss any knowledge you can gain in regard of the working of this model.   \n",
    "    - (3.3) Print the predicted target feature value for the first 10 training examples. Print the predicted class for the first 10 examples. Print a few classification evaluation measures computed on the full training set (e.g., Accuracy, Confusion matrix, Precision, Recall, F1) and discuss your findings so far.\n",
    "    - (3.4) Evaluate the model using classification evaluation measures on the hold-out (30% examples) test set. Compare these results with the evaluation results obtained when using the training (70%) dataset for evaluation. Also compare these results with a cross-validated model (i.e., a new model trained and evaluated using cross-validation on the full dataset). You can use classic k-fold cross-validation or repeated train/test (70/30) splits. Compare the cross-validation metrics to those obtained on the single train/test split and to the out-of-sample error and discuss your findings.\n",
    "</details> \n",
    "    \n",
    "<details>\n",
    "<summary>Model improvement</summary>\n",
    "          \n",
    "(5). [25] **Improving Predictive Models.**\n",
    "    - (4.1) Which model of the ones trained above performs better at predicting the target feature? Is it more accurate than a simple model that always predicts the majority class (i.e., if binary_outcome=0 is the majority class in your dataset, the simple model always predicts 0 for the target feature)? Justify your answers.\n",
    "    - (4.2) Summarise your understanding of the problem and of your predictive modeling results so far. Can you think of any new ideas to improve the best model so far (e.g., by using furher data prep such as: feature selection, feature re-scaling, creating new features, combining models, or using other knowledge)? Please show how your ideas actually work in practice, by training and evaluating your proposed models. Summarise your findings so far.\n",
    "    - (4.3) Evaluate your best model on the new test dataset provided with this homework (in file '28032020-AnimalWelfareRisk-binaryOutcome-recent-1k.csv'). Discuss your findings.  \n",
    "</details>    \n",
    "    "
   ]
  },
  {
   "cell_type": "markdown",
   "metadata": {},
   "source": [
    "## Introduction\n",
    "* **DATA PROCESSED AND CLEANED IN HOMEWORK 1 IS USED FOR PREDICTIVE ANALYSIS USING SUPERVISED LEARNING MODELS**\n",
    "    * **'Shelter_1-3_cleaned.csv' is generated as outcome of HOMEWORK1 activity. It is used to import cleaned shelter data.**\n",
    "    * Target variable is \"binary_outcome\". Its values convey follwing meaning:\n",
    "        * 1 : Animal serivived shelter and was adopted/ returned to owner / freed in wild successfully\n",
    "        * 0 : Animal could not survive shelter\n",
    "<br><br>        \n",
    "* **This homework will be broken down into 5 main parts:**\n",
    "    * **[Data preparation](#Data-preparation)**<br>Intake previously cleaned data, fine tune it by adding new featues if any, observe correlation between features to mark down high importance features and create data frame for prdeictive analysis\n",
    "    * **[Linear regression preditive model](#Linear-Regression)**<br>Generate linear regression model and test it with 3 fold cross validation \n",
    "    * **[Logistic regression preditive model](#Logistic-Regression)**<br>Generate logistic regression model and test it with 3 fold cross validation\n",
    "    * **[Random Forest preditive model](#Random-Forest)**<br>Generate random forest model and test it with 3 fold cross validation\n",
    "    * **[Improving predictive models](#Improving-Predictive-Models)**<br>Apply optimization techniques to shortlist the imput feature space, depth of random forest, no of ramdom forest estimators\n",
    "* **REFER 'requirement.txt' TO IMPORT THE VIRUTAL ENVIRONMENT**\n"
   ]
  },
  {
   "cell_type": "markdown",
   "metadata": {},
   "source": [
    "## Key sections in notebook : MUST READ !!! \n",
    "Follwing sections are important breakthroughs for data preparation and analytics\n",
    "* **[Summary of data quality plan](#Summary-of-data-quality-plan)**<br>\n",
    "    * Data quality plan summary for homework -1 is listed here\n",
    "* **[Data cleaning action](#Data-cleaning-action)**<br>\n",
    "    * High cardinality features are resolved into low cardinality categorical features in this stage\n",
    "* **[Data visualisation](#Data-preparation)**<br>\n",
    "    * All input features are converted into categorical features. Stacked barplots are used for visual inspection.\n",
    "    * Features with low cross correlation between input feature cadinalities against target are dropped while training prediction model  \n",
    "* **[Chi Squared Test](#Chi-Squared-Test)**<br>\n",
    "    * Visual inspection does not gurrantee performance as would be seen in [Improving Predictive Models](#Improving-Predictive-Models) of notebook\n",
    "    * hence, Pearson's chi-squared test for statistical independence is performed to further find high correaltion featues to improve model performance\n",
    "    * As observed in section [Comparison of all feature sets](#Comparison-of-all-feature-sets); high correlation features provide best performance seconding the optimal features [which are highly volatile].\n",
    "* **[Comparison of feature sets](#Comparison-of-feature-sets)**<br>\n",
    "    * Comparitive results for all feature sets are observed\n",
    "* **[Optimise number of features](#Optimise-number-of-features)**<br>\n",
    "    * Further optimization stages regarding depth and esitmator count for random forest classifier and degree of input feature space is discussed\n",
    "* **[Predict results for new dataset](#Predict-results-for-NEW-DATASET)**\n",
    "    * **Models were trained on old dataset processed in HOMEWORK-1**\n",
    "    * We found that ramdom forest predictor model with top20 optimal features as input perform best. \n",
    "    * Though,completely **new dataset provided for HOMEWORK-2** did not have 3 of the top20 optimal features\n",
    "    * HENCE, A NEW MODEL WAS RETRAINED USING **OLD DATASET**; BUT WITH TOP20 OPTIMAL FEATURES AVAILABLE IN ***NEW DATA***to \n",
    "    * This model was used to predict outcome for new dataset. It produced satisfactory results. "
   ]
  },
  {
   "cell_type": "markdown",
   "metadata": {},
   "source": [
    "<br>"
   ]
  },
  {
   "cell_type": "markdown",
   "metadata": {},
   "source": [
    "# Data preparation\n",
    "\n",
    "The original dataset has been cleaned (Homework 1) and is now imported as a starting point for this homework. \n",
    "1. The accompanying data quality report from homework 1 can be found attached as Data_Quality_Report_Initial_Findings.pdf. It gives a background to this cleaned dataset;\n",
    "2. A summary of this plan can be seen in the table below;\n",
    "3. In addition a number of extra features were added (to to better capture the problem domain) that were not in the original dataset.\n",
    "    - sex_intake, sex_outcome : Find gender of animal - MALE/ FEMALE/ UNKNOWN\n",
    "    - sex_state_intake, sex_state_outcome: Find sexual state of animal - neautred/ spayed/ intact/ unknown \n",
    "    - recidence_Time_Ratio: ratio of time spent by animals in shelter compared to outer world\n",
    "    - found_Address_City: City where animal is found\n",
    "    - found_Address_State: State where animal is found\n",
    "<br>"
   ]
  },
  {
   "cell_type": "markdown",
   "metadata": {},
   "source": [
    "## Import modules and clean data"
   ]
  },
  {
   "cell_type": "markdown",
   "metadata": {},
   "source": [
    "### Import modules"
   ]
  },
  {
   "cell_type": "code",
   "execution_count": 1,
   "metadata": {},
   "outputs": [],
   "source": [
    "# Import required packages\n",
    "import numpy as np\n",
    "import pandas as pd\n",
    "import matplotlib.pyplot as plt\n",
    "import matplotlib.patches as mpatches\n",
    "from patsy import dmatrices\n",
    "from tabulate import tabulate\n",
    "\n",
    "# dataset formation and Data processing\n",
    "from sklearn.model_selection import train_test_split\n",
    "from sklearn.model_selection import cross_validate\n",
    "from sklearn.model_selection import cross_val_score \n",
    "from sklearn import metrics\n",
    "\n",
    "# Prediction alogorithms\n",
    "from sklearn.ensemble import RandomForestClassifier\n",
    "from sklearn.linear_model import LinearRegression\n",
    "from sklearn.linear_model import LogisticRegression\n",
    "\n",
    "from sklearn.tree import export_graphviz\n",
    "import graphviz\n",
    "from graphviz import Source\n",
    "\n",
    "import pickle\n",
    "# chi-squared test with similar proportions\n",
    "from scipy.stats import chi2_contingency\n",
    "from scipy.stats import chi2\n",
    "\n",
    "# Allows plots to appear directly in the notebook.\n",
    "%matplotlib inline\n",
    "\n",
    "# hide ipykernel warnings \n",
    "import warnings\n",
    "warnings.filterwarnings('ignore')"
   ]
  },
  {
   "cell_type": "markdown",
   "metadata": {},
   "source": [
    "###  Import and describe data from CSV file"
   ]
  },
  {
   "cell_type": "code",
   "execution_count": 2,
   "metadata": {
    "scrolled": true
   },
   "outputs": [
    {
     "data": {
      "text/html": [
       "<div>\n",
       "<style scoped>\n",
       "    .dataframe tbody tr th:only-of-type {\n",
       "        vertical-align: middle;\n",
       "    }\n",
       "\n",
       "    .dataframe tbody tr th {\n",
       "        vertical-align: top;\n",
       "    }\n",
       "\n",
       "    .dataframe thead th {\n",
       "        text-align: right;\n",
       "    }\n",
       "</style>\n",
       "<table border=\"1\" class=\"dataframe\">\n",
       "  <thead>\n",
       "    <tr style=\"text-align: right;\">\n",
       "      <th></th>\n",
       "      <th>Animal ID</th>\n",
       "      <th>Name_Intake</th>\n",
       "      <th>Intake Type</th>\n",
       "      <th>Intake Condition</th>\n",
       "      <th>Animal Type_Intake</th>\n",
       "      <th>Breed_Intake</th>\n",
       "      <th>Color_Intake</th>\n",
       "      <th>Date of Birth</th>\n",
       "      <th>Age upon Intake</th>\n",
       "      <th>DateTime_Intake</th>\n",
       "      <th>...</th>\n",
       "      <th>Age upon Outcome</th>\n",
       "      <th>Sex_Intake</th>\n",
       "      <th>Sex_State_Intake</th>\n",
       "      <th>Sex_Outcome</th>\n",
       "      <th>Sex_State_Outcome</th>\n",
       "      <th>found_Address_Line1</th>\n",
       "      <th>found_Address_City</th>\n",
       "      <th>found_Address_State</th>\n",
       "      <th>binary_outcome</th>\n",
       "      <th>recidence_Time_Ratio</th>\n",
       "    </tr>\n",
       "  </thead>\n",
       "  <tbody>\n",
       "    <tr>\n",
       "      <th>0</th>\n",
       "      <td>A783721</td>\n",
       "      <td>Unknown</td>\n",
       "      <td>Stray</td>\n",
       "      <td>Normal</td>\n",
       "      <td>Cat</td>\n",
       "      <td>Domestic Shorthair Mix</td>\n",
       "      <td>Orange Tabby</td>\n",
       "      <td>9/5/2018 0:00</td>\n",
       "      <td>8</td>\n",
       "      <td>11/5/2018 11:00</td>\n",
       "      <td>...</td>\n",
       "      <td>9</td>\n",
       "      <td>Male</td>\n",
       "      <td>Intact</td>\n",
       "      <td>Male</td>\n",
       "      <td>Neutered</td>\n",
       "      <td>3108 Crownover Street</td>\n",
       "      <td>Austin</td>\n",
       "      <td>TX</td>\n",
       "      <td>1</td>\n",
       "      <td>1222</td>\n",
       "    </tr>\n",
       "    <tr>\n",
       "      <th>1</th>\n",
       "      <td>A783635</td>\n",
       "      <td>Unknown</td>\n",
       "      <td>Stray</td>\n",
       "      <td>Normal</td>\n",
       "      <td>Cat</td>\n",
       "      <td>Domestic Shorthair Mix</td>\n",
       "      <td>Black Tabby</td>\n",
       "      <td>8/3/2018 0:00</td>\n",
       "      <td>13</td>\n",
       "      <td>11/3/2018 12:32</td>\n",
       "      <td>...</td>\n",
       "      <td>14</td>\n",
       "      <td>Male</td>\n",
       "      <td>Intact</td>\n",
       "      <td>Male</td>\n",
       "      <td>Neutered</td>\n",
       "      <td>Spicewood Springs Road And Highway 183</td>\n",
       "      <td>Austin</td>\n",
       "      <td>TX</td>\n",
       "      <td>1</td>\n",
       "      <td>1175</td>\n",
       "    </tr>\n",
       "    <tr>\n",
       "      <th>2</th>\n",
       "      <td>A788556</td>\n",
       "      <td>Slink</td>\n",
       "      <td>Stray</td>\n",
       "      <td>Normal</td>\n",
       "      <td>Cat</td>\n",
       "      <td>Domestic Medium Hair Mix</td>\n",
       "      <td>Calico</td>\n",
       "      <td>9/4/2018 0:00</td>\n",
       "      <td>62</td>\n",
       "      <td>11/17/2019 12:22</td>\n",
       "      <td>...</td>\n",
       "      <td>62</td>\n",
       "      <td>Female</td>\n",
       "      <td>Spayed</td>\n",
       "      <td>Female</td>\n",
       "      <td>Spayed</td>\n",
       "      <td>3902 Sojourner Street</td>\n",
       "      <td>Austin</td>\n",
       "      <td>TX</td>\n",
       "      <td>1</td>\n",
       "      <td>99</td>\n",
       "    </tr>\n",
       "    <tr>\n",
       "      <th>3</th>\n",
       "      <td>A764549</td>\n",
       "      <td>Unknown</td>\n",
       "      <td>Stray</td>\n",
       "      <td>Normal</td>\n",
       "      <td>Cat</td>\n",
       "      <td>Domestic Shorthair Mix</td>\n",
       "      <td>Brown Tabby</td>\n",
       "      <td>1/1/2006 0:00</td>\n",
       "      <td>626</td>\n",
       "      <td>1/1/2018 12:59</td>\n",
       "      <td>...</td>\n",
       "      <td>626</td>\n",
       "      <td>Female</td>\n",
       "      <td>Intact</td>\n",
       "      <td>Female</td>\n",
       "      <td>Intact</td>\n",
       "      <td>2202 Canterbury</td>\n",
       "      <td>Austin</td>\n",
       "      <td>TX</td>\n",
       "      <td>0</td>\n",
       "      <td>99</td>\n",
       "    </tr>\n",
       "    <tr>\n",
       "      <th>4</th>\n",
       "      <td>A651615</td>\n",
       "      <td>Marlie</td>\n",
       "      <td>Owner Surrender</td>\n",
       "      <td>Normal</td>\n",
       "      <td>Dog</td>\n",
       "      <td>Toy Poodle Mix</td>\n",
       "      <td>Cream</td>\n",
       "      <td>4/13/2010 0:00</td>\n",
       "      <td>259</td>\n",
       "      <td>4/3/2015 11:41</td>\n",
       "      <td>...</td>\n",
       "      <td>260</td>\n",
       "      <td>Male</td>\n",
       "      <td>Neutered</td>\n",
       "      <td>Male</td>\n",
       "      <td>Neutered</td>\n",
       "      <td>Unknown address</td>\n",
       "      <td>Austin</td>\n",
       "      <td>TX</td>\n",
       "      <td>1</td>\n",
       "      <td>1103</td>\n",
       "    </tr>\n",
       "  </tbody>\n",
       "</table>\n",
       "<p>5 rows × 21 columns</p>\n",
       "</div>"
      ],
      "text/plain": [
       "  Animal ID Name_Intake      Intake Type Intake Condition Animal Type_Intake  \\\n",
       "0   A783721     Unknown            Stray           Normal                Cat   \n",
       "1   A783635     Unknown            Stray           Normal                Cat   \n",
       "2   A788556       Slink            Stray           Normal                Cat   \n",
       "3   A764549     Unknown            Stray           Normal                Cat   \n",
       "4   A651615      Marlie  Owner Surrender           Normal                Dog   \n",
       "\n",
       "               Breed_Intake  Color_Intake   Date of Birth  Age upon Intake  \\\n",
       "0    Domestic Shorthair Mix  Orange Tabby   9/5/2018 0:00                8   \n",
       "1    Domestic Shorthair Mix   Black Tabby   8/3/2018 0:00               13   \n",
       "2  Domestic Medium Hair Mix        Calico   9/4/2018 0:00               62   \n",
       "3    Domestic Shorthair Mix   Brown Tabby   1/1/2006 0:00              626   \n",
       "4            Toy Poodle Mix         Cream  4/13/2010 0:00              259   \n",
       "\n",
       "    DateTime_Intake  ... Age upon Outcome  Sex_Intake Sex_State_Intake  \\\n",
       "0   11/5/2018 11:00  ...                9        Male           Intact   \n",
       "1   11/3/2018 12:32  ...               14        Male           Intact   \n",
       "2  11/17/2019 12:22  ...               62      Female           Spayed   \n",
       "3    1/1/2018 12:59  ...              626      Female           Intact   \n",
       "4    4/3/2015 11:41  ...              260        Male         Neutered   \n",
       "\n",
       "  Sex_Outcome Sex_State_Outcome                     found_Address_Line1  \\\n",
       "0        Male          Neutered                   3108 Crownover Street   \n",
       "1        Male          Neutered  Spicewood Springs Road And Highway 183   \n",
       "2      Female            Spayed                   3902 Sojourner Street   \n",
       "3      Female            Intact                         2202 Canterbury   \n",
       "4        Male          Neutered                         Unknown address   \n",
       "\n",
       "  found_Address_City found_Address_State binary_outcome  recidence_Time_Ratio  \n",
       "0             Austin                  TX              1                  1222  \n",
       "1             Austin                  TX              1                  1175  \n",
       "2             Austin                  TX              1                    99  \n",
       "3             Austin                  TX              0                    99  \n",
       "4             Austin                  TX              1                  1103  \n",
       "\n",
       "[5 rows x 21 columns]"
      ]
     },
     "execution_count": 2,
     "metadata": {},
     "output_type": "execute_result"
    }
   ],
   "source": [
    "# Read csv file into a dataframe.\n",
    "df = pd.read_csv('Shelter_1-3_cleaned.csv')\n",
    "df.head()"
   ]
  },
  {
   "cell_type": "markdown",
   "metadata": {},
   "source": [
    "#### Summary of data quality plan\n",
    "\n",
    "| Feature                  | Data Quality issue | Solution Strategy    |\n",
    "|:------------------------- |:------------------ |:---------- | \n",
    "| Animal ID                 | Outliers [Primary key]        | Do nothing    |\n",
    "| Name_Intake               | Null values| Replace with Unique value \"Unknown\"    |\n",
    "| Name_Intake               | Special values '1','135grams' etc| Replace with Unique value \"Unknown\"    |\n",
    "| Name_Intake               | Name prefixed with '*' | Remove prefix '*'    |\n",
    "| Found Location            | Unformatted locaion field| Prepend with unique value \"Unknown\"    |\n",
    "| Intake Type               | Outliers        | Do nothing    |\n",
    "| Intake Condition          | Outliers        | Do Nothing    |\n",
    "| Animal Type_Intake        | Outliers        | Do nothing    |\n",
    "| Breed_Intake              | Too many breed categories | abstract breed categories| category   |\n",
    "| Color_Intake              | Too many color categories | abstract color categories| category   |\n",
    "| Age upon Intake           | Imprecision     | Calculate accurate value in weeks using feature DateTime_Intake and Date of Birth    |\n",
    "| Age upon Outcome          | IMprecision     | Calculate accurate value in weeks using feature DateTime_Intake and Date of Birth    |\n",
    "| DateTime_Intake           | Data entry errors| Intercahnge with feature DateTime_Outcome |\n",
    "| DateTime_Outcome          | Data entry errors| Intercahnge with feature DateTime_Intake |\n",
    "| Date of Birth             | Outliers            | Do nothing |\n",
    "| Sex upon Intake           | Special values 'Unknown'| Replace with Unique value \"Unknown Unknown\"    |\n",
    "| Sex upon Outcome          | Special values 'Unknown'| Replace with Unique value \"Unknown Unknown\"    |\n",
    "| binary_outcome            | No issue        | Do nothing    | category   |"
   ]
  },
  {
   "cell_type": "markdown",
   "metadata": {},
   "source": [
    "#### Covert features to standard data types"
   ]
  },
  {
   "cell_type": "code",
   "execution_count": 3,
   "metadata": {},
   "outputs": [],
   "source": [
    "#CATAGORICAL DATA\n",
    "\n",
    "# Select columns containing categorical data\n",
    "df = df.drop(['recidence_Time_Ratio','Animal ID'],axis=1)\n",
    "continuous_columns = df[['Age upon Intake','Age upon Outcome', 'binary_outcome']].columns\n",
    "\n",
    "for column in continuous_columns:\n",
    "    df[column] = df[column].astype('int64')                          "
   ]
  },
  {
   "cell_type": "code",
   "execution_count": 4,
   "metadata": {},
   "outputs": [],
   "source": [
    "#CATAGORICAL DATA\n",
    "\n",
    "# Select columns containing categorical data\n",
    "categorical_columns = df[['Name_Intake','Intake Type','Intake Condition',\\\n",
    "                          'Animal Type_Intake','Breed_Intake','Color_Intake',\\\n",
    "                          'Sex_Intake','Sex_State_Intake','Sex_Outcome','Sex_State_Outcome',\\\n",
    "                          'found_Address_Line1','found_Address_City','found_Address_State']].columns\n",
    "for column in categorical_columns:\n",
    "    df[column] = df[column].astype('category')                          "
   ]
  },
  {
   "cell_type": "markdown",
   "metadata": {},
   "source": [
    "#### Count number of distinct values assumed by data for each feature  "
   ]
  },
  {
   "cell_type": "code",
   "execution_count": 5,
   "metadata": {
    "scrolled": false
   },
   "outputs": [
    {
     "data": {
      "text/html": [
       "<div>\n",
       "<style scoped>\n",
       "    .dataframe tbody tr th:only-of-type {\n",
       "        vertical-align: middle;\n",
       "    }\n",
       "\n",
       "    .dataframe tbody tr th {\n",
       "        vertical-align: top;\n",
       "    }\n",
       "\n",
       "    .dataframe thead th {\n",
       "        text-align: right;\n",
       "    }\n",
       "</style>\n",
       "<table border=\"1\" class=\"dataframe\">\n",
       "  <thead>\n",
       "    <tr style=\"text-align: right;\">\n",
       "      <th></th>\n",
       "      <th>Features</th>\n",
       "      <th>Instances</th>\n",
       "      <th>Unique Instances</th>\n",
       "      <th>unique instances : Total instances</th>\n",
       "    </tr>\n",
       "  </thead>\n",
       "  <tbody>\n",
       "    <tr>\n",
       "      <th>0</th>\n",
       "      <td>Name_Intake</td>\n",
       "      <td>1000</td>\n",
       "      <td>560</td>\n",
       "      <td>56.0</td>\n",
       "    </tr>\n",
       "    <tr>\n",
       "      <th>1</th>\n",
       "      <td>Intake Type</td>\n",
       "      <td>1000</td>\n",
       "      <td>5</td>\n",
       "      <td>0.5</td>\n",
       "    </tr>\n",
       "    <tr>\n",
       "      <th>2</th>\n",
       "      <td>Intake Condition</td>\n",
       "      <td>1000</td>\n",
       "      <td>8</td>\n",
       "      <td>0.8</td>\n",
       "    </tr>\n",
       "    <tr>\n",
       "      <th>3</th>\n",
       "      <td>Animal Type_Intake</td>\n",
       "      <td>1000</td>\n",
       "      <td>4</td>\n",
       "      <td>0.4</td>\n",
       "    </tr>\n",
       "    <tr>\n",
       "      <th>4</th>\n",
       "      <td>Breed_Intake</td>\n",
       "      <td>1000</td>\n",
       "      <td>154</td>\n",
       "      <td>15.4</td>\n",
       "    </tr>\n",
       "    <tr>\n",
       "      <th>5</th>\n",
       "      <td>Color_Intake</td>\n",
       "      <td>1000</td>\n",
       "      <td>44</td>\n",
       "      <td>4.4</td>\n",
       "    </tr>\n",
       "    <tr>\n",
       "      <th>6</th>\n",
       "      <td>Date of Birth</td>\n",
       "      <td>1000</td>\n",
       "      <td>861</td>\n",
       "      <td>86.1</td>\n",
       "    </tr>\n",
       "    <tr>\n",
       "      <th>7</th>\n",
       "      <td>Age upon Intake</td>\n",
       "      <td>1000</td>\n",
       "      <td>178</td>\n",
       "      <td>17.8</td>\n",
       "    </tr>\n",
       "    <tr>\n",
       "      <th>8</th>\n",
       "      <td>DateTime_Intake</td>\n",
       "      <td>1000</td>\n",
       "      <td>995</td>\n",
       "      <td>99.5</td>\n",
       "    </tr>\n",
       "    <tr>\n",
       "      <th>9</th>\n",
       "      <td>DateTime_Outcome</td>\n",
       "      <td>1000</td>\n",
       "      <td>997</td>\n",
       "      <td>99.7</td>\n",
       "    </tr>\n",
       "    <tr>\n",
       "      <th>10</th>\n",
       "      <td>Age upon Outcome</td>\n",
       "      <td>1000</td>\n",
       "      <td>238</td>\n",
       "      <td>23.8</td>\n",
       "    </tr>\n",
       "    <tr>\n",
       "      <th>11</th>\n",
       "      <td>Sex_Intake</td>\n",
       "      <td>1000</td>\n",
       "      <td>3</td>\n",
       "      <td>0.3</td>\n",
       "    </tr>\n",
       "    <tr>\n",
       "      <th>12</th>\n",
       "      <td>Sex_State_Intake</td>\n",
       "      <td>1000</td>\n",
       "      <td>4</td>\n",
       "      <td>0.4</td>\n",
       "    </tr>\n",
       "    <tr>\n",
       "      <th>13</th>\n",
       "      <td>Sex_Outcome</td>\n",
       "      <td>1000</td>\n",
       "      <td>3</td>\n",
       "      <td>0.3</td>\n",
       "    </tr>\n",
       "    <tr>\n",
       "      <th>14</th>\n",
       "      <td>Sex_State_Outcome</td>\n",
       "      <td>1000</td>\n",
       "      <td>4</td>\n",
       "      <td>0.4</td>\n",
       "    </tr>\n",
       "    <tr>\n",
       "      <th>15</th>\n",
       "      <td>found_Address_Line1</td>\n",
       "      <td>1000</td>\n",
       "      <td>767</td>\n",
       "      <td>76.7</td>\n",
       "    </tr>\n",
       "    <tr>\n",
       "      <th>16</th>\n",
       "      <td>found_Address_City</td>\n",
       "      <td>1000</td>\n",
       "      <td>14</td>\n",
       "      <td>1.4</td>\n",
       "    </tr>\n",
       "    <tr>\n",
       "      <th>17</th>\n",
       "      <td>found_Address_State</td>\n",
       "      <td>1000</td>\n",
       "      <td>2</td>\n",
       "      <td>0.2</td>\n",
       "    </tr>\n",
       "    <tr>\n",
       "      <th>18</th>\n",
       "      <td>binary_outcome</td>\n",
       "      <td>1000</td>\n",
       "      <td>2</td>\n",
       "      <td>0.2</td>\n",
       "    </tr>\n",
       "  </tbody>\n",
       "</table>\n",
       "</div>"
      ],
      "text/plain": [
       "               Features Instances Unique Instances  \\\n",
       "0           Name_Intake      1000              560   \n",
       "1           Intake Type      1000                5   \n",
       "2      Intake Condition      1000                8   \n",
       "3    Animal Type_Intake      1000                4   \n",
       "4          Breed_Intake      1000              154   \n",
       "5          Color_Intake      1000               44   \n",
       "6         Date of Birth      1000              861   \n",
       "7       Age upon Intake      1000              178   \n",
       "8       DateTime_Intake      1000              995   \n",
       "9      DateTime_Outcome      1000              997   \n",
       "10     Age upon Outcome      1000              238   \n",
       "11           Sex_Intake      1000                3   \n",
       "12     Sex_State_Intake      1000                4   \n",
       "13          Sex_Outcome      1000                3   \n",
       "14    Sex_State_Outcome      1000                4   \n",
       "15  found_Address_Line1      1000              767   \n",
       "16   found_Address_City      1000               14   \n",
       "17  found_Address_State      1000                2   \n",
       "18       binary_outcome      1000                2   \n",
       "\n",
       "    unique instances : Total instances  \n",
       "0                                 56.0  \n",
       "1                                  0.5  \n",
       "2                                  0.8  \n",
       "3                                  0.4  \n",
       "4                                 15.4  \n",
       "5                                  4.4  \n",
       "6                                 86.1  \n",
       "7                                 17.8  \n",
       "8                                 99.5  \n",
       "9                                 99.7  \n",
       "10                                23.8  \n",
       "11                                 0.3  \n",
       "12                                 0.4  \n",
       "13                                 0.3  \n",
       "14                                 0.4  \n",
       "15                                76.7  \n",
       "16                                 1.4  \n",
       "17                                 0.2  \n",
       "18                                 0.2  "
      ]
     },
     "execution_count": 5,
     "metadata": {},
     "output_type": "execute_result"
    }
   ],
   "source": [
    "# Gather information related to identifiers for instacnes, count of instances and count of unique instances for all features. \n",
    "# This information is stored into a csv.  \n",
    "\n",
    "df_count = pd.DataFrame(\n",
    "    [column, str(df[column].count()), str(len(df[column].unique())),\\\n",
    "    round((len(df[column].unique()) / df[column].count()),3)*100] for column in df.columns.values\\\n",
    "    )\n",
    "df_count.columns = ['Features', 'Instances', 'Unique Instances','unique instances : Total instances']\n",
    "\n",
    "df_count.to_csv('Shelter_1-1_featureCounts.csv', index=False, index_label = True)\n",
    "\n",
    "df_count"
   ]
  },
  {
   "cell_type": "markdown",
   "metadata": {},
   "source": [
    "#### Discriptive statistics for continuous features"
   ]
  },
  {
   "cell_type": "code",
   "execution_count": 6,
   "metadata": {
    "scrolled": false
   },
   "outputs": [
    {
     "data": {
      "text/html": [
       "<div>\n",
       "<style scoped>\n",
       "    .dataframe tbody tr th:only-of-type {\n",
       "        vertical-align: middle;\n",
       "    }\n",
       "\n",
       "    .dataframe tbody tr th {\n",
       "        vertical-align: top;\n",
       "    }\n",
       "\n",
       "    .dataframe thead th {\n",
       "        text-align: right;\n",
       "    }\n",
       "</style>\n",
       "<table border=\"1\" class=\"dataframe\">\n",
       "  <thead>\n",
       "    <tr style=\"text-align: right;\">\n",
       "      <th></th>\n",
       "      <th>count</th>\n",
       "      <th>mean</th>\n",
       "      <th>std</th>\n",
       "      <th>min</th>\n",
       "      <th>25%</th>\n",
       "      <th>50%</th>\n",
       "      <th>75%</th>\n",
       "      <th>max</th>\n",
       "    </tr>\n",
       "  </thead>\n",
       "  <tbody>\n",
       "    <tr>\n",
       "      <th>Age upon Intake</th>\n",
       "      <td>1000.0</td>\n",
       "      <td>121.921</td>\n",
       "      <td>172.379388</td>\n",
       "      <td>0.0</td>\n",
       "      <td>8.0</td>\n",
       "      <td>52.0</td>\n",
       "      <td>156.0</td>\n",
       "      <td>991.0</td>\n",
       "    </tr>\n",
       "    <tr>\n",
       "      <th>Age upon Outcome</th>\n",
       "      <td>1000.0</td>\n",
       "      <td>125.248</td>\n",
       "      <td>172.682227</td>\n",
       "      <td>0.0</td>\n",
       "      <td>12.0</td>\n",
       "      <td>52.0</td>\n",
       "      <td>157.0</td>\n",
       "      <td>991.0</td>\n",
       "    </tr>\n",
       "    <tr>\n",
       "      <th>binary_outcome</th>\n",
       "      <td>1000.0</td>\n",
       "      <td>0.903</td>\n",
       "      <td>0.296106</td>\n",
       "      <td>0.0</td>\n",
       "      <td>1.0</td>\n",
       "      <td>1.0</td>\n",
       "      <td>1.0</td>\n",
       "      <td>1.0</td>\n",
       "    </tr>\n",
       "  </tbody>\n",
       "</table>\n",
       "</div>"
      ],
      "text/plain": [
       "                   count     mean         std  min   25%   50%    75%    max\n",
       "Age upon Intake   1000.0  121.921  172.379388  0.0   8.0  52.0  156.0  991.0\n",
       "Age upon Outcome  1000.0  125.248  172.682227  0.0  12.0  52.0  157.0  991.0\n",
       "binary_outcome    1000.0    0.903    0.296106  0.0   1.0   1.0    1.0    1.0"
      ]
     },
     "execution_count": 6,
     "metadata": {},
     "output_type": "execute_result"
    }
   ],
   "source": [
    "# Print table with continuous statistics\n",
    "df.select_dtypes(include=['int64']).describe().T\n"
   ]
  },
  {
   "cell_type": "markdown",
   "metadata": {},
   "source": [
    "#### Discriptive statistics for categorical features"
   ]
  },
  {
   "cell_type": "code",
   "execution_count": 7,
   "metadata": {
    "scrolled": false
   },
   "outputs": [
    {
     "data": {
      "text/html": [
       "<div>\n",
       "<style scoped>\n",
       "    .dataframe tbody tr th:only-of-type {\n",
       "        vertical-align: middle;\n",
       "    }\n",
       "\n",
       "    .dataframe tbody tr th {\n",
       "        vertical-align: top;\n",
       "    }\n",
       "\n",
       "    .dataframe thead th {\n",
       "        text-align: right;\n",
       "    }\n",
       "</style>\n",
       "<table border=\"1\" class=\"dataframe\">\n",
       "  <thead>\n",
       "    <tr style=\"text-align: right;\">\n",
       "      <th></th>\n",
       "      <th>count</th>\n",
       "      <th>unique</th>\n",
       "      <th>top</th>\n",
       "      <th>freq</th>\n",
       "    </tr>\n",
       "  </thead>\n",
       "  <tbody>\n",
       "    <tr>\n",
       "      <th>Name_Intake</th>\n",
       "      <td>1000</td>\n",
       "      <td>560</td>\n",
       "      <td>Unknown</td>\n",
       "      <td>343</td>\n",
       "    </tr>\n",
       "    <tr>\n",
       "      <th>Intake Type</th>\n",
       "      <td>1000</td>\n",
       "      <td>5</td>\n",
       "      <td>Stray</td>\n",
       "      <td>714</td>\n",
       "    </tr>\n",
       "    <tr>\n",
       "      <th>Intake Condition</th>\n",
       "      <td>1000</td>\n",
       "      <td>8</td>\n",
       "      <td>Normal</td>\n",
       "      <td>871</td>\n",
       "    </tr>\n",
       "    <tr>\n",
       "      <th>Animal Type_Intake</th>\n",
       "      <td>1000</td>\n",
       "      <td>4</td>\n",
       "      <td>Dog</td>\n",
       "      <td>523</td>\n",
       "    </tr>\n",
       "    <tr>\n",
       "      <th>Breed_Intake</th>\n",
       "      <td>1000</td>\n",
       "      <td>154</td>\n",
       "      <td>Domestic Shorthair Mix</td>\n",
       "      <td>298</td>\n",
       "    </tr>\n",
       "    <tr>\n",
       "      <th>Color_Intake</th>\n",
       "      <td>1000</td>\n",
       "      <td>44</td>\n",
       "      <td>Black</td>\n",
       "      <td>218</td>\n",
       "    </tr>\n",
       "    <tr>\n",
       "      <th>Sex_Intake</th>\n",
       "      <td>1000</td>\n",
       "      <td>3</td>\n",
       "      <td>Male</td>\n",
       "      <td>482</td>\n",
       "    </tr>\n",
       "    <tr>\n",
       "      <th>Sex_State_Intake</th>\n",
       "      <td>1000</td>\n",
       "      <td>4</td>\n",
       "      <td>Intact</td>\n",
       "      <td>630</td>\n",
       "    </tr>\n",
       "    <tr>\n",
       "      <th>Sex_Outcome</th>\n",
       "      <td>1000</td>\n",
       "      <td>3</td>\n",
       "      <td>Male</td>\n",
       "      <td>482</td>\n",
       "    </tr>\n",
       "    <tr>\n",
       "      <th>Sex_State_Outcome</th>\n",
       "      <td>1000</td>\n",
       "      <td>4</td>\n",
       "      <td>Neutered</td>\n",
       "      <td>347</td>\n",
       "    </tr>\n",
       "    <tr>\n",
       "      <th>found_Address_Line1</th>\n",
       "      <td>1000</td>\n",
       "      <td>767</td>\n",
       "      <td>Unknown address</td>\n",
       "      <td>215</td>\n",
       "    </tr>\n",
       "    <tr>\n",
       "      <th>found_Address_City</th>\n",
       "      <td>1000</td>\n",
       "      <td>14</td>\n",
       "      <td>Austin</td>\n",
       "      <td>832</td>\n",
       "    </tr>\n",
       "    <tr>\n",
       "      <th>found_Address_State</th>\n",
       "      <td>1000</td>\n",
       "      <td>2</td>\n",
       "      <td>TX</td>\n",
       "      <td>993</td>\n",
       "    </tr>\n",
       "  </tbody>\n",
       "</table>\n",
       "</div>"
      ],
      "text/plain": [
       "                    count unique                     top freq\n",
       "Name_Intake          1000    560                 Unknown  343\n",
       "Intake Type          1000      5                   Stray  714\n",
       "Intake Condition     1000      8                  Normal  871\n",
       "Animal Type_Intake   1000      4                     Dog  523\n",
       "Breed_Intake         1000    154  Domestic Shorthair Mix  298\n",
       "Color_Intake         1000     44                   Black  218\n",
       "Sex_Intake           1000      3                    Male  482\n",
       "Sex_State_Intake     1000      4                  Intact  630\n",
       "Sex_Outcome          1000      3                    Male  482\n",
       "Sex_State_Outcome    1000      4                Neutered  347\n",
       "found_Address_Line1  1000    767         Unknown address  215\n",
       "found_Address_City   1000     14                  Austin  832\n",
       "found_Address_State  1000      2                      TX  993"
      ]
     },
     "execution_count": 7,
     "metadata": {},
     "output_type": "execute_result"
    }
   ],
   "source": [
    "# Print table with continuous statistics\n",
    "df.select_dtypes(include=['category']).describe().T\n"
   ]
  },
  {
   "cell_type": "markdown",
   "metadata": {},
   "source": [
    "#### Confirming status of correlation for continuous columns"
   ]
  },
  {
   "cell_type": "code",
   "execution_count": 8,
   "metadata": {
    "scrolled": true
   },
   "outputs": [
    {
     "data": {
      "text/html": [
       "<div>\n",
       "<style scoped>\n",
       "    .dataframe tbody tr th:only-of-type {\n",
       "        vertical-align: middle;\n",
       "    }\n",
       "\n",
       "    .dataframe tbody tr th {\n",
       "        vertical-align: top;\n",
       "    }\n",
       "\n",
       "    .dataframe thead th {\n",
       "        text-align: right;\n",
       "    }\n",
       "</style>\n",
       "<table border=\"1\" class=\"dataframe\">\n",
       "  <thead>\n",
       "    <tr style=\"text-align: right;\">\n",
       "      <th></th>\n",
       "      <th>Age upon Intake</th>\n",
       "      <th>Age upon Outcome</th>\n",
       "      <th>binary_outcome</th>\n",
       "    </tr>\n",
       "  </thead>\n",
       "  <tbody>\n",
       "    <tr>\n",
       "      <th>Age upon Intake</th>\n",
       "      <td>1.000000</td>\n",
       "      <td>0.997857</td>\n",
       "      <td>-0.024723</td>\n",
       "    </tr>\n",
       "    <tr>\n",
       "      <th>Age upon Outcome</th>\n",
       "      <td>0.997857</td>\n",
       "      <td>1.000000</td>\n",
       "      <td>-0.020398</td>\n",
       "    </tr>\n",
       "    <tr>\n",
       "      <th>binary_outcome</th>\n",
       "      <td>-0.024723</td>\n",
       "      <td>-0.020398</td>\n",
       "      <td>1.000000</td>\n",
       "    </tr>\n",
       "  </tbody>\n",
       "</table>\n",
       "</div>"
      ],
      "text/plain": [
       "                  Age upon Intake  Age upon Outcome  binary_outcome\n",
       "Age upon Intake          1.000000          0.997857       -0.024723\n",
       "Age upon Outcome         0.997857          1.000000       -0.020398\n",
       "binary_outcome          -0.024723         -0.020398        1.000000"
      ]
     },
     "execution_count": 8,
     "metadata": {},
     "output_type": "execute_result"
    }
   ],
   "source": [
    "# Look at correlations for all the continuous features.\n",
    "df[['Age upon Intake','Age upon Outcome','binary_outcome']].corr()"
   ]
  },
  {
   "cell_type": "markdown",
   "metadata": {},
   "source": [
    "### Data cleaning action<br>\n",
    "**FOLLOWING COLUMNS HAVE LARGE CARDINALITY WHICH IS FUTILE FOR PREDICTING BINARY_OUTCOME.**<br>\n",
    "* **'Name_Intake' : Convert 'Name_Intake' into catagorical column with 2 labels: {known, unknown}**<br>\n",
    "* **'Date of Birth', 'DateTime_Intake', 'DateTime_Outcome' : Each feature is converted into 3 individual columns:**\n",
    "    * **Quarter of year** : can be significant due to seasonality of animal's breeding \n",
    "    * **day** : can be significant as all people walk animals on weekends\n",
    "    * **hour** : people walk animals in morning and evening slots<br>\n",
    "* **' found_Address_Line1', 'Animal ID' : dropped.**<br>\n",
    "* **'Age upon Intake', 'Age upon Outcome' : Considering [quartile ranges](#Discriptive-statistics-for-continuous-features), it is evident that majority of animals are of age < 156 weeks [3 years]. This fact applies for both intake and outcome.**<br> Hence, ages can be converted into time slabs of catagorical labels:\n",
    "    * **0 : < 1 week**\n",
    "    * **1 : < 4 week**\n",
    "    * **2 : <12 week**\n",
    "    * **3 : < 52 week**\n",
    "    * **4 : < 156 week**\n",
    "    * **5 : > 156 week**\n",
    "<br>"
   ]
  },
  {
   "cell_type": "markdown",
   "metadata": {},
   "source": [
    "### Process features with large cardinality"
   ]
  },
  {
   "cell_type": "markdown",
   "metadata": {},
   "source": [
    "#### Name_Intake"
   ]
  },
  {
   "cell_type": "code",
   "execution_count": 9,
   "metadata": {},
   "outputs": [],
   "source": [
    "df['Name_Intake'] = df['Name_Intake'].mask((df['Name_Intake'] != 'Unknown'), \"Known\")"
   ]
  },
  {
   "cell_type": "markdown",
   "metadata": {},
   "source": [
    "#### Date of Birth, DateTime_Intake, DateTime_Outcome"
   ]
  },
  {
   "cell_type": "code",
   "execution_count": 10,
   "metadata": {},
   "outputs": [],
   "source": [
    "#DATETIME DATA\n",
    "\n",
    "# Select columns containing datetime data\n",
    "continous_date_columns = df[['DateTime_Intake', 'DateTime_Outcome', 'Date of Birth']].columns\n",
    "\n",
    "# Assign object type datetime to columns enlisted in continous_date_columns\n",
    "for column in continous_date_columns:\n",
    "    df[column] = pd.to_datetime(df[column])\n",
    "    \n",
    "# Resolve each datetime entry into quarter of year, day of week and hour of day\n",
    "df['Birth_qyear'] = df['Date of Birth'].dt.quarter \n",
    "df['Birth_weekday'] = df['Date of Birth'].dt.weekday \n",
    "df['Birth_hour'] = df['Date of Birth'].dt.hour \n",
    "\n",
    "df['Intake_qyear'] = df['DateTime_Intake'].dt.quarter \n",
    "df['Intake_weekday'] = df['DateTime_Intake'].dt.weekday \n",
    "df['Intake_hour'] = df['DateTime_Intake'].dt.hour \n",
    "\n",
    "df['Outcome_qyear'] = df['DateTime_Outcome'].dt.quarter \n",
    "df['Outcome_weekday'] = df['DateTime_Outcome'].dt.weekday \n",
    "df['Outcome_hour'] = df['DateTime_Outcome'].dt.hour \n",
    "\n",
    "df = df.drop(['Date of Birth','DateTime_Intake','DateTime_Outcome'], axis=1)"
   ]
  },
  {
   "cell_type": "markdown",
   "metadata": {},
   "source": [
    "#### Age upon Intake, Age upon Outcome\n",
    "\n",
    "* Age columns have large cardinality. \n",
    "* Mortality rate is typically analysed in slabs for human beings (neonatal/baby/children/adolescent/adult/old). \n",
    "* Similar aproach is taken to classify animal's age into ranges of age. \n"
   ]
  },
  {
   "cell_type": "code",
   "execution_count": 11,
   "metadata": {},
   "outputs": [],
   "source": [
    "# Columns which record age of animal are taken into an array\n",
    "ageColumns = df[['Age upon Intake','Age upon Outcome']].columns\n",
    "\n",
    "\n",
    "for ageColumn in ageColumns:\n",
    "    # Masks for 6 age ranges are defined\n",
    "    mask0 = (df[ageColumn] <=1)\n",
    "    mask1 = (df[ageColumn] > 1) & (df[ageColumn] <= 4)\n",
    "    mask2 = (df[ageColumn] > 4) & (df[ageColumn] <= 12)\n",
    "    mask3 = (df[ageColumn] > 12) & (df[ageColumn] <= 52)\n",
    "    mask4 = (df[ageColumn] > 52) & (df[ageColumn] <= 156)\n",
    "    mask5 = (df[ageColumn] > 156) \n",
    "    \n",
    "    # Masks for 6 age ranges are defined\n",
    "    df.loc[mask0, ageColumn] = 0\n",
    "    df.loc[mask1, ageColumn] = 1\n",
    "    df.loc[mask2, ageColumn] = 2\n",
    "    df.loc[mask3, ageColumn] = 3\n",
    "    df.loc[mask4, ageColumn] = 4\n",
    "    df.loc[mask5, ageColumn] = 5"
   ]
  },
  {
   "cell_type": "markdown",
   "metadata": {},
   "source": [
    "#### found_Address_Line1"
   ]
  },
  {
   "cell_type": "code",
   "execution_count": 12,
   "metadata": {},
   "outputs": [],
   "source": [
    "df = df.drop(['found_Address_Line1'], axis=1)"
   ]
  },
  {
   "cell_type": "markdown",
   "metadata": {},
   "source": [
    "### Data type casting"
   ]
  },
  {
   "cell_type": "markdown",
   "metadata": {},
   "source": [
    "#### Check Datatypes"
   ]
  },
  {
   "cell_type": "code",
   "execution_count": 13,
   "metadata": {},
   "outputs": [
    {
     "data": {
      "text/plain": [
       "Name_Intake              object\n",
       "Intake Type            category\n",
       "Intake Condition       category\n",
       "Animal Type_Intake     category\n",
       "Breed_Intake           category\n",
       "Color_Intake           category\n",
       "Age upon Intake           int64\n",
       "Age upon Outcome          int64\n",
       "Sex_Intake             category\n",
       "Sex_State_Intake       category\n",
       "Sex_Outcome            category\n",
       "Sex_State_Outcome      category\n",
       "found_Address_City     category\n",
       "found_Address_State    category\n",
       "binary_outcome            int64\n",
       "Birth_qyear               int64\n",
       "Birth_weekday             int64\n",
       "Birth_hour                int64\n",
       "Intake_qyear              int64\n",
       "Intake_weekday            int64\n",
       "Intake_hour               int64\n",
       "Outcome_qyear             int64\n",
       "Outcome_weekday           int64\n",
       "Outcome_hour              int64\n",
       "dtype: object"
      ]
     },
     "execution_count": 13,
     "metadata": {},
     "output_type": "execute_result"
    }
   ],
   "source": [
    "df.dtypes"
   ]
  },
  {
   "cell_type": "markdown",
   "metadata": {},
   "source": [
    "#### Decide Datatypes"
   ]
  },
  {
   "cell_type": "markdown",
   "metadata": {},
   "source": [
    "\n",
    " - Target variable \"binary_outcome\" is typed float64. \n",
    " - Animal ID is primary keey for the dataset.\n",
    " - Examination of CSV as a spreadsheet helps to **substantiate speculation** about actual data types: <br>\n",
    "\n",
    "| Features                  | Data Classification| Subtype    | Data type  | Discription    |\n",
    "|:------------------------- |:------------------ |:---------- |:-----------|:-------------- | \n",
    "| Name_Intake               | catagorical        | nominal    | category   | Animal can have any possible character sequence as a name|\n",
    "| Intake Type               | catagorical        | nominal    | category   | Finite [5] types of intake type identified|\n",
    "| Intake Condition          | catagorical        | Ordinal    | category    | Finite [8] types of intake conditions identified which may be represented hirarchically to mention wellness of health|\n",
    "| Animal Type_Intake        | catagorical        | nominal    | category   | Finite [4] types of animals taken in identified|\n",
    "| Breed_Intake              | catagorical        | nominal    | category   | Finite [213] types of breeds taken identified|\n",
    "| Color_Intake              | catagorical        | nominal    | category   | Finite [111] types of coulours of animals identified|\n",
    "| Date of Birth             | numeric            | continuous | datetime[object]   | Birth date of animal is a distinct variable with any numeric value in date format; it is assigned in datetime object for simplification|\n",
    "| Age upon Intake           | catagorical        | nominal    | category   | Animal age expressed in categorical time slabs|\n",
    "| DateTime_Intake           | numeric            | continuous | datetime[object]   | An animal can be found at any instance of time on any date|\n",
    "| DateTime_Outcome          | numeric            | continuous | datetime[object]   | An animal can be opted out of facility at any instance of time on any date|\n",
    "| Age upon Outcome          | catagorical        | nominal    | category   | Animal age expressed in categorical time slabs|\n",
    "| Sex_Intake           | catagorical        | nominal    | category   | Finite [5] types of gender type identified|\n",
    "| Sex_State_Intake           | catagorical        | nominal    | category   | Finite [5] types of of reporductive ability identified|\n",
    "| Sex_Outcome           | catagorical        | nominal    | category   | Finite [5] types of gender type identified|\n",
    "| Sex_State_Outcome           | catagorical        | nominal    | category   | Finite [5] types of of reporductive ability identified|\n",
    "| Found_Address_Line1            | catagorical        | nominal    | category   | Location of finding animal can be any possible address|\n",
    "| Found_Address_City            | catagorical        | nominal    | category   | City of finding animal can be any possible City|\n",
    "| Found_Address_State            | catagorical        | nominal    | category   | State of finding animal can be any possible State|\n",
    "| Birth_qyear            | catagorical        | ordinal    | category   | Quarter of the year at time of birth|\n",
    "| Birth_weekday            | catagorical        | ordinal    | category   | Day of week at time of birth|\n",
    "| Birth_hour            | catagorical        | ordinal    | category   | Hour of day at time of birth|\n",
    "| Intake_qyear            | catagorical        | ordinal    | category   | Quarter of the year at time of Intake|\n",
    "| Intake_weekday            | catagorical        | ordinal    | category   | Day of week at time of Intake|\n",
    "| Intake_hour            | catagorical        | ordinal    | category   | Hour of day at time of Intake|\n",
    "| Outcome_qyear            | catagorical        | ordinal    | category   | Quarter of the year at time of outcome|\n",
    "| Outcome_weekday            | catagorical        | ordinal    | category   | Day of week at time of outcome|\n",
    "| Outcome_hour            | catagorical        | ordinal    | category   | Hour of day at time of outcome|\n",
    "| binary_outcome            | catagorical        | nominal    | category   | Though typed float64 in database, target variable assumes only 2 values - 0.0 or 1.0; thus can be considered a catagorical variable|"
   ]
  },
  {
   "cell_type": "markdown",
   "metadata": {},
   "source": [
    "#### Convert features to decided data types"
   ]
  },
  {
   "cell_type": "code",
   "execution_count": 14,
   "metadata": {},
   "outputs": [],
   "source": [
    "#CATAGORICAL DATA\n",
    "\n",
    "# Select columns containing categorical data\n",
    "categorical_columns = df[['Name_Intake','Intake Type','Intake Condition',\\\n",
    "                          'Animal Type_Intake','Breed_Intake','Color_Intake',\\\n",
    "                          'Age upon Intake','Age upon Outcome',\\\n",
    "                          'Sex_Intake','Sex_State_Intake','Sex_Outcome','Sex_State_Outcome',\\\n",
    "                          'found_Address_City','found_Address_State',\\\n",
    "                          'Birth_qyear', 'Birth_weekday', 'Birth_hour',\\\n",
    "                          'Intake_qyear', 'Intake_weekday', 'Intake_hour',\\\n",
    "                          'Outcome_qyear', 'Outcome_weekday', 'Outcome_hour'\\\n",
    "                          ]].columns\n",
    "for column in categorical_columns:\n",
    "    df[column] = df[column].astype('category')\n",
    "\n",
    "df['binary_outcome']=df['binary_outcome'].astype('float64')"
   ]
  },
  {
   "cell_type": "markdown",
   "metadata": {},
   "source": [
    "#### Check Datatypes"
   ]
  },
  {
   "cell_type": "code",
   "execution_count": 15,
   "metadata": {
    "scrolled": false
   },
   "outputs": [
    {
     "name": "stdout",
     "output_type": "stream",
     "text": [
      "Name_Intake            category\n",
      "Intake Type            category\n",
      "Intake Condition       category\n",
      "Animal Type_Intake     category\n",
      "Breed_Intake           category\n",
      "Color_Intake           category\n",
      "Age upon Intake        category\n",
      "Age upon Outcome       category\n",
      "Sex_Intake             category\n",
      "Sex_State_Intake       category\n",
      "Sex_Outcome            category\n",
      "Sex_State_Outcome      category\n",
      "found_Address_City     category\n",
      "found_Address_State    category\n",
      "binary_outcome          float64\n",
      "Birth_qyear            category\n",
      "Birth_weekday          category\n",
      "Birth_hour             category\n",
      "Intake_qyear           category\n",
      "Intake_weekday         category\n",
      "Intake_hour            category\n",
      "Outcome_qyear          category\n",
      "Outcome_weekday        category\n",
      "Outcome_hour           category\n",
      "dtype: object\n"
     ]
    }
   ],
   "source": [
    "print(df.dtypes)"
   ]
  },
  {
   "cell_type": "markdown",
   "metadata": {},
   "source": [
    "### Save dataframe for future use"
   ]
  },
  {
   "cell_type": "code",
   "execution_count": 16,
   "metadata": {},
   "outputs": [
    {
     "data": {
      "text/html": [
       "<div>\n",
       "<style scoped>\n",
       "    .dataframe tbody tr th:only-of-type {\n",
       "        vertical-align: middle;\n",
       "    }\n",
       "\n",
       "    .dataframe tbody tr th {\n",
       "        vertical-align: top;\n",
       "    }\n",
       "\n",
       "    .dataframe thead th {\n",
       "        text-align: right;\n",
       "    }\n",
       "</style>\n",
       "<table border=\"1\" class=\"dataframe\">\n",
       "  <thead>\n",
       "    <tr style=\"text-align: right;\">\n",
       "      <th></th>\n",
       "      <th>Name_Intake</th>\n",
       "      <th>Intake Type</th>\n",
       "      <th>Intake Condition</th>\n",
       "      <th>Animal Type_Intake</th>\n",
       "      <th>Breed_Intake</th>\n",
       "      <th>Color_Intake</th>\n",
       "      <th>Age upon Intake</th>\n",
       "      <th>Age upon Outcome</th>\n",
       "      <th>Sex_Intake</th>\n",
       "      <th>Sex_State_Intake</th>\n",
       "      <th>...</th>\n",
       "      <th>binary_outcome</th>\n",
       "      <th>Birth_qyear</th>\n",
       "      <th>Birth_weekday</th>\n",
       "      <th>Birth_hour</th>\n",
       "      <th>Intake_qyear</th>\n",
       "      <th>Intake_weekday</th>\n",
       "      <th>Intake_hour</th>\n",
       "      <th>Outcome_qyear</th>\n",
       "      <th>Outcome_weekday</th>\n",
       "      <th>Outcome_hour</th>\n",
       "    </tr>\n",
       "  </thead>\n",
       "  <tbody>\n",
       "    <tr>\n",
       "      <th>0</th>\n",
       "      <td>Unknown</td>\n",
       "      <td>Stray</td>\n",
       "      <td>Normal</td>\n",
       "      <td>Cat</td>\n",
       "      <td>Domestic Shorthair Mix</td>\n",
       "      <td>Orange Tabby</td>\n",
       "      <td>2</td>\n",
       "      <td>2</td>\n",
       "      <td>Male</td>\n",
       "      <td>Intact</td>\n",
       "      <td>...</td>\n",
       "      <td>1.0</td>\n",
       "      <td>3</td>\n",
       "      <td>2</td>\n",
       "      <td>0</td>\n",
       "      <td>4</td>\n",
       "      <td>0</td>\n",
       "      <td>11</td>\n",
       "      <td>4</td>\n",
       "      <td>0</td>\n",
       "      <td>18</td>\n",
       "    </tr>\n",
       "    <tr>\n",
       "      <th>1</th>\n",
       "      <td>Unknown</td>\n",
       "      <td>Stray</td>\n",
       "      <td>Normal</td>\n",
       "      <td>Cat</td>\n",
       "      <td>Domestic Shorthair Mix</td>\n",
       "      <td>Black Tabby</td>\n",
       "      <td>3</td>\n",
       "      <td>3</td>\n",
       "      <td>Male</td>\n",
       "      <td>Intact</td>\n",
       "      <td>...</td>\n",
       "      <td>1.0</td>\n",
       "      <td>3</td>\n",
       "      <td>4</td>\n",
       "      <td>0</td>\n",
       "      <td>4</td>\n",
       "      <td>5</td>\n",
       "      <td>12</td>\n",
       "      <td>4</td>\n",
       "      <td>0</td>\n",
       "      <td>15</td>\n",
       "    </tr>\n",
       "    <tr>\n",
       "      <th>2</th>\n",
       "      <td>Known</td>\n",
       "      <td>Stray</td>\n",
       "      <td>Normal</td>\n",
       "      <td>Cat</td>\n",
       "      <td>Domestic Medium Hair Mix</td>\n",
       "      <td>Calico</td>\n",
       "      <td>4</td>\n",
       "      <td>4</td>\n",
       "      <td>Female</td>\n",
       "      <td>Spayed</td>\n",
       "      <td>...</td>\n",
       "      <td>1.0</td>\n",
       "      <td>3</td>\n",
       "      <td>1</td>\n",
       "      <td>0</td>\n",
       "      <td>4</td>\n",
       "      <td>6</td>\n",
       "      <td>12</td>\n",
       "      <td>4</td>\n",
       "      <td>6</td>\n",
       "      <td>15</td>\n",
       "    </tr>\n",
       "    <tr>\n",
       "      <th>3</th>\n",
       "      <td>Unknown</td>\n",
       "      <td>Stray</td>\n",
       "      <td>Normal</td>\n",
       "      <td>Cat</td>\n",
       "      <td>Domestic Shorthair Mix</td>\n",
       "      <td>Brown Tabby</td>\n",
       "      <td>5</td>\n",
       "      <td>5</td>\n",
       "      <td>Female</td>\n",
       "      <td>Intact</td>\n",
       "      <td>...</td>\n",
       "      <td>0.0</td>\n",
       "      <td>1</td>\n",
       "      <td>6</td>\n",
       "      <td>0</td>\n",
       "      <td>1</td>\n",
       "      <td>0</td>\n",
       "      <td>12</td>\n",
       "      <td>1</td>\n",
       "      <td>0</td>\n",
       "      <td>13</td>\n",
       "    </tr>\n",
       "    <tr>\n",
       "      <th>4</th>\n",
       "      <td>Known</td>\n",
       "      <td>Owner Surrender</td>\n",
       "      <td>Normal</td>\n",
       "      <td>Dog</td>\n",
       "      <td>Toy Poodle Mix</td>\n",
       "      <td>Cream</td>\n",
       "      <td>5</td>\n",
       "      <td>5</td>\n",
       "      <td>Male</td>\n",
       "      <td>Neutered</td>\n",
       "      <td>...</td>\n",
       "      <td>1.0</td>\n",
       "      <td>2</td>\n",
       "      <td>1</td>\n",
       "      <td>0</td>\n",
       "      <td>2</td>\n",
       "      <td>4</td>\n",
       "      <td>11</td>\n",
       "      <td>2</td>\n",
       "      <td>6</td>\n",
       "      <td>15</td>\n",
       "    </tr>\n",
       "  </tbody>\n",
       "</table>\n",
       "<p>5 rows × 24 columns</p>\n",
       "</div>"
      ],
      "text/plain": [
       "  Name_Intake      Intake Type Intake Condition Animal Type_Intake  \\\n",
       "0     Unknown            Stray           Normal                Cat   \n",
       "1     Unknown            Stray           Normal                Cat   \n",
       "2       Known            Stray           Normal                Cat   \n",
       "3     Unknown            Stray           Normal                Cat   \n",
       "4       Known  Owner Surrender           Normal                Dog   \n",
       "\n",
       "               Breed_Intake  Color_Intake Age upon Intake Age upon Outcome  \\\n",
       "0    Domestic Shorthair Mix  Orange Tabby               2                2   \n",
       "1    Domestic Shorthair Mix   Black Tabby               3                3   \n",
       "2  Domestic Medium Hair Mix        Calico               4                4   \n",
       "3    Domestic Shorthair Mix   Brown Tabby               5                5   \n",
       "4            Toy Poodle Mix         Cream               5                5   \n",
       "\n",
       "  Sex_Intake Sex_State_Intake  ... binary_outcome Birth_qyear Birth_weekday  \\\n",
       "0       Male           Intact  ...            1.0           3             2   \n",
       "1       Male           Intact  ...            1.0           3             4   \n",
       "2     Female           Spayed  ...            1.0           3             1   \n",
       "3     Female           Intact  ...            0.0           1             6   \n",
       "4       Male         Neutered  ...            1.0           2             1   \n",
       "\n",
       "  Birth_hour  Intake_qyear Intake_weekday Intake_hour Outcome_qyear  \\\n",
       "0          0             4              0          11             4   \n",
       "1          0             4              5          12             4   \n",
       "2          0             4              6          12             4   \n",
       "3          0             1              0          12             1   \n",
       "4          0             2              4          11             2   \n",
       "\n",
       "  Outcome_weekday Outcome_hour  \n",
       "0               0           18  \n",
       "1               0           15  \n",
       "2               6           15  \n",
       "3               0           13  \n",
       "4               6           15  \n",
       "\n",
       "[5 rows x 24 columns]"
      ]
     },
     "execution_count": 16,
     "metadata": {},
     "output_type": "execute_result"
    }
   ],
   "source": [
    "# Dataframe containing all cleaned features\n",
    "df_all = df\n",
    "df_all.head() "
   ]
  },
  {
   "cell_type": "markdown",
   "metadata": {},
   "source": [
    "<br>\n"
   ]
  },
  {
   "cell_type": "markdown",
   "metadata": {},
   "source": [
    "## Data visualization\n",
    "* **Categorical features are viewed and analysed in this section**<br>\n",
    "    * No numeric continous features are present for anlytics<br>\n",
    "    * Datetime features are of no use since they have large cardinality, irrelevent for data anlytics in raw form\n",
    "* **Stacked bar plots are used to compare impact of a categorical feature on target variable**<br>\n",
    "* **For high correlation features, typically distribution of positive and negative outcomes is distinct visually**<br>\n",
    "\n",
    "\n"
   ]
  },
  {
   "cell_type": "markdown",
   "metadata": {},
   "source": [
    "### Categorical features vs Taget feature"
   ]
  },
  {
   "cell_type": "code",
   "execution_count": 17,
   "metadata": {},
   "outputs": [],
   "source": [
    "# Using code from reference solution provided used from the module lab\n",
    "def correlate_catagorical(df, inputFeature, targetFeature):\n",
    "    InputCol = pd.unique(df[inputFeature].ravel())\n",
    "\n",
    "    # add new column and set values to zero\n",
    "    df['percent'] = 0\n",
    "\n",
    "    #print header\n",
    "    print(\"Feature :\",inputFeature,\"\\n\")\n",
    "    print(\"Index\".ljust(20,\" \"),\"Count\")\n",
    "\n",
    "    # for each delinquency category\n",
    "    for i in InputCol:\n",
    "\n",
    "        count = df[df[inputFeature] == i].count()[targetFeature]\n",
    "        count_percentage = (1 / count) * 100\n",
    "\n",
    "        # print out index vs count\n",
    "        print(str(i).ljust(20,\" \"), count)\n",
    "\n",
    "        index_list = df[df[inputFeature] == i].index.tolist()\n",
    "        for ind in index_list:\n",
    "            df.loc[ind, 'percent'] = count_percentage\n",
    "\n",
    "    group = df[['percent',inputFeature,targetFeature]].groupby([inputFeature,targetFeature]).sum()\n",
    "\n",
    "    my_plot = group.unstack().plot(kind='bar', stacked=True, title=inputFeature+\" vs Outcome\", figsize=(10,5), grid=True)\n",
    "\n",
    "    # add legend\n",
    "    red_patch = mpatches.Patch(color='orange', label='Good')\n",
    "    blue_patch = mpatches.Patch(color='blue', label='Bad')\n",
    "    my_plot.legend(handles=[red_patch, blue_patch], frameon = True, loc='upper right', bbox_to_anchor=(0.5, 0.65, 0.5, 0.5))\n",
    "\n",
    "    # add gridlines\n",
    "    plt.grid(b=True, which='major', color='#666666', linestyle='-')\n",
    "    plt.minorticks_on()\n",
    "    plt.grid(b=True, which='minor', color='#999999', linestyle='-', alpha=0.2)\n",
    "\n",
    "    my_plot.set_xlabel(inputFeature)\n",
    "    my_plot.set_ylabel(\"% Outcome\")\n",
    "#     my_plot.set_ylim([0,100])\n",
    "    plt.show()"
   ]
  },
  {
   "cell_type": "code",
   "execution_count": 18,
   "metadata": {},
   "outputs": [
    {
     "name": "stdout",
     "output_type": "stream",
     "text": [
      "Feature : Name_Intake \n",
      "\n",
      "Index                Count\n",
      "Unknown              343\n",
      "Known                657\n"
     ]
    },
    {
     "data": {
      "image/png": "[encoded data removed]",
      "text/plain": [
       "<Figure size 720x360 with 1 Axes>"
      ]
     },
     "metadata": {
      "needs_background": "light"
     },
     "output_type": "display_data"
    },
    {
     "name": "stdout",
     "output_type": "stream",
     "text": [
      "Feature : Intake Type \n",
      "\n",
      "Index                Count\n",
      "Stray                714\n",
      "Owner Surrender      190\n",
      "Public Assist        49\n",
      "Wildlife             45\n",
      "Euthanasia Request   2\n"
     ]
    },
    {
     "data": {
      "image/png": "[encoded data removed]",
      "text/plain": [
       "<Figure size 720x360 with 1 Axes>"
      ]
     },
     "metadata": {
      "needs_background": "light"
     },
     "output_type": "display_data"
    },
    {
     "name": "stdout",
     "output_type": "stream",
     "text": [
      "Feature : Intake Condition \n",
      "\n",
      "Index                Count\n",
      "Normal               871\n",
      "Sick                 31\n",
      "Injured              59\n",
      "Nursing              30\n",
      "Feral                2\n",
      "Other                2\n",
      "Aged                 4\n",
      "Pregnant             1\n"
     ]
    },
    {
     "data": {
      "image/png": "[encoded data removed]",
      "text/plain": [
       "<Figure size 720x360 with 1 Axes>"
      ]
     },
     "metadata": {
      "needs_background": "light"
     },
     "output_type": "display_data"
    },
    {
     "name": "stdout",
     "output_type": "stream",
     "text": [
      "Feature : Animal Type_Intake \n",
      "\n",
      "Index                Count\n",
      "Cat                  412\n",
      "Dog                  523\n",
      "Other                62\n",
      "Bird                 3\n"
     ]
    },
    {
     "data": {
      "image/png": "[encoded data removed]",
      "text/plain": [
       "<Figure size 720x360 with 1 Axes>"
      ]
     },
     "metadata": {
      "needs_background": "light"
     },
     "output_type": "display_data"
    },
    {
     "name": "stdout",
     "output_type": "stream",
     "text": [
      "Feature : Breed_Intake \n",
      "\n",
      "Index                Count\n",
      "Domestic Shorthair Mix 298\n",
      "Domestic Medium Hair Mix 32\n",
      "Toy Poodle Mix       5\n",
      "Chihuahua Longhair   4\n",
      "Border Collie        2\n",
      "Dachshund Mix        11\n",
      "Miniature Poodle     4\n",
      "Chihuahua Shorthair  17\n",
      "Australian Cattle Dog Mix 14\n",
      "Domestic Shorthair   33\n",
      "Mastiff Mix          1\n",
      "Labrador Retriever   24\n",
      "Labrador Retriever Mix 56\n",
      "German Shepherd      8\n",
      "Pit Bull Mix         56\n",
      "Siberian Husky Mix   6\n",
      "Cocker Spaniel       4\n",
      "Boxer Mix            10\n",
      "Bat Mix              20\n",
      "Pigeon Mix           1\n",
      "Clumber Spaniel Mix  1\n",
      "German Shepherd Mix  22\n",
      "Border Collie Mix    6\n",
      "Jack Russell Terrier Mix 8\n",
      "Chihuahua Shorthair Mix 52\n",
      "Anatol Shepherd Mix  3\n",
      "American Bulldog Mix 8\n",
      "Soft Coated Wheaten Terrier Mix 2\n",
      "Yorkshire Terrier Mix 4\n",
      "Pembroke Welsh Corgi Mix 1\n",
      "Siamese Mix          11\n",
      "Cardigan Welsh Corgi Mix 2\n",
      "Miniature Poodle Mix 2\n",
      "Australian Shepherd Mix 8\n",
      "Golden Retriever     1\n",
      "Rat Terrier Mix      5\n",
      "Pug                  2\n",
      "Weimaraner           1\n",
      "Pit Bull             13\n",
      "Opossum              1\n",
      "Staffordshire Mix    5\n",
      "Bat                  12\n",
      "Doberman Pinsch Mix  2\n",
      "Dachshund Longhair Mix 1\n",
      "Basset Hound Mix     2\n",
      "Blue Lacy Mix        2\n",
      "Pomeranian           2\n",
      "Rhod Ridgeback Mix   1\n",
      "Black                2\n",
      "Guinea Pig           2\n",
      "Shih Tzu Mix         4\n",
      "Bull Terrier         2\n",
      "Black Mouth Cur Mix  3\n",
      "Norfolk Terrier Mix  1\n",
      "Burmese              1\n",
      "Beagle Mix           2\n",
      "English Spot Mix     1\n",
      "Rabbit Sh Mix        7\n",
      "Siamese              2\n",
      "Pointer              4\n",
      "Turkish Angora Mix   1\n",
      "Papillon Mix         2\n",
      "Australian Cattle Dog 6\n",
      "Domestic Medium Hair 6\n",
      "Raccoon Mix          4\n",
      "Catahoula            4\n",
      "American Staffordshire Terrier Mix 2\n",
      "Beagle               2\n",
      "Bull Terrier Mix     1\n",
      "Catahoula Mix        3\n",
      "Lop-English Mix      1\n",
      "Domestic Longhair Mix 18\n",
      "Rottweiler Mix       3\n",
      "Dachshund            5\n",
      "Rat Terrier          4\n",
      "Parrot               1\n",
      "Cairn Terrier Mix    3\n",
      "Opossum Mix          2\n",
      "Chihuahua Longhair Mix 5\n",
      "Domestic Longhair    2\n",
      "Basenji              1\n",
      "Great Pyrenees       4\n",
      "Affenpinscher Mix    1\n",
      "American Pit Bull Terrier Mix 1\n",
      "Lhasa Apso           1\n",
      "Rex Mix              1\n",
      "Great Pyrenees Mix   3\n",
      "Raccoon              4\n",
      "Boxer                5\n",
      "Yorkshire Terrier    2\n",
      "Siberian Husky       6\n",
      "Shih Tzu             1\n",
      "Chow Chow Mix        1\n",
      "English Bulldog Mix  1\n",
      "Whippet Mix          2\n",
      "Pomeranian Mix       1\n",
      "Miniature Schnauzer  2\n",
      "Great Dane Mix       1\n",
      "Plott Hound Mix      4\n",
      "Skunk Mix            1\n",
      "Queensland Heeler Mix 1\n",
      "Duck Mix             1\n",
      "French Bulldog Mix   1\n",
      "Australian Kelpie Mix 5\n",
      "Snake                1\n",
      "American Staffordshire Terrier 1\n",
      "Parson Russell Terrier Mix 1\n",
      "Border Terrier Mix   2\n",
      "Miniature Pinscher   2\n",
      "Snowshoe Mix         1\n",
      "Abyssinian           1\n",
      "Standard Poodle Mix  1\n",
      "Netherlnd Dwarf      1\n",
      "Russian Blue         1\n",
      "Russian Blue Mix     2\n",
      "Brittany Mix         2\n",
      "Miniature Schnauzer Mix 1\n",
      "Jack Russell Terrier 1\n",
      "Border Terrier       1\n",
      "Flat Coat Retriever Mix 1\n",
      "Miniature Pinscher Mix 1\n",
      "Soft Coated Wheaten Terrier 1\n",
      "Maltese Mix          3\n",
      "Pug Mix              1\n",
      "Pointer Mix          1\n",
      "Rottweiler           1\n",
      "Pekingese Mix        1\n",
      "Alaskan Husky        2\n",
      "Hotot                1\n",
      "Bruss Griffon        1\n",
      "Field Spaniel Mix    1\n",
      "Manchester Terrier   1\n",
      "Cavalier Span Mix    1\n",
      "Fox Mix              1\n",
      "Guinea Pig Mix       1\n",
      "Manchester Terrier Mix 1\n",
      "Maltese              1\n",
      "Collie Rough Mix     1\n",
      "Hovawart             1\n",
      "Collie Smooth        1\n",
      "Weimaraner Mix       1\n",
      "Carolina Dog Mix     1\n",
      "Picardy Sheepdog Mix 1\n",
      "Carolina Dog         1\n",
      "Mouse Mix            1\n",
      "Pekingese            1\n",
      "Cairn Terrier        1\n",
      "Bengal Mix           1\n",
      "Balinese Mix         1\n",
      "Cocker Spaniel Mix   1\n",
      "Himalayan Mix        1\n",
      "Belgian Malinois     1\n",
      "Harrier Mix          1\n",
      "Swedish Vallhund Mix 1\n"
     ]
    },
    {
     "data": {
      "image/png": "[encoded data removed]",
      "text/plain": [
       "<Figure size 720x360 with 1 Axes>"
      ]
     },
     "metadata": {
      "needs_background": "light"
     },
     "output_type": "display_data"
    },
    {
     "name": "stdout",
     "output_type": "stream",
     "text": [
      "Feature : Color_Intake \n",
      "\n",
      "Index                Count\n",
      "Orange Tabby         57\n",
      "Black Tabby          2\n",
      "Calico               25\n",
      "Brown Tabby          95\n",
      "Cream                10\n",
      "Tan                  71\n",
      "Black                218\n",
      "Tricolor             25\n",
      "Red                  23\n",
      "Brown                115\n",
      "Orange               4\n",
      "White                122\n",
      "Chocolate            16\n",
      "Gray                 17\n",
      "Blue                 43\n",
      "Yellow Brindle       2\n",
      "Tortie               19\n",
      "Blue Tabby           23\n",
      "Seal Point           3\n",
      "Sable                6\n",
      "Black Brindle        4\n",
      "Cream Tabby          14\n",
      "Torbie               13\n",
      "Blue Merle           5\n",
      "Brown Brindle        22\n",
      "Chocolate Point      1\n",
      "Flame Point          4\n",
      "Gray Tabby           2\n",
      "Red Tick             3\n",
      "Buff                 9\n",
      "Black Smoke          3\n",
      "Green                1\n",
      "Lynx Point           6\n",
      "Blue Tiger           1\n",
      "Yellow               4\n",
      "Fawn                 1\n",
      "Lilac Point          1\n",
      "Blue Tick            1\n",
      "Liver                2\n",
      "Blue Point           1\n",
      "Gold                 2\n",
      "Brown Merle          1\n",
      "Silver               2\n",
      "Blue Cream           1\n"
     ]
    },
    {
     "data": {
      "image/png": "[encoded data removed]",
      "text/plain": [
       "<Figure size 720x360 with 1 Axes>"
      ]
     },
     "metadata": {
      "needs_background": "light"
     },
     "output_type": "display_data"
    },
    {
     "name": "stdout",
     "output_type": "stream",
     "text": [
      "Feature : Age upon Intake \n",
      "\n",
      "Index                Count\n",
      "2                    149\n",
      "3                    251\n",
      "4                    217\n",
      "5                    219\n",
      "1                    118\n",
      "0                    46\n"
     ]
    },
    {
     "data": {
      "image/png": "[encoded data removed]",
      "text/plain": [
       "<Figure size 720x360 with 1 Axes>"
      ]
     },
     "metadata": {
      "needs_background": "light"
     },
     "output_type": "display_data"
    },
    {
     "name": "stdout",
     "output_type": "stream",
     "text": [
      "Feature : Age upon Outcome \n",
      "\n",
      "Index                Count\n",
      "2                    171\n",
      "3                    245\n",
      "4                    232\n",
      "5                    256\n",
      "1                    68\n",
      "0                    28\n"
     ]
    },
    {
     "data": {
      "image/png": "[encoded data removed]",
      "text/plain": [
       "<Figure size 720x360 with 1 Axes>"
      ]
     },
     "metadata": {
      "needs_background": "light"
     },
     "output_type": "display_data"
    },
    {
     "name": "stdout",
     "output_type": "stream",
     "text": [
      "Feature : Sex_Intake \n",
      "\n",
      "Index                Count\n",
      "Male                 482\n",
      "Female               424\n",
      "Unknown              94\n"
     ]
    },
    {
     "data": {
      "image/png": "[encoded data removed]",
      "text/plain": [
       "<Figure size 720x360 with 1 Axes>"
      ]
     },
     "metadata": {
      "needs_background": "light"
     },
     "output_type": "display_data"
    },
    {
     "name": "stdout",
     "output_type": "stream",
     "text": [
      "Feature : Sex_State_Intake \n",
      "\n",
      "Index                Count\n",
      "Intact               630\n",
      "Spayed               133\n",
      "Neutered             143\n",
      "Unknown              94\n"
     ]
    },
    {
     "data": {
      "image/png": "[encoded data removed]",
      "text/plain": [
       "<Figure size 720x360 with 1 Axes>"
      ]
     },
     "metadata": {
      "needs_background": "light"
     },
     "output_type": "display_data"
    },
    {
     "name": "stdout",
     "output_type": "stream",
     "text": [
      "Feature : Sex_Outcome \n",
      "\n",
      "Index                Count\n",
      "Male                 482\n",
      "Female               424\n",
      "Unknown              94\n"
     ]
    },
    {
     "data": {
      "image/png": "[encoded data removed]",
      "text/plain": [
       "<Figure size 720x360 with 1 Axes>"
      ]
     },
     "metadata": {
      "needs_background": "light"
     },
     "output_type": "display_data"
    },
    {
     "name": "stdout",
     "output_type": "stream",
     "text": [
      "Feature : Sex_State_Outcome \n",
      "\n",
      "Index                Count\n",
      "Neutered             347\n",
      "Spayed               301\n",
      "Intact               258\n",
      "Unknown              94\n"
     ]
    },
    {
     "data": {
      "image/png": "[encoded data removed]",
      "text/plain": [
       "<Figure size 720x360 with 1 Axes>"
      ]
     },
     "metadata": {
      "needs_background": "light"
     },
     "output_type": "display_data"
    },
    {
     "name": "stdout",
     "output_type": "stream",
     "text": [
      "Feature : found_Address_City \n",
      "\n",
      "Index                Count\n",
      "Austin               832\n",
      "Manor                20\n",
      "Lago Vista           3\n",
      "Del Valle            23\n",
      "Travis               90\n",
      "Pflugerville         14\n",
      "Outside Jurisdiction 7\n",
      "Lakeway              2\n",
      "Jonestown            2\n",
      "Hays                 2\n",
      "Creedmoor            1\n",
      "Leander              2\n",
      "Bee Cave             1\n",
      "Cedar Park           1\n"
     ]
    },
    {
     "data": {
      "image/png": "[encoded data removed]",
      "text/plain": [
       "<Figure size 720x360 with 1 Axes>"
      ]
     },
     "metadata": {
      "needs_background": "light"
     },
     "output_type": "display_data"
    },
    {
     "name": "stdout",
     "output_type": "stream",
     "text": [
      "Feature : found_Address_State \n",
      "\n",
      "Index                Count\n",
      "TX                   993\n",
      "unknown              7\n"
     ]
    },
    {
     "data": {
      "image/png": "[encoded data removed]",
      "text/plain": [
       "<Figure size 720x360 with 1 Axes>"
      ]
     },
     "metadata": {
      "needs_background": "light"
     },
     "output_type": "display_data"
    },
    {
     "name": "stdout",
     "output_type": "stream",
     "text": [
      "Feature : Birth_qyear \n",
      "\n",
      "Index                Count\n",
      "3                    247\n",
      "1                    230\n",
      "2                    312\n",
      "4                    211\n"
     ]
    },
    {
     "data": {
      "image/png": "[encoded data removed]",
      "text/plain": [
       "<Figure size 720x360 with 1 Axes>"
      ]
     },
     "metadata": {
      "needs_background": "light"
     },
     "output_type": "display_data"
    },
    {
     "name": "stdout",
     "output_type": "stream",
     "text": [
      "Feature : Birth_weekday \n",
      "\n",
      "Index                Count\n",
      "2                    131\n",
      "4                    126\n",
      "1                    169\n",
      "6                    135\n",
      "0                    142\n",
      "3                    168\n",
      "5                    129\n"
     ]
    },
    {
     "data": {
      "image/png": "[encoded data removed]",
      "text/plain": [
       "<Figure size 720x360 with 1 Axes>"
      ]
     },
     "metadata": {
      "needs_background": "light"
     },
     "output_type": "display_data"
    },
    {
     "name": "stdout",
     "output_type": "stream",
     "text": [
      "Feature : Birth_hour \n",
      "\n",
      "Index                Count\n",
      "0                    1000\n"
     ]
    },
    {
     "data": {
      "image/png": "[encoded data removed]",
      "text/plain": [
       "<Figure size 720x360 with 1 Axes>"
      ]
     },
     "metadata": {
      "needs_background": "light"
     },
     "output_type": "display_data"
    },
    {
     "name": "stdout",
     "output_type": "stream",
     "text": [
      "Feature : Intake_qyear \n",
      "\n",
      "Index                Count\n",
      "4                    253\n",
      "1                    193\n",
      "2                    315\n",
      "3                    239\n"
     ]
    },
    {
     "data": {
      "image/png": "[encoded data removed]",
      "text/plain": [
       "<Figure size 720x360 with 1 Axes>"
      ]
     },
     "metadata": {
      "needs_background": "light"
     },
     "output_type": "display_data"
    },
    {
     "name": "stdout",
     "output_type": "stream",
     "text": [
      "Feature : Intake_weekday \n",
      "\n",
      "Index                Count\n",
      "0                    143\n",
      "5                    176\n",
      "6                    115\n",
      "4                    149\n",
      "3                    127\n",
      "2                    145\n",
      "1                    145\n"
     ]
    },
    {
     "data": {
      "image/png": "[encoded data removed]",
      "text/plain": [
       "<Figure size 720x360 with 1 Axes>"
      ]
     },
     "metadata": {
      "needs_background": "light"
     },
     "output_type": "display_data"
    },
    {
     "name": "stdout",
     "output_type": "stream",
     "text": [
      "Feature : Intake_hour \n",
      "\n",
      "Index                Count\n",
      "11                   158\n",
      "12                   140\n",
      "9                    20\n",
      "8                    21\n",
      "18                   64\n",
      "17                   66\n",
      "13                   140\n",
      "14                   104\n",
      "7                    17\n",
      "15                   92\n",
      "10                   44\n",
      "16                   91\n",
      "19                   14\n",
      "0                    12\n",
      "23                   5\n",
      "20                   1\n",
      "21                   5\n",
      "22                   5\n",
      "1                    1\n"
     ]
    },
    {
     "data": {
      "image/png": "[encoded data removed]",
      "text/plain": [
       "<Figure size 720x360 with 1 Axes>"
      ]
     },
     "metadata": {
      "needs_background": "light"
     },
     "output_type": "display_data"
    },
    {
     "name": "stdout",
     "output_type": "stream",
     "text": [
      "Feature : Outcome_qyear \n",
      "\n",
      "Index                Count\n",
      "4                    276\n",
      "1                    197\n",
      "2                    280\n",
      "3                    247\n"
     ]
    },
    {
     "data": {
      "image/png": "[encoded data removed]",
      "text/plain": [
       "<Figure size 720x360 with 1 Axes>"
      ]
     },
     "metadata": {
      "needs_background": "light"
     },
     "output_type": "display_data"
    },
    {
     "name": "stdout",
     "output_type": "stream",
     "text": [
      "Feature : Outcome_weekday \n",
      "\n",
      "Index                Count\n",
      "0                    147\n",
      "6                    145\n",
      "2                    126\n",
      "3                    121\n",
      "1                    146\n",
      "4                    144\n",
      "5                    171\n"
     ]
    },
    {
     "data": {
      "image/png": "[encoded data removed]",
      "text/plain": [
       "<Figure size 720x360 with 1 Axes>"
      ]
     },
     "metadata": {
      "needs_background": "light"
     },
     "output_type": "display_data"
    },
    {
     "name": "stdout",
     "output_type": "stream",
     "text": [
      "Feature : Outcome_hour \n",
      "\n",
      "Index                Count\n",
      "18                   131\n",
      "15                   90\n",
      "13                   81\n",
      "16                   111\n",
      "17                   159\n",
      "11                   93\n",
      "12                   79\n",
      "6                    2\n",
      "19                   46\n",
      "8                    22\n",
      "9                    36\n",
      "14                   88\n",
      "10                   20\n",
      "0                    22\n",
      "20                   4\n",
      "7                    8\n",
      "21                   4\n",
      "23                   2\n",
      "22                   2\n"
     ]
    },
    {
     "data": {
      "image/png": "[encoded data removed]",
      "text/plain": [
       "<Figure size 720x360 with 1 Axes>"
      ]
     },
     "metadata": {
      "needs_background": "light"
     },
     "output_type": "display_data"
    }
   ],
   "source": [
    "for column in categorical_columns:\n",
    "    correlate_catagorical(df,column, 'binary_outcome' )"
   ]
  },
  {
   "cell_type": "markdown",
   "metadata": {},
   "source": [
    "### Select features for prediction "
   ]
  },
  {
   "cell_type": "markdown",
   "metadata": {},
   "source": [
    "\n",
    " - Target variable \"binary_outcome\" is typed categorical. \n",
    " - Examination of categorical variables against target variable helps to substantiate speculation about selecting variable for prediction: <br>\n",
    " \n",
    " - **Hit 1 : positive result [Animal survived shelter]**\n",
    " - **Hit 0 : negative result[Animal did not survived shelter]**\n",
    "\n",
    "| Features                  | Interaction with Target variable| Selected for prediction |\n",
    "|:------------------------- |:------------------ |:---------- | \n",
    "| Name_Intake               | Over 95% animals with known name hit 1; while less than 85% animals with unknown name hit 1| yes \n",
    "| Intake Type               | Over 95% animals from wild hit 0; while over 90% stray,rescued or surrendered animals animals  hit 1 | yes    |\n",
    "| Intake Condition          | Over 50% sick and injured animals hit 0; while over 90% of normal and nursed animals animals  hit 1 | yes|\n",
    "| Animal Type_Intake        | Over 90% cats and dogs hit 1; while over 60% of other animals  hit 0 | yes|\n",
    "| Breed_Intake              | Though a governing factor for mortality; feture has very large cardinality to refer for prediction        | no    |\n",
    "| Color_Intake              | Though a governing factor for adoption; feture has very large cardinality to refer for prediction        | no    |\n",
    "| Age upon Intake           | Distribution is visible showing higher mortality in slab 3 compared to other slabs|yes |\n",
    "| Age upon Outcome          | Distribution is visible showing higher mortality in slab 3 compared to other slabs|yes |\n",
    "| Sex_Intake           | Animals with unknown sex have more than 50% hit 0 rate; while over 90% animals with known sex survive         | yes    |\n",
    "| Sex_State_Intake           | Animals with intact/ unknown sex state have higher mortality rate than spayed/ neutered animals        |yes    |\n",
    "| Sex_Outcome           | Animals with unknown sex have more than 50% hit 0 rate; while over 90% animals with known sex survive         | yes    |\n",
    "| Sex_State_Outcome           | Animals with intact/ unknown sex state have higher mortality rate than spayed/ neutered animals        |yes    |\n",
    "| Found_Address_City            | No definite distribution        | no    |\n",
    "| Found_Address_State            | No definite distribution        | no    |\n",
    "| Birth_qyear            | Mortality rate is successively dicreasing for quarters of year        |yes    |\n",
    "| Birth_weekday            | Mortality rate has no definit distribution against day of birth| no    |\n",
    "| Birth_hour            | Birth hour entry is inorganic; not available in original data        | no    | \n",
    "| Intake_qyear            |Mortality rate is successively dicreasing for quarters of year; but pattern highly correlates Birth_qyear. Hece can be dropped | no |         \n",
    "| Intake_weekday            |  Mortality rate for animals found at start of week is higher        |yes    |\n",
    "| Intake_hour            | Animals found late night and early morning have higher mortality rate than those found in day light| yes    |\n",
    "| Outcome_qyear             |Mortality rate is successively dicreasing for quarters of year; but pattern highly correlates Birth_qyear. Hece can be dropped         |no    |\n",
    "| Outcome_weekday            |  Mortality rate for animals found at start of week is higher        |yes    |\n",
    "| Outcome_hour            | tendancy of  mortality in early morning hours | yes    |\n",
    "| Date of Birth             | Irrelevent in direct form; relevent factors like hour, day of week and quarter of year are extracted            | no |\n",
    "| DateTime_Intake           | Irrelevent in direct form; relevent factors like hour, day of week and quarter of year are extracted            | no |\n",
    "| DateTime_Outcome          | Irrelevent in direct form; relevent factors like hour, day of week and quarter of year are extracted            | no |"
   ]
  },
  {
   "cell_type": "markdown",
   "metadata": {},
   "source": [
    "### Dataframe of selected features"
   ]
  },
  {
   "cell_type": "code",
   "execution_count": 19,
   "metadata": {
    "scrolled": false
   },
   "outputs": [],
   "source": [
    "X = df[['Name_Intake','Intake Type','Intake Condition','Animal Type_Intake',\\\n",
    "            'Age upon Intake','Age upon Outcome',\\\n",
    "            'Sex_Intake','Sex_State_Intake','Sex_Outcome','Sex_State_Outcome',\\\n",
    "            'Birth_qyear',\\\n",
    "            'Intake_weekday', 'Intake_hour',\\\n",
    "            'Outcome_weekday', 'Outcome_hour'\\\n",
    "           ]]\n",
    "\n",
    "y = df[['binary_outcome']]"
   ]
  },
  {
   "cell_type": "markdown",
   "metadata": {},
   "source": [
    "<br>"
   ]
  },
  {
   "cell_type": "markdown",
   "metadata": {},
   "source": [
    "### Save dataframe with selected columns for future use"
   ]
  },
  {
   "cell_type": "code",
   "execution_count": 20,
   "metadata": {},
   "outputs": [
    {
     "data": {
      "text/html": [
       "<div>\n",
       "<style scoped>\n",
       "    .dataframe tbody tr th:only-of-type {\n",
       "        vertical-align: middle;\n",
       "    }\n",
       "\n",
       "    .dataframe tbody tr th {\n",
       "        vertical-align: top;\n",
       "    }\n",
       "\n",
       "    .dataframe thead th {\n",
       "        text-align: right;\n",
       "    }\n",
       "</style>\n",
       "<table border=\"1\" class=\"dataframe\">\n",
       "  <thead>\n",
       "    <tr style=\"text-align: right;\">\n",
       "      <th></th>\n",
       "      <th>Name_Intake</th>\n",
       "      <th>Intake Type</th>\n",
       "      <th>Intake Condition</th>\n",
       "      <th>Animal Type_Intake</th>\n",
       "      <th>Age upon Intake</th>\n",
       "      <th>Age upon Outcome</th>\n",
       "      <th>Sex_Intake</th>\n",
       "      <th>Sex_State_Intake</th>\n",
       "      <th>Sex_Outcome</th>\n",
       "      <th>Sex_State_Outcome</th>\n",
       "      <th>Birth_qyear</th>\n",
       "      <th>Intake_weekday</th>\n",
       "      <th>Intake_hour</th>\n",
       "      <th>Outcome_weekday</th>\n",
       "      <th>Outcome_hour</th>\n",
       "      <th>binary_outcome</th>\n",
       "    </tr>\n",
       "  </thead>\n",
       "  <tbody>\n",
       "    <tr>\n",
       "      <th>0</th>\n",
       "      <td>Unknown</td>\n",
       "      <td>Stray</td>\n",
       "      <td>Normal</td>\n",
       "      <td>Cat</td>\n",
       "      <td>2</td>\n",
       "      <td>2</td>\n",
       "      <td>Male</td>\n",
       "      <td>Intact</td>\n",
       "      <td>Male</td>\n",
       "      <td>Neutered</td>\n",
       "      <td>3</td>\n",
       "      <td>0</td>\n",
       "      <td>11</td>\n",
       "      <td>0</td>\n",
       "      <td>18</td>\n",
       "      <td>1.0</td>\n",
       "    </tr>\n",
       "    <tr>\n",
       "      <th>1</th>\n",
       "      <td>Unknown</td>\n",
       "      <td>Stray</td>\n",
       "      <td>Normal</td>\n",
       "      <td>Cat</td>\n",
       "      <td>3</td>\n",
       "      <td>3</td>\n",
       "      <td>Male</td>\n",
       "      <td>Intact</td>\n",
       "      <td>Male</td>\n",
       "      <td>Neutered</td>\n",
       "      <td>3</td>\n",
       "      <td>5</td>\n",
       "      <td>12</td>\n",
       "      <td>0</td>\n",
       "      <td>15</td>\n",
       "      <td>1.0</td>\n",
       "    </tr>\n",
       "    <tr>\n",
       "      <th>2</th>\n",
       "      <td>Known</td>\n",
       "      <td>Stray</td>\n",
       "      <td>Normal</td>\n",
       "      <td>Cat</td>\n",
       "      <td>4</td>\n",
       "      <td>4</td>\n",
       "      <td>Female</td>\n",
       "      <td>Spayed</td>\n",
       "      <td>Female</td>\n",
       "      <td>Spayed</td>\n",
       "      <td>3</td>\n",
       "      <td>6</td>\n",
       "      <td>12</td>\n",
       "      <td>6</td>\n",
       "      <td>15</td>\n",
       "      <td>1.0</td>\n",
       "    </tr>\n",
       "    <tr>\n",
       "      <th>3</th>\n",
       "      <td>Unknown</td>\n",
       "      <td>Stray</td>\n",
       "      <td>Normal</td>\n",
       "      <td>Cat</td>\n",
       "      <td>5</td>\n",
       "      <td>5</td>\n",
       "      <td>Female</td>\n",
       "      <td>Intact</td>\n",
       "      <td>Female</td>\n",
       "      <td>Intact</td>\n",
       "      <td>1</td>\n",
       "      <td>0</td>\n",
       "      <td>12</td>\n",
       "      <td>0</td>\n",
       "      <td>13</td>\n",
       "      <td>0.0</td>\n",
       "    </tr>\n",
       "    <tr>\n",
       "      <th>4</th>\n",
       "      <td>Known</td>\n",
       "      <td>Owner Surrender</td>\n",
       "      <td>Normal</td>\n",
       "      <td>Dog</td>\n",
       "      <td>5</td>\n",
       "      <td>5</td>\n",
       "      <td>Male</td>\n",
       "      <td>Neutered</td>\n",
       "      <td>Male</td>\n",
       "      <td>Neutered</td>\n",
       "      <td>2</td>\n",
       "      <td>4</td>\n",
       "      <td>11</td>\n",
       "      <td>6</td>\n",
       "      <td>15</td>\n",
       "      <td>1.0</td>\n",
       "    </tr>\n",
       "  </tbody>\n",
       "</table>\n",
       "</div>"
      ],
      "text/plain": [
       "  Name_Intake      Intake Type Intake Condition Animal Type_Intake  \\\n",
       "0     Unknown            Stray           Normal                Cat   \n",
       "1     Unknown            Stray           Normal                Cat   \n",
       "2       Known            Stray           Normal                Cat   \n",
       "3     Unknown            Stray           Normal                Cat   \n",
       "4       Known  Owner Surrender           Normal                Dog   \n",
       "\n",
       "  Age upon Intake Age upon Outcome Sex_Intake Sex_State_Intake Sex_Outcome  \\\n",
       "0               2                2       Male           Intact        Male   \n",
       "1               3                3       Male           Intact        Male   \n",
       "2               4                4     Female           Spayed      Female   \n",
       "3               5                5     Female           Intact      Female   \n",
       "4               5                5       Male         Neutered        Male   \n",
       "\n",
       "  Sex_State_Outcome Birth_qyear Intake_weekday Intake_hour Outcome_weekday  \\\n",
       "0          Neutered           3              0          11               0   \n",
       "1          Neutered           3              5          12               0   \n",
       "2            Spayed           3              6          12               6   \n",
       "3            Intact           1              0          12               0   \n",
       "4          Neutered           2              4          11               6   \n",
       "\n",
       "  Outcome_hour  binary_outcome  \n",
       "0           18             1.0  \n",
       "1           15             1.0  \n",
       "2           15             1.0  \n",
       "3           13             0.0  \n",
       "4           15             1.0  "
      ]
     },
     "execution_count": 20,
     "metadata": {},
     "output_type": "execute_result"
    }
   ],
   "source": [
    "df_subset = pd.merge(X.reset_index(),y.reset_index()).drop(['index'],axis=1).reset_index(drop=True)\n",
    "df_subset.head()"
   ]
  },
  {
   "cell_type": "markdown",
   "metadata": {},
   "source": [
    "<br>"
   ]
  },
  {
   "cell_type": "markdown",
   "metadata": {},
   "source": [
    "## Chi Squared Test\n",
    "\n",
    "* **chi-squared (χ2) test  is a statistical hypothesis test that is valid to perform when the test statistic is chi-squared distributed under the null hypothesis. Perticular variant used here is [Pearson's chi-squared test](https://en.wikipedia.org/wiki/Pearson%27s_chi-squared_test) for statistical independence**<br> \n",
    "    * It is a statistical test applied to sets of categorical data to evaluate how likely it is that any observed difference between the sets arose by chance \n",
    "<br><br>\n",
    "\n",
    "**Purpose of chi squared test**<br>\n",
    "* **Entire feature space is categorical for this problem**<br>\n",
    "* **Features selected in [previous section](#Select-features-for-prediction) were selected upon visual inspection!!!**\n",
    "* **To substantiate the claims; statistical validation is important**\n",
    "* **Chi squared test works on following assumption:**\n",
    "    * An \"observation\" consists of the all discrtete values of outcomes and the null hypothesis is that the occurrence of these outcomes is statistically independent.\n",
    "* **Now, if a feature is highly correlated to the outcome; then it would defy this null hypothesis!!!**\n",
    "\n",
    "* **prob** is *probability of null hypothesis to be true* \n",
    "* **critical** is *numeric representation of prob in context of range of values for perticular feature space*\n",
    "* **p** value is *extent to which null hypothesis is defied. Smaller the p than alpha, greater the correlation*\n"
   ]
  },
  {
   "cell_type": "code",
   "execution_count": 21,
   "metadata": {
    "scrolled": false
   },
   "outputs": [
    {
     "name": "stdout",
     "output_type": "stream",
     "text": [
      "| feature            |   prob |   critical |     stat |           p |   alpha | test Dependancy   | p Dependancy   |\n",
      "|--------------------+--------+------------+----------+-------------+---------+-------------------+----------------|\n",
      "| Name_Intake        |   0.95 |     3.8415 |  99.1049 | 2.39471e-23 |    0.05 | Dependent         | Dependent      |\n",
      "| Intake Type        |   0.95 |     9.4877 | 422.666  | 3.51693e-90 |    0.05 | Dependent         | Dependent      |\n",
      "| Intake Condition   |   0.95 |    14.0671 | 230.105  | 4.71549e-46 |    0.05 | Dependent         | Dependent      |\n",
      "| Animal Type_Intake |   0.95 |     7.8147 | 303.836  | 1.47071e-65 |    0.05 | Dependent         | Dependent      |\n",
      "| Age upon Intake    |   0.95 |    11.0705 |  17.9527 | 0.00300621  |    0.05 | Dependent         | Dependent      |\n",
      "| Age upon Outcome   |   0.95 |    11.0705 |  19.6495 | 0.00145379  |    0.05 | Dependent         | Dependent      |\n",
      "| Sex_Intake         |   0.95 |     5.9915 | 235.257  | 8.21616e-52 |    0.05 | Dependent         | Dependent      |\n",
      "| Sex_State_Intake   |   0.95 |     7.8147 | 235.298  | 9.89361e-51 |    0.05 | Dependent         | Dependent      |\n",
      "| Sex_Outcome        |   0.95 |     5.9915 | 235.257  | 8.21616e-52 |    0.05 | Dependent         | Dependent      |\n",
      "| Sex_State_Outcome  |   0.95 |     7.8147 | 252.993  | 1.474e-54   |    0.05 | Dependent         | Dependent      |\n",
      "| Birth_qyear        |   0.95 |     7.8147 |   5.1818 | 0.158962    |    0.05 | Independent       | Independent    |\n",
      "| Intake_weekday     |   0.95 |    12.5916 |   8.6246 | 0.195817    |    0.05 | Independent       | Independent    |\n",
      "| Intake_hour        |   0.95 |    28.8693 |  89.359  | 1.88167e-11 |    0.05 | Dependent         | Dependent      |\n",
      "| Outcome_weekday    |   0.95 |    12.5916 |   7.9321 | 0.243119    |    0.05 | Independent       | Independent    |\n",
      "| Outcome_hour       |   0.95 |    28.8693 | 146.887  | 2.98679e-22 |    0.05 | Dependent         | Dependent      | \n",
      "\n",
      "\n",
      "\n"
     ]
    }
   ],
   "source": [
    "# Reference : https://machinelearningmastery.com/chi-squared-test-for-machine-learning/\n",
    "\n",
    "# dataframe for storing result about feature dependancy    \n",
    "data = pd.DataFrame(columns=['feature','prob','critical','stat','p','alpha','test Dependancy','p Dependancy'])\n",
    "\n",
    "for column in X.columns:\n",
    "\n",
    "    # contingency table\n",
    "    table = pd.crosstab(X[column], y['binary_outcome'])\n",
    "\n",
    "    stat, p, dof, expected = chi2_contingency(table)\n",
    "\n",
    "    # interpret test-statistic\n",
    "    '''\n",
    "    prob is probability of null hypothesis to be true. \n",
    "    And, critical value is representation of prob in context of range of values for perticular feature space \n",
    "    '''\n",
    "    prob = 0.95\n",
    "    critical = chi2.ppf(prob, dof)\n",
    "\n",
    "    if abs(stat) >= critical:\n",
    "        testDepenancy = \"Dependent\"\n",
    "    else:\n",
    "        testDepenancy = \"Independent\"\n",
    "        \n",
    "    # interpret p-value\n",
    "    alpha = 1.0 - prob\n",
    "    if p <= alpha:\n",
    "        pDepenancy = \"Dependent\"\n",
    "    else:\n",
    "        pDepenancy = \"Independent\"\n",
    "    \n",
    "    a_series = pd.Series([column, prob,round(critical,4), round(stat,4),p,alpha,testDepenancy,testDepenancy], index = data.columns)\n",
    "    data = data.append(a_series, ignore_index=True)\n",
    "    \n",
    "print(tabulate(data, headers=data.columns,tablefmt=\"orgtbl\", showindex=False), \"\\n\\n\\n\")\n"
   ]
  },
  {
   "cell_type": "markdown",
   "metadata": {},
   "source": [
    "### High correlation features\n",
    "* ***Independent*** features are dropped for obvious reasons from set of high correaltion features\n",
    "* Similarly, ***Dependent features larger p value*** can be droped from set of high correaltion features\n",
    "* **Features which have very small p value represent high correlation between feature and target feature.**<br>\n",
    "* **Hence, Dependant features which have ratio (alpha : p) > 100 are considered high importance features.**\n"
   ]
  },
  {
   "cell_type": "code",
   "execution_count": 22,
   "metadata": {},
   "outputs": [
    {
     "data": {
      "text/plain": [
       "['Name_Intake',\n",
       " 'Intake Type',\n",
       " 'Intake Condition',\n",
       " 'Animal Type_Intake',\n",
       " 'Sex_Intake',\n",
       " 'Sex_State_Intake',\n",
       " 'Sex_Outcome',\n",
       " 'Sex_State_Outcome',\n",
       " 'Intake_hour',\n",
       " 'Outcome_hour']"
      ]
     },
     "execution_count": 22,
     "metadata": {},
     "output_type": "execute_result"
    }
   ],
   "source": [
    "# Find featues with very low p value acompared to alpha\n",
    "\n",
    "mask1 = ((data['alpha'] / data['p']) > 100) & (data['test Dependancy'] == \"Dependent\") & (data['p Dependancy'] == \"Dependent\")\n",
    "highCorr_features = data.loc[mask1, 'feature'].tolist()\n",
    "\n",
    "highCorr_features"
   ]
  },
  {
   "cell_type": "markdown",
   "metadata": {},
   "source": [
    "### Save dataframe with high correlation features for future use"
   ]
  },
  {
   "cell_type": "code",
   "execution_count": 23,
   "metadata": {
    "scrolled": true
   },
   "outputs": [
    {
     "data": {
      "text/html": [
       "<div>\n",
       "<style scoped>\n",
       "    .dataframe tbody tr th:only-of-type {\n",
       "        vertical-align: middle;\n",
       "    }\n",
       "\n",
       "    .dataframe tbody tr th {\n",
       "        vertical-align: top;\n",
       "    }\n",
       "\n",
       "    .dataframe thead th {\n",
       "        text-align: right;\n",
       "    }\n",
       "</style>\n",
       "<table border=\"1\" class=\"dataframe\">\n",
       "  <thead>\n",
       "    <tr style=\"text-align: right;\">\n",
       "      <th></th>\n",
       "      <th>Name_Intake</th>\n",
       "      <th>Intake Type</th>\n",
       "      <th>Intake Condition</th>\n",
       "      <th>Animal Type_Intake</th>\n",
       "      <th>Sex_Intake</th>\n",
       "      <th>Sex_State_Intake</th>\n",
       "      <th>Sex_Outcome</th>\n",
       "      <th>Sex_State_Outcome</th>\n",
       "      <th>Intake_hour</th>\n",
       "      <th>Outcome_hour</th>\n",
       "      <th>binary_outcome</th>\n",
       "    </tr>\n",
       "  </thead>\n",
       "  <tbody>\n",
       "    <tr>\n",
       "      <th>0</th>\n",
       "      <td>Unknown</td>\n",
       "      <td>Stray</td>\n",
       "      <td>Normal</td>\n",
       "      <td>Cat</td>\n",
       "      <td>Male</td>\n",
       "      <td>Intact</td>\n",
       "      <td>Male</td>\n",
       "      <td>Neutered</td>\n",
       "      <td>11</td>\n",
       "      <td>18</td>\n",
       "      <td>1.0</td>\n",
       "    </tr>\n",
       "    <tr>\n",
       "      <th>1</th>\n",
       "      <td>Unknown</td>\n",
       "      <td>Stray</td>\n",
       "      <td>Normal</td>\n",
       "      <td>Cat</td>\n",
       "      <td>Male</td>\n",
       "      <td>Intact</td>\n",
       "      <td>Male</td>\n",
       "      <td>Neutered</td>\n",
       "      <td>12</td>\n",
       "      <td>15</td>\n",
       "      <td>1.0</td>\n",
       "    </tr>\n",
       "    <tr>\n",
       "      <th>2</th>\n",
       "      <td>Known</td>\n",
       "      <td>Stray</td>\n",
       "      <td>Normal</td>\n",
       "      <td>Cat</td>\n",
       "      <td>Female</td>\n",
       "      <td>Spayed</td>\n",
       "      <td>Female</td>\n",
       "      <td>Spayed</td>\n",
       "      <td>12</td>\n",
       "      <td>15</td>\n",
       "      <td>1.0</td>\n",
       "    </tr>\n",
       "    <tr>\n",
       "      <th>3</th>\n",
       "      <td>Unknown</td>\n",
       "      <td>Stray</td>\n",
       "      <td>Normal</td>\n",
       "      <td>Cat</td>\n",
       "      <td>Female</td>\n",
       "      <td>Intact</td>\n",
       "      <td>Female</td>\n",
       "      <td>Intact</td>\n",
       "      <td>12</td>\n",
       "      <td>13</td>\n",
       "      <td>0.0</td>\n",
       "    </tr>\n",
       "    <tr>\n",
       "      <th>4</th>\n",
       "      <td>Known</td>\n",
       "      <td>Owner Surrender</td>\n",
       "      <td>Normal</td>\n",
       "      <td>Dog</td>\n",
       "      <td>Male</td>\n",
       "      <td>Neutered</td>\n",
       "      <td>Male</td>\n",
       "      <td>Neutered</td>\n",
       "      <td>11</td>\n",
       "      <td>15</td>\n",
       "      <td>1.0</td>\n",
       "    </tr>\n",
       "  </tbody>\n",
       "</table>\n",
       "</div>"
      ],
      "text/plain": [
       "  Name_Intake      Intake Type Intake Condition Animal Type_Intake Sex_Intake  \\\n",
       "0     Unknown            Stray           Normal                Cat       Male   \n",
       "1     Unknown            Stray           Normal                Cat       Male   \n",
       "2       Known            Stray           Normal                Cat     Female   \n",
       "3     Unknown            Stray           Normal                Cat     Female   \n",
       "4       Known  Owner Surrender           Normal                Dog       Male   \n",
       "\n",
       "  Sex_State_Intake Sex_Outcome Sex_State_Outcome Intake_hour Outcome_hour  \\\n",
       "0           Intact        Male          Neutered          11           18   \n",
       "1           Intact        Male          Neutered          12           15   \n",
       "2           Spayed      Female            Spayed          12           15   \n",
       "3           Intact      Female            Intact          12           13   \n",
       "4         Neutered        Male          Neutered          11           15   \n",
       "\n",
       "   binary_outcome  \n",
       "0             1.0  \n",
       "1             1.0  \n",
       "2             1.0  \n",
       "3             0.0  \n",
       "4             1.0  "
      ]
     },
     "execution_count": 23,
     "metadata": {},
     "output_type": "execute_result"
    }
   ],
   "source": [
    "df_highCorr = pd.merge(X[highCorr_features].reset_index(),y.reset_index()).drop(['index'],axis=1).reset_index(drop=True)\n",
    "df_highCorr.head()"
   ]
  },
  {
   "cell_type": "markdown",
   "metadata": {},
   "source": [
    "### Interpretation of the results\n",
    "- Reviewing the visualisation and statistical results, we can breakdown correlation values into 3 bins for purposes of interpretation taking only their absolute value into account\n",
    "\n",
    "| Low correlation | Medium correlation | High correlation |\n",
    "|-----------------|--------------------|------------------|\n",
    "| 9 features      | 5  features        | 10 features      |\n",
    "| 38%             | 21%                | 41%              | \n",
    "\n",
    "- The strongest impact features are \"Intake Type\" and \"Animal Type_Intake\".\n",
    "    - Intake Type states the state in which animal was found : Stray/ owner surrendered/ wild etc\n",
    "    - Animal Type_Intake states the category of animal enrolled : cat/ dog/ bird/ others  \n",
    "- A set of medium and high correlation features togather is used for predicting the outcome with different prediction algorithms in following sections [Linear Regression](#Linear-Regression),[Logistic Regression](#Logistic-Regression) and [Random Forest](#Random-Forest)\n",
    "- The impact of this decision will be evaluated in part 5."
   ]
  },
  {
   "cell_type": "markdown",
   "metadata": {},
   "source": [
    "<br>"
   ]
  },
  {
   "cell_type": "markdown",
   "metadata": {},
   "source": [
    "## Form datasets "
   ]
  },
  {
   "cell_type": "markdown",
   "metadata": {},
   "source": [
    "### One hot Encoded feaures "
   ]
  },
  {
   "cell_type": "code",
   "execution_count": 24,
   "metadata": {
    "scrolled": true
   },
   "outputs": [
    {
     "data": {
      "text/html": [
       "<div>\n",
       "<style scoped>\n",
       "    .dataframe tbody tr th:only-of-type {\n",
       "        vertical-align: middle;\n",
       "    }\n",
       "\n",
       "    .dataframe tbody tr th {\n",
       "        vertical-align: top;\n",
       "    }\n",
       "\n",
       "    .dataframe thead th {\n",
       "        text-align: right;\n",
       "    }\n",
       "</style>\n",
       "<table border=\"1\" class=\"dataframe\">\n",
       "  <thead>\n",
       "    <tr style=\"text-align: right;\">\n",
       "      <th></th>\n",
       "      <th>Name_Intake_Known</th>\n",
       "      <th>Name_Intake_Unknown</th>\n",
       "      <th>Intake Type_Euthanasia Request</th>\n",
       "      <th>Intake Type_Owner Surrender</th>\n",
       "      <th>Intake Type_Public Assist</th>\n",
       "      <th>Intake Type_Stray</th>\n",
       "      <th>Intake Type_Wildlife</th>\n",
       "      <th>Intake Condition_Aged</th>\n",
       "      <th>Intake Condition_Feral</th>\n",
       "      <th>Intake Condition_Injured</th>\n",
       "      <th>...</th>\n",
       "      <th>Outcome_hour_14</th>\n",
       "      <th>Outcome_hour_15</th>\n",
       "      <th>Outcome_hour_16</th>\n",
       "      <th>Outcome_hour_17</th>\n",
       "      <th>Outcome_hour_18</th>\n",
       "      <th>Outcome_hour_19</th>\n",
       "      <th>Outcome_hour_20</th>\n",
       "      <th>Outcome_hour_21</th>\n",
       "      <th>Outcome_hour_22</th>\n",
       "      <th>Outcome_hour_23</th>\n",
       "    </tr>\n",
       "  </thead>\n",
       "  <tbody>\n",
       "    <tr>\n",
       "      <th>0</th>\n",
       "      <td>0</td>\n",
       "      <td>1</td>\n",
       "      <td>0</td>\n",
       "      <td>0</td>\n",
       "      <td>0</td>\n",
       "      <td>1</td>\n",
       "      <td>0</td>\n",
       "      <td>0</td>\n",
       "      <td>0</td>\n",
       "      <td>0</td>\n",
       "      <td>...</td>\n",
       "      <td>0</td>\n",
       "      <td>0</td>\n",
       "      <td>0</td>\n",
       "      <td>0</td>\n",
       "      <td>1</td>\n",
       "      <td>0</td>\n",
       "      <td>0</td>\n",
       "      <td>0</td>\n",
       "      <td>0</td>\n",
       "      <td>0</td>\n",
       "    </tr>\n",
       "    <tr>\n",
       "      <th>1</th>\n",
       "      <td>0</td>\n",
       "      <td>1</td>\n",
       "      <td>0</td>\n",
       "      <td>0</td>\n",
       "      <td>0</td>\n",
       "      <td>1</td>\n",
       "      <td>0</td>\n",
       "      <td>0</td>\n",
       "      <td>0</td>\n",
       "      <td>0</td>\n",
       "      <td>...</td>\n",
       "      <td>0</td>\n",
       "      <td>1</td>\n",
       "      <td>0</td>\n",
       "      <td>0</td>\n",
       "      <td>0</td>\n",
       "      <td>0</td>\n",
       "      <td>0</td>\n",
       "      <td>0</td>\n",
       "      <td>0</td>\n",
       "      <td>0</td>\n",
       "    </tr>\n",
       "    <tr>\n",
       "      <th>2</th>\n",
       "      <td>1</td>\n",
       "      <td>0</td>\n",
       "      <td>0</td>\n",
       "      <td>0</td>\n",
       "      <td>0</td>\n",
       "      <td>1</td>\n",
       "      <td>0</td>\n",
       "      <td>0</td>\n",
       "      <td>0</td>\n",
       "      <td>0</td>\n",
       "      <td>...</td>\n",
       "      <td>0</td>\n",
       "      <td>1</td>\n",
       "      <td>0</td>\n",
       "      <td>0</td>\n",
       "      <td>0</td>\n",
       "      <td>0</td>\n",
       "      <td>0</td>\n",
       "      <td>0</td>\n",
       "      <td>0</td>\n",
       "      <td>0</td>\n",
       "    </tr>\n",
       "    <tr>\n",
       "      <th>3</th>\n",
       "      <td>0</td>\n",
       "      <td>1</td>\n",
       "      <td>0</td>\n",
       "      <td>0</td>\n",
       "      <td>0</td>\n",
       "      <td>1</td>\n",
       "      <td>0</td>\n",
       "      <td>0</td>\n",
       "      <td>0</td>\n",
       "      <td>0</td>\n",
       "      <td>...</td>\n",
       "      <td>0</td>\n",
       "      <td>0</td>\n",
       "      <td>0</td>\n",
       "      <td>0</td>\n",
       "      <td>0</td>\n",
       "      <td>0</td>\n",
       "      <td>0</td>\n",
       "      <td>0</td>\n",
       "      <td>0</td>\n",
       "      <td>0</td>\n",
       "    </tr>\n",
       "    <tr>\n",
       "      <th>4</th>\n",
       "      <td>1</td>\n",
       "      <td>0</td>\n",
       "      <td>0</td>\n",
       "      <td>1</td>\n",
       "      <td>0</td>\n",
       "      <td>0</td>\n",
       "      <td>0</td>\n",
       "      <td>0</td>\n",
       "      <td>0</td>\n",
       "      <td>0</td>\n",
       "      <td>...</td>\n",
       "      <td>0</td>\n",
       "      <td>1</td>\n",
       "      <td>0</td>\n",
       "      <td>0</td>\n",
       "      <td>0</td>\n",
       "      <td>0</td>\n",
       "      <td>0</td>\n",
       "      <td>0</td>\n",
       "      <td>0</td>\n",
       "      <td>0</td>\n",
       "    </tr>\n",
       "  </tbody>\n",
       "</table>\n",
       "<p>5 rows × 101 columns</p>\n",
       "</div>"
      ],
      "text/plain": [
       "   Name_Intake_Known  Name_Intake_Unknown  Intake Type_Euthanasia Request  \\\n",
       "0                  0                    1                               0   \n",
       "1                  0                    1                               0   \n",
       "2                  1                    0                               0   \n",
       "3                  0                    1                               0   \n",
       "4                  1                    0                               0   \n",
       "\n",
       "   Intake Type_Owner Surrender  Intake Type_Public Assist  Intake Type_Stray  \\\n",
       "0                            0                          0                  1   \n",
       "1                            0                          0                  1   \n",
       "2                            0                          0                  1   \n",
       "3                            0                          0                  1   \n",
       "4                            1                          0                  0   \n",
       "\n",
       "   Intake Type_Wildlife  Intake Condition_Aged  Intake Condition_Feral  \\\n",
       "0                     0                      0                       0   \n",
       "1                     0                      0                       0   \n",
       "2                     0                      0                       0   \n",
       "3                     0                      0                       0   \n",
       "4                     0                      0                       0   \n",
       "\n",
       "   Intake Condition_Injured  ...  Outcome_hour_14  Outcome_hour_15  \\\n",
       "0                         0  ...                0                0   \n",
       "1                         0  ...                0                1   \n",
       "2                         0  ...                0                1   \n",
       "3                         0  ...                0                0   \n",
       "4                         0  ...                0                1   \n",
       "\n",
       "   Outcome_hour_16  Outcome_hour_17  Outcome_hour_18  Outcome_hour_19  \\\n",
       "0                0                0                1                0   \n",
       "1                0                0                0                0   \n",
       "2                0                0                0                0   \n",
       "3                0                0                0                0   \n",
       "4                0                0                0                0   \n",
       "\n",
       "   Outcome_hour_20  Outcome_hour_21  Outcome_hour_22  Outcome_hour_23  \n",
       "0                0                0                0                0  \n",
       "1                0                0                0                0  \n",
       "2                0                0                0                0  \n",
       "3                0                0                0                0  \n",
       "4                0                0                0                0  \n",
       "\n",
       "[5 rows x 101 columns]"
      ]
     },
     "execution_count": 24,
     "metadata": {},
     "output_type": "execute_result"
    }
   ],
   "source": [
    "# Use more features for training\n",
    "# Train aka fit, a model using all continuous and categorical features.\n",
    "X = pd.get_dummies(X)\n",
    "X.head()"
   ]
  },
  {
   "cell_type": "markdown",
   "metadata": {},
   "source": [
    "### Split and view data"
   ]
  },
  {
   "cell_type": "code",
   "execution_count": 25,
   "metadata": {},
   "outputs": [
    {
     "name": "stdout",
     "output_type": "stream",
     "text": [
      "Training data:\n",
      "      Name_Intake_Known  Name_Intake_Unknown  Intake Type_Euthanasia Request  \\\n",
      "105                  1                    0                               0   \n",
      "68                   1                    0                               0   \n",
      "479                  1                    0                               0   \n",
      "399                  1                    0                               0   \n",
      "434                  0                    1                               0   \n",
      "..                 ...                  ...                             ...   \n",
      "835                  1                    0                               0   \n",
      "192                  0                    1                               0   \n",
      "629                  1                    0                               0   \n",
      "559                  1                    0                               1   \n",
      "684                  1                    0                               0   \n",
      "\n",
      "     Intake Type_Owner Surrender  Intake Type_Public Assist  \\\n",
      "105                            1                          0   \n",
      "68                             0                          0   \n",
      "479                            0                          0   \n",
      "399                            1                          0   \n",
      "434                            0                          0   \n",
      "..                           ...                        ...   \n",
      "835                            0                          0   \n",
      "192                            0                          0   \n",
      "629                            0                          0   \n",
      "559                            0                          0   \n",
      "684                            0                          0   \n",
      "\n",
      "     Intake Type_Stray  Intake Type_Wildlife  Intake Condition_Aged  \\\n",
      "105                  0                     0                      0   \n",
      "68                   1                     0                      0   \n",
      "479                  1                     0                      0   \n",
      "399                  0                     0                      0   \n",
      "434                  1                     0                      0   \n",
      "..                 ...                   ...                    ...   \n",
      "835                  1                     0                      0   \n",
      "192                  1                     0                      0   \n",
      "629                  1                     0                      0   \n",
      "559                  0                     0                      0   \n",
      "684                  1                     0                      0   \n",
      "\n",
      "     Intake Condition_Feral  Intake Condition_Injured  ...  Outcome_hour_15  \\\n",
      "105                       0                         0  ...                0   \n",
      "68                        0                         0  ...                0   \n",
      "479                       0                         0  ...                0   \n",
      "399                       0                         0  ...                0   \n",
      "434                       0                         0  ...                1   \n",
      "..                      ...                       ...  ...              ...   \n",
      "835                       0                         0  ...                0   \n",
      "192                       0                         0  ...                0   \n",
      "629                       0                         0  ...                0   \n",
      "559                       0                         0  ...                0   \n",
      "684                       0                         0  ...                0   \n",
      "\n",
      "     Outcome_hour_16  Outcome_hour_17  Outcome_hour_18  Outcome_hour_19  \\\n",
      "105                0                0                0                0   \n",
      "68                 0                0                0                0   \n",
      "479                0                0                0                0   \n",
      "399                0                1                0                0   \n",
      "434                0                0                0                0   \n",
      "..               ...              ...              ...              ...   \n",
      "835                0                0                0                0   \n",
      "192                0                0                1                0   \n",
      "629                0                0                0                0   \n",
      "559                0                0                0                0   \n",
      "684                0                0                1                0   \n",
      "\n",
      "     Outcome_hour_20  Outcome_hour_21  Outcome_hour_22  Outcome_hour_23  \\\n",
      "105                0                0                0                0   \n",
      "68                 0                0                0                0   \n",
      "479                0                0                0                0   \n",
      "399                0                0                0                0   \n",
      "434                0                0                0                0   \n",
      "..               ...              ...              ...              ...   \n",
      "835                0                0                0                0   \n",
      "192                0                0                0                0   \n",
      "629                0                0                0                0   \n",
      "559                0                1                0                0   \n",
      "684                0                0                0                0   \n",
      "\n",
      "     binary_outcome  \n",
      "105             1.0  \n",
      "68              1.0  \n",
      "479             1.0  \n",
      "399             1.0  \n",
      "434             1.0  \n",
      "..              ...  \n",
      "835             1.0  \n",
      "192             1.0  \n",
      "629             1.0  \n",
      "559             1.0  \n",
      "684             1.0  \n",
      "\n",
      "[700 rows x 102 columns]\n",
      "\n",
      "Test data:\n",
      "      Name_Intake_Known  Name_Intake_Unknown  Intake Type_Euthanasia Request  \\\n",
      "993                  1                    0                               0   \n",
      "859                  1                    0                               0   \n",
      "298                  1                    0                               0   \n",
      "553                  1                    0                               0   \n",
      "672                  1                    0                               0   \n",
      "..                 ...                  ...                             ...   \n",
      "167                  1                    0                               0   \n",
      "998                  1                    0                               0   \n",
      "984                  1                    0                               0   \n",
      "491                  1                    0                               0   \n",
      "10                   1                    0                               0   \n",
      "\n",
      "     Intake Type_Owner Surrender  Intake Type_Public Assist  \\\n",
      "993                            0                          0   \n",
      "859                            0                          0   \n",
      "298                            1                          0   \n",
      "553                            0                          0   \n",
      "672                            1                          0   \n",
      "..                           ...                        ...   \n",
      "167                            0                          0   \n",
      "998                            0                          0   \n",
      "984                            0                          0   \n",
      "491                            0                          0   \n",
      "10                             0                          0   \n",
      "\n",
      "     Intake Type_Stray  Intake Type_Wildlife  Intake Condition_Aged  \\\n",
      "993                  1                     0                      0   \n",
      "859                  1                     0                      0   \n",
      "298                  0                     0                      0   \n",
      "553                  1                     0                      0   \n",
      "672                  0                     0                      0   \n",
      "..                 ...                   ...                    ...   \n",
      "167                  1                     0                      0   \n",
      "998                  1                     0                      0   \n",
      "984                  1                     0                      0   \n",
      "491                  1                     0                      0   \n",
      "10                   1                     0                      0   \n",
      "\n",
      "     Intake Condition_Feral  Intake Condition_Injured  ...  Outcome_hour_15  \\\n",
      "993                       0                         0  ...                0   \n",
      "859                       0                         0  ...                0   \n",
      "298                       0                         0  ...                0   \n",
      "553                       0                         0  ...                0   \n",
      "672                       0                         0  ...                0   \n",
      "..                      ...                       ...  ...              ...   \n",
      "167                       0                         0  ...                0   \n",
      "998                       0                         0  ...                0   \n",
      "984                       0                         0  ...                0   \n",
      "491                       0                         0  ...                1   \n",
      "10                        0                         0  ...                0   \n",
      "\n",
      "     Outcome_hour_16  Outcome_hour_17  Outcome_hour_18  Outcome_hour_19  \\\n",
      "993                0                0                0                0   \n",
      "859                0                1                0                0   \n",
      "298                0                0                1                0   \n",
      "553                0                0                0                0   \n",
      "672                0                0                0                0   \n",
      "..               ...              ...              ...              ...   \n",
      "167                0                0                0                0   \n",
      "998                0                0                0                0   \n",
      "984                0                1                0                0   \n",
      "491                0                0                0                0   \n",
      "10                 0                0                0                0   \n",
      "\n",
      "     Outcome_hour_20  Outcome_hour_21  Outcome_hour_22  Outcome_hour_23  \\\n",
      "993                0                0                0                0   \n",
      "859                0                0                0                0   \n",
      "298                0                0                0                0   \n",
      "553                0                0                0                0   \n",
      "672                0                0                0                0   \n",
      "..               ...              ...              ...              ...   \n",
      "167                0                0                0                0   \n",
      "998                0                0                0                0   \n",
      "984                0                0                0                0   \n",
      "491                0                0                0                0   \n",
      "10                 0                0                0                0   \n",
      "\n",
      "     binary_outcome  \n",
      "993             1.0  \n",
      "859             1.0  \n",
      "298             1.0  \n",
      "553             1.0  \n",
      "672             1.0  \n",
      "..              ...  \n",
      "167             1.0  \n",
      "998             1.0  \n",
      "984             1.0  \n",
      "491             1.0  \n",
      "10              1.0  \n",
      "\n",
      "[300 rows x 102 columns]\n"
     ]
    }
   ],
   "source": [
    "# Split the data into train and test sets\n",
    "# Take a third (random) data samples as test data, rest as training data\n",
    "# Note that this training set if very small and the model will not be very reliable due to this sample size problem.\n",
    "#X_train, X_test, y_train, y_test = train_test_split(X, y, test_size=0.3)\n",
    "# If we want to get the same train/test split every time we run, we can set the random_state variable to a fixed value\n",
    "X_train, X_test, y_train, y_test = train_test_split(X, y, test_size=0.3, random_state=0)\n",
    "\n",
    "print(\"Training data:\\n\", pd.concat([X_train, y_train], axis=1))\n",
    "print(\"\\nTest data:\\n\", pd.concat([X_test, y_test], axis=1))"
   ]
  },
  {
   "cell_type": "markdown",
   "metadata": {},
   "source": [
    "### Support functions"
   ]
  },
  {
   "cell_type": "markdown",
   "metadata": {},
   "source": [
    "#### Print prediction"
   ]
  },
  {
   "cell_type": "code",
   "execution_count": 26,
   "metadata": {},
   "outputs": [],
   "source": [
    "#This function is used repeatedly to print results\n",
    "def printResult(ActualVal, predictions, limit=10):\n",
    "    #classification evaluation measures\n",
    "    print('\\n==============================================================================')\n",
    "    print(\"Actual values of training:\\n\", ActualVal[:limit])\n",
    "    print(\"Predictions on training:\\n\", predictions[:limit])\n",
    "        "
   ]
  },
  {
   "cell_type": "markdown",
   "metadata": {},
   "source": [
    "#### Print result metrics "
   ]
  },
  {
   "cell_type": "code",
   "execution_count": 27,
   "metadata": {},
   "outputs": [],
   "source": [
    "#This function is used repeatedly to compute all metrics\n",
    "def printMetrics(ActualVal, predictions):\n",
    "    #classification evaluation measures\n",
    "    print('\\n==============================================================================')\n",
    "    print(\"MAE: \", metrics.mean_absolute_error(ActualVal, predictions))\n",
    "    print(\"RMSE: \", metrics.mean_squared_error(ActualVal, predictions)**0.5)\n",
    "    print(\"R2: \", metrics.r2_score(ActualVal, predictions))\n",
    "        "
   ]
  },
  {
   "cell_type": "markdown",
   "metadata": {},
   "source": [
    "#### Print classification report"
   ]
  },
  {
   "cell_type": "code",
   "execution_count": 28,
   "metadata": {},
   "outputs": [],
   "source": [
    "#This function is used repeatedly to print classification metrics\n",
    "def printClassification(ActualVal, predictions):\n",
    "    # Some more evaluation metrics.\n",
    "    print('\\n==============================================================================')\n",
    "    print(\"Accuracy: \", metrics.accuracy_score(ActualVal, predictions))\n",
    "    print(\"Confusion matrix: \\n\", metrics.confusion_matrix(ActualVal, predictions))\n",
    "    print(\"Classification report:\\n \", metrics.classification_report(ActualVal, predictions))"
   ]
  },
  {
   "cell_type": "markdown",
   "metadata": {},
   "source": [
    "<br><br>"
   ]
  },
  {
   "cell_type": "markdown",
   "metadata": {},
   "source": [
    "# Linear Regression"
   ]
  },
  {
   "cell_type": "markdown",
   "metadata": {},
   "source": [
    "- Linear regression is a modeling tool that is used to make predictions based on linear relationship between the target (dependent variable) and any number of predictors (independent variables)\n",
    "    - It finds the line of best fit the describes the relationship between the target and predictors \n",
    "    - This line is calculated by minimising the overall error\n",
    "- The linear regression formula takes the following form:\n",
    "    - $target\\_feature = w_0 + w_1 * feature_1 + w_2*feature_2 + ...+ w_n*feature_n $\n",
    "    - The output of this formula will be a continuous value that can be less than 0 and higher than 1\n",
    "<br>\n",
    "It is important to note that the output from a linear regression model is not suited to the classification problem that we are trying to solve.\n",
    "- We will threshold the output so that any values >=0.5 will be cast to 1, any values <0.5 will be cast to 0\n",
    "\n",
    "Finally it is worth mentioning the effect outliers can have on linear regression output. \n",
    "- Consider the effect of the outlier in the graph below on the regression line and what values fall into each threshold category. \n",
    "- The outlier will have a huge effect on values near the threshold.<br>"
   ]
  },
  {
   "cell_type": "markdown",
   "metadata": {},
   "source": [
    "## Generate Model with train data"
   ]
  },
  {
   "cell_type": "code",
   "execution_count": 29,
   "metadata": {
    "scrolled": true
   },
   "outputs": [
    {
     "name": "stdout",
     "output_type": "stream",
     "text": [
      "Features: \n",
      " Index(['Name_Intake_Known', 'Name_Intake_Unknown',\n",
      "       'Intake Type_Euthanasia Request', 'Intake Type_Owner Surrender',\n",
      "       'Intake Type_Public Assist', 'Intake Type_Stray',\n",
      "       'Intake Type_Wildlife', 'Intake Condition_Aged',\n",
      "       'Intake Condition_Feral', 'Intake Condition_Injured',\n",
      "       ...\n",
      "       'Outcome_hour_14', 'Outcome_hour_15', 'Outcome_hour_16',\n",
      "       'Outcome_hour_17', 'Outcome_hour_18', 'Outcome_hour_19',\n",
      "       'Outcome_hour_20', 'Outcome_hour_21', 'Outcome_hour_22',\n",
      "       'Outcome_hour_23'],\n",
      "      dtype='object', length=101)\n",
      "\n",
      "Coeficients: \n",
      " [[ 1.34586546e+12  1.34586546e+12 -2.73090735e+12 -2.73090735e+12\n",
      "  -2.73090735e+12 -2.73090735e+12 -2.73090735e+12  2.37897161e+12\n",
      "   2.37897161e+12  2.37897161e+12  2.37897161e+12  2.37897161e+12\n",
      "   2.37897161e+12 -7.87539154e+11  2.37897161e+12  5.70805090e+11\n",
      "   5.70805090e+11  5.70805090e+11  5.70805090e+11  2.29476251e+12\n",
      "   2.29476251e+12  2.29476251e+12  2.29476251e+12  2.29476251e+12\n",
      "   2.29476251e+12  3.81809590e+12  3.81809590e+12  3.81809590e+12\n",
      "   3.81809590e+12  3.81809590e+12  3.81809590e+12 -2.12270831e+12\n",
      "   6.56177723e+12  9.89771829e+12 -9.10806607e+11 -9.10806607e+11\n",
      "  -9.10806607e+11  7.95685660e+12  1.26070612e+13  3.92257567e+12\n",
      "   4.64496097e+12  2.22447590e+13  2.22447590e+13  2.22447590e+13\n",
      "   9.31876946e+12 -4.42105274e+12 -4.42105274e+12 -4.42105274e+12\n",
      "  -4.42105274e+12 -6.54097185e+12 -6.54097185e+12 -6.54097185e+12\n",
      "  -6.54097185e+12 -6.54097185e+12 -6.54097185e+12 -6.54097185e+12\n",
      "  -2.79177449e+12 -2.79177449e+12 -2.79177449e+12 -2.79177449e+12\n",
      "  -2.79177449e+12 -2.79177449e+12 -2.79177449e+12 -2.79177449e+12\n",
      "  -2.79177449e+12 -2.79177449e+12 -2.79177449e+12 -2.79177449e+12\n",
      "  -2.79177449e+12 -2.79177449e+12 -2.79177449e+12 -2.79177449e+12\n",
      "  -2.79177449e+12 -2.79177449e+12 -2.79177449e+12 -1.48634048e+12\n",
      "  -1.48634048e+12 -1.48634048e+12 -1.48634048e+12 -1.48634048e+12\n",
      "  -1.48634048e+12 -1.48634048e+12  3.65748683e+10  3.65748683e+10\n",
      "   3.65748683e+10  3.65748683e+10  3.65748683e+10  3.65748683e+10\n",
      "   3.65748683e+10  3.65748683e+10  3.65748683e+10  3.65748683e+10\n",
      "   3.65748683e+10  3.65748683e+10  3.65748683e+10  3.65748683e+10\n",
      "   3.65748683e+10  3.65748683e+10  3.65748683e+10  3.65748683e+10\n",
      "   3.65748683e+10]]\n",
      "\n",
      "Intercept: \n",
      " [-2.42923338e+13]\n"
     ]
    }
   ],
   "source": [
    "# Train, aka fit, a model using all continuous features.\n",
    "linReg = LinearRegression()\n",
    "model = linReg.fit(X_train, y_train)\n",
    "\n",
    "# Print the weights learned for each feature.\n",
    "print(\"Features: \\n\", X_train.columns)\n",
    "print(\"\\nCoeficients: \\n\", model.coef_)\n",
    "print(\"\\nIntercept: \\n\", model.intercept_)"
   ]
  },
  {
   "cell_type": "markdown",
   "metadata": {},
   "source": [
    "<br>"
   ]
  },
  {
   "cell_type": "markdown",
   "metadata": {},
   "source": [
    "## Predict on training data\n",
    "\n",
    "**Printing 10 predicted target features and evaluate the prediction**\n",
    "- Here we will print the predicted target feature value for the first 10 training examples. \n",
    "- We will threshold the predicted target feature value given by the linear regression model at 0.5, to get the predicted class for each example. \n",
    "    - If value is >= 0.5 it is cast to 1, if < 0.5 it is cast to 0"
   ]
  },
  {
   "cell_type": "code",
   "execution_count": 30,
   "metadata": {
    "scrolled": true
   },
   "outputs": [
    {
     "name": "stdout",
     "output_type": "stream",
     "text": [
      "\n",
      "==============================================================================\n",
      "Actual values of training:\n",
      "      binary_outcome\n",
      "105             1.0\n",
      "68              1.0\n",
      "479             1.0\n",
      "399             1.0\n",
      "434             1.0\n",
      "258             1.0\n",
      "827             1.0\n",
      "884             1.0\n",
      "304             1.0\n",
      "811             1.0\n",
      "Predictions on training:\n",
      " [[1.]\n",
      " [1.]\n",
      " [1.]\n",
      " [1.]\n",
      " [1.]\n",
      " [1.]\n",
      " [1.]\n",
      " [1.]\n",
      " [1.]\n",
      " [1.]]\n"
     ]
    }
   ],
   "source": [
    "# Predicted outcome on training set\n",
    "train_predictions = (model.predict(X_train) >= 0.5) * 1.0\n",
    "printResult(y_train, train_predictions)"
   ]
  },
  {
   "cell_type": "markdown",
   "metadata": {},
   "source": [
    "### Result metrics"
   ]
  },
  {
   "cell_type": "code",
   "execution_count": 31,
   "metadata": {
    "scrolled": true
   },
   "outputs": [
    {
     "name": "stdout",
     "output_type": "stream",
     "text": [
      "\n",
      "==============================================================================\n",
      "MAE:  0.041428571428571426\n",
      "RMSE:  0.20354009783964294\n",
      "R2:  0.5276433358153387\n",
      "\n",
      "==============================================================================\n",
      "Accuracy:  0.9585714285714285\n",
      "Confusion matrix: \n",
      " [[ 40  28]\n",
      " [  1 631]]\n",
      "Classification report:\n",
      "                precision    recall  f1-score   support\n",
      "\n",
      "         0.0       0.98      0.59      0.73        68\n",
      "         1.0       0.96      1.00      0.98       632\n",
      "\n",
      "    accuracy                           0.96       700\n",
      "   macro avg       0.97      0.79      0.86       700\n",
      "weighted avg       0.96      0.96      0.95       700\n",
      "\n"
     ]
    }
   ],
   "source": [
    "printMetrics(y_train, train_predictions)\n",
    "printClassification(y_train, train_predictions)"
   ]
  },
  {
   "cell_type": "markdown",
   "metadata": {},
   "source": [
    "<br>"
   ]
  },
  {
   "cell_type": "markdown",
   "metadata": {},
   "source": [
    "## Predict on Testing data"
   ]
  },
  {
   "cell_type": "code",
   "execution_count": 32,
   "metadata": {
    "scrolled": true
   },
   "outputs": [
    {
     "name": "stdout",
     "output_type": "stream",
     "text": [
      "\n",
      "==============================================================================\n",
      "Actual values of training:\n",
      "      binary_outcome\n",
      "993             1.0\n",
      "859             1.0\n",
      "298             1.0\n",
      "553             1.0\n",
      "672             1.0\n",
      "971             1.0\n",
      "27              1.0\n",
      "231             1.0\n",
      "306             1.0\n",
      "706             1.0\n",
      "Predictions on training:\n",
      " [[1.]\n",
      " [1.]\n",
      " [1.]\n",
      " [1.]\n",
      " [1.]\n",
      " [1.]\n",
      " [1.]\n",
      " [1.]\n",
      " [1.]\n",
      " [1.]]\n"
     ]
    }
   ],
   "source": [
    "# Predicted outcome on test set\n",
    "test_predictions = (model.predict(X_test) >= 0.5) * 1.0\n",
    "printResult(y_test, test_predictions)"
   ]
  },
  {
   "cell_type": "markdown",
   "metadata": {},
   "source": [
    "### Result metrics"
   ]
  },
  {
   "cell_type": "code",
   "execution_count": 33,
   "metadata": {
    "scrolled": false
   },
   "outputs": [
    {
     "name": "stdout",
     "output_type": "stream",
     "text": [
      "\n",
      "==============================================================================\n",
      "Accuracy:  0.9466666666666667\n",
      "Confusion matrix: \n",
      " [[ 14  15]\n",
      " [  1 270]]\n",
      "Classification report:\n",
      "                precision    recall  f1-score   support\n",
      "\n",
      "         0.0       0.93      0.48      0.64        29\n",
      "         1.0       0.95      1.00      0.97       271\n",
      "\n",
      "    accuracy                           0.95       300\n",
      "   macro avg       0.94      0.74      0.80       300\n",
      "weighted avg       0.95      0.95      0.94       300\n",
      "\n"
     ]
    }
   ],
   "source": [
    "# printMetrics(y_test, test_predictions)\n",
    "printClassification(y_test, test_predictions)"
   ]
  },
  {
   "cell_type": "markdown",
   "metadata": {},
   "source": [
    "**Summary of results**\n",
    "- Overall accuract of model is good\n",
    "- Model performance is better for class 1 data, since data samples for class 1 are more compared to class 0\n",
    "- Thus this model is likely to produce more **false positives** as seen in confussion matrix. That is, animals which could not survive shelter ar also marked as positive outcomes\n",
    "- This is reflected in low recall value and it is a strong shortcoming observed for linear regression prediction model for this problem"
   ]
  },
  {
   "cell_type": "markdown",
   "metadata": {},
   "source": [
    "<br>"
   ]
  },
  {
   "cell_type": "markdown",
   "metadata": {},
   "source": [
    "## Evaluate model with 3 fold cross vaidation\n",
    "\n",
    "- We will now perform cross validation on the linear regression model. \n",
    "- Here we perform the same evaluation as above but multiple times\n",
    "- Each time the data is shuffled so we get a slightly different view of the data for training and testing\n",
    "- This works well for evaluating on a limited set of data\n",
    "- We will store the results in a dictionary for later use\n",
    "\n",
    "First we need to create a function to perform this cross validation. Sklearn does not provide one for linear regression. However it does for logistic and random forests models\n",
    "- Cross validation Function can be seen below"
   ]
  },
  {
   "cell_type": "code",
   "execution_count": 34,
   "metadata": {},
   "outputs": [],
   "source": [
    "def cross_val_LinRegCalc(X, y, scoring='accuracy', cv=3):\n",
    "    \"\"\"Functions to carry out cross validation on the linear regression model\n",
    "    Default number of validations is 3. The randon state will be updated \n",
    "    at each iteration to allow our results to be repeated\"\"\"\n",
    "    \n",
    "    # store results\n",
    "    results = []\n",
    "    # evaluate cv times and append to results\n",
    "    for i in range(cv):\n",
    "        # set up train test split\n",
    "        X_train, X_test, y_train, y_test = train_test_split(X, y, random_state=i , test_size=0.3)\n",
    "        # generate model\n",
    "        multi_LinReg = LinearRegression().fit(X_train, y_train)\n",
    "        # threshold\n",
    "        multi_LinReg_predict = (multi_LinReg.predict(X_test) >= 0.5) * 1.0\n",
    "        # calc score\n",
    "        if scoring=='accuracy':\n",
    "            score = metrics.accuracy_score(y_test, multi_LinReg_predict)\n",
    "        elif scoring=='precision':\n",
    "            score = metrics.precision_score(y_test, multi_LinReg_predict)\n",
    "        elif scoring=='f1':\n",
    "            score = metrics.f1_score(y_test, multi_LinReg_predict)\n",
    "        elif scoring=='recall':\n",
    "            score = metrics.recall_score(y_test, multi_LinReg_predict)\n",
    "        # append to results\n",
    "        results.append(score)\n",
    "    return results"
   ]
  },
  {
   "cell_type": "code",
   "execution_count": 35,
   "metadata": {},
   "outputs": [],
   "source": [
    "def cross_val_linReg(X,y,cvVal=3):\n",
    "    \"\"\"Function to perform cross validation and store results \n",
    "    in dataframe. Cross validation looks at accuracy, precision, \n",
    "    recall, f1. Returns a dataframe with results\"\"\"\n",
    "\n",
    "    linRegResults = {}\n",
    "    # metrics to test against\n",
    "    test_metrics = ['accuracy','precision','recall', 'f1']\n",
    "    \n",
    "    for metric in test_metrics:\n",
    "        # generate test results\n",
    "        result = cross_val_LinRegCalc(X, y, cv=cvVal, scoring=metric)\n",
    "        length = len(result)\n",
    "        # store result in dict\n",
    "        linRegResults[metric] = sum(result)/length\n",
    "\n",
    "    # create dataframe with results\n",
    "    LinRegDF = pd.DataFrame.from_dict(linRegResults, orient='index', columns=['Linear_Regression'])\n",
    "    \n",
    "    return LinRegDF"
   ]
  },
  {
   "cell_type": "code",
   "execution_count": 36,
   "metadata": {},
   "outputs": [
    {
     "data": {
      "text/html": [
       "<div>\n",
       "<style scoped>\n",
       "    .dataframe tbody tr th:only-of-type {\n",
       "        vertical-align: middle;\n",
       "    }\n",
       "\n",
       "    .dataframe tbody tr th {\n",
       "        vertical-align: top;\n",
       "    }\n",
       "\n",
       "    .dataframe thead th {\n",
       "        text-align: right;\n",
       "    }\n",
       "</style>\n",
       "<table border=\"1\" class=\"dataframe\">\n",
       "  <thead>\n",
       "    <tr style=\"text-align: right;\">\n",
       "      <th></th>\n",
       "      <th>Linear_Regression</th>\n",
       "    </tr>\n",
       "  </thead>\n",
       "  <tbody>\n",
       "    <tr>\n",
       "      <th>accuracy</th>\n",
       "      <td>0.946667</td>\n",
       "    </tr>\n",
       "    <tr>\n",
       "      <th>precision</th>\n",
       "      <td>0.952093</td>\n",
       "    </tr>\n",
       "    <tr>\n",
       "      <th>recall</th>\n",
       "      <td>0.991497</td>\n",
       "    </tr>\n",
       "    <tr>\n",
       "      <th>f1</th>\n",
       "      <td>0.971366</td>\n",
       "    </tr>\n",
       "  </tbody>\n",
       "</table>\n",
       "</div>"
      ],
      "text/plain": [
       "           Linear_Regression\n",
       "accuracy            0.946667\n",
       "precision           0.952093\n",
       "recall              0.991497\n",
       "f1                  0.971366"
      ]
     },
     "execution_count": 36,
     "metadata": {},
     "output_type": "execute_result"
    }
   ],
   "source": [
    "linRegResult = cross_val_linReg(X, y,cvVal=3)\n",
    "linRegResult"
   ]
  },
  {
   "cell_type": "markdown",
   "metadata": {},
   "source": [
    "<br><br>"
   ]
  },
  {
   "cell_type": "markdown",
   "metadata": {},
   "source": [
    "# Logistic Regression"
   ]
  },
  {
   "cell_type": "markdown",
   "metadata": {},
   "source": [
    "The logistic regression function is a little different than the linear regression function. \n",
    "- **Logistic Regression is often used when the target feature is categorical.**\n",
    "- Differences aside there is a direct relationship between the two\n",
    "    - The first part of logistic regression function is similar to linear regression i.e. We find the line of best fit\n",
    "    - We then pass this equation through what is called a sigmoid function\n",
    "    - This sigmoid function will output a value bound between 0 and 1. It is a probability\n",
    "    - The model then applies a threshold to this probability so that if is is >= 0.5 its cast to 1 and if it is <0.5 it is cast to 0\n",
    "    - The threshold value can be adjusted up or down depending on the problem.\n",
    "<img src=\"files/logisticRegression.jpg\">       \n",
    "A major benefit of logistic regression worth  highlighting is its ability to handle outliers. \n",
    "- Outliers can significantly skew what values fall within each threshold point.\n",
    "- Problem at hand is ***Multinomial Logistic Regression*** since we have Three or more categories without ordering"
   ]
  },
  {
   "cell_type": "markdown",
   "metadata": {},
   "source": [
    "## Generate Model with train data"
   ]
  },
  {
   "cell_type": "code",
   "execution_count": 37,
   "metadata": {
    "scrolled": true
   },
   "outputs": [
    {
     "name": "stdout",
     "output_type": "stream",
     "text": [
      "Features: \n",
      " Index(['Name_Intake_Known', 'Name_Intake_Unknown',\n",
      "       'Intake Type_Euthanasia Request', 'Intake Type_Owner Surrender',\n",
      "       'Intake Type_Public Assist', 'Intake Type_Stray',\n",
      "       'Intake Type_Wildlife', 'Intake Condition_Aged',\n",
      "       'Intake Condition_Feral', 'Intake Condition_Injured',\n",
      "       ...\n",
      "       'Outcome_hour_14', 'Outcome_hour_15', 'Outcome_hour_16',\n",
      "       'Outcome_hour_17', 'Outcome_hour_18', 'Outcome_hour_19',\n",
      "       'Outcome_hour_20', 'Outcome_hour_21', 'Outcome_hour_22',\n",
      "       'Outcome_hour_23'],\n",
      "      dtype='object', length=101)\n",
      "\n",
      "Coeficients: \n",
      " [[ 0.80259076 -0.80248482 -0.16132965 -0.31400238  1.15881872  1.21506994\n",
      "  -1.89845069 -0.27062287  0.04457664 -1.14360918  1.0364896   1.04153457\n",
      "   0.13902989  0.         -0.84729272  0.43140329 -0.15535067  0.33858438\n",
      "  -0.61453106  0.28715883  0.31722756  0.25373252  0.28636017 -0.7195785\n",
      "  -0.42479465  0.16288765  0.13819818  0.23032298  0.30756162 -0.15628732\n",
      "  -0.68257717  0.14278976  0.04330476 -0.18598859  0.20001149  0.01661075\n",
      "  -0.03052772 -0.18598859  0.14278976  0.04330476 -0.18598859 -0.94282247\n",
      "   0.86168715  0.26722985 -0.18598859 -0.05987674  0.22050768 -0.01517705\n",
      "  -0.14534794 -0.60589561 -0.20436925 -0.07999413 -0.29398019 -0.02741203\n",
      "   0.20773916  1.00401798  0.01107794  0.0194226  -0.9817513  -0.71998527\n",
      "   0.58011716  0.0199328  -0.38533752  0.04510588  0.55723689  0.51547728\n",
      "   0.61892516 -0.21365853  0.26795998 -0.10383572 -0.47455672  0.01682082\n",
      "   0.39030574 -0.10359092 -0.05956034 -0.13035926  0.17403569 -0.22290161\n",
      "   0.35924155 -0.36446964 -0.24194708  0.42650629  0.66421503  0.14823235\n",
      "  -0.52361024 -0.6748135  -0.32516321 -1.12769339  0.17815633  0.79007428\n",
      "  -0.5444598   0.19558589  0.26797471  0.28860392  0.40702671  0.21580567\n",
      "   0.25287303 -0.18554129 -0.15069291  0.00214999  0.12138237]]\n",
      "\n",
      "Intercept: \n",
      " [1.29025582]\n"
     ]
    }
   ],
   "source": [
    "# Train, aka fit, a model using all continuous features.\n",
    "logReg = LogisticRegression()\n",
    "model = logReg.fit(X_train, y_train)\n",
    "\n",
    "# Print the weights learned for each feature.\n",
    "print(\"Features: \\n\", X_train.columns)\n",
    "print(\"\\nCoeficients: \\n\", model.coef_)\n",
    "print(\"\\nIntercept: \\n\", model.intercept_)"
   ]
  },
  {
   "cell_type": "markdown",
   "metadata": {},
   "source": [
    "The model estimated in logistic regression is given by the logistic function: <br>\n",
    "$probability(target=1|descriptive\\_features)=logistic(w_0 + w_1 * feature_1 + w_2*feature_2 + ...+ w_n*feature_n)$ <br>\n",
    "where $logistic(x)$ is defined as: $logistic(x) = \\frac{e ^ x}{1 + e ^ x} = \\frac{1}{1+e^{-x}}$\n",
    "\n",
    "- From the values above can see the calculated intercept is -1.006\n",
    "    - This is the starting point. i.e. if all other coefficients were zero then the value for 'x' would be -1.006. \n",
    "    - This is the input to the logistic function and the logistic function will then calculate the probability and threshold based on this.\n",
    "- We can see all the coefficients for each features\n",
    "    - These are zipped together in a single list for ease of inspection.\n",
    "    - The effect of these on the value 'x' is the same as for linear regression\n",
    "    - Only when the value 'x' is fed into the logistic function do we see the real difference between the to methods.\n",
    "<br>"
   ]
  },
  {
   "cell_type": "markdown",
   "metadata": {},
   "source": [
    "## Predict on training data"
   ]
  },
  {
   "cell_type": "code",
   "execution_count": 38,
   "metadata": {
    "scrolled": true
   },
   "outputs": [
    {
     "name": "stdout",
     "output_type": "stream",
     "text": [
      "\n",
      "==============================================================================\n",
      "Actual values of training:\n",
      "      binary_outcome\n",
      "105             1.0\n",
      "68              1.0\n",
      "479             1.0\n",
      "399             1.0\n",
      "434             1.0\n",
      "258             1.0\n",
      "827             1.0\n",
      "884             1.0\n",
      "304             1.0\n",
      "811             1.0\n",
      "Predictions on training:\n",
      " [1. 1. 1. 1. 1. 1. 1. 1. 1. 1.]\n"
     ]
    }
   ],
   "source": [
    "# Predicted outcome on training set\n",
    "train_predictions = model.predict(X_train)\n",
    "printResult(y_train, train_predictions)"
   ]
  },
  {
   "cell_type": "markdown",
   "metadata": {},
   "source": [
    "### Result metrics"
   ]
  },
  {
   "cell_type": "code",
   "execution_count": 39,
   "metadata": {
    "scrolled": false
   },
   "outputs": [
    {
     "name": "stdout",
     "output_type": "stream",
     "text": [
      "\n",
      "==============================================================================\n",
      "MAE:  0.03428571428571429\n",
      "RMSE:  0.1851640199545103\n",
      "R2:  0.6090841399851079\n",
      "\n",
      "==============================================================================\n",
      "Accuracy:  0.9657142857142857\n",
      "Confusion matrix: \n",
      " [[ 45  23]\n",
      " [  1 631]]\n",
      "Classification report:\n",
      "                precision    recall  f1-score   support\n",
      "\n",
      "         0.0       0.98      0.66      0.79        68\n",
      "         1.0       0.96      1.00      0.98       632\n",
      "\n",
      "    accuracy                           0.97       700\n",
      "   macro avg       0.97      0.83      0.89       700\n",
      "weighted avg       0.97      0.97      0.96       700\n",
      "\n"
     ]
    }
   ],
   "source": [
    "printMetrics(y_train, train_predictions)\n",
    "printClassification(y_train, train_predictions)"
   ]
  },
  {
   "cell_type": "markdown",
   "metadata": {},
   "source": [
    "<br>"
   ]
  },
  {
   "cell_type": "markdown",
   "metadata": {},
   "source": [
    "## Predict on Testing data"
   ]
  },
  {
   "cell_type": "code",
   "execution_count": 40,
   "metadata": {
    "scrolled": true
   },
   "outputs": [
    {
     "name": "stdout",
     "output_type": "stream",
     "text": [
      "\n",
      "==============================================================================\n",
      "Actual values of training:\n",
      "      binary_outcome\n",
      "993             1.0\n",
      "859             1.0\n",
      "298             1.0\n",
      "553             1.0\n",
      "672             1.0\n",
      "971             1.0\n",
      "27              1.0\n",
      "231             1.0\n",
      "306             1.0\n",
      "706             1.0\n",
      "Predictions on training:\n",
      " [1. 1. 1. 1. 1. 1. 1. 1. 1. 1.]\n"
     ]
    }
   ],
   "source": [
    "# Predicted outcome on test set\n",
    "test_predictions = (model.predict(X_test))\n",
    "printResult(y_test, test_predictions)"
   ]
  },
  {
   "cell_type": "markdown",
   "metadata": {},
   "source": [
    "### Result metrics"
   ]
  },
  {
   "cell_type": "code",
   "execution_count": 41,
   "metadata": {
    "scrolled": false
   },
   "outputs": [
    {
     "name": "stdout",
     "output_type": "stream",
     "text": [
      "\n",
      "==============================================================================\n",
      "Accuracy:  0.9533333333333334\n",
      "Confusion matrix: \n",
      " [[ 17  12]\n",
      " [  2 269]]\n",
      "Classification report:\n",
      "                precision    recall  f1-score   support\n",
      "\n",
      "         0.0       0.89      0.59      0.71        29\n",
      "         1.0       0.96      0.99      0.97       271\n",
      "\n",
      "    accuracy                           0.95       300\n",
      "   macro avg       0.93      0.79      0.84       300\n",
      "weighted avg       0.95      0.95      0.95       300\n",
      "\n"
     ]
    }
   ],
   "source": [
    "\n",
    "printClassification(y_test, test_predictions)"
   ]
  },
  {
   "cell_type": "markdown",
   "metadata": {},
   "source": [
    "**Summary of results**\n",
    "- Overall accuract of model is good\n",
    "- Model performance is better for class 1 data, since data samples for class 1 are more compared to class 0\n",
    "- Problem with **False positive** persists; yet recall is better compared to Linear regression as most outliers are sorted in logistic regression model."
   ]
  },
  {
   "cell_type": "markdown",
   "metadata": {},
   "source": [
    "<br>"
   ]
  },
  {
   "cell_type": "markdown",
   "metadata": {},
   "source": [
    "## Evaluate model with 3 fold cross vaidation\n",
    "\n",
    "We will first create function to perform 3 fold cross validation and store results into dataframe. This will be used to simplify further analysis the dataset, looking at accuracy, precision, recall, f1."
   ]
  },
  {
   "cell_type": "code",
   "execution_count": 42,
   "metadata": {},
   "outputs": [],
   "source": [
    "def cross_val_logReg(X, y, test_metrics = ['accuracy','precision','recall', 'f1'], cvVal = 3):\n",
    "    \"\"\"Function to perform cross validation and store results \n",
    "    in dataframe. Cross validation looks at accuracy, precision, \n",
    "    recall, f1. Returns a dataframe with results\"\"\"\n",
    "\n",
    "    # store results in dict\n",
    "    logRegResults = {}\n",
    "    # metrics to test against\n",
    "    \n",
    "\n",
    "    for metric in test_metrics:\n",
    "        # generate test results\n",
    "        result = cross_val_score(LogisticRegression(),X, y, scoring=metric, cv=cvVal)\n",
    "        # store result in dict\n",
    "        logRegResults[metric] = result.mean()\n",
    "    \n",
    "    # create dataframe with results\n",
    "    logRegResult = pd.DataFrame.from_dict(logRegResults, orient='index', columns=['Log Regression'])\n",
    "\n",
    "    return logRegResult"
   ]
  },
  {
   "cell_type": "code",
   "execution_count": 43,
   "metadata": {
    "scrolled": true
   },
   "outputs": [
    {
     "data": {
      "text/html": [
       "<div>\n",
       "<style scoped>\n",
       "    .dataframe tbody tr th:only-of-type {\n",
       "        vertical-align: middle;\n",
       "    }\n",
       "\n",
       "    .dataframe tbody tr th {\n",
       "        vertical-align: top;\n",
       "    }\n",
       "\n",
       "    .dataframe thead th {\n",
       "        text-align: right;\n",
       "    }\n",
       "</style>\n",
       "<table border=\"1\" class=\"dataframe\">\n",
       "  <thead>\n",
       "    <tr style=\"text-align: right;\">\n",
       "      <th></th>\n",
       "      <th>Log Regression</th>\n",
       "    </tr>\n",
       "  </thead>\n",
       "  <tbody>\n",
       "    <tr>\n",
       "      <th>accuracy</th>\n",
       "      <td>0.949006</td>\n",
       "    </tr>\n",
       "    <tr>\n",
       "      <th>precision</th>\n",
       "      <td>0.957118</td>\n",
       "    </tr>\n",
       "    <tr>\n",
       "      <th>recall</th>\n",
       "      <td>0.987818</td>\n",
       "    </tr>\n",
       "    <tr>\n",
       "      <th>f1</th>\n",
       "      <td>0.972210</td>\n",
       "    </tr>\n",
       "  </tbody>\n",
       "</table>\n",
       "</div>"
      ],
      "text/plain": [
       "           Log Regression\n",
       "accuracy         0.949006\n",
       "precision        0.957118\n",
       "recall           0.987818\n",
       "f1               0.972210"
      ]
     },
     "execution_count": 43,
     "metadata": {},
     "output_type": "execute_result"
    }
   ],
   "source": [
    "logRegResult = cross_val_logReg(X, y,cvVal=3)\n",
    "logRegResult"
   ]
  },
  {
   "cell_type": "markdown",
   "metadata": {},
   "source": [
    "- The accuracy is the better than linear regression\n",
    "- The precision, recall and f1 are all a little lower"
   ]
  },
  {
   "cell_type": "markdown",
   "metadata": {},
   "source": [
    "<br><br>"
   ]
  },
  {
   "cell_type": "markdown",
   "metadata": {},
   "source": [
    "# Random Forest"
   ]
  },
  {
   "cell_type": "markdown",
   "metadata": {},
   "source": [
    "## Random Forest model\n",
    "- A random forest is made up of an ensemble/collection of decision trees\n",
    "- **Decision tree** is a set of if-then-else rules based on splitting the data based on specific features\n",
    "    - The decision on which feature to split on is based on the information gain (Gini index). \n",
    "    - The tree will always split on the feature that gives the highest information gain\n",
    "    - The feature with the highest information gain will sit at the root of each decision tree\n",
    "    - Each decision tree will be a single prediction\n",
    "    \n",
    "<img src=\"files/decisionTree.jpeg\">\n",
    "\n",
    "- **Random Forest** is a large number of relatively uncorrelated models (trees) operating as a committee will outperform any of the individual models\n",
    "    - The random forest is made up of a number of decision trees\n",
    "    - The output of the random forest is base on the majority output of all decision trees combined. This gives reliable results but can be hard to interpret\n",
    "    - The random forest will keep track of the importance of features in terms of information gain, which we will see"
   ]
  },
  {
   "cell_type": "markdown",
   "metadata": {},
   "source": [
    "## Generate Model with train data"
   ]
  },
  {
   "cell_type": "markdown",
   "metadata": {},
   "source": [
    "- Ramdom forest classfier is trained using 100 estimators\n",
    "- It uses out-of-bag samples to estimate the generalization accuracy\n",
    "- random_state is set to control the sampling of the features to consider when looking for the best split at each tree node"
   ]
  },
  {
   "cell_type": "code",
   "execution_count": 44,
   "metadata": {
    "scrolled": true
   },
   "outputs": [],
   "source": [
    "# Train, aka fit, a model using all continuous features.\n",
    "rfc = RandomForestClassifier(n_estimators=100, max_features='auto', oob_score=True, random_state=1)\n",
    "\n",
    "model = rfc.fit(X_train, y_train)\n"
   ]
  },
  {
   "cell_type": "markdown",
   "metadata": {},
   "source": [
    "<br>"
   ]
  },
  {
   "cell_type": "markdown",
   "metadata": {},
   "source": [
    "## Predict on training data"
   ]
  },
  {
   "cell_type": "code",
   "execution_count": 45,
   "metadata": {
    "scrolled": true
   },
   "outputs": [
    {
     "name": "stdout",
     "output_type": "stream",
     "text": [
      "\n",
      "==============================================================================\n",
      "Actual values of training:\n",
      "      binary_outcome\n",
      "105             1.0\n",
      "68              1.0\n",
      "479             1.0\n",
      "399             1.0\n",
      "434             1.0\n",
      "258             1.0\n",
      "827             1.0\n",
      "884             1.0\n",
      "304             1.0\n",
      "811             1.0\n",
      "Predictions on training:\n",
      " [1. 1. 1. 1. 1. 1. 1. 1. 1. 1.]\n"
     ]
    }
   ],
   "source": [
    "# Predicted outcome on training set\n",
    "train_predictions = model.predict(X_train)\n",
    "printResult(y_train, train_predictions)"
   ]
  },
  {
   "cell_type": "markdown",
   "metadata": {},
   "source": [
    "### Result metrics"
   ]
  },
  {
   "cell_type": "code",
   "execution_count": 46,
   "metadata": {
    "scrolled": true
   },
   "outputs": [
    {
     "name": "stdout",
     "output_type": "stream",
     "text": [
      "\n",
      "==============================================================================\n",
      "Accuracy:  1.0\n",
      "Confusion matrix: \n",
      " [[ 68   0]\n",
      " [  0 632]]\n",
      "Classification report:\n",
      "                precision    recall  f1-score   support\n",
      "\n",
      "         0.0       1.00      1.00      1.00        68\n",
      "         1.0       1.00      1.00      1.00       632\n",
      "\n",
      "    accuracy                           1.00       700\n",
      "   macro avg       1.00      1.00      1.00       700\n",
      "weighted avg       1.00      1.00      1.00       700\n",
      "\n"
     ]
    }
   ],
   "source": [
    "# printMetrics(y_train, train_predictions)\n",
    "printClassification(y_train, train_predictions)"
   ]
  },
  {
   "cell_type": "markdown",
   "metadata": {},
   "source": [
    "<br>"
   ]
  },
  {
   "cell_type": "markdown",
   "metadata": {},
   "source": [
    "## Predict on Testing data"
   ]
  },
  {
   "cell_type": "code",
   "execution_count": 47,
   "metadata": {
    "scrolled": true
   },
   "outputs": [
    {
     "name": "stdout",
     "output_type": "stream",
     "text": [
      "\n",
      "==============================================================================\n",
      "Actual values of training:\n",
      "      binary_outcome\n",
      "993             1.0\n",
      "859             1.0\n",
      "298             1.0\n",
      "553             1.0\n",
      "672             1.0\n",
      "971             1.0\n",
      "27              1.0\n",
      "231             1.0\n",
      "306             1.0\n",
      "706             1.0\n",
      "Predictions on training:\n",
      " [1. 1. 1. 1. 1. 1. 1. 1. 1. 1.]\n"
     ]
    }
   ],
   "source": [
    "# Predicted outcome on test set\n",
    "test_predictions = (model.predict(X_test))\n",
    "printResult(y_test, test_predictions)"
   ]
  },
  {
   "cell_type": "markdown",
   "metadata": {},
   "source": [
    "### Result metrics"
   ]
  },
  {
   "cell_type": "code",
   "execution_count": 48,
   "metadata": {
    "scrolled": true
   },
   "outputs": [
    {
     "name": "stdout",
     "output_type": "stream",
     "text": [
      "\n",
      "==============================================================================\n",
      "Accuracy:  0.9533333333333334\n",
      "Confusion matrix: \n",
      " [[ 16  13]\n",
      " [  1 270]]\n",
      "Classification report:\n",
      "                precision    recall  f1-score   support\n",
      "\n",
      "         0.0       0.94      0.55      0.70        29\n",
      "         1.0       0.95      1.00      0.97       271\n",
      "\n",
      "    accuracy                           0.95       300\n",
      "   macro avg       0.95      0.77      0.84       300\n",
      "weighted avg       0.95      0.95      0.95       300\n",
      "\n"
     ]
    }
   ],
   "source": [
    "printClassification(y_test, test_predictions)"
   ]
  },
  {
   "cell_type": "markdown",
   "metadata": {},
   "source": [
    "<br>"
   ]
  },
  {
   "cell_type": "markdown",
   "metadata": {},
   "source": [
    "## Evaluate model with 3 fold cross vaidation"
   ]
  },
  {
   "cell_type": "code",
   "execution_count": 49,
   "metadata": {},
   "outputs": [],
   "source": [
    "def cross_val_RandomForest(X, y, test_metrics = ['accuracy','precision','recall', 'f1'], depth=None, estimators=100, cvVal = 3):\n",
    "    \"\"\"Function to perform cross validation and store results \n",
    "    in dataframe. Cross validation looks at accuracy, precision, \n",
    "    recall, f1. Returns a dataframe with results\"\"\"\n",
    "\n",
    "    # store results in dict\n",
    "    rfResults = {}\n",
    "    # metrics to test against\n",
    "    \n",
    "\n",
    "    for metric in test_metrics:\n",
    "        # generate test results\n",
    "        result = cross_val_score(RandomForestClassifier(n_estimators=estimators, max_features='auto', oob_score=True, random_state=1, max_depth=depth), X, y, scoring=metric, cv=cvVal)\n",
    "        # store result in dict\n",
    "        rfResults[metric] = result.mean()\n",
    "    \n",
    "    # create dataframe with results\n",
    "    rfResult = pd.DataFrame.from_dict(rfResults, orient='index', columns=['Random_Forests'])\n",
    "\n",
    "    return rfResult"
   ]
  },
  {
   "cell_type": "code",
   "execution_count": 50,
   "metadata": {
    "scrolled": false
   },
   "outputs": [
    {
     "data": {
      "text/html": [
       "<div>\n",
       "<style scoped>\n",
       "    .dataframe tbody tr th:only-of-type {\n",
       "        vertical-align: middle;\n",
       "    }\n",
       "\n",
       "    .dataframe tbody tr th {\n",
       "        vertical-align: top;\n",
       "    }\n",
       "\n",
       "    .dataframe thead th {\n",
       "        text-align: right;\n",
       "    }\n",
       "</style>\n",
       "<table border=\"1\" class=\"dataframe\">\n",
       "  <thead>\n",
       "    <tr style=\"text-align: right;\">\n",
       "      <th></th>\n",
       "      <th>Random_Forests</th>\n",
       "    </tr>\n",
       "  </thead>\n",
       "  <tbody>\n",
       "    <tr>\n",
       "      <th>accuracy</th>\n",
       "      <td>0.945997</td>\n",
       "    </tr>\n",
       "    <tr>\n",
       "      <th>precision</th>\n",
       "      <td>0.947345</td>\n",
       "    </tr>\n",
       "    <tr>\n",
       "      <th>recall</th>\n",
       "      <td>0.995570</td>\n",
       "    </tr>\n",
       "    <tr>\n",
       "      <th>f1</th>\n",
       "      <td>0.970849</td>\n",
       "    </tr>\n",
       "  </tbody>\n",
       "</table>\n",
       "</div>"
      ],
      "text/plain": [
       "           Random_Forests\n",
       "accuracy         0.945997\n",
       "precision        0.947345\n",
       "recall           0.995570\n",
       "f1               0.970849"
      ]
     },
     "execution_count": 50,
     "metadata": {},
     "output_type": "execute_result"
    }
   ],
   "source": [
    "rfResult = cross_val_RandomForest(X, y,cvVal=3)\n",
    "rfResult"
   ]
  },
  {
   "cell_type": "markdown",
   "metadata": {},
   "source": [
    "The results above are inline with expectation\n",
    "- The accuracy and precision are lower than logistic regression\n",
    "- Yet, recall is improved; which means **model has improved in solving false positive problem** compared to logistic regression "
   ]
  },
  {
   "cell_type": "markdown",
   "metadata": {},
   "source": [
    "<br><br>"
   ]
  },
  {
   "cell_type": "markdown",
   "metadata": {},
   "source": [
    "# Improving Predictive Models"
   ]
  },
  {
   "cell_type": "markdown",
   "metadata": {},
   "source": [
    "## Which model of the ones trained above performs better at predicting the target feature? "
   ]
  },
  {
   "cell_type": "code",
   "execution_count": 51,
   "metadata": {},
   "outputs": [
    {
     "data": {
      "text/html": [
       "<div>\n",
       "<style scoped>\n",
       "    .dataframe tbody tr th:only-of-type {\n",
       "        vertical-align: middle;\n",
       "    }\n",
       "\n",
       "    .dataframe tbody tr th {\n",
       "        vertical-align: top;\n",
       "    }\n",
       "\n",
       "    .dataframe thead th {\n",
       "        text-align: right;\n",
       "    }\n",
       "</style>\n",
       "<table border=\"1\" class=\"dataframe\">\n",
       "  <thead>\n",
       "    <tr style=\"text-align: right;\">\n",
       "      <th></th>\n",
       "      <th>Linear_Regression</th>\n",
       "      <th>Log Regression</th>\n",
       "      <th>Random_Forests</th>\n",
       "    </tr>\n",
       "  </thead>\n",
       "  <tbody>\n",
       "    <tr>\n",
       "      <th>accuracy</th>\n",
       "      <td>0.946667</td>\n",
       "      <td>0.949006</td>\n",
       "      <td>0.945997</td>\n",
       "    </tr>\n",
       "    <tr>\n",
       "      <th>precision</th>\n",
       "      <td>0.952093</td>\n",
       "      <td>0.957118</td>\n",
       "      <td>0.947345</td>\n",
       "    </tr>\n",
       "    <tr>\n",
       "      <th>recall</th>\n",
       "      <td>0.991497</td>\n",
       "      <td>0.987818</td>\n",
       "      <td>0.995570</td>\n",
       "    </tr>\n",
       "    <tr>\n",
       "      <th>f1</th>\n",
       "      <td>0.971366</td>\n",
       "      <td>0.972210</td>\n",
       "      <td>0.970849</td>\n",
       "    </tr>\n",
       "  </tbody>\n",
       "</table>\n",
       "</div>"
      ],
      "text/plain": [
       "           Linear_Regression  Log Regression  Random_Forests\n",
       "accuracy            0.946667        0.949006        0.945997\n",
       "precision           0.952093        0.957118        0.947345\n",
       "recall              0.991497        0.987818        0.995570\n",
       "f1                  0.971366        0.972210        0.970849"
      ]
     },
     "execution_count": 51,
     "metadata": {},
     "output_type": "execute_result"
    }
   ],
   "source": [
    "ResultsDF = pd.concat([linRegResult, logRegResult, rfResult], axis=1)\n",
    "ResultsDF"
   ]
  },
  {
   "cell_type": "markdown",
   "metadata": {},
   "source": [
    "- All models preform almost identical on the test dataset +/- 1%\n",
    "- Note these results are for selected features of the original features i.e. In part 1 we dropped many of the low correlation features after observing stacked bar plots for features against target feature \"binary_outcome\" \n",
    "    - In following section; we will review the impact to the decisions taken in part 1"
   ]
  },
  {
   "cell_type": "markdown",
   "metadata": {},
   "source": [
    "<br>"
   ]
  },
  {
   "cell_type": "markdown",
   "metadata": {},
   "source": [
    "## Compare Model performance using different feature subsets "
   ]
  },
  {
   "cell_type": "code",
   "execution_count": 52,
   "metadata": {},
   "outputs": [],
   "source": [
    "def generate_Results(xIn,yOut,depth=10, estimators=100):\n",
    "    # calculate Linear regression, logistic regression, random forest results again using all features\n",
    "    linRegResult = cross_val_linReg(xIn,yOut)\n",
    "    logRegResult = cross_val_logReg(xIn,yOut)\n",
    "    rfResult = cross_val_RandomForest(xIn,yOut,depth=depth, estimators=estimators)\n",
    "\n",
    "    # merge all 3 models into dataframe\n",
    "    ResultsDF = pd.concat([linRegResult, logRegResult, rfResult], axis=1)\n",
    "    \n",
    "    return ResultsDF"
   ]
  },
  {
   "cell_type": "markdown",
   "metadata": {},
   "source": [
    "### All features\n",
    "- We will now repeat the tests using all features \n",
    "- First we set up the dataframe using the original features"
   ]
  },
  {
   "cell_type": "code",
   "execution_count": 53,
   "metadata": {},
   "outputs": [
    {
     "name": "stdout",
     "output_type": "stream",
     "text": [
      "number of Input features incl dummies:  332\n"
     ]
    }
   ],
   "source": [
    "# dataframe with all features = original dataframe\n",
    "df_all_cmp = pd.get_dummies(df_all).astype('category')\n",
    "\n",
    "# set X,y\n",
    "yOut = df_all_cmp[[\"binary_outcome\"]]\n",
    "xIn = df_all_cmp.drop([\"binary_outcome\"],axis=1)\n",
    "xLen_all = len(xIn.columns)\n",
    "print(\"number of Input features incl dummies: \", xLen_all)\n"
   ]
  },
  {
   "cell_type": "code",
   "execution_count": 54,
   "metadata": {},
   "outputs": [
    {
     "data": {
      "text/html": [
       "<div>\n",
       "<style scoped>\n",
       "    .dataframe tbody tr th:only-of-type {\n",
       "        vertical-align: middle;\n",
       "    }\n",
       "\n",
       "    .dataframe tbody tr th {\n",
       "        vertical-align: top;\n",
       "    }\n",
       "\n",
       "    .dataframe thead th {\n",
       "        text-align: right;\n",
       "    }\n",
       "</style>\n",
       "<table border=\"1\" class=\"dataframe\">\n",
       "  <thead>\n",
       "    <tr style=\"text-align: right;\">\n",
       "      <th></th>\n",
       "      <th>Linear_Regression</th>\n",
       "      <th>Log Regression</th>\n",
       "      <th>Random_Forests</th>\n",
       "    </tr>\n",
       "  </thead>\n",
       "  <tbody>\n",
       "    <tr>\n",
       "      <th>accuracy</th>\n",
       "      <td>0.904444</td>\n",
       "      <td>0.947993</td>\n",
       "      <td>0.946000</td>\n",
       "    </tr>\n",
       "    <tr>\n",
       "      <th>precision</th>\n",
       "      <td>0.956762</td>\n",
       "      <td>0.956066</td>\n",
       "      <td>0.945446</td>\n",
       "    </tr>\n",
       "    <tr>\n",
       "      <th>recall</th>\n",
       "      <td>0.937931</td>\n",
       "      <td>0.987818</td>\n",
       "      <td>0.997785</td>\n",
       "    </tr>\n",
       "    <tr>\n",
       "      <th>f1</th>\n",
       "      <td>0.947129</td>\n",
       "      <td>0.971681</td>\n",
       "      <td>0.970909</td>\n",
       "    </tr>\n",
       "  </tbody>\n",
       "</table>\n",
       "</div>"
      ],
      "text/plain": [
       "           Linear_Regression  Log Regression  Random_Forests\n",
       "accuracy            0.904444        0.947993        0.946000\n",
       "precision           0.956762        0.956066        0.945446\n",
       "recall              0.937931        0.987818        0.997785\n",
       "f1                  0.947129        0.971681        0.970909"
      ]
     },
     "execution_count": 54,
     "metadata": {},
     "output_type": "execute_result"
    }
   ],
   "source": [
    "# merge all 3 models into dataframe\n",
    "ResultsDF_allFeatures = generate_Results(xIn,yOut)\n",
    "ResultsDF_allFeatures"
   ]
  },
  {
   "cell_type": "markdown",
   "metadata": {},
   "source": [
    "### Subset features\n",
    "- We will now repeat the tests using features selected after comapring correaltion of all features with target variable "
   ]
  },
  {
   "cell_type": "code",
   "execution_count": 55,
   "metadata": {},
   "outputs": [
    {
     "name": "stdout",
     "output_type": "stream",
     "text": [
      "number of Input features incl dummies:  101\n"
     ]
    }
   ],
   "source": [
    "# dataframe with all features = original dataframe\n",
    "df_subset_cmp = pd.get_dummies(df_subset).astype('category')\n",
    "\n",
    "# set X,y\n",
    "yOut = df_subset_cmp[[\"binary_outcome\"]]\n",
    "xIn = df_subset_cmp.drop([\"binary_outcome\"],axis=1)\n",
    "xLen_sub = len(xIn.columns)\n",
    "print(\"number of Input features incl dummies: \", xLen_sub)\n"
   ]
  },
  {
   "cell_type": "code",
   "execution_count": 56,
   "metadata": {},
   "outputs": [
    {
     "data": {
      "text/html": [
       "<div>\n",
       "<style scoped>\n",
       "    .dataframe tbody tr th:only-of-type {\n",
       "        vertical-align: middle;\n",
       "    }\n",
       "\n",
       "    .dataframe tbody tr th {\n",
       "        vertical-align: top;\n",
       "    }\n",
       "\n",
       "    .dataframe thead th {\n",
       "        text-align: right;\n",
       "    }\n",
       "</style>\n",
       "<table border=\"1\" class=\"dataframe\">\n",
       "  <thead>\n",
       "    <tr style=\"text-align: right;\">\n",
       "      <th></th>\n",
       "      <th>Linear_Regression</th>\n",
       "      <th>Log Regression</th>\n",
       "      <th>Random_Forests</th>\n",
       "    </tr>\n",
       "  </thead>\n",
       "  <tbody>\n",
       "    <tr>\n",
       "      <th>accuracy</th>\n",
       "      <td>0.946667</td>\n",
       "      <td>0.949006</td>\n",
       "      <td>0.944993</td>\n",
       "    </tr>\n",
       "    <tr>\n",
       "      <th>precision</th>\n",
       "      <td>0.952093</td>\n",
       "      <td>0.957118</td>\n",
       "      <td>0.947280</td>\n",
       "    </tr>\n",
       "    <tr>\n",
       "      <th>recall</th>\n",
       "      <td>0.991497</td>\n",
       "      <td>0.987818</td>\n",
       "      <td>0.994463</td>\n",
       "    </tr>\n",
       "    <tr>\n",
       "      <th>f1</th>\n",
       "      <td>0.971366</td>\n",
       "      <td>0.972210</td>\n",
       "      <td>0.970293</td>\n",
       "    </tr>\n",
       "  </tbody>\n",
       "</table>\n",
       "</div>"
      ],
      "text/plain": [
       "           Linear_Regression  Log Regression  Random_Forests\n",
       "accuracy            0.946667        0.949006        0.944993\n",
       "precision           0.952093        0.957118        0.947280\n",
       "recall              0.991497        0.987818        0.994463\n",
       "f1                  0.971366        0.972210        0.970293"
      ]
     },
     "execution_count": 56,
     "metadata": {},
     "output_type": "execute_result"
    }
   ],
   "source": [
    "# merge all 3 models into dataframe\n",
    "ResultsDF = generate_Results(xIn,yOut)\n",
    "ResultsDF"
   ]
  },
  {
   "cell_type": "markdown",
   "metadata": {},
   "source": [
    "### High Correlation features\n",
    "- We will now repeat the tests using features selected after [Chi squared test](#Chi-Squared-Test) of correlation against target variable "
   ]
  },
  {
   "cell_type": "code",
   "execution_count": 57,
   "metadata": {},
   "outputs": [
    {
     "name": "stdout",
     "output_type": "stream",
     "text": [
      "number of Input features incl dummies:  71\n"
     ]
    }
   ],
   "source": [
    "# dataframe with all features = original dataframe\n",
    "df_highCorr_cmp = pd.get_dummies(df_highCorr).astype('category')\n",
    "\n",
    "# set X,y\n",
    "yOut = df_highCorr_cmp[[\"binary_outcome\"]]\n",
    "xIn = df_highCorr_cmp.drop([\"binary_outcome\"],axis=1)\n",
    "xLen_hiCorr = len(xIn.columns)\n",
    "print(\"number of Input features incl dummies: \", xLen_hiCorr)\n"
   ]
  },
  {
   "cell_type": "code",
   "execution_count": 58,
   "metadata": {
    "scrolled": true
   },
   "outputs": [
    {
     "data": {
      "text/html": [
       "<div>\n",
       "<style scoped>\n",
       "    .dataframe tbody tr th:only-of-type {\n",
       "        vertical-align: middle;\n",
       "    }\n",
       "\n",
       "    .dataframe tbody tr th {\n",
       "        vertical-align: top;\n",
       "    }\n",
       "\n",
       "    .dataframe thead th {\n",
       "        text-align: right;\n",
       "    }\n",
       "</style>\n",
       "<table border=\"1\" class=\"dataframe\">\n",
       "  <thead>\n",
       "    <tr style=\"text-align: right;\">\n",
       "      <th></th>\n",
       "      <th>Linear_Regression</th>\n",
       "      <th>Log Regression</th>\n",
       "      <th>Random_Forests</th>\n",
       "    </tr>\n",
       "  </thead>\n",
       "  <tbody>\n",
       "    <tr>\n",
       "      <th>accuracy</th>\n",
       "      <td>0.942222</td>\n",
       "      <td>0.954005</td>\n",
       "      <td>0.944993</td>\n",
       "    </tr>\n",
       "    <tr>\n",
       "      <th>precision</th>\n",
       "      <td>0.949708</td>\n",
       "      <td>0.958292</td>\n",
       "      <td>0.947280</td>\n",
       "    </tr>\n",
       "    <tr>\n",
       "      <th>recall</th>\n",
       "      <td>0.989073</td>\n",
       "      <td>0.992248</td>\n",
       "      <td>0.994463</td>\n",
       "    </tr>\n",
       "    <tr>\n",
       "      <th>f1</th>\n",
       "      <td>0.968979</td>\n",
       "      <td>0.974970</td>\n",
       "      <td>0.970293</td>\n",
       "    </tr>\n",
       "  </tbody>\n",
       "</table>\n",
       "</div>"
      ],
      "text/plain": [
       "           Linear_Regression  Log Regression  Random_Forests\n",
       "accuracy            0.942222        0.954005        0.944993\n",
       "precision           0.949708        0.958292        0.947280\n",
       "recall              0.989073        0.992248        0.994463\n",
       "f1                  0.968979        0.974970        0.970293"
      ]
     },
     "execution_count": 58,
     "metadata": {},
     "output_type": "execute_result"
    }
   ],
   "source": [
    "# merge all 3 models into dataframe\n",
    "ResultsDF_HighCorrFeatures = generate_Results(xIn,yOut)\n",
    "ResultsDF_HighCorrFeatures"
   ]
  },
  {
   "cell_type": "markdown",
   "metadata": {},
   "source": [
    "### Comparison of feature sets"
   ]
  },
  {
   "cell_type": "code",
   "execution_count": 59,
   "metadata": {},
   "outputs": [
    {
     "name": "stdout",
     "output_type": "stream",
     "text": [
      "\n",
      "Scores using all features: 24 features (0 features dropped)\n",
      "===================================================================\n",
      "           Linear_Regression  Log Regression  Random_Forests\n",
      "accuracy            0.904444        0.947993        0.946000\n",
      "precision           0.956762        0.956066        0.945446\n",
      "recall              0.937931        0.987818        0.997785\n",
      "f1                  0.947129        0.971681        0.970909\n",
      "\n",
      "Scores using subset of features: 16 features (8 features dropped - from part 1)\n",
      "===================================================================\n",
      "           Linear_Regression  Log Regression  Random_Forests\n",
      "accuracy            0.946667        0.949006        0.944993\n",
      "precision           0.952093        0.957118        0.947280\n",
      "recall              0.991497        0.987818        0.994463\n",
      "f1                  0.971366        0.972210        0.970293\n",
      "\n",
      "Scores using high Correlation features only: 11 features (5 features dropped)\n",
      "===================================================================\n",
      "           Linear_Regression  Log Regression  Random_Forests\n",
      "accuracy            0.942222        0.954005        0.944993\n",
      "precision           0.949708        0.958292        0.947280\n",
      "recall              0.989073        0.992248        0.994463\n",
      "f1                  0.968979        0.974970        0.970293\n"
     ]
    }
   ],
   "source": [
    "print(\"\\nScores using all features: 24 features (0 features dropped)\")\n",
    "print(\"===================================================================\")\n",
    "print(ResultsDF_allFeatures)\n",
    "print(\"\\nScores using subset of features: 16 features (8 features dropped - from part 1)\")\n",
    "print(\"===================================================================\")\n",
    "print(ResultsDF)\n",
    "print(\"\\nScores using high Correlation features only: 11 features (5 features dropped)\")\n",
    "print(\"===================================================================\")\n",
    "print(ResultsDF_HighCorrFeatures)"
   ]
  },
  {
   "cell_type": "markdown",
   "metadata": {},
   "source": [
    "<br>"
   ]
  },
  {
   "cell_type": "markdown",
   "metadata": {},
   "source": [
    "## Further optimisations\n",
    "- There are two possible options for optimizing the linear and logistic regression models\n",
    "    - Deriving new features - All of the derived features proposed in homework 1 performed poorly and so additional features will not be proposed.\n",
    "    - Further reviewing the existing features to find the best combination - This has already been attempted \n",
    "- We will therefore focus in the random forest model to see what optimization is possible. We will look at the following:\n",
    "    1. Find best performing Max_Depth of decision tree while keeping accuracy high - reduce potential for overfitting and speed up model \n",
    "    2. Find lowest number estimators while keeping accuracy high- reduce unnecessary estimators as will slow down the model\n",
    "    3. Find best preforming list of features ranked by feature importance - As we know there are many feature that add little the the model. Removing them will help generalise the model\n",
    "        - Results here can be applied to all models "
   ]
  },
  {
   "cell_type": "markdown",
   "metadata": {},
   "source": [
    "### Optimise Max Depth"
   ]
  },
  {
   "cell_type": "code",
   "execution_count": 60,
   "metadata": {
    "scrolled": false
   },
   "outputs": [
    {
     "data": {
      "text/html": [
       "<div>\n",
       "<style scoped>\n",
       "    .dataframe tbody tr th:only-of-type {\n",
       "        vertical-align: middle;\n",
       "    }\n",
       "\n",
       "    .dataframe tbody tr th {\n",
       "        vertical-align: top;\n",
       "    }\n",
       "\n",
       "    .dataframe thead th {\n",
       "        text-align: right;\n",
       "    }\n",
       "</style>\n",
       "<table border=\"1\" class=\"dataframe\">\n",
       "  <thead>\n",
       "    <tr style=\"text-align: right;\">\n",
       "      <th></th>\n",
       "      <th>depth=1</th>\n",
       "      <th>depth=2</th>\n",
       "      <th>depth=3</th>\n",
       "      <th>depth=4</th>\n",
       "      <th>depth=5</th>\n",
       "      <th>depth=6</th>\n",
       "      <th>depth=7</th>\n",
       "      <th>depth=8</th>\n",
       "      <th>depth=9</th>\n",
       "      <th>depth=10</th>\n",
       "      <th>no_max_depth</th>\n",
       "    </tr>\n",
       "  </thead>\n",
       "  <tbody>\n",
       "    <tr>\n",
       "      <th>accuracy</th>\n",
       "      <td>0.903002</td>\n",
       "      <td>0.927005</td>\n",
       "      <td>0.944999</td>\n",
       "      <td>0.946998</td>\n",
       "      <td>0.946998</td>\n",
       "      <td>0.945002</td>\n",
       "      <td>0.945002</td>\n",
       "      <td>0.945002</td>\n",
       "      <td>0.945002</td>\n",
       "      <td>0.946000</td>\n",
       "      <td>0.945002</td>\n",
       "    </tr>\n",
       "    <tr>\n",
       "      <th>precision</th>\n",
       "      <td>0.903002</td>\n",
       "      <td>0.925230</td>\n",
       "      <td>0.943533</td>\n",
       "      <td>0.945502</td>\n",
       "      <td>0.945502</td>\n",
       "      <td>0.945389</td>\n",
       "      <td>0.945389</td>\n",
       "      <td>0.945389</td>\n",
       "      <td>0.945389</td>\n",
       "      <td>0.945446</td>\n",
       "      <td>0.945389</td>\n",
       "    </tr>\n",
       "    <tr>\n",
       "      <th>recall</th>\n",
       "      <td>1.000000</td>\n",
       "      <td>1.000000</td>\n",
       "      <td>0.998893</td>\n",
       "      <td>0.998893</td>\n",
       "      <td>0.998893</td>\n",
       "      <td>0.996678</td>\n",
       "      <td>0.996678</td>\n",
       "      <td>0.996678</td>\n",
       "      <td>0.996678</td>\n",
       "      <td>0.997785</td>\n",
       "      <td>0.996678</td>\n",
       "    </tr>\n",
       "    <tr>\n",
       "      <th>f1</th>\n",
       "      <td>0.949028</td>\n",
       "      <td>0.961157</td>\n",
       "      <td>0.970420</td>\n",
       "      <td>0.971463</td>\n",
       "      <td>0.971463</td>\n",
       "      <td>0.970353</td>\n",
       "      <td>0.970353</td>\n",
       "      <td>0.970353</td>\n",
       "      <td>0.970353</td>\n",
       "      <td>0.970909</td>\n",
       "      <td>0.970353</td>\n",
       "    </tr>\n",
       "  </tbody>\n",
       "</table>\n",
       "</div>"
      ],
      "text/plain": [
       "            depth=1   depth=2   depth=3   depth=4   depth=5   depth=6  \\\n",
       "accuracy   0.903002  0.927005  0.944999  0.946998  0.946998  0.945002   \n",
       "precision  0.903002  0.925230  0.943533  0.945502  0.945502  0.945389   \n",
       "recall     1.000000  1.000000  0.998893  0.998893  0.998893  0.996678   \n",
       "f1         0.949028  0.961157  0.970420  0.971463  0.971463  0.970353   \n",
       "\n",
       "            depth=7   depth=8   depth=9  depth=10  no_max_depth  \n",
       "accuracy   0.945002  0.945002  0.945002  0.946000      0.945002  \n",
       "precision  0.945389  0.945389  0.945389  0.945446      0.945389  \n",
       "recall     0.996678  0.996678  0.996678  0.997785      0.996678  \n",
       "f1         0.970353  0.970353  0.970353  0.970909      0.970353  "
      ]
     },
     "execution_count": 60,
     "metadata": {},
     "output_type": "execute_result"
    }
   ],
   "source": [
    "# dataframe with all features = original dataframe\n",
    "df_all_opt = pd.get_dummies(df_all).astype('category')\n",
    "\n",
    "# set X,y\n",
    "yOut = df_all_opt[[\"binary_outcome\"]]\n",
    "xIn = df_all_opt.drop([\"binary_outcome\"],axis=1)\n",
    "\n",
    "# initialised empty daraframe\n",
    "RandomForest_Depth = pd.DataFrame()\n",
    "\n",
    "# calculate cross val score incrementing max depth by 1 each iteration\n",
    "# append results to dataframe\n",
    "for i in range(1,11):\n",
    "    df1 = cross_val_RandomForest(xIn,yOut,depth=i)\n",
    "    df1.rename(columns={'Random_Forests':f'depth={i}'}, inplace=True)\n",
    "    RandomForest_Depth = pd.concat([RandomForest_Depth, df1], axis=1)\n",
    "\n",
    "# same calculation but use no max depth this time\n",
    "no_max_depth = cross_val_RandomForest(xIn,yOut)\n",
    "no_max_depth.rename(columns={'Random_Forests':f'no_max_depth'}, inplace=True)\n",
    "RandomForest_Depth = pd.concat([RandomForest_Depth, no_max_depth], axis=1)\n",
    "\n",
    "RandomForest_Depth"
   ]
  },
  {
   "cell_type": "markdown",
   "metadata": {},
   "source": [
    "We can see that **Max depth = 4 proves to be optimal**. Having additional depth adds little to accuracy while taking exponential rise in calculation time."
   ]
  },
  {
   "cell_type": "markdown",
   "metadata": {},
   "source": [
    "### Optimise Number of estimators"
   ]
  },
  {
   "cell_type": "code",
   "execution_count": 61,
   "metadata": {
    "scrolled": true
   },
   "outputs": [
    {
     "data": {
      "text/html": [
       "<div>\n",
       "<style scoped>\n",
       "    .dataframe tbody tr th:only-of-type {\n",
       "        vertical-align: middle;\n",
       "    }\n",
       "\n",
       "    .dataframe tbody tr th {\n",
       "        vertical-align: top;\n",
       "    }\n",
       "\n",
       "    .dataframe thead th {\n",
       "        text-align: right;\n",
       "    }\n",
       "</style>\n",
       "<table border=\"1\" class=\"dataframe\">\n",
       "  <thead>\n",
       "    <tr style=\"text-align: right;\">\n",
       "      <th></th>\n",
       "      <th>estimators=1</th>\n",
       "      <th>estimators=2</th>\n",
       "      <th>estimators=4</th>\n",
       "      <th>estimators=8</th>\n",
       "      <th>estimators=16</th>\n",
       "      <th>estimators=32</th>\n",
       "      <th>estimators=64</th>\n",
       "      <th>estimators=100</th>\n",
       "      <th>estimators=200</th>\n",
       "    </tr>\n",
       "  </thead>\n",
       "  <tbody>\n",
       "    <tr>\n",
       "      <th>accuracy</th>\n",
       "      <td>0.897005</td>\n",
       "      <td>0.865003</td>\n",
       "      <td>0.923990</td>\n",
       "      <td>0.942991</td>\n",
       "      <td>0.944993</td>\n",
       "      <td>0.945997</td>\n",
       "      <td>0.944999</td>\n",
       "      <td>0.945002</td>\n",
       "      <td>0.945002</td>\n",
       "    </tr>\n",
       "    <tr>\n",
       "      <th>precision</th>\n",
       "      <td>0.938599</td>\n",
       "      <td>0.948644</td>\n",
       "      <td>0.947049</td>\n",
       "      <td>0.946243</td>\n",
       "      <td>0.946362</td>\n",
       "      <td>0.946419</td>\n",
       "      <td>0.945411</td>\n",
       "      <td>0.945389</td>\n",
       "      <td>0.945389</td>\n",
       "    </tr>\n",
       "    <tr>\n",
       "      <th>recall</th>\n",
       "      <td>0.947951</td>\n",
       "      <td>0.899225</td>\n",
       "      <td>0.970100</td>\n",
       "      <td>0.993355</td>\n",
       "      <td>0.995570</td>\n",
       "      <td>0.996678</td>\n",
       "      <td>0.996678</td>\n",
       "      <td>0.996678</td>\n",
       "      <td>0.996678</td>\n",
       "    </tr>\n",
       "    <tr>\n",
       "      <th>f1</th>\n",
       "      <td>0.943247</td>\n",
       "      <td>0.923235</td>\n",
       "      <td>0.958411</td>\n",
       "      <td>0.969216</td>\n",
       "      <td>0.970330</td>\n",
       "      <td>0.970884</td>\n",
       "      <td>0.970358</td>\n",
       "      <td>0.970353</td>\n",
       "      <td>0.970353</td>\n",
       "    </tr>\n",
       "  </tbody>\n",
       "</table>\n",
       "</div>"
      ],
      "text/plain": [
       "           estimators=1  estimators=2  estimators=4  estimators=8  \\\n",
       "accuracy       0.897005      0.865003      0.923990      0.942991   \n",
       "precision      0.938599      0.948644      0.947049      0.946243   \n",
       "recall         0.947951      0.899225      0.970100      0.993355   \n",
       "f1             0.943247      0.923235      0.958411      0.969216   \n",
       "\n",
       "           estimators=16  estimators=32  estimators=64  estimators=100  \\\n",
       "accuracy        0.944993       0.945997       0.944999        0.945002   \n",
       "precision       0.946362       0.946419       0.945411        0.945389   \n",
       "recall          0.995570       0.996678       0.996678        0.996678   \n",
       "f1              0.970330       0.970884       0.970358        0.970353   \n",
       "\n",
       "           estimators=200  \n",
       "accuracy         0.945002  \n",
       "precision        0.945389  \n",
       "recall           0.996678  \n",
       "f1               0.970353  "
      ]
     },
     "execution_count": 61,
     "metadata": {},
     "output_type": "execute_result"
    }
   ],
   "source": [
    "# dataframe with all features = original dataframe\n",
    "df_all_opt = pd.get_dummies(df_all).astype('category')\n",
    "\n",
    "# set X,y\n",
    "yOut = df_all_opt[[\"binary_outcome\"]]\n",
    "xIn = df_all_opt.drop([\"binary_outcome\"],axis=1)\n",
    "\n",
    "# initialised empty daraframe\n",
    "RandomForest_Estimators = pd.DataFrame()\n",
    "\n",
    "n_estimators = [1, 2, 4, 8, 16, 32, 64, 100, 200]\n",
    "\n",
    "for item in n_estimators:\n",
    "    df1 = cross_val_RandomForest(xIn,yOut,estimators=item)\n",
    "    df1.rename(columns={'Random_Forests':f'estimators={item}'}, inplace=True)\n",
    "    RandomForest_Estimators = pd.concat([RandomForest_Estimators, df1], axis=1)\n",
    "\n",
    "RandomForest_Estimators"
   ]
  },
  {
   "cell_type": "markdown",
   "metadata": {},
   "source": [
    "**Estimator count 64 gives a good accuracy and accuracy continuous to grow further with very little slope**\n",
    "- Yet, as observed; accuracy is not growing further for estimator counts like 200 \n",
    "- Hence Estimator count of 100 is considered for analytics"
   ]
  },
  {
   "cell_type": "markdown",
   "metadata": {},
   "source": [
    "<br>"
   ]
  },
  {
   "cell_type": "markdown",
   "metadata": {},
   "source": [
    "## Optimise number of features\n",
    "- First calculate feature order of importance using all features"
   ]
  },
  {
   "cell_type": "code",
   "execution_count": 62,
   "metadata": {},
   "outputs": [
    {
     "data": {
      "text/html": [
       "<div>\n",
       "<style scoped>\n",
       "    .dataframe tbody tr th:only-of-type {\n",
       "        vertical-align: middle;\n",
       "    }\n",
       "\n",
       "    .dataframe tbody tr th {\n",
       "        vertical-align: top;\n",
       "    }\n",
       "\n",
       "    .dataframe thead th {\n",
       "        text-align: right;\n",
       "    }\n",
       "</style>\n",
       "<table border=\"1\" class=\"dataframe\">\n",
       "  <thead>\n",
       "    <tr style=\"text-align: right;\">\n",
       "      <th></th>\n",
       "      <th>importance</th>\n",
       "    </tr>\n",
       "    <tr>\n",
       "      <th>feature</th>\n",
       "      <th></th>\n",
       "    </tr>\n",
       "  </thead>\n",
       "  <tbody>\n",
       "    <tr>\n",
       "      <th>Intake Type_Wildlife</th>\n",
       "      <td>0.075399</td>\n",
       "    </tr>\n",
       "    <tr>\n",
       "      <th>Animal Type_Intake_Other</th>\n",
       "      <td>0.048103</td>\n",
       "    </tr>\n",
       "    <tr>\n",
       "      <th>Sex_Intake_Unknown</th>\n",
       "      <td>0.038072</td>\n",
       "    </tr>\n",
       "    <tr>\n",
       "      <th>percent</th>\n",
       "      <td>0.033879</td>\n",
       "    </tr>\n",
       "    <tr>\n",
       "      <th>Sex_State_Intake_Unknown</th>\n",
       "      <td>0.031603</td>\n",
       "    </tr>\n",
       "    <tr>\n",
       "      <th>...</th>\n",
       "      <td>...</td>\n",
       "    </tr>\n",
       "    <tr>\n",
       "      <th>Breed_Intake_Pug</th>\n",
       "      <td>0.000000</td>\n",
       "    </tr>\n",
       "    <tr>\n",
       "      <th>Breed_Intake_Pug Mix</th>\n",
       "      <td>0.000000</td>\n",
       "    </tr>\n",
       "    <tr>\n",
       "      <th>Breed_Intake_Queensland Heeler Mix</th>\n",
       "      <td>0.000000</td>\n",
       "    </tr>\n",
       "    <tr>\n",
       "      <th>Breed_Intake_Rat Terrier</th>\n",
       "      <td>0.000000</td>\n",
       "    </tr>\n",
       "    <tr>\n",
       "      <th>Outcome_hour_23</th>\n",
       "      <td>0.000000</td>\n",
       "    </tr>\n",
       "  </tbody>\n",
       "</table>\n",
       "<p>332 rows × 1 columns</p>\n",
       "</div>"
      ],
      "text/plain": [
       "                                    importance\n",
       "feature                                       \n",
       "Intake Type_Wildlife                  0.075399\n",
       "Animal Type_Intake_Other              0.048103\n",
       "Sex_Intake_Unknown                    0.038072\n",
       "percent                               0.033879\n",
       "Sex_State_Intake_Unknown              0.031603\n",
       "...                                        ...\n",
       "Breed_Intake_Pug                      0.000000\n",
       "Breed_Intake_Pug Mix                  0.000000\n",
       "Breed_Intake_Queensland Heeler Mix    0.000000\n",
       "Breed_Intake_Rat Terrier              0.000000\n",
       "Outcome_hour_23                       0.000000\n",
       "\n",
       "[332 rows x 1 columns]"
      ]
     },
     "execution_count": 62,
     "metadata": {},
     "output_type": "execute_result"
    }
   ],
   "source": [
    "# dataframe with all features = original dataframe\n",
    "df_all_opt = pd.get_dummies(df_all).astype('category')\n",
    "\n",
    "# set X,y\n",
    "yOut = df_all_opt[[\"binary_outcome\"]]\n",
    "xIn = df_all_opt.drop([\"binary_outcome\"],axis=1)\n",
    "\n",
    "X_train, X_test, y_train, y_test = train_test_split(xIn, yOut, random_state=1 , test_size=0.3)\n",
    "\n",
    "# Train RF with 100 trees\n",
    "rfc = RandomForestClassifier(n_estimators=100, max_features='auto', oob_score=True, random_state=1)\n",
    "rfc.fit(X_train, y_train)\n",
    "importance = pd.DataFrame({'feature': X_train.columns, 'importance':rfc.feature_importances_})\n",
    "importance.sort_values('importance', ascending=False, inplace=True)\n",
    "importance.set_index('feature',1, inplace=True)\n",
    "importance"
   ]
  },
  {
   "cell_type": "markdown",
   "metadata": {},
   "source": [
    "#### Obervations for optimal features\n",
    "- **Total 330 features are observed due to dummies**\n",
    "- **We shall calculate matrix for first 40 features as little signnificane is added by further features**\n",
    "- It can be seen that:\n",
    "    - **Dataset is small; hence large bias is introduced by features dropped for data anlytics such as:**\n",
    "        - Birth_qyear_x\n",
    "        - Color_Intake_x\n",
    "        - Breed_Intake_x\n",
    "    - **Some features which displayed high corrrelation in stacked bar graphs do not prove very important such as:**\n",
    "        - Birth_qyear_x\n",
    "        - Breed_Intake_x  \n",
    "        - Intake_hour_x"
   ]
  },
  {
   "cell_type": "code",
   "execution_count": 63,
   "metadata": {
    "scrolled": true
   },
   "outputs": [
    {
     "data": {
      "text/html": [
       "<div>\n",
       "<style scoped>\n",
       "    .dataframe tbody tr th:only-of-type {\n",
       "        vertical-align: middle;\n",
       "    }\n",
       "\n",
       "    .dataframe tbody tr th {\n",
       "        vertical-align: top;\n",
       "    }\n",
       "\n",
       "    .dataframe thead th {\n",
       "        text-align: right;\n",
       "    }\n",
       "</style>\n",
       "<table border=\"1\" class=\"dataframe\">\n",
       "  <thead>\n",
       "    <tr style=\"text-align: right;\">\n",
       "      <th></th>\n",
       "      <th>features=1</th>\n",
       "      <th>features=2</th>\n",
       "      <th>features=3</th>\n",
       "      <th>features=4</th>\n",
       "      <th>features=5</th>\n",
       "      <th>features=6</th>\n",
       "      <th>features=7</th>\n",
       "      <th>features=8</th>\n",
       "      <th>features=9</th>\n",
       "      <th>features=10</th>\n",
       "      <th>features=11</th>\n",
       "      <th>features=12</th>\n",
       "      <th>features=13</th>\n",
       "      <th>features=14</th>\n",
       "      <th>features=15</th>\n",
       "      <th>features=16</th>\n",
       "      <th>features=17</th>\n",
       "      <th>features=18</th>\n",
       "      <th>features=19</th>\n",
       "      <th>features=20</th>\n",
       "      <th>features=21</th>\n",
       "      <th>features=22</th>\n",
       "      <th>features=23</th>\n",
       "      <th>features=24</th>\n",
       "      <th>features=25</th>\n",
       "      <th>features=26</th>\n",
       "      <th>features=27</th>\n",
       "      <th>features=28</th>\n",
       "      <th>features=29</th>\n",
       "      <th>features=30</th>\n",
       "      <th>features=31</th>\n",
       "      <th>features=32</th>\n",
       "      <th>features=33</th>\n",
       "      <th>features=34</th>\n",
       "      <th>features=35</th>\n",
       "      <th>features=36</th>\n",
       "      <th>features=37</th>\n",
       "      <th>features=38</th>\n",
       "      <th>features=39</th>\n",
       "      <th>features=40</th>\n",
       "    </tr>\n",
       "  </thead>\n",
       "  <tbody>\n",
       "    <tr>\n",
       "      <th>accuracy</th>\n",
       "      <td>0.945997</td>\n",
       "      <td>0.945997</td>\n",
       "      <td>0.945997</td>\n",
       "      <td>0.944001</td>\n",
       "      <td>0.944001</td>\n",
       "      <td>0.945002</td>\n",
       "      <td>0.945002</td>\n",
       "      <td>0.945002</td>\n",
       "      <td>0.945002</td>\n",
       "      <td>0.941999</td>\n",
       "      <td>0.943000</td>\n",
       "      <td>0.944001</td>\n",
       "      <td>0.944001</td>\n",
       "      <td>0.944999</td>\n",
       "      <td>0.944001</td>\n",
       "      <td>0.944999</td>\n",
       "      <td>0.944999</td>\n",
       "      <td>0.944999</td>\n",
       "      <td>0.944999</td>\n",
       "      <td>0.944999</td>\n",
       "      <td>0.944999</td>\n",
       "      <td>0.944999</td>\n",
       "      <td>0.944999</td>\n",
       "      <td>0.944999</td>\n",
       "      <td>0.944999</td>\n",
       "      <td>0.944999</td>\n",
       "      <td>0.944999</td>\n",
       "      <td>0.944999</td>\n",
       "      <td>0.944999</td>\n",
       "      <td>0.944999</td>\n",
       "      <td>0.946000</td>\n",
       "      <td>0.946000</td>\n",
       "      <td>0.946000</td>\n",
       "      <td>0.946000</td>\n",
       "      <td>0.944999</td>\n",
       "      <td>0.944999</td>\n",
       "      <td>0.944999</td>\n",
       "      <td>0.946000</td>\n",
       "      <td>0.944999</td>\n",
       "      <td>0.944999</td>\n",
       "    </tr>\n",
       "    <tr>\n",
       "      <th>precision</th>\n",
       "      <td>0.944523</td>\n",
       "      <td>0.944523</td>\n",
       "      <td>0.944523</td>\n",
       "      <td>0.944410</td>\n",
       "      <td>0.944410</td>\n",
       "      <td>0.946372</td>\n",
       "      <td>0.946372</td>\n",
       "      <td>0.946372</td>\n",
       "      <td>0.946372</td>\n",
       "      <td>0.945260</td>\n",
       "      <td>0.945311</td>\n",
       "      <td>0.944410</td>\n",
       "      <td>0.944410</td>\n",
       "      <td>0.944466</td>\n",
       "      <td>0.944410</td>\n",
       "      <td>0.944466</td>\n",
       "      <td>0.944466</td>\n",
       "      <td>0.944466</td>\n",
       "      <td>0.944466</td>\n",
       "      <td>0.944466</td>\n",
       "      <td>0.944466</td>\n",
       "      <td>0.944466</td>\n",
       "      <td>0.944466</td>\n",
       "      <td>0.944466</td>\n",
       "      <td>0.944466</td>\n",
       "      <td>0.944466</td>\n",
       "      <td>0.944466</td>\n",
       "      <td>0.944466</td>\n",
       "      <td>0.944466</td>\n",
       "      <td>0.944466</td>\n",
       "      <td>0.945446</td>\n",
       "      <td>0.945446</td>\n",
       "      <td>0.945446</td>\n",
       "      <td>0.945446</td>\n",
       "      <td>0.944466</td>\n",
       "      <td>0.944466</td>\n",
       "      <td>0.944466</td>\n",
       "      <td>0.945446</td>\n",
       "      <td>0.944466</td>\n",
       "      <td>0.944466</td>\n",
       "    </tr>\n",
       "    <tr>\n",
       "      <th>recall</th>\n",
       "      <td>0.998893</td>\n",
       "      <td>0.998893</td>\n",
       "      <td>0.998893</td>\n",
       "      <td>0.996678</td>\n",
       "      <td>0.996678</td>\n",
       "      <td>0.995570</td>\n",
       "      <td>0.995570</td>\n",
       "      <td>0.995570</td>\n",
       "      <td>0.995570</td>\n",
       "      <td>0.993355</td>\n",
       "      <td>0.994463</td>\n",
       "      <td>0.996678</td>\n",
       "      <td>0.996678</td>\n",
       "      <td>0.997785</td>\n",
       "      <td>0.996678</td>\n",
       "      <td>0.997785</td>\n",
       "      <td>0.997785</td>\n",
       "      <td>0.997785</td>\n",
       "      <td>0.997785</td>\n",
       "      <td>0.997785</td>\n",
       "      <td>0.997785</td>\n",
       "      <td>0.997785</td>\n",
       "      <td>0.997785</td>\n",
       "      <td>0.997785</td>\n",
       "      <td>0.997785</td>\n",
       "      <td>0.997785</td>\n",
       "      <td>0.997785</td>\n",
       "      <td>0.997785</td>\n",
       "      <td>0.997785</td>\n",
       "      <td>0.997785</td>\n",
       "      <td>0.997785</td>\n",
       "      <td>0.997785</td>\n",
       "      <td>0.997785</td>\n",
       "      <td>0.997785</td>\n",
       "      <td>0.997785</td>\n",
       "      <td>0.997785</td>\n",
       "      <td>0.997785</td>\n",
       "      <td>0.997785</td>\n",
       "      <td>0.997785</td>\n",
       "      <td>0.997785</td>\n",
       "    </tr>\n",
       "    <tr>\n",
       "      <th>f1</th>\n",
       "      <td>0.970943</td>\n",
       "      <td>0.970943</td>\n",
       "      <td>0.970943</td>\n",
       "      <td>0.969833</td>\n",
       "      <td>0.969833</td>\n",
       "      <td>0.970333</td>\n",
       "      <td>0.970333</td>\n",
       "      <td>0.970333</td>\n",
       "      <td>0.970333</td>\n",
       "      <td>0.968691</td>\n",
       "      <td>0.969249</td>\n",
       "      <td>0.969833</td>\n",
       "      <td>0.969833</td>\n",
       "      <td>0.970389</td>\n",
       "      <td>0.969833</td>\n",
       "      <td>0.970389</td>\n",
       "      <td>0.970389</td>\n",
       "      <td>0.970389</td>\n",
       "      <td>0.970389</td>\n",
       "      <td>0.970389</td>\n",
       "      <td>0.970389</td>\n",
       "      <td>0.970389</td>\n",
       "      <td>0.970389</td>\n",
       "      <td>0.970389</td>\n",
       "      <td>0.970389</td>\n",
       "      <td>0.970389</td>\n",
       "      <td>0.970389</td>\n",
       "      <td>0.970389</td>\n",
       "      <td>0.970389</td>\n",
       "      <td>0.970389</td>\n",
       "      <td>0.970909</td>\n",
       "      <td>0.970909</td>\n",
       "      <td>0.970909</td>\n",
       "      <td>0.970909</td>\n",
       "      <td>0.970389</td>\n",
       "      <td>0.970389</td>\n",
       "      <td>0.970389</td>\n",
       "      <td>0.970909</td>\n",
       "      <td>0.970389</td>\n",
       "      <td>0.970389</td>\n",
       "    </tr>\n",
       "  </tbody>\n",
       "</table>\n",
       "</div>"
      ],
      "text/plain": [
       "           features=1  features=2  features=3  features=4  features=5  \\\n",
       "accuracy     0.945997    0.945997    0.945997    0.944001    0.944001   \n",
       "precision    0.944523    0.944523    0.944523    0.944410    0.944410   \n",
       "recall       0.998893    0.998893    0.998893    0.996678    0.996678   \n",
       "f1           0.970943    0.970943    0.970943    0.969833    0.969833   \n",
       "\n",
       "           features=6  features=7  features=8  features=9  features=10  \\\n",
       "accuracy     0.945002    0.945002    0.945002    0.945002     0.941999   \n",
       "precision    0.946372    0.946372    0.946372    0.946372     0.945260   \n",
       "recall       0.995570    0.995570    0.995570    0.995570     0.993355   \n",
       "f1           0.970333    0.970333    0.970333    0.970333     0.968691   \n",
       "\n",
       "           features=11  features=12  features=13  features=14  features=15  \\\n",
       "accuracy      0.943000     0.944001     0.944001     0.944999     0.944001   \n",
       "precision     0.945311     0.944410     0.944410     0.944466     0.944410   \n",
       "recall        0.994463     0.996678     0.996678     0.997785     0.996678   \n",
       "f1            0.969249     0.969833     0.969833     0.970389     0.969833   \n",
       "\n",
       "           features=16  features=17  features=18  features=19  features=20  \\\n",
       "accuracy      0.944999     0.944999     0.944999     0.944999     0.944999   \n",
       "precision     0.944466     0.944466     0.944466     0.944466     0.944466   \n",
       "recall        0.997785     0.997785     0.997785     0.997785     0.997785   \n",
       "f1            0.970389     0.970389     0.970389     0.970389     0.970389   \n",
       "\n",
       "           features=21  features=22  features=23  features=24  features=25  \\\n",
       "accuracy      0.944999     0.944999     0.944999     0.944999     0.944999   \n",
       "precision     0.944466     0.944466     0.944466     0.944466     0.944466   \n",
       "recall        0.997785     0.997785     0.997785     0.997785     0.997785   \n",
       "f1            0.970389     0.970389     0.970389     0.970389     0.970389   \n",
       "\n",
       "           features=26  features=27  features=28  features=29  features=30  \\\n",
       "accuracy      0.944999     0.944999     0.944999     0.944999     0.944999   \n",
       "precision     0.944466     0.944466     0.944466     0.944466     0.944466   \n",
       "recall        0.997785     0.997785     0.997785     0.997785     0.997785   \n",
       "f1            0.970389     0.970389     0.970389     0.970389     0.970389   \n",
       "\n",
       "           features=31  features=32  features=33  features=34  features=35  \\\n",
       "accuracy      0.946000     0.946000     0.946000     0.946000     0.944999   \n",
       "precision     0.945446     0.945446     0.945446     0.945446     0.944466   \n",
       "recall        0.997785     0.997785     0.997785     0.997785     0.997785   \n",
       "f1            0.970909     0.970909     0.970909     0.970909     0.970389   \n",
       "\n",
       "           features=36  features=37  features=38  features=39  features=40  \n",
       "accuracy      0.944999     0.944999     0.946000     0.944999     0.944999  \n",
       "precision     0.944466     0.944466     0.945446     0.944466     0.944466  \n",
       "recall        0.997785     0.997785     0.997785     0.997785     0.997785  \n",
       "f1            0.970389     0.970389     0.970909     0.970389     0.970389  "
      ]
     },
     "execution_count": 63,
     "metadata": {},
     "output_type": "execute_result"
    }
   ],
   "source": [
    "# set up empty list to store features\n",
    "list_features = []\n",
    "\n",
    "# set up empty dataframe to store results\n",
    "RandomForest_Features = pd.DataFrame()\n",
    "count=0\n",
    "\n",
    "# loop over 'importance' dataframe adding 1 feature per loop (will be the next most important feature)\n",
    "# each loop calculates the score for the current number of features in the list_features\n",
    "# Each loop appends result to RandomForest_Features dataframe\n",
    "for index, row in importance.iterrows():\n",
    "    # only calculate the top 40 features to keep runtime down\n",
    "    if count < 40:\n",
    "        list_features.append(index)\n",
    "        X = df_all_opt[list_features]\n",
    "        df1 = cross_val_RandomForest(X,y, depth=4, estimators=100)\n",
    "        df1.rename(columns={'Random_Forests':f'features={len(list_features)}'}, inplace=True)\n",
    "        RandomForest_Features = pd.concat([RandomForest_Features, df1], axis=1)\n",
    "        count+=1\n",
    "    else:\n",
    "        break\n",
    "\n",
    "# to display all columns    \n",
    "pd.set_option('display.max_columns', 40)\n",
    "RandomForest_Features  "
   ]
  },
  {
   "cell_type": "markdown",
   "metadata": {},
   "source": [
    " - **Thus, after 20 features, accuracy stabilises to 0.944**<br>\n",
    " Here we see that after the top 20 features the accuracy of the model stabilises. Therefore was can trim the model to the optimum number of features i.e. 20 \n",
    "- It is interesting to note that we achieve reasonable accuracy using one feature only. This feature is animal intake type \"Wildlife\". It is probably overfitting given skewed nature of data.\n",
    "\n",
    "We can now define our list of optimum features"
   ]
  },
  {
   "cell_type": "code",
   "execution_count": 64,
   "metadata": {},
   "outputs": [],
   "source": [
    "# set list of optimum features\n",
    "optimum_features = list_features[0:20]"
   ]
  },
  {
   "cell_type": "markdown",
   "metadata": {},
   "source": [
    "### Review performance of all models\n",
    "- For all models use optimum_features based on random forests feature importance evaluation\n",
    "- For random forests model use max_depth=4 and keep default number estimators=100"
   ]
  },
  {
   "cell_type": "code",
   "execution_count": 65,
   "metadata": {},
   "outputs": [
    {
     "name": "stdout",
     "output_type": "stream",
     "text": [
      "number of Input features incl dummies:  20\n"
     ]
    },
    {
     "data": {
      "text/html": [
       "<div>\n",
       "<style scoped>\n",
       "    .dataframe tbody tr th:only-of-type {\n",
       "        vertical-align: middle;\n",
       "    }\n",
       "\n",
       "    .dataframe tbody tr th {\n",
       "        vertical-align: top;\n",
       "    }\n",
       "\n",
       "    .dataframe thead th {\n",
       "        text-align: right;\n",
       "    }\n",
       "</style>\n",
       "<table border=\"1\" class=\"dataframe\">\n",
       "  <thead>\n",
       "    <tr style=\"text-align: right;\">\n",
       "      <th></th>\n",
       "      <th>Linear_Regression</th>\n",
       "      <th>Log Regression</th>\n",
       "      <th>Random_Forests</th>\n",
       "    </tr>\n",
       "  </thead>\n",
       "  <tbody>\n",
       "    <tr>\n",
       "      <th>accuracy</th>\n",
       "      <td>0.953333</td>\n",
       "      <td>0.946003</td>\n",
       "      <td>0.944999</td>\n",
       "    </tr>\n",
       "    <tr>\n",
       "      <th>precision</th>\n",
       "      <td>0.952428</td>\n",
       "      <td>0.948325</td>\n",
       "      <td>0.944466</td>\n",
       "    </tr>\n",
       "    <tr>\n",
       "      <th>recall</th>\n",
       "      <td>0.998788</td>\n",
       "      <td>0.994463</td>\n",
       "      <td>0.997785</td>\n",
       "    </tr>\n",
       "    <tr>\n",
       "      <th>f1</th>\n",
       "      <td>0.975045</td>\n",
       "      <td>0.970826</td>\n",
       "      <td>0.970389</td>\n",
       "    </tr>\n",
       "  </tbody>\n",
       "</table>\n",
       "</div>"
      ],
      "text/plain": [
       "           Linear_Regression  Log Regression  Random_Forests\n",
       "accuracy            0.953333        0.946003        0.944999\n",
       "precision           0.952428        0.948325        0.944466\n",
       "recall              0.998788        0.994463        0.997785\n",
       "f1                  0.975045        0.970826        0.970389"
      ]
     },
     "execution_count": 65,
     "metadata": {},
     "output_type": "execute_result"
    }
   ],
   "source": [
    "# dataframe with all features = original dataframe\n",
    "df_optimum_features = pd.get_dummies(df_all).astype('category')\n",
    "\n",
    "# set X,y\n",
    "yOut = df_optimum_features[[\"binary_outcome\"]]\n",
    "xIn = df_optimum_features[optimum_features]\n",
    "xLen_optFeatures = len(xIn.columns)\n",
    "print(\"number of Input features incl dummies: \", xLen_optFeatures)\n",
    "\n",
    "# merge all 3 models into dataframe\n",
    "ResultsDF_optimum_features = generate_Results(xIn,yOut,depth=4, estimators=100)\n",
    "ResultsDF_optimum_features"
   ]
  },
  {
   "cell_type": "markdown",
   "metadata": {},
   "source": [
    "###  Comparison of all feature sets"
   ]
  },
  {
   "cell_type": "code",
   "execution_count": 66,
   "metadata": {},
   "outputs": [
    {
     "name": "stdout",
     "output_type": "stream",
     "text": [
      "\n",
      "Scores using all features: 24 features (0 features dropped)\n",
      "===================================================================\n",
      "           Linear_Regression  Log Regression  Random_Forests\n",
      "accuracy            0.904444        0.947993        0.946000\n",
      "precision           0.956762        0.956066        0.945446\n",
      "recall              0.937931        0.987818        0.997785\n",
      "f1                  0.947129        0.971681        0.970909\n",
      "\n",
      "Scores using subset of features: 16 features (8 features dropped - from part 1)\n",
      "===================================================================\n",
      "           Linear_Regression  Log Regression  Random_Forests\n",
      "accuracy            0.946667        0.949006        0.944993\n",
      "precision           0.952093        0.957118        0.947280\n",
      "recall              0.991497        0.987818        0.994463\n",
      "f1                  0.971366        0.972210        0.970293\n",
      "\n",
      "Scores using high Correlation features: 11 features (5 features dropped)\n",
      "===================================================================\n",
      "           Linear_Regression  Log Regression  Random_Forests\n",
      "accuracy            0.942222        0.954005        0.944993\n",
      "precision           0.949708        0.958292        0.947280\n",
      "recall              0.989073        0.992248        0.994463\n",
      "f1                  0.968979        0.974970        0.970293\n",
      "\n",
      "Scores using optimum features: 20 features\n",
      "===================================================================\n",
      "           Linear_Regression  Log Regression  Random_Forests\n",
      "accuracy            0.953333        0.946003        0.944999\n",
      "precision           0.952428        0.948325        0.944466\n",
      "recall              0.998788        0.994463        0.997785\n",
      "f1                  0.975045        0.970826        0.970389\n"
     ]
    }
   ],
   "source": [
    "print(\"\\nScores using all features: 24 features (0 features dropped)\")\n",
    "print(\"===================================================================\")\n",
    "print(ResultsDF_allFeatures)\n",
    "print(\"\\nScores using subset of features: 16 features (8 features dropped - from part 1)\")\n",
    "print(\"===================================================================\")\n",
    "print(ResultsDF)\n",
    "print(\"\\nScores using high Correlation features: 11 features (5 features dropped)\")\n",
    "print(\"===================================================================\")\n",
    "print(ResultsDF_HighCorrFeatures)\n",
    "print(\"\\nScores using optimum features: 20 features\")\n",
    "print(\"===================================================================\")\n",
    "print(ResultsDF_optimum_features)"
   ]
  },
  {
   "cell_type": "markdown",
   "metadata": {},
   "source": [
    "- We can see from the comparison above that using the optimum features from the random forest evaluation performs best for all models. \n",
    "- This is a good result as we have trimmed the number of features and are achieving better scores all round. \n",
    "- We have also made some efficiency gains for the random forests model \n",
    "    - Finding sweet spot for the (max depth = 4), which will in turn limit the chances of overfitting\n",
    "    - Finding the optimum number of estimators (=100) - this happens to be the default\n",
    "- The logistic and random forest models preform almost the same +/-1% and both could be used. "
   ]
  },
  {
   "cell_type": "markdown",
   "metadata": {},
   "source": [
    "### Save final model for future use"
   ]
  },
  {
   "cell_type": "code",
   "execution_count": 67,
   "metadata": {},
   "outputs": [],
   "source": [
    "rfc = RandomForestClassifier(n_estimators=100, max_features='auto', oob_score=True, random_state=1, max_depth=4)\n",
    "rfcModel = rfc.fit(xIn,yOut)\n",
    "filename = 'optimalFeatures_Origin.pkl'\n",
    "pickle.dump(rfcModel, open(filename, 'wb'))"
   ]
  },
  {
   "cell_type": "markdown",
   "metadata": {},
   "source": [
    "### Test Model against optimal feature inputs\n",
    "**# Output vectors are saved for future use in stage [6.3.5](#Compare-Result-metrics-aginast-old-data-and-old-model)**"
   ]
  },
  {
   "cell_type": "code",
   "execution_count": 68,
   "metadata": {
    "scrolled": false
   },
   "outputs": [
    {
     "name": "stdout",
     "output_type": "stream",
     "text": [
      "\n",
      "==============================================================================\n",
      "Actual values of training:\n",
      "   binary_outcome\n",
      "0            1.0\n",
      "1            1.0\n",
      "2            1.0\n",
      "3            0.0\n",
      "4            1.0\n",
      "5            1.0\n",
      "6            1.0\n",
      "7            1.0\n",
      "8            1.0\n",
      "9            1.0\n",
      "Predictions on training:\n",
      " [1. 1. 1. 1. 1. 1. 1. 1. 1. 1.]\n"
     ]
    }
   ],
   "source": [
    "shelterModel = pickle.load(open(filename, 'rb'))\n",
    "predictions = shelterModel.predict(xIn)  \n",
    "printResult(yOut, predictions)\n",
    "\n",
    "# save vectors for future use in stage 6.3.5\n",
    "yOut_old, predictions_old = yOut, predictions"
   ]
  },
  {
   "cell_type": "markdown",
   "metadata": {},
   "source": [
    "#  Evaluate model : new dataset '28032020-AnimalWelfareRisk-binaryOutcome-recent-1k.csv'\n",
    "\n",
    "**New Data csv \"28032020-AnimalWelfareRisk-binaryOutcome-recent-1k.csv\" is first cleaned using homework 1**\n",
    "* **Output csv of homework named 'cleaned_28032020-AnimalWelfareRisk-binaryOutcome-recent-1k.csv' is used for this section **\n",
    "**Model evaluation need data cleansing before data is fed to the prediction model**\n",
    "- Extracted data must be processed through [Stage 1.1.4](#Process-features-with-large-cardinality)  "
   ]
  },
  {
   "cell_type": "markdown",
   "metadata": {},
   "source": [
    "##  Import and describe data from CSV file"
   ]
  },
  {
   "cell_type": "code",
   "execution_count": 69,
   "metadata": {
    "scrolled": true
   },
   "outputs": [],
   "source": [
    "# Read csv file into a dataframe.\n",
    "df = pd.read_csv('cleaned_28032020-AnimalWelfareRisk-binaryOutcome-recent-1k.csv')"
   ]
  },
  {
   "cell_type": "markdown",
   "metadata": {},
   "source": [
    "### Covert features to standard data types"
   ]
  },
  {
   "cell_type": "code",
   "execution_count": 70,
   "metadata": {},
   "outputs": [],
   "source": [
    "#CATAGORICAL DATA\n",
    "\n",
    "# Select columns containing categorical data\n",
    "df = df.drop(['recidence_Time_Ratio','Animal ID'],axis=1)\n",
    "continuous_columns = df[['Age upon Intake','Age upon Outcome', 'binary_outcome']].columns\n",
    "\n",
    "for column in continuous_columns:\n",
    "    df[column] = df[column].astype('int64')                          "
   ]
  },
  {
   "cell_type": "code",
   "execution_count": 71,
   "metadata": {},
   "outputs": [],
   "source": [
    "#CATAGORICAL DATA\n",
    "\n",
    "# Select columns containing categorical data\n",
    "categorical_columns = df[['Name_Intake','Intake Type','Intake Condition',\\\n",
    "                          'Animal Type_Intake','Breed_Intake','Color_Intake',\\\n",
    "                          'Sex_Intake','Sex_State_Intake','Sex_Outcome','Sex_State_Outcome',\\\n",
    "                          'found_Address_Line1','found_Address_City','found_Address_State']].columns\n",
    "for column in categorical_columns:\n",
    "    df[column] = df[column].astype('category')                          "
   ]
  },
  {
   "cell_type": "markdown",
   "metadata": {},
   "source": [
    "## Data cleaning action\n",
    "**DISTRIBUTION OF new DATA HAS TO BE IN LINE WITH TRAINING DATA ELSE PROBLEM STATEMENT WOULD BE FUTILE. HNCE, SAME DATA PROCESSING TECHNIQUES ARE APPLIED TO NEW DATA**<br>\n",
    "<br>"
   ]
  },
  {
   "cell_type": "markdown",
   "metadata": {},
   "source": [
    "### Name_Intake"
   ]
  },
  {
   "cell_type": "code",
   "execution_count": 72,
   "metadata": {},
   "outputs": [],
   "source": [
    "df['Name_Intake'] = df['Name_Intake'].mask((df['Name_Intake'] != 'Unknown'), \"Known\")"
   ]
  },
  {
   "cell_type": "markdown",
   "metadata": {},
   "source": [
    "### Date of Birth, DateTime_Intake, DateTime_Outcome"
   ]
  },
  {
   "cell_type": "code",
   "execution_count": 73,
   "metadata": {},
   "outputs": [],
   "source": [
    "#DATETIME DATA\n",
    "\n",
    "# Select columns containing datetime data\n",
    "continous_date_columns = df[['DateTime_Intake', 'DateTime_Outcome', 'Date of Birth']].columns\n",
    "\n",
    "# Assign object type datetime to columns enlisted in continous_date_columns\n",
    "for column in continous_date_columns:\n",
    "    df[column] = pd.to_datetime(df[column])\n",
    "    \n",
    "# Resolve each datetime entry into quarter of year, day of week and hour of day\n",
    "df['Birth_qyear'] = df['Date of Birth'].dt.quarter \n",
    "df['Birth_weekday'] = df['Date of Birth'].dt.weekday \n",
    "df['Birth_hour'] = df['Date of Birth'].dt.hour \n",
    "\n",
    "df['Intake_qyear'] = df['DateTime_Intake'].dt.quarter \n",
    "df['Intake_weekday'] = df['DateTime_Intake'].dt.weekday \n",
    "df['Intake_hour'] = df['DateTime_Intake'].dt.hour \n",
    "\n",
    "df['Outcome_qyear'] = df['DateTime_Outcome'].dt.quarter \n",
    "df['Outcome_weekday'] = df['DateTime_Outcome'].dt.weekday \n",
    "df['Outcome_hour'] = df['DateTime_Outcome'].dt.hour \n",
    "\n",
    "df = df.drop(['Date of Birth','DateTime_Intake','DateTime_Outcome'], axis=1)"
   ]
  },
  {
   "cell_type": "markdown",
   "metadata": {},
   "source": [
    "### Age upon Intake, Age upon Outcome\n",
    "\n",
    "* Age columns have large cardinality. \n",
    "* Mortality rate is typically analysed in slabs for human beings (neonatal/baby/children/adolescent/adult/old). \n",
    "* Similar aproach is taken to classify animal's age into ranges of age. \n"
   ]
  },
  {
   "cell_type": "code",
   "execution_count": 74,
   "metadata": {},
   "outputs": [],
   "source": [
    "# Columns which record age of animal are taken into an array\n",
    "ageColumns = df[['Age upon Intake','Age upon Outcome']].columns\n",
    "\n",
    "\n",
    "for ageColumn in ageColumns:\n",
    "    # Masks for 6 age ranges are defined\n",
    "    mask0 = (df[ageColumn] <=1)\n",
    "    mask1 = (df[ageColumn] > 1) & (df[ageColumn] <= 4)\n",
    "    mask2 = (df[ageColumn] > 4) & (df[ageColumn] <= 12)\n",
    "    mask3 = (df[ageColumn] > 12) & (df[ageColumn] <= 52)\n",
    "    mask4 = (df[ageColumn] > 52) & (df[ageColumn] <= 156)\n",
    "    mask5 = (df[ageColumn] > 156) \n",
    "    \n",
    "    # Masks for 6 age ranges are defined\n",
    "    df.loc[mask0, ageColumn] = 0\n",
    "    df.loc[mask1, ageColumn] = 1\n",
    "    df.loc[mask2, ageColumn] = 2\n",
    "    df.loc[mask3, ageColumn] = 3\n",
    "    df.loc[mask4, ageColumn] = 4\n",
    "    df.loc[mask5, ageColumn] = 5"
   ]
  },
  {
   "cell_type": "markdown",
   "metadata": {},
   "source": [
    "### found_Address_Line1"
   ]
  },
  {
   "cell_type": "code",
   "execution_count": 75,
   "metadata": {},
   "outputs": [],
   "source": [
    "# Drop feature found address line\n",
    "df = df.drop(['found_Address_Line1'], axis=1)"
   ]
  },
  {
   "cell_type": "markdown",
   "metadata": {},
   "source": [
    "### Data type casting"
   ]
  },
  {
   "cell_type": "code",
   "execution_count": 76,
   "metadata": {},
   "outputs": [],
   "source": [
    "#CATAGORICAL DATA\n",
    "\n",
    "# Select columns containing categorical data\n",
    "categorical_columns = df[['Name_Intake','Intake Type','Intake Condition',\\\n",
    "                          'Animal Type_Intake','Breed_Intake','Color_Intake',\\\n",
    "                          'Age upon Intake','Age upon Outcome',\\\n",
    "                          'Sex_Intake','Sex_State_Intake','Sex_Outcome','Sex_State_Outcome',\\\n",
    "                          'found_Address_City','found_Address_State',\\\n",
    "                          'Birth_qyear', 'Birth_weekday', 'Birth_hour',\\\n",
    "                          'Intake_qyear', 'Intake_weekday', 'Intake_hour',\\\n",
    "                          'Outcome_qyear', 'Outcome_weekday', 'Outcome_hour'\\\n",
    "                          ]].columns\n",
    "for column in categorical_columns:\n",
    "    df[column] = df[column].astype('category')\n",
    "\n",
    "df['binary_outcome']=df['binary_outcome'].astype('float64')"
   ]
  },
  {
   "cell_type": "markdown",
   "metadata": {},
   "source": [
    "### Save dataframe for future use"
   ]
  },
  {
   "cell_type": "code",
   "execution_count": 77,
   "metadata": {},
   "outputs": [],
   "source": [
    "# Dataframe containing all cleaned features\n",
    "df_all_new = df"
   ]
  },
  {
   "cell_type": "markdown",
   "metadata": {},
   "source": [
    "<br>\n"
   ]
  },
  {
   "cell_type": "markdown",
   "metadata": {},
   "source": [
    "## Predict results for NEW DATASET "
   ]
  },
  {
   "cell_type": "markdown",
   "metadata": {},
   "source": [
    "### Form dataframe and input feature columns\n",
    "- New data may contain some new features \n",
    "***OR*** \n",
    "- some optimal features used for original model may be abscent in new data\n",
    "<br><br>\n",
    "- **Thus, we need to retrain model on old data with top 20 optimal features present in new data** \n",
    "- This newly trained model can be used to predict the outcomes for new data"
   ]
  },
  {
   "cell_type": "code",
   "execution_count": 78,
   "metadata": {},
   "outputs": [
    {
     "name": "stdout",
     "output_type": "stream",
     "text": [
      "number of Input features incl dummies:  20\n"
     ]
    }
   ],
   "source": [
    "# dataframe with all features = original dataframe\n",
    "df_optimum_features_new = pd.get_dummies(df_all_new).astype('category')\n",
    "\n",
    "#Set list of optimal features available in new dataset\n",
    "features = frozenset(df_optimum_features_new.columns)\n",
    "optimum_features_new = [x for x in list_features if x in features]\n",
    "\n",
    "# set list of 20 optimum features\n",
    "optimum_features_new = optimum_features_new[0:20]\n",
    "\n",
    "# set X,y\n",
    "yOut_new = df_optimum_features_new[[\"binary_outcome\"]]\n",
    "xIn_new = df_optimum_features_new[optimum_features_new]\n",
    "xLen_optFeatures = len(xIn_new.columns)\n",
    "print(\"number of Input features incl dummies: \", xLen_optFeatures)"
   ]
  },
  {
   "cell_type": "markdown",
   "metadata": {},
   "source": [
    "### Train model with old data using new list of optimal features\n",
    "- ***Notice that, xIn consists of new optimal features i.e. top 20 optimal features of old training data which are available in new data***"
   ]
  },
  {
   "cell_type": "code",
   "execution_count": 79,
   "metadata": {},
   "outputs": [],
   "source": [
    "# dataframe with all features = original dataframe\n",
    "df_optimum_features = pd.get_dummies(df_all).astype('category')\n",
    "\n",
    "# set X,y\n",
    "yOut = df_optimum_features[[\"binary_outcome\"]]\n",
    "'''\n",
    "xIN trains on new optimal features !!!!\n",
    "'''\n",
    "xIn = df_optimum_features[optimum_features_new]\n",
    "xLen_optFeatures = len(xIn.columns)"
   ]
  },
  {
   "cell_type": "markdown",
   "metadata": {},
   "source": [
    "### Train and save model on old data"
   ]
  },
  {
   "cell_type": "code",
   "execution_count": 80,
   "metadata": {},
   "outputs": [],
   "source": [
    "rfc = RandomForestClassifier(n_estimators=100, max_features='auto', oob_score=True, random_state=1, max_depth=4)\n",
    "rfcModel = rfc.fit(xIn,yOut)\n",
    "filename = 'optimalFeatures_New_Optimals.pkl'\n",
    "pickle.dump(rfcModel, open(filename, 'wb'))"
   ]
  },
  {
   "cell_type": "markdown",
   "metadata": {},
   "source": [
    "\n",
    "### Load Model and predict results on new data"
   ]
  },
  {
   "cell_type": "code",
   "execution_count": 81,
   "metadata": {
    "scrolled": false
   },
   "outputs": [
    {
     "name": "stdout",
     "output_type": "stream",
     "text": [
      "\n",
      "==============================================================================\n",
      "Actual values of training:\n",
      "   binary_outcome\n",
      "0            0.0\n",
      "1            0.0\n",
      "2            0.0\n",
      "3            0.0\n",
      "4            0.0\n",
      "5            0.0\n",
      "6            1.0\n",
      "7            1.0\n",
      "8            0.0\n",
      "9            0.0\n",
      "Predictions on training:\n",
      " [0. 0. 0. 0. 0. 0. 1. 1. 0. 0.]\n"
     ]
    }
   ],
   "source": [
    "shelterModel = pickle.load(open(filename, 'rb'))\n",
    "predictions = shelterModel.predict(xIn_new)  \n",
    "printResult(yOut_new, predictions)"
   ]
  },
  {
   "cell_type": "markdown",
   "metadata": {},
   "source": [
    "### Compare Result metrics aginast old data and old model\n",
    "- We obtained results with optiamal features of new data with new model \"optimalFeatures_New_Optimals.pkl\" \n",
    "- **We can compare these results procduced with old model \"optimalFeatures.pkl\" on old optimal fetures data produced in [5.4.4](#Test-Model-against-optimal-feature-inputs)**  "
   ]
  },
  {
   "cell_type": "code",
   "execution_count": 82,
   "metadata": {
    "scrolled": true
   },
   "outputs": [
    {
     "name": "stdout",
     "output_type": "stream",
     "text": [
      "Results for old model with top20 optimal features:\n",
      "\n",
      "==============================================================================\n",
      "Accuracy:  0.95\n",
      "Confusion matrix: \n",
      " [[ 49  48]\n",
      " [  2 901]]\n",
      "Classification report:\n",
      "                precision    recall  f1-score   support\n",
      "\n",
      "         0.0       0.96      0.51      0.66        97\n",
      "         1.0       0.95      1.00      0.97       903\n",
      "\n",
      "    accuracy                           0.95      1000\n",
      "   macro avg       0.96      0.75      0.82      1000\n",
      "weighted avg       0.95      0.95      0.94      1000\n",
      "\n",
      "Results for new model with top20 optimal features available in new data :\n",
      "\n",
      "==============================================================================\n",
      "Accuracy:  0.958\n",
      "Confusion matrix: \n",
      " [[134  41]\n",
      " [  1 824]]\n",
      "Classification report:\n",
      "                precision    recall  f1-score   support\n",
      "\n",
      "         0.0       0.99      0.77      0.86       175\n",
      "         1.0       0.95      1.00      0.98       825\n",
      "\n",
      "    accuracy                           0.96      1000\n",
      "   macro avg       0.97      0.88      0.92      1000\n",
      "weighted avg       0.96      0.96      0.96      1000\n",
      "\n"
     ]
    }
   ],
   "source": [
    "print(\"Results for old model with top20 optimal features:\")\n",
    "printClassification(yOut_old, predictions_old) \n",
    "print(\"Results for new model with top20 optimal features available in new data :\")\n",
    "printClassification(yOut_new, predictions)"
   ]
  },
  {
   "cell_type": "markdown",
   "metadata": {},
   "source": [
    "# Summary\n"
   ]
  },
  {
   "cell_type": "markdown",
   "metadata": {},
   "source": [
    "## Data prediction with training data\n",
    "**This notebook evaluates animal shelter data against 3 predictive models to estimate if an animal survives the shelter or not**\n",
    "- **[Chi squared test](#Chi-Squared-Test) proved that**\n",
    "    - **Out of 24, only 10 features are found to have significant impact on output**\n",
    "    - Yet, due to small cardinality, mosst of them failed to make impact in atcual predictive models\n",
    "- **Though linear regression outperforms outher models, it is not recommended since it is prone to misleading effects of valid outliers**\n",
    "- **The logistic and random forest models preform almost the same +/-1% and both could be used**\n",
    "- **Random forest model provided good acccuracy with optimal features**<br><br>\n",
    "\n",
    "**optimised list of 20 features including dummies has maximum effect on outcome**\n",
    "- **Though, role of these features must be revisited since it has many variables which were not correlated to the target variable; yet make more impact due to their high cardinality and skewed distribution within small sized dataset**\n"
   ]
  },
  {
   "cell_type": "markdown",
   "metadata": {},
   "source": [
    "## Data prediction with new data provided for exercise<br>\n",
    "* **Creation of new model is inevitable for each new dataset since, new data may not have optimal features used for creating model with database [old dataset]**\n",
    "* **As displayed in section [6.3.5](#Compare-Result-metrics-aginast-old-data-and-old-model); aproach of optimal variables works. as accuracy and recall metrics for new model trained with new list of optimal features are slightly better than old model on on dataset**\n"
   ]
  },
  {
   "cell_type": "code",
   "execution_count": null,
   "metadata": {},
   "outputs": [],
   "source": []
  }
 ],
 "metadata": {
  "kernelspec": {
   "display_name": "Python 3",
   "language": "python",
   "name": "python3"
  },
  "language_info": {
   "codemirror_mode": {
    "name": "ipython",
    "version": 3
   },
   "file_extension": ".py",
   "mimetype": "text/x-python",
   "name": "python",
   "nbconvert_exporter": "python",
   "pygments_lexer": "ipython3",
   "version": "3.7.4"
  },
  "toc": {
   "base_numbering": "1",
   "nav_menu": {},
   "number_sections": true,
   "sideBar": true,
   "skip_h1_title": false,
   "title_cell": "Table of Contents",
   "title_sidebar": "Table of Contents",
   "toc_cell": true,
   "toc_position": {
    "height": "calc(100% - 180px)",
    "left": "10px",
    "top": "150px",
    "width": "459px"
   },
   "toc_section_display": true,
   "toc_window_display": true
  }
 },
 "nbformat": 4,
 "nbformat_minor": 1
}
