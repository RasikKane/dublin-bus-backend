{
 "cells": [
  {
   "cell_type": "code",
   "execution_count": 1,
   "metadata": {},
   "outputs": [],
   "source": [
    "import pandas as pd"
   ]
  },
  {
   "cell_type": "markdown",
   "metadata": {},
   "source": [
    "## stop_id_route.csv"
   ]
  },
  {
   "cell_type": "code",
   "execution_count": 2,
   "metadata": {
    "scrolled": true
   },
   "outputs": [],
   "source": [
    "df_stops_route = pd.read_csv(\"../DB/stop_id_routes.csv\",skip_blank_lines=True,index_col=False).drop_duplicates()"
   ]
  },
  {
   "cell_type": "code",
   "execution_count": 3,
   "metadata": {
    "scrolled": false
   },
   "outputs": [
    {
     "name": "stdout",
     "output_type": "stream",
     "text": [
      "<class 'pandas.core.frame.DataFrame'>\n",
      "Int64Index: 10975 entries, 0 to 10974\n",
      "Data columns (total 2 columns):\n",
      " #   Column       Non-Null Count  Dtype \n",
      "---  ------       --------------  ----- \n",
      " 0   STOPPOINTID  10975 non-null  int64 \n",
      " 1   LINEID       10975 non-null  object\n",
      "dtypes: int64(1), object(1)\n",
      "memory usage: 257.2+ KB\n",
      "None\n"
     ]
    }
   ],
   "source": [
    "print(df_stops_route.info(null_counts = True))"
   ]
  },
  {
   "cell_type": "code",
   "execution_count": 4,
   "metadata": {},
   "outputs": [
    {
     "data": {
      "text/html": [
       "<div>\n",
       "<style scoped>\n",
       "    .dataframe tbody tr th:only-of-type {\n",
       "        vertical-align: middle;\n",
       "    }\n",
       "\n",
       "    .dataframe tbody tr th {\n",
       "        vertical-align: top;\n",
       "    }\n",
       "\n",
       "    .dataframe thead th {\n",
       "        text-align: right;\n",
       "    }\n",
       "</style>\n",
       "<table border=\"1\" class=\"dataframe\">\n",
       "  <thead>\n",
       "    <tr style=\"text-align: right;\">\n",
       "      <th></th>\n",
       "      <th>STOPPOINTID</th>\n",
       "      <th>LINEID</th>\n",
       "    </tr>\n",
       "  </thead>\n",
       "  <tbody>\n",
       "    <tr>\n",
       "      <th>0</th>\n",
       "      <td>2</td>\n",
       "      <td>38</td>\n",
       "    </tr>\n",
       "    <tr>\n",
       "      <th>1</th>\n",
       "      <td>2</td>\n",
       "      <td>38A</td>\n",
       "    </tr>\n",
       "    <tr>\n",
       "      <th>2</th>\n",
       "      <td>2</td>\n",
       "      <td>38D</td>\n",
       "    </tr>\n",
       "    <tr>\n",
       "      <th>3</th>\n",
       "      <td>2</td>\n",
       "      <td>38B</td>\n",
       "    </tr>\n",
       "    <tr>\n",
       "      <th>4</th>\n",
       "      <td>2</td>\n",
       "      <td>46A</td>\n",
       "    </tr>\n",
       "  </tbody>\n",
       "</table>\n",
       "</div>"
      ],
      "text/plain": [
       "   STOPPOINTID LINEID\n",
       "0            2     38\n",
       "1            2    38A\n",
       "2            2    38D\n",
       "3            2    38B\n",
       "4            2    46A"
      ]
     },
     "execution_count": 4,
     "metadata": {},
     "output_type": "execute_result"
    }
   ],
   "source": [
    "df_stops_route.head()"
   ]
  },
  {
   "cell_type": "code",
   "execution_count": 5,
   "metadata": {
    "scrolled": true
   },
   "outputs": [
    {
     "data": {
      "text/plain": [
       "STOPPOINTID    4187\n",
       "LINEID          104\n",
       "dtype: int64"
      ]
     },
     "execution_count": 5,
     "metadata": {},
     "output_type": "execute_result"
    }
   ],
   "source": [
    "df_stops_route.nunique()"
   ]
  },
  {
   "cell_type": "code",
   "execution_count": 6,
   "metadata": {
    "scrolled": false
   },
   "outputs": [
    {
     "data": {
      "text/html": [
       "<div>\n",
       "<style scoped>\n",
       "    .dataframe tbody tr th:only-of-type {\n",
       "        vertical-align: middle;\n",
       "    }\n",
       "\n",
       "    .dataframe tbody tr th {\n",
       "        vertical-align: top;\n",
       "    }\n",
       "\n",
       "    .dataframe thead th {\n",
       "        text-align: right;\n",
       "    }\n",
       "</style>\n",
       "<table border=\"1\" class=\"dataframe\">\n",
       "  <thead>\n",
       "    <tr style=\"text-align: right;\">\n",
       "      <th></th>\n",
       "      <th>STOPPOINTID</th>\n",
       "      <th>LINEID</th>\n",
       "    </tr>\n",
       "  </thead>\n",
       "  <tbody>\n",
       "    <tr>\n",
       "      <th>14</th>\n",
       "      <td>6</td>\n",
       "      <td>155</td>\n",
       "    </tr>\n",
       "    <tr>\n",
       "      <th>109</th>\n",
       "      <td>27</td>\n",
       "      <td>155</td>\n",
       "    </tr>\n",
       "    <tr>\n",
       "      <th>114</th>\n",
       "      <td>28</td>\n",
       "      <td>155</td>\n",
       "    </tr>\n",
       "    <tr>\n",
       "      <th>119</th>\n",
       "      <td>29</td>\n",
       "      <td>155</td>\n",
       "    </tr>\n",
       "    <tr>\n",
       "      <th>131</th>\n",
       "      <td>37</td>\n",
       "      <td>155</td>\n",
       "    </tr>\n",
       "    <tr>\n",
       "      <th>...</th>\n",
       "      <td>...</td>\n",
       "      <td>...</td>\n",
       "    </tr>\n",
       "    <tr>\n",
       "      <th>10583</th>\n",
       "      <td>7353</td>\n",
       "      <td>155</td>\n",
       "    </tr>\n",
       "    <tr>\n",
       "      <th>10588</th>\n",
       "      <td>7361</td>\n",
       "      <td>155</td>\n",
       "    </tr>\n",
       "    <tr>\n",
       "      <th>10589</th>\n",
       "      <td>7362</td>\n",
       "      <td>155</td>\n",
       "    </tr>\n",
       "    <tr>\n",
       "      <th>10961</th>\n",
       "      <td>7697</td>\n",
       "      <td>155</td>\n",
       "    </tr>\n",
       "    <tr>\n",
       "      <th>10962</th>\n",
       "      <td>7698</td>\n",
       "      <td>155</td>\n",
       "    </tr>\n",
       "  </tbody>\n",
       "</table>\n",
       "<p>158 rows × 2 columns</p>\n",
       "</div>"
      ],
      "text/plain": [
       "       STOPPOINTID LINEID\n",
       "14               6    155\n",
       "109             27    155\n",
       "114             28    155\n",
       "119             29    155\n",
       "131             37    155\n",
       "...            ...    ...\n",
       "10583         7353    155\n",
       "10588         7361    155\n",
       "10589         7362    155\n",
       "10961         7697    155\n",
       "10962         7698    155\n",
       "\n",
       "[158 rows x 2 columns]"
      ]
     },
     "execution_count": 6,
     "metadata": {},
     "output_type": "execute_result"
    }
   ],
   "source": [
    "df_stops_route.loc[df_stops_route['LINEID'] == '155']"
   ]
  },
  {
   "cell_type": "markdown",
   "metadata": {},
   "source": [
    "### Bus stops in stop_id_routes.csv"
   ]
  },
  {
   "cell_type": "code",
   "execution_count": 7,
   "metadata": {},
   "outputs": [
    {
     "name": "stdout",
     "output_type": "stream",
     "text": [
      "No of stops: 4187 first 5 stops: [2, 3, 4, 6, 7]\n"
     ]
    }
   ],
   "source": [
    "stop_id_route_stops = list(df_stops_route['STOPPOINTID'].unique())\n",
    "print(\"No of stops:\",len(stop_id_route_stops), \"first 5 stops:\",stop_id_route_stops[:5])"
   ]
  },
  {
   "cell_type": "markdown",
   "metadata": {},
   "source": [
    "### Bus stops in result.csv"
   ]
  },
  {
   "cell_type": "code",
   "execution_count": 8,
   "metadata": {},
   "outputs": [],
   "source": [
    "df_stops_result = pd.read_csv(\"../DB/result.csv\",skip_blank_lines=True,index_col=False).drop_duplicates()"
   ]
  },
  {
   "cell_type": "code",
   "execution_count": 10,
   "metadata": {},
   "outputs": [
    {
     "name": "stdout",
     "output_type": "stream",
     "text": [
      "No of stops: 4187 first 5 stops: [2, 3, 4, 6, 7]\n"
     ]
    }
   ],
   "source": [
    "result_stops = list(df_stops_result['stopid'].unique())\n",
    "print(\"No of stops:\",len(result_stops), \"first 5 stops:\",result_stops[:5])"
   ]
  },
  {
   "cell_type": "markdown",
   "metadata": {},
   "source": [
    "### Bus stops in stop_id_routes.csv which are NOT in result.csv"
   ]
  },
  {
   "cell_type": "code",
   "execution_count": 11,
   "metadata": {},
   "outputs": [
    {
     "data": {
      "text/plain": [
       "[]"
      ]
     },
     "execution_count": 11,
     "metadata": {},
     "output_type": "execute_result"
    }
   ],
   "source": [
    "list(set(stop_id_route_stops) - set(result_stops))"
   ]
  },
  {
   "cell_type": "code",
   "execution_count": 12,
   "metadata": {},
   "outputs": [
    {
     "data": {
      "text/plain": [
       "[]"
      ]
     },
     "execution_count": 12,
     "metadata": {},
     "output_type": "execute_result"
    }
   ],
   "source": [
    "list(set(result_stops) - set(stop_id_route_stops))"
   ]
  },
  {
   "cell_type": "markdown",
   "metadata": {},
   "source": [
    "## Janury_2018.csv"
   ]
  },
  {
   "cell_type": "code",
   "execution_count": 13,
   "metadata": {},
   "outputs": [],
   "source": [
    "df_Jan = pd.read_csv(\"../DB/monthlyData/January_2018.csv\",skip_blank_lines=True,index_col=False)\n",
    "df_Jan.drop('VEHICLEID',axis=1,inplace=True)"
   ]
  },
  {
   "cell_type": "code",
   "execution_count": 14,
   "metadata": {},
   "outputs": [
    {
     "name": "stdout",
     "output_type": "stream",
     "text": [
      "<class 'pandas.core.frame.DataFrame'>\n",
      "RangeIndex: 10525004 entries, 0 to 10525003\n",
      "Data columns (total 8 columns):\n",
      " #   Column           Non-Null Count     Dtype \n",
      "---  ------           --------------     ----- \n",
      " 0   DAYOFSERVICE     10525004 non-null  object\n",
      " 1   TRIPID           10525004 non-null  int64 \n",
      " 2   PROGRNUMBER      10525004 non-null  int64 \n",
      " 3   STOPPOINTID      10525004 non-null  int64 \n",
      " 4   PLANNEDTIME_ARR  10525004 non-null  int64 \n",
      " 5   PLANNEDTIME_DEP  10525004 non-null  int64 \n",
      " 6   ACTUALTIME_ARR   10525004 non-null  int64 \n",
      " 7   ACTUALTIME_DEP   10525004 non-null  int64 \n",
      "dtypes: int64(7), object(1)\n",
      "memory usage: 642.4+ MB\n",
      "None\n"
     ]
    }
   ],
   "source": [
    "print(df_Jan.info(null_counts = True))"
   ]
  },
  {
   "cell_type": "code",
   "execution_count": 15,
   "metadata": {
    "scrolled": true
   },
   "outputs": [
    {
     "data": {
      "text/html": [
       "<div>\n",
       "<style scoped>\n",
       "    .dataframe tbody tr th:only-of-type {\n",
       "        vertical-align: middle;\n",
       "    }\n",
       "\n",
       "    .dataframe tbody tr th {\n",
       "        vertical-align: top;\n",
       "    }\n",
       "\n",
       "    .dataframe thead th {\n",
       "        text-align: right;\n",
       "    }\n",
       "</style>\n",
       "<table border=\"1\" class=\"dataframe\">\n",
       "  <thead>\n",
       "    <tr style=\"text-align: right;\">\n",
       "      <th></th>\n",
       "      <th>DAYOFSERVICE</th>\n",
       "      <th>TRIPID</th>\n",
       "      <th>PROGRNUMBER</th>\n",
       "      <th>STOPPOINTID</th>\n",
       "      <th>PLANNEDTIME_ARR</th>\n",
       "      <th>PLANNEDTIME_DEP</th>\n",
       "      <th>ACTUALTIME_ARR</th>\n",
       "      <th>ACTUALTIME_DEP</th>\n",
       "    </tr>\n",
       "  </thead>\n",
       "  <tbody>\n",
       "    <tr>\n",
       "      <th>0</th>\n",
       "      <td>2018-01-01</td>\n",
       "      <td>5958355</td>\n",
       "      <td>3</td>\n",
       "      <td>1172</td>\n",
       "      <td>23799</td>\n",
       "      <td>23799</td>\n",
       "      <td>23863</td>\n",
       "      <td>23863</td>\n",
       "    </tr>\n",
       "    <tr>\n",
       "      <th>1</th>\n",
       "      <td>2018-01-01</td>\n",
       "      <td>5958355</td>\n",
       "      <td>4</td>\n",
       "      <td>1173</td>\n",
       "      <td>23860</td>\n",
       "      <td>23860</td>\n",
       "      <td>23934</td>\n",
       "      <td>24072</td>\n",
       "    </tr>\n",
       "    <tr>\n",
       "      <th>2</th>\n",
       "      <td>2018-01-01</td>\n",
       "      <td>5958355</td>\n",
       "      <td>5</td>\n",
       "      <td>1174</td>\n",
       "      <td>23937</td>\n",
       "      <td>23937</td>\n",
       "      <td>24114</td>\n",
       "      <td>24140</td>\n",
       "    </tr>\n",
       "    <tr>\n",
       "      <th>3</th>\n",
       "      <td>2018-01-01</td>\n",
       "      <td>5958355</td>\n",
       "      <td>6</td>\n",
       "      <td>1175</td>\n",
       "      <td>24048</td>\n",
       "      <td>24048</td>\n",
       "      <td>24180</td>\n",
       "      <td>24192</td>\n",
       "    </tr>\n",
       "    <tr>\n",
       "      <th>4</th>\n",
       "      <td>2018-01-01</td>\n",
       "      <td>5958355</td>\n",
       "      <td>7</td>\n",
       "      <td>15</td>\n",
       "      <td>24130</td>\n",
       "      <td>24130</td>\n",
       "      <td>24227</td>\n",
       "      <td>24257</td>\n",
       "    </tr>\n",
       "  </tbody>\n",
       "</table>\n",
       "</div>"
      ],
      "text/plain": [
       "  DAYOFSERVICE   TRIPID  PROGRNUMBER  STOPPOINTID  PLANNEDTIME_ARR  \\\n",
       "0   2018-01-01  5958355            3         1172            23799   \n",
       "1   2018-01-01  5958355            4         1173            23860   \n",
       "2   2018-01-01  5958355            5         1174            23937   \n",
       "3   2018-01-01  5958355            6         1175            24048   \n",
       "4   2018-01-01  5958355            7           15            24130   \n",
       "\n",
       "   PLANNEDTIME_DEP  ACTUALTIME_ARR  ACTUALTIME_DEP  \n",
       "0            23799           23863           23863  \n",
       "1            23860           23934           24072  \n",
       "2            23937           24114           24140  \n",
       "3            24048           24180           24192  \n",
       "4            24130           24227           24257  "
      ]
     },
     "execution_count": 15,
     "metadata": {},
     "output_type": "execute_result"
    }
   ],
   "source": [
    "df_Jan.head()"
   ]
  },
  {
   "cell_type": "code",
   "execution_count": 16,
   "metadata": {},
   "outputs": [
    {
     "data": {
      "text/plain": [
       "DAYOFSERVICE          31\n",
       "TRIPID             76453\n",
       "PROGRNUMBER          103\n",
       "STOPPOINTID         4714\n",
       "PLANNEDTIME_ARR    68859\n",
       "PLANNEDTIME_DEP    68859\n",
       "ACTUALTIME_ARR     71982\n",
       "ACTUALTIME_DEP     71965\n",
       "dtype: int64"
      ]
     },
     "execution_count": 16,
     "metadata": {},
     "output_type": "execute_result"
    }
   ],
   "source": [
    "df_Jan.nunique()"
   ]
  },
  {
   "cell_type": "markdown",
   "metadata": {},
   "source": [
    "## rt_trips_DB_2018.csv"
   ]
  },
  {
   "cell_type": "code",
   "execution_count": 17,
   "metadata": {},
   "outputs": [],
   "source": [
    "df_trips = pd.read_csv(\"../DB/monthlyData/rt_trips_DB_2018.csv\",skip_blank_lines=True,index_col=False)"
   ]
  },
  {
   "cell_type": "code",
   "execution_count": 18,
   "metadata": {},
   "outputs": [
    {
     "name": "stdout",
     "output_type": "stream",
     "text": [
      "<class 'pandas.core.frame.DataFrame'>\n",
      "RangeIndex: 2182637 entries, 0 to 2182636\n",
      "Data columns (total 16 columns):\n",
      " #   Column           Non-Null Count    Dtype  \n",
      "---  ------           --------------    -----  \n",
      " 0   DATASOURCE       2182637 non-null  object \n",
      " 1   DAYOFSERVICE     2182637 non-null  object \n",
      " 2   TRIPID           2182637 non-null  int64  \n",
      " 3   LINEID           2182637 non-null  object \n",
      " 4   ROUTEID          2182637 non-null  object \n",
      " 5   DIRECTION        2182637 non-null  int64  \n",
      " 6   PLANNEDTIME_ARR  2182637 non-null  int64  \n",
      " 7   PLANNEDTIME_DEP  2182637 non-null  int64  \n",
      " 8   ACTUALTIME_ARR   2045430 non-null  float64\n",
      " 9   ACTUALTIME_DEP   2018086 non-null  float64\n",
      " 10  BASIN            2182637 non-null  object \n",
      " 11  TENDERLOT        0 non-null        float64\n",
      " 12  SUPPRESSED       4333 non-null     float64\n",
      " 13  JUSTIFICATIONID  4330 non-null     float64\n",
      " 14  LASTUPDATE       2182637 non-null  object \n",
      " 15  NOTE             2182637 non-null  object \n",
      "dtypes: float64(5), int64(4), object(7)\n",
      "memory usage: 266.4+ MB\n",
      "None\n"
     ]
    }
   ],
   "source": [
    "print(df_trips.info(null_counts = True))"
   ]
  },
  {
   "cell_type": "code",
   "execution_count": 19,
   "metadata": {},
   "outputs": [
    {
     "data": {
      "text/html": [
       "<div>\n",
       "<style scoped>\n",
       "    .dataframe tbody tr th:only-of-type {\n",
       "        vertical-align: middle;\n",
       "    }\n",
       "\n",
       "    .dataframe tbody tr th {\n",
       "        vertical-align: top;\n",
       "    }\n",
       "\n",
       "    .dataframe thead th {\n",
       "        text-align: right;\n",
       "    }\n",
       "</style>\n",
       "<table border=\"1\" class=\"dataframe\">\n",
       "  <thead>\n",
       "    <tr style=\"text-align: right;\">\n",
       "      <th></th>\n",
       "      <th>DATASOURCE</th>\n",
       "      <th>DAYOFSERVICE</th>\n",
       "      <th>TRIPID</th>\n",
       "      <th>LINEID</th>\n",
       "      <th>ROUTEID</th>\n",
       "      <th>DIRECTION</th>\n",
       "      <th>PLANNEDTIME_ARR</th>\n",
       "      <th>PLANNEDTIME_DEP</th>\n",
       "      <th>ACTUALTIME_ARR</th>\n",
       "      <th>ACTUALTIME_DEP</th>\n",
       "      <th>BASIN</th>\n",
       "      <th>TENDERLOT</th>\n",
       "      <th>SUPPRESSED</th>\n",
       "      <th>JUSTIFICATIONID</th>\n",
       "      <th>LASTUPDATE</th>\n",
       "      <th>NOTE</th>\n",
       "    </tr>\n",
       "  </thead>\n",
       "  <tbody>\n",
       "    <tr>\n",
       "      <th>0</th>\n",
       "      <td>DB</td>\n",
       "      <td>07-FEB-18 00:00:00</td>\n",
       "      <td>6253783</td>\n",
       "      <td>68</td>\n",
       "      <td>68_80</td>\n",
       "      <td>1</td>\n",
       "      <td>87245</td>\n",
       "      <td>84600</td>\n",
       "      <td>87524.0</td>\n",
       "      <td>84600.0</td>\n",
       "      <td>BasDef</td>\n",
       "      <td>NaN</td>\n",
       "      <td>NaN</td>\n",
       "      <td>NaN</td>\n",
       "      <td>28-FEB-18 12:05:11</td>\n",
       "      <td>,2967409,</td>\n",
       "    </tr>\n",
       "    <tr>\n",
       "      <th>1</th>\n",
       "      <td>DB</td>\n",
       "      <td>07-FEB-18 00:00:00</td>\n",
       "      <td>6262138</td>\n",
       "      <td>25B</td>\n",
       "      <td>25B_271</td>\n",
       "      <td>2</td>\n",
       "      <td>30517</td>\n",
       "      <td>26460</td>\n",
       "      <td>32752.0</td>\n",
       "      <td>NaN</td>\n",
       "      <td>BasDef</td>\n",
       "      <td>NaN</td>\n",
       "      <td>NaN</td>\n",
       "      <td>NaN</td>\n",
       "      <td>28-FEB-18 12:05:11</td>\n",
       "      <td>,2580260,</td>\n",
       "    </tr>\n",
       "    <tr>\n",
       "      <th>2</th>\n",
       "      <td>DB</td>\n",
       "      <td>07-FEB-18 00:00:00</td>\n",
       "      <td>6254942</td>\n",
       "      <td>45A</td>\n",
       "      <td>45A_70</td>\n",
       "      <td>2</td>\n",
       "      <td>35512</td>\n",
       "      <td>32100</td>\n",
       "      <td>36329.0</td>\n",
       "      <td>32082.0</td>\n",
       "      <td>BasDef</td>\n",
       "      <td>NaN</td>\n",
       "      <td>NaN</td>\n",
       "      <td>NaN</td>\n",
       "      <td>28-FEB-18 12:05:11</td>\n",
       "      <td>,2448968,</td>\n",
       "    </tr>\n",
       "    <tr>\n",
       "      <th>3</th>\n",
       "      <td>DB</td>\n",
       "      <td>07-FEB-18 00:00:00</td>\n",
       "      <td>6259460</td>\n",
       "      <td>25A</td>\n",
       "      <td>25A_273</td>\n",
       "      <td>1</td>\n",
       "      <td>57261</td>\n",
       "      <td>54420</td>\n",
       "      <td>58463.0</td>\n",
       "      <td>54443.0</td>\n",
       "      <td>BasDef</td>\n",
       "      <td>NaN</td>\n",
       "      <td>NaN</td>\n",
       "      <td>NaN</td>\n",
       "      <td>28-FEB-18 12:05:11</td>\n",
       "      <td>,3094242,</td>\n",
       "    </tr>\n",
       "    <tr>\n",
       "      <th>4</th>\n",
       "      <td>DB</td>\n",
       "      <td>07-FEB-18 00:00:00</td>\n",
       "      <td>6253175</td>\n",
       "      <td>14</td>\n",
       "      <td>14_15</td>\n",
       "      <td>1</td>\n",
       "      <td>85383</td>\n",
       "      <td>81600</td>\n",
       "      <td>84682.0</td>\n",
       "      <td>81608.0</td>\n",
       "      <td>BasDef</td>\n",
       "      <td>NaN</td>\n",
       "      <td>NaN</td>\n",
       "      <td>NaN</td>\n",
       "      <td>28-FEB-18 12:05:11</td>\n",
       "      <td>,2526331,</td>\n",
       "    </tr>\n",
       "  </tbody>\n",
       "</table>\n",
       "</div>"
      ],
      "text/plain": [
       "  DATASOURCE        DAYOFSERVICE   TRIPID LINEID  ROUTEID  DIRECTION  \\\n",
       "0         DB  07-FEB-18 00:00:00  6253783     68    68_80          1   \n",
       "1         DB  07-FEB-18 00:00:00  6262138    25B  25B_271          2   \n",
       "2         DB  07-FEB-18 00:00:00  6254942    45A   45A_70          2   \n",
       "3         DB  07-FEB-18 00:00:00  6259460    25A  25A_273          1   \n",
       "4         DB  07-FEB-18 00:00:00  6253175     14    14_15          1   \n",
       "\n",
       "   PLANNEDTIME_ARR  PLANNEDTIME_DEP  ACTUALTIME_ARR  ACTUALTIME_DEP   BASIN  \\\n",
       "0            87245            84600         87524.0         84600.0  BasDef   \n",
       "1            30517            26460         32752.0             NaN  BasDef   \n",
       "2            35512            32100         36329.0         32082.0  BasDef   \n",
       "3            57261            54420         58463.0         54443.0  BasDef   \n",
       "4            85383            81600         84682.0         81608.0  BasDef   \n",
       "\n",
       "   TENDERLOT  SUPPRESSED  JUSTIFICATIONID          LASTUPDATE       NOTE  \n",
       "0        NaN         NaN              NaN  28-FEB-18 12:05:11  ,2967409,  \n",
       "1        NaN         NaN              NaN  28-FEB-18 12:05:11  ,2580260,  \n",
       "2        NaN         NaN              NaN  28-FEB-18 12:05:11  ,2448968,  \n",
       "3        NaN         NaN              NaN  28-FEB-18 12:05:11  ,3094242,  \n",
       "4        NaN         NaN              NaN  28-FEB-18 12:05:11  ,2526331,  "
      ]
     },
     "execution_count": 19,
     "metadata": {},
     "output_type": "execute_result"
    }
   ],
   "source": [
    "df_trips.head()"
   ]
  },
  {
   "cell_type": "code",
   "execution_count": 20,
   "metadata": {
    "scrolled": true
   },
   "outputs": [
    {
     "data": {
      "text/plain": [
       "DATASOURCE              1\n",
       "DAYOFSERVICE          360\n",
       "TRIPID             658964\n",
       "LINEID                130\n",
       "ROUTEID               588\n",
       "DIRECTION               2\n",
       "PLANNEDTIME_ARR     64461\n",
       "PLANNEDTIME_DEP       791\n",
       "ACTUALTIME_ARR      68122\n",
       "ACTUALTIME_DEP      66771\n",
       "BASIN                   1\n",
       "TENDERLOT               0\n",
       "SUPPRESSED              1\n",
       "JUSTIFICATIONID      3526\n",
       "LASTUPDATE            360\n",
       "NOTE                46690\n",
       "dtype: int64"
      ]
     },
     "execution_count": 20,
     "metadata": {},
     "output_type": "execute_result"
    }
   ],
   "source": [
    "df_trips.nunique()"
   ]
  },
  {
   "cell_type": "code",
   "execution_count": 21,
   "metadata": {},
   "outputs": [
    {
     "data": {
      "text/html": [
       "<div>\n",
       "<style scoped>\n",
       "    .dataframe tbody tr th:only-of-type {\n",
       "        vertical-align: middle;\n",
       "    }\n",
       "\n",
       "    .dataframe tbody tr th {\n",
       "        vertical-align: top;\n",
       "    }\n",
       "\n",
       "    .dataframe thead th {\n",
       "        text-align: right;\n",
       "    }\n",
       "</style>\n",
       "<table border=\"1\" class=\"dataframe\">\n",
       "  <thead>\n",
       "    <tr style=\"text-align: right;\">\n",
       "      <th></th>\n",
       "      <th>DATASOURCE</th>\n",
       "      <th>DAYOFSERVICE</th>\n",
       "      <th>TRIPID</th>\n",
       "      <th>LINEID</th>\n",
       "      <th>ROUTEID</th>\n",
       "      <th>DIRECTION</th>\n",
       "      <th>PLANNEDTIME_ARR</th>\n",
       "      <th>PLANNEDTIME_DEP</th>\n",
       "      <th>ACTUALTIME_ARR</th>\n",
       "      <th>ACTUALTIME_DEP</th>\n",
       "      <th>BASIN</th>\n",
       "      <th>TENDERLOT</th>\n",
       "      <th>SUPPRESSED</th>\n",
       "      <th>JUSTIFICATIONID</th>\n",
       "      <th>LASTUPDATE</th>\n",
       "      <th>NOTE</th>\n",
       "    </tr>\n",
       "  </thead>\n",
       "  <tbody>\n",
       "  </tbody>\n",
       "</table>\n",
       "</div>"
      ],
      "text/plain": [
       "Empty DataFrame\n",
       "Columns: [DATASOURCE, DAYOFSERVICE, TRIPID, LINEID, ROUTEID, DIRECTION, PLANNEDTIME_ARR, PLANNEDTIME_DEP, ACTUALTIME_ARR, ACTUALTIME_DEP, BASIN, TENDERLOT, SUPPRESSED, JUSTIFICATIONID, LASTUPDATE, NOTE]\n",
       "Index: []"
      ]
     },
     "execution_count": 21,
     "metadata": {},
     "output_type": "execute_result"
    }
   ],
   "source": [
    "df_trips.loc[df_trips['LINEID'] == '155']"
   ]
  },
  {
   "cell_type": "markdown",
   "metadata": {},
   "source": [
    "## Merge df_Jan_route with df_trips['TRIPID','LINEID'] on 'TRIPID'"
   ]
  },
  {
   "cell_type": "code",
   "execution_count": 22,
   "metadata": {
    "scrolled": true
   },
   "outputs": [],
   "source": [
    "df_Jan_route_prgm = pd.merge(df_Jan[['STOPPOINTID','TRIPID','PROGRNUMBER']].drop_duplicates(),\\\n",
    "                             df_trips[['TRIPID','LINEID']],on='TRIPID', how='left').drop_duplicates()\n",
    "df_Jan_route_prgm = df_Jan_route_prgm[['STOPPOINTID','LINEID','PROGRNUMBER']]"
   ]
  },
  {
   "cell_type": "code",
   "execution_count": 23,
   "metadata": {
    "scrolled": false
   },
   "outputs": [
    {
     "name": "stdout",
     "output_type": "stream",
     "text": [
      "<class 'pandas.core.frame.DataFrame'>\n",
      "Int64Index: 4189396 entries, 0 to 11525309\n",
      "Data columns (total 3 columns):\n",
      " #   Column       Non-Null Count    Dtype \n",
      "---  ------       --------------    ----- \n",
      " 0   STOPPOINTID  4189396 non-null  int64 \n",
      " 1   LINEID       4189396 non-null  object\n",
      " 2   PROGRNUMBER  4189396 non-null  int64 \n",
      "dtypes: int64(2), object(1)\n",
      "memory usage: 127.9+ MB\n",
      "None\n"
     ]
    }
   ],
   "source": [
    "print(df_Jan_route_prgm.info(null_counts = True))"
   ]
  },
  {
   "cell_type": "code",
   "execution_count": 24,
   "metadata": {
    "scrolled": true
   },
   "outputs": [
    {
     "data": {
      "text/html": [
       "<div>\n",
       "<style scoped>\n",
       "    .dataframe tbody tr th:only-of-type {\n",
       "        vertical-align: middle;\n",
       "    }\n",
       "\n",
       "    .dataframe tbody tr th {\n",
       "        vertical-align: top;\n",
       "    }\n",
       "\n",
       "    .dataframe thead th {\n",
       "        text-align: right;\n",
       "    }\n",
       "</style>\n",
       "<table border=\"1\" class=\"dataframe\">\n",
       "  <thead>\n",
       "    <tr style=\"text-align: right;\">\n",
       "      <th></th>\n",
       "      <th>STOPPOINTID</th>\n",
       "      <th>LINEID</th>\n",
       "      <th>PROGRNUMBER</th>\n",
       "    </tr>\n",
       "  </thead>\n",
       "  <tbody>\n",
       "    <tr>\n",
       "      <th>0</th>\n",
       "      <td>1172</td>\n",
       "      <td>41</td>\n",
       "      <td>3</td>\n",
       "    </tr>\n",
       "    <tr>\n",
       "      <th>1</th>\n",
       "      <td>1173</td>\n",
       "      <td>41</td>\n",
       "      <td>4</td>\n",
       "    </tr>\n",
       "    <tr>\n",
       "      <th>2</th>\n",
       "      <td>1174</td>\n",
       "      <td>41</td>\n",
       "      <td>5</td>\n",
       "    </tr>\n",
       "    <tr>\n",
       "      <th>3</th>\n",
       "      <td>1175</td>\n",
       "      <td>41</td>\n",
       "      <td>6</td>\n",
       "    </tr>\n",
       "    <tr>\n",
       "      <th>4</th>\n",
       "      <td>15</td>\n",
       "      <td>41</td>\n",
       "      <td>7</td>\n",
       "    </tr>\n",
       "  </tbody>\n",
       "</table>\n",
       "</div>"
      ],
      "text/plain": [
       "   STOPPOINTID LINEID  PROGRNUMBER\n",
       "0         1172     41            3\n",
       "1         1173     41            4\n",
       "2         1174     41            5\n",
       "3         1175     41            6\n",
       "4           15     41            7"
      ]
     },
     "execution_count": 24,
     "metadata": {},
     "output_type": "execute_result"
    }
   ],
   "source": [
    "df_Jan_route_prgm.head()"
   ]
  },
  {
   "cell_type": "code",
   "execution_count": 25,
   "metadata": {
    "scrolled": true
   },
   "outputs": [
    {
     "data": {
      "text/plain": [
       "STOPPOINTID    4714\n",
       "LINEID          126\n",
       "PROGRNUMBER     103\n",
       "dtype: int64"
      ]
     },
     "execution_count": 25,
     "metadata": {},
     "output_type": "execute_result"
    }
   ],
   "source": [
    "df_Jan_route_prgm.nunique()"
   ]
  },
  {
   "cell_type": "code",
   "execution_count": 26,
   "metadata": {},
   "outputs": [
    {
     "data": {
      "text/html": [
       "<div>\n",
       "<style scoped>\n",
       "    .dataframe tbody tr th:only-of-type {\n",
       "        vertical-align: middle;\n",
       "    }\n",
       "\n",
       "    .dataframe tbody tr th {\n",
       "        vertical-align: top;\n",
       "    }\n",
       "\n",
       "    .dataframe thead th {\n",
       "        text-align: right;\n",
       "    }\n",
       "</style>\n",
       "<table border=\"1\" class=\"dataframe\">\n",
       "  <thead>\n",
       "    <tr style=\"text-align: right;\">\n",
       "      <th></th>\n",
       "      <th>STOPPOINTID</th>\n",
       "      <th>LINEID</th>\n",
       "      <th>PROGRNUMBER</th>\n",
       "    </tr>\n",
       "  </thead>\n",
       "  <tbody>\n",
       "  </tbody>\n",
       "</table>\n",
       "</div>"
      ],
      "text/plain": [
       "Empty DataFrame\n",
       "Columns: [STOPPOINTID, LINEID, PROGRNUMBER]\n",
       "Index: []"
      ]
     },
     "execution_count": 26,
     "metadata": {},
     "output_type": "execute_result"
    }
   ],
   "source": [
    "df_Jan_route_prgm.loc[df_Jan_route_prgm['LINEID'] == '155']"
   ]
  },
  {
   "cell_type": "markdown",
   "metadata": {},
   "source": [
    "## Merge df_stops_route with df_Jan_route_prgm on ['STOPPOINTID','LINEID'] pair"
   ]
  },
  {
   "cell_type": "code",
   "execution_count": 27,
   "metadata": {},
   "outputs": [],
   "source": [
    "df_stops_route_prog = pd.merge(df_stops_route,df_Jan_route_prgm,on=['STOPPOINTID','LINEID'], how='left').drop_duplicates()"
   ]
  },
  {
   "cell_type": "code",
   "execution_count": 28,
   "metadata": {
    "scrolled": true
   },
   "outputs": [
    {
     "name": "stdout",
     "output_type": "stream",
     "text": [
      "<class 'pandas.core.frame.DataFrame'>\n",
      "Int64Index: 15484 entries, 0 to 3622331\n",
      "Data columns (total 3 columns):\n",
      " #   Column       Non-Null Count  Dtype  \n",
      "---  ------       --------------  -----  \n",
      " 0   STOPPOINTID  15484 non-null  int64  \n",
      " 1   LINEID       15484 non-null  object \n",
      " 2   PROGRNUMBER  14536 non-null  float64\n",
      "dtypes: float64(1), int64(1), object(1)\n",
      "memory usage: 483.9+ KB\n",
      "None\n"
     ]
    }
   ],
   "source": [
    "print(df_stops_route_prog.info(null_counts = True))"
   ]
  },
  {
   "cell_type": "code",
   "execution_count": 29,
   "metadata": {},
   "outputs": [
    {
     "data": {
      "text/html": [
       "<div>\n",
       "<style scoped>\n",
       "    .dataframe tbody tr th:only-of-type {\n",
       "        vertical-align: middle;\n",
       "    }\n",
       "\n",
       "    .dataframe tbody tr th {\n",
       "        vertical-align: top;\n",
       "    }\n",
       "\n",
       "    .dataframe thead th {\n",
       "        text-align: right;\n",
       "    }\n",
       "</style>\n",
       "<table border=\"1\" class=\"dataframe\">\n",
       "  <thead>\n",
       "    <tr style=\"text-align: right;\">\n",
       "      <th></th>\n",
       "      <th>STOPPOINTID</th>\n",
       "      <th>LINEID</th>\n",
       "      <th>PROGRNUMBER</th>\n",
       "    </tr>\n",
       "  </thead>\n",
       "  <tbody>\n",
       "    <tr>\n",
       "      <th>0</th>\n",
       "      <td>2</td>\n",
       "      <td>38</td>\n",
       "      <td>10.0</td>\n",
       "    </tr>\n",
       "    <tr>\n",
       "      <th>327</th>\n",
       "      <td>2</td>\n",
       "      <td>38A</td>\n",
       "      <td>10.0</td>\n",
       "    </tr>\n",
       "    <tr>\n",
       "      <th>622</th>\n",
       "      <td>2</td>\n",
       "      <td>38D</td>\n",
       "      <td>10.0</td>\n",
       "    </tr>\n",
       "    <tr>\n",
       "      <th>627</th>\n",
       "      <td>2</td>\n",
       "      <td>38B</td>\n",
       "      <td>10.0</td>\n",
       "    </tr>\n",
       "    <tr>\n",
       "      <th>652</th>\n",
       "      <td>2</td>\n",
       "      <td>46A</td>\n",
       "      <td>50.0</td>\n",
       "    </tr>\n",
       "  </tbody>\n",
       "</table>\n",
       "</div>"
      ],
      "text/plain": [
       "     STOPPOINTID LINEID  PROGRNUMBER\n",
       "0              2     38         10.0\n",
       "327            2    38A         10.0\n",
       "622            2    38D         10.0\n",
       "627            2    38B         10.0\n",
       "652            2    46A         50.0"
      ]
     },
     "execution_count": 29,
     "metadata": {},
     "output_type": "execute_result"
    }
   ],
   "source": [
    "df_stops_route_prog.head()"
   ]
  },
  {
   "cell_type": "code",
   "execution_count": 30,
   "metadata": {},
   "outputs": [
    {
     "data": {
      "text/plain": [
       "STOPPOINTID    4187\n",
       "LINEID          104\n",
       "PROGRNUMBER     103\n",
       "dtype: int64"
      ]
     },
     "execution_count": 30,
     "metadata": {},
     "output_type": "execute_result"
    }
   ],
   "source": [
    "df_stops_route_prog.nunique()"
   ]
  },
  {
   "cell_type": "markdown",
   "metadata": {},
   "source": [
    "## Check STOPPOINTID, LINEID combinations with NaN PROGRNUMBER"
   ]
  },
  {
   "cell_type": "code",
   "execution_count": 31,
   "metadata": {},
   "outputs": [
    {
     "data": {
      "text/html": [
       "<div>\n",
       "<style scoped>\n",
       "    .dataframe tbody tr th:only-of-type {\n",
       "        vertical-align: middle;\n",
       "    }\n",
       "\n",
       "    .dataframe tbody tr th {\n",
       "        vertical-align: top;\n",
       "    }\n",
       "\n",
       "    .dataframe thead th {\n",
       "        text-align: right;\n",
       "    }\n",
       "</style>\n",
       "<table border=\"1\" class=\"dataframe\">\n",
       "  <thead>\n",
       "    <tr style=\"text-align: right;\">\n",
       "      <th></th>\n",
       "      <th>STOPPOINTID</th>\n",
       "      <th>LINEID</th>\n",
       "      <th>PROGRNUMBER</th>\n",
       "    </tr>\n",
       "  </thead>\n",
       "  <tbody>\n",
       "    <tr>\n",
       "      <th>5362</th>\n",
       "      <td>6</td>\n",
       "      <td>155</td>\n",
       "      <td>NaN</td>\n",
       "    </tr>\n",
       "    <tr>\n",
       "      <th>8947</th>\n",
       "      <td>10</td>\n",
       "      <td>16</td>\n",
       "      <td>NaN</td>\n",
       "    </tr>\n",
       "    <tr>\n",
       "      <th>8948</th>\n",
       "      <td>10</td>\n",
       "      <td>16C</td>\n",
       "      <td>NaN</td>\n",
       "    </tr>\n",
       "    <tr>\n",
       "      <th>22561</th>\n",
       "      <td>15</td>\n",
       "      <td>33E</td>\n",
       "      <td>NaN</td>\n",
       "    </tr>\n",
       "    <tr>\n",
       "      <th>25696</th>\n",
       "      <td>15</td>\n",
       "      <td>41D</td>\n",
       "      <td>NaN</td>\n",
       "    </tr>\n",
       "    <tr>\n",
       "      <th>...</th>\n",
       "      <td>...</td>\n",
       "      <td>...</td>\n",
       "      <td>...</td>\n",
       "    </tr>\n",
       "    <tr>\n",
       "      <th>3622327</th>\n",
       "      <td>7704</td>\n",
       "      <td>66</td>\n",
       "      <td>NaN</td>\n",
       "    </tr>\n",
       "    <tr>\n",
       "      <th>3622328</th>\n",
       "      <td>7704</td>\n",
       "      <td>66X</td>\n",
       "      <td>NaN</td>\n",
       "    </tr>\n",
       "    <tr>\n",
       "      <th>3622329</th>\n",
       "      <td>7712</td>\n",
       "      <td>66X</td>\n",
       "      <td>NaN</td>\n",
       "    </tr>\n",
       "    <tr>\n",
       "      <th>3622330</th>\n",
       "      <td>7712</td>\n",
       "      <td>66E</td>\n",
       "      <td>NaN</td>\n",
       "    </tr>\n",
       "    <tr>\n",
       "      <th>3622331</th>\n",
       "      <td>7712</td>\n",
       "      <td>66</td>\n",
       "      <td>NaN</td>\n",
       "    </tr>\n",
       "  </tbody>\n",
       "</table>\n",
       "<p>948 rows × 3 columns</p>\n",
       "</div>"
      ],
      "text/plain": [
       "         STOPPOINTID LINEID  PROGRNUMBER\n",
       "5362               6    155          NaN\n",
       "8947              10     16          NaN\n",
       "8948              10    16C          NaN\n",
       "22561             15    33E          NaN\n",
       "25696             15    41D          NaN\n",
       "...              ...    ...          ...\n",
       "3622327         7704     66          NaN\n",
       "3622328         7704    66X          NaN\n",
       "3622329         7712    66X          NaN\n",
       "3622330         7712    66E          NaN\n",
       "3622331         7712     66          NaN\n",
       "\n",
       "[948 rows x 3 columns]"
      ]
     },
     "execution_count": 31,
     "metadata": {},
     "output_type": "execute_result"
    }
   ],
   "source": [
    "df_stops_route_prog.loc[df_stops_route_prog['PROGRNUMBER'].isnull()]"
   ]
  },
  {
   "cell_type": "code",
   "execution_count": 32,
   "metadata": {
    "scrolled": true
   },
   "outputs": [
    {
     "data": {
      "text/html": [
       "<div>\n",
       "<style scoped>\n",
       "    .dataframe tbody tr th:only-of-type {\n",
       "        vertical-align: middle;\n",
       "    }\n",
       "\n",
       "    .dataframe tbody tr th {\n",
       "        vertical-align: top;\n",
       "    }\n",
       "\n",
       "    .dataframe thead th {\n",
       "        text-align: right;\n",
       "    }\n",
       "</style>\n",
       "<table border=\"1\" class=\"dataframe\">\n",
       "  <thead>\n",
       "    <tr style=\"text-align: right;\">\n",
       "      <th></th>\n",
       "      <th>STOPPOINTID</th>\n",
       "      <th>LINEID</th>\n",
       "      <th>PROGRNUMBER</th>\n",
       "    </tr>\n",
       "  </thead>\n",
       "  <tbody>\n",
       "    <tr>\n",
       "      <th>0</th>\n",
       "      <td>2</td>\n",
       "      <td>38</td>\n",
       "      <td>10.0</td>\n",
       "    </tr>\n",
       "    <tr>\n",
       "      <th>327</th>\n",
       "      <td>2</td>\n",
       "      <td>38A</td>\n",
       "      <td>10.0</td>\n",
       "    </tr>\n",
       "    <tr>\n",
       "      <th>622</th>\n",
       "      <td>2</td>\n",
       "      <td>38D</td>\n",
       "      <td>10.0</td>\n",
       "    </tr>\n",
       "    <tr>\n",
       "      <th>627</th>\n",
       "      <td>2</td>\n",
       "      <td>38B</td>\n",
       "      <td>10.0</td>\n",
       "    </tr>\n",
       "    <tr>\n",
       "      <th>652</th>\n",
       "      <td>2</td>\n",
       "      <td>46A</td>\n",
       "      <td>50.0</td>\n",
       "    </tr>\n",
       "    <tr>\n",
       "      <th>730</th>\n",
       "      <td>2</td>\n",
       "      <td>46A</td>\n",
       "      <td>30.0</td>\n",
       "    </tr>\n",
       "    <tr>\n",
       "      <th>731</th>\n",
       "      <td>2</td>\n",
       "      <td>46A</td>\n",
       "      <td>34.0</td>\n",
       "    </tr>\n",
       "    <tr>\n",
       "      <th>824</th>\n",
       "      <td>2</td>\n",
       "      <td>46A</td>\n",
       "      <td>3.0</td>\n",
       "    </tr>\n",
       "    <tr>\n",
       "      <th>1947</th>\n",
       "      <td>2</td>\n",
       "      <td>46E</td>\n",
       "      <td>36.0</td>\n",
       "    </tr>\n",
       "  </tbody>\n",
       "</table>\n",
       "</div>"
      ],
      "text/plain": [
       "      STOPPOINTID LINEID  PROGRNUMBER\n",
       "0               2     38         10.0\n",
       "327             2    38A         10.0\n",
       "622             2    38D         10.0\n",
       "627             2    38B         10.0\n",
       "652             2    46A         50.0\n",
       "730             2    46A         30.0\n",
       "731             2    46A         34.0\n",
       "824             2    46A          3.0\n",
       "1947            2    46E         36.0"
      ]
     },
     "execution_count": 32,
     "metadata": {},
     "output_type": "execute_result"
    }
   ],
   "source": [
    "df_stops_route_prog.loc[df_stops_route_prog['STOPPOINTID'] == 2]"
   ]
  },
  {
   "cell_type": "code",
   "execution_count": 33,
   "metadata": {},
   "outputs": [
    {
     "data": {
      "text/html": [
       "<div>\n",
       "<style scoped>\n",
       "    .dataframe tbody tr th:only-of-type {\n",
       "        vertical-align: middle;\n",
       "    }\n",
       "\n",
       "    .dataframe tbody tr th {\n",
       "        vertical-align: top;\n",
       "    }\n",
       "\n",
       "    .dataframe thead th {\n",
       "        text-align: right;\n",
       "    }\n",
       "</style>\n",
       "<table border=\"1\" class=\"dataframe\">\n",
       "  <thead>\n",
       "    <tr style=\"text-align: right;\">\n",
       "      <th></th>\n",
       "      <th>STOPPOINTID</th>\n",
       "      <th>LINEID</th>\n",
       "      <th>PROGRNUMBER</th>\n",
       "    </tr>\n",
       "  </thead>\n",
       "  <tbody>\n",
       "    <tr>\n",
       "      <th>5362</th>\n",
       "      <td>6</td>\n",
       "      <td>155</td>\n",
       "      <td>NaN</td>\n",
       "    </tr>\n",
       "    <tr>\n",
       "      <th>46363</th>\n",
       "      <td>27</td>\n",
       "      <td>155</td>\n",
       "      <td>NaN</td>\n",
       "    </tr>\n",
       "    <tr>\n",
       "      <th>48830</th>\n",
       "      <td>28</td>\n",
       "      <td>155</td>\n",
       "      <td>NaN</td>\n",
       "    </tr>\n",
       "    <tr>\n",
       "      <th>51187</th>\n",
       "      <td>29</td>\n",
       "      <td>155</td>\n",
       "      <td>NaN</td>\n",
       "    </tr>\n",
       "    <tr>\n",
       "      <th>56563</th>\n",
       "      <td>37</td>\n",
       "      <td>155</td>\n",
       "      <td>NaN</td>\n",
       "    </tr>\n",
       "    <tr>\n",
       "      <th>...</th>\n",
       "      <td>...</td>\n",
       "      <td>...</td>\n",
       "      <td>...</td>\n",
       "    </tr>\n",
       "    <tr>\n",
       "      <th>3516761</th>\n",
       "      <td>7353</td>\n",
       "      <td>155</td>\n",
       "      <td>NaN</td>\n",
       "    </tr>\n",
       "    <tr>\n",
       "      <th>3519960</th>\n",
       "      <td>7361</td>\n",
       "      <td>155</td>\n",
       "      <td>NaN</td>\n",
       "    </tr>\n",
       "    <tr>\n",
       "      <th>3519961</th>\n",
       "      <td>7362</td>\n",
       "      <td>155</td>\n",
       "      <td>NaN</td>\n",
       "    </tr>\n",
       "    <tr>\n",
       "      <th>3622318</th>\n",
       "      <td>7697</td>\n",
       "      <td>155</td>\n",
       "      <td>NaN</td>\n",
       "    </tr>\n",
       "    <tr>\n",
       "      <th>3622319</th>\n",
       "      <td>7698</td>\n",
       "      <td>155</td>\n",
       "      <td>NaN</td>\n",
       "    </tr>\n",
       "  </tbody>\n",
       "</table>\n",
       "<p>158 rows × 3 columns</p>\n",
       "</div>"
      ],
      "text/plain": [
       "         STOPPOINTID LINEID  PROGRNUMBER\n",
       "5362               6    155          NaN\n",
       "46363             27    155          NaN\n",
       "48830             28    155          NaN\n",
       "51187             29    155          NaN\n",
       "56563             37    155          NaN\n",
       "...              ...    ...          ...\n",
       "3516761         7353    155          NaN\n",
       "3519960         7361    155          NaN\n",
       "3519961         7362    155          NaN\n",
       "3622318         7697    155          NaN\n",
       "3622319         7698    155          NaN\n",
       "\n",
       "[158 rows x 3 columns]"
      ]
     },
     "execution_count": 33,
     "metadata": {},
     "output_type": "execute_result"
    }
   ],
   "source": [
    "df_stops_route_prog.loc[df_stops_route_prog['LINEID'] == '155']"
   ]
  },
  {
   "cell_type": "markdown",
   "metadata": {},
   "source": [
    "## Check interection of STOPPOINTID : df_Jan_route_prog and  df_stops_route_prog"
   ]
  },
  {
   "cell_type": "code",
   "execution_count": 55,
   "metadata": {},
   "outputs": [
    {
     "name": "stdout",
     "output_type": "stream",
     "text": [
      "No of stops: 4714 first 5 stops: [1172, 1173, 1174, 1175, 15]\n"
     ]
    }
   ],
   "source": [
    "Jan_route_prgm_stops = list(df_Jan_route_prgm['STOPPOINTID'].unique())\n",
    "print(\"No of stops:\",len(Jan_route_prgm_stops), \"first 5 stops:\",Jan_route_prgm_stops[:5])"
   ]
  },
  {
   "cell_type": "code",
   "execution_count": 56,
   "metadata": {},
   "outputs": [
    {
     "name": "stdout",
     "output_type": "stream",
     "text": [
      "No of stops: 4187 first 5 stops: [2, 3, 4, 6, 7]\n"
     ]
    }
   ],
   "source": [
    "stops_route_prog_stops = list(df_stops_route_prog['STOPPOINTID'].unique())\n",
    "print(\"No of stops:\",len(stops_route_prog_stops), \"first 5 stops:\",stops_route_prog_stops[:5])"
   ]
  },
  {
   "cell_type": "code",
   "execution_count": 57,
   "metadata": {
    "scrolled": true
   },
   "outputs": [
    {
     "name": "stdout",
     "output_type": "stream",
     "text": [
      "No of distinct current stops today: 42 first 5 stops: [7040, 7041, 7680, 7681, 7683]\n"
     ]
    }
   ],
   "source": [
    "stops = list(set(stops_route_prog_stops) - set(Jan_route_prgm_stops))\n",
    "print(\"No of distinct current stops today:\",len(stops), \"first 5 stops:\",stops[:5])"
   ]
  },
  {
   "cell_type": "code",
   "execution_count": 58,
   "metadata": {
    "scrolled": true
   },
   "outputs": [
    {
     "name": "stdout",
     "output_type": "stream",
     "text": [
      "No of distinct current stops  in Jan2018: 569 first 5 stops: [2048, 2049, 2050, 4097, 2052]\n"
     ]
    }
   ],
   "source": [
    "stops = list(set(Jan_route_prgm_stops) - set(stops_route_prog_stops))\n",
    "print(\"No of distinct current stops  in Jan2018:\",len(stops), \"first 5 stops:\",stops[:5])"
   ]
  },
  {
   "cell_type": "markdown",
   "metadata": {},
   "source": [
    "## Check interection of LINEID : df_Jan_route_prog and  df_stops_route_prog"
   ]
  },
  {
   "cell_type": "code",
   "execution_count": 59,
   "metadata": {},
   "outputs": [
    {
     "name": "stdout",
     "output_type": "stream",
     "text": [
      "No of routes: 126 first 5 routes: ['41', '66', '77A', '83', '130']\n"
     ]
    }
   ],
   "source": [
    "Jan_route_prgm_routes = list(df_Jan_route_prgm['LINEID'].unique())\n",
    "print(\"No of routes:\",len(Jan_route_prgm_routes), \"first 5 routes:\",Jan_route_prgm_routes[:5])"
   ]
  },
  {
   "cell_type": "code",
   "execution_count": 60,
   "metadata": {},
   "outputs": [
    {
     "name": "stdout",
     "output_type": "stream",
     "text": [
      "No of routes: 104 first 5 routes: ['38', '38A', '38D', '38B', '46A']\n"
     ]
    }
   ],
   "source": [
    "stops_route_prog_routes = list(df_stops_route_prog['LINEID'].unique())\n",
    "print(\"No of routes:\",len(stops_route_prog_routes), \"first 5 routes:\",stops_route_prog_routes[:5])"
   ]
  },
  {
   "cell_type": "code",
   "execution_count": 61,
   "metadata": {},
   "outputs": [
    {
     "name": "stdout",
     "output_type": "stream",
     "text": [
      "No of Extra routes Today: 7 first 5 routes: ['40E', '155', '16D', '41D', '66E']\n"
     ]
    }
   ],
   "source": [
    "routes = list(set(stops_route_prog_routes) - set(Jan_route_prgm_routes))\n",
    "print(\"No of Extra routes Today:\",len(routes), \"first 5 routes:\",routes[:5])"
   ]
  },
  {
   "cell_type": "code",
   "execution_count": 62,
   "metadata": {},
   "outputs": [
    {
     "name": "stdout",
     "output_type": "stream",
     "text": [
      "No of Extra routes in Jan2018: 29 first 5 routes: ['76A', '184', '104', '17', '41A']\n"
     ]
    }
   ],
   "source": [
    "routes = list(set(Jan_route_prgm_routes) - set(stops_route_prog_routes))\n",
    "print(\"No of Extra routes in Jan2018:\",len(routes), \"first 5 routes:\",routes[:5])"
   ]
  },
  {
   "cell_type": "code",
   "execution_count": null,
   "metadata": {},
   "outputs": [],
   "source": []
  }
 ],
 "metadata": {
  "kernelspec": {
   "display_name": "envDA",
   "language": "python",
   "name": "envda"
  },
  "language_info": {
   "codemirror_mode": {
    "name": "ipython",
    "version": 3
   },
   "file_extension": ".py",
   "mimetype": "text/x-python",
   "name": "python",
   "nbconvert_exporter": "python",
   "pygments_lexer": "ipython3",
   "version": "3.7.7"
  },
  "toc": {
   "base_numbering": 1,
   "nav_menu": {},
   "number_sections": true,
   "sideBar": true,
   "skip_h1_title": false,
   "title_cell": "Table of Contents",
   "title_sidebar": "Contents",
   "toc_cell": false,
   "toc_position": {},
   "toc_section_display": true,
   "toc_window_display": false
  }
 },
 "nbformat": 4,
 "nbformat_minor": 4
}
