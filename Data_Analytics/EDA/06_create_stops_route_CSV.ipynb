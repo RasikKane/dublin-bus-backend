{
 "cells": [
  {
   "cell_type": "code",
   "execution_count": 1,
   "metadata": {},
   "outputs": [],
   "source": [
    "import pandas as pd"
   ]
  },
  {
   "cell_type": "markdown",
   "metadata": {},
   "source": [
    "## stop_id_route.csv"
   ]
  },
  {
   "cell_type": "code",
   "execution_count": 2,
   "metadata": {
    "scrolled": true
   },
   "outputs": [],
   "source": [
    "df_stops_route = pd.read_csv(\"../DB/stop_id_routes.csv\",skip_blank_lines=True,index_col=False).drop_duplicates()"
   ]
  },
  {
   "cell_type": "code",
   "execution_count": 3,
   "metadata": {
    "scrolled": false
   },
   "outputs": [
    {
     "name": "stdout",
     "output_type": "stream",
     "text": [
      "<class 'pandas.core.frame.DataFrame'>\n",
      "Int64Index: 11584 entries, 0 to 11583\n",
      "Data columns (total 2 columns):\n",
      " #   Column       Non-Null Count  Dtype \n",
      "---  ------       --------------  ----- \n",
      " 0   STOPPOINTID  11584 non-null  int64 \n",
      " 1   LINEID       11584 non-null  object\n",
      "dtypes: int64(1), object(1)\n",
      "memory usage: 271.5+ KB\n",
      "None\n"
     ]
    }
   ],
   "source": [
    "print(df_stops_route.info(null_counts = True))"
   ]
  },
  {
   "cell_type": "code",
   "execution_count": 4,
   "metadata": {},
   "outputs": [
    {
     "data": {
      "text/html": [
       "<div>\n",
       "<style scoped>\n",
       "    .dataframe tbody tr th:only-of-type {\n",
       "        vertical-align: middle;\n",
       "    }\n",
       "\n",
       "    .dataframe tbody tr th {\n",
       "        vertical-align: top;\n",
       "    }\n",
       "\n",
       "    .dataframe thead th {\n",
       "        text-align: right;\n",
       "    }\n",
       "</style>\n",
       "<table border=\"1\" class=\"dataframe\">\n",
       "  <thead>\n",
       "    <tr style=\"text-align: right;\">\n",
       "      <th></th>\n",
       "      <th>STOPPOINTID</th>\n",
       "      <th>LINEID</th>\n",
       "    </tr>\n",
       "  </thead>\n",
       "  <tbody>\n",
       "    <tr>\n",
       "      <th>0</th>\n",
       "      <td>2</td>\n",
       "      <td>38</td>\n",
       "    </tr>\n",
       "    <tr>\n",
       "      <th>1</th>\n",
       "      <td>2</td>\n",
       "      <td>38A</td>\n",
       "    </tr>\n",
       "    <tr>\n",
       "      <th>2</th>\n",
       "      <td>2</td>\n",
       "      <td>38D</td>\n",
       "    </tr>\n",
       "    <tr>\n",
       "      <th>3</th>\n",
       "      <td>2</td>\n",
       "      <td>38B</td>\n",
       "    </tr>\n",
       "    <tr>\n",
       "      <th>4</th>\n",
       "      <td>2</td>\n",
       "      <td>46A</td>\n",
       "    </tr>\n",
       "  </tbody>\n",
       "</table>\n",
       "</div>"
      ],
      "text/plain": [
       "   STOPPOINTID LINEID\n",
       "0            2     38\n",
       "1            2    38A\n",
       "2            2    38D\n",
       "3            2    38B\n",
       "4            2    46A"
      ]
     },
     "execution_count": 4,
     "metadata": {},
     "output_type": "execute_result"
    }
   ],
   "source": [
    "df_stops_route.head()"
   ]
  },
  {
   "cell_type": "code",
   "execution_count": 5,
   "metadata": {
    "scrolled": true
   },
   "outputs": [
    {
     "data": {
      "text/plain": [
       "STOPPOINTID    4601\n",
       "LINEID          132\n",
       "dtype: int64"
      ]
     },
     "execution_count": 5,
     "metadata": {},
     "output_type": "execute_result"
    }
   ],
   "source": [
    "df_stops_route.nunique()"
   ]
  },
  {
   "cell_type": "code",
   "execution_count": 6,
   "metadata": {
    "scrolled": false
   },
   "outputs": [
    {
     "data": {
      "text/html": [
       "<div>\n",
       "<style scoped>\n",
       "    .dataframe tbody tr th:only-of-type {\n",
       "        vertical-align: middle;\n",
       "    }\n",
       "\n",
       "    .dataframe tbody tr th {\n",
       "        vertical-align: top;\n",
       "    }\n",
       "\n",
       "    .dataframe thead th {\n",
       "        text-align: right;\n",
       "    }\n",
       "</style>\n",
       "<table border=\"1\" class=\"dataframe\">\n",
       "  <thead>\n",
       "    <tr style=\"text-align: right;\">\n",
       "      <th></th>\n",
       "      <th>STOPPOINTID</th>\n",
       "      <th>LINEID</th>\n",
       "    </tr>\n",
       "  </thead>\n",
       "  <tbody>\n",
       "    <tr>\n",
       "      <th>14</th>\n",
       "      <td>6</td>\n",
       "      <td>155</td>\n",
       "    </tr>\n",
       "    <tr>\n",
       "      <th>109</th>\n",
       "      <td>27</td>\n",
       "      <td>155</td>\n",
       "    </tr>\n",
       "    <tr>\n",
       "      <th>114</th>\n",
       "      <td>28</td>\n",
       "      <td>155</td>\n",
       "    </tr>\n",
       "    <tr>\n",
       "      <th>119</th>\n",
       "      <td>29</td>\n",
       "      <td>155</td>\n",
       "    </tr>\n",
       "    <tr>\n",
       "      <th>131</th>\n",
       "      <td>37</td>\n",
       "      <td>155</td>\n",
       "    </tr>\n",
       "    <tr>\n",
       "      <th>...</th>\n",
       "      <td>...</td>\n",
       "      <td>...</td>\n",
       "    </tr>\n",
       "    <tr>\n",
       "      <th>10912</th>\n",
       "      <td>7113</td>\n",
       "      <td>155</td>\n",
       "    </tr>\n",
       "    <tr>\n",
       "      <th>11119</th>\n",
       "      <td>7294</td>\n",
       "      <td>155</td>\n",
       "    </tr>\n",
       "    <tr>\n",
       "      <th>11198</th>\n",
       "      <td>7353</td>\n",
       "      <td>155</td>\n",
       "    </tr>\n",
       "    <tr>\n",
       "      <th>11204</th>\n",
       "      <td>7361</td>\n",
       "      <td>155</td>\n",
       "    </tr>\n",
       "    <tr>\n",
       "      <th>11205</th>\n",
       "      <td>7362</td>\n",
       "      <td>155</td>\n",
       "    </tr>\n",
       "  </tbody>\n",
       "</table>\n",
       "<p>156 rows × 2 columns</p>\n",
       "</div>"
      ],
      "text/plain": [
       "       STOPPOINTID LINEID\n",
       "14               6    155\n",
       "109             27    155\n",
       "114             28    155\n",
       "119             29    155\n",
       "131             37    155\n",
       "...            ...    ...\n",
       "10912         7113    155\n",
       "11119         7294    155\n",
       "11198         7353    155\n",
       "11204         7361    155\n",
       "11205         7362    155\n",
       "\n",
       "[156 rows x 2 columns]"
      ]
     },
     "execution_count": 6,
     "metadata": {},
     "output_type": "execute_result"
    }
   ],
   "source": [
    "df_stops_route.loc[df_stops_route['LINEID'] == '155']"
   ]
  },
  {
   "cell_type": "markdown",
   "metadata": {},
   "source": [
    "### Bus stops in stop_id_routes.csv"
   ]
  },
  {
   "cell_type": "code",
   "execution_count": 7,
   "metadata": {},
   "outputs": [
    {
     "name": "stdout",
     "output_type": "stream",
     "text": [
      "No of stops: 4601 first 5 stops: [2, 3, 4, 6, 7]\n"
     ]
    }
   ],
   "source": [
    "stop_id_route_stops = list(df_stops_route['STOPPOINTID'].unique())\n",
    "print(\"No of stops:\",len(stop_id_route_stops), \"first 5 stops:\",stop_id_route_stops[:5])"
   ]
  },
  {
   "cell_type": "markdown",
   "metadata": {},
   "source": [
    "### Bus stops in result.csv"
   ]
  },
  {
   "cell_type": "code",
   "execution_count": 8,
   "metadata": {},
   "outputs": [],
   "source": [
    "# df_stops_result = pd.read_csv(\"../DB/result.csv\",skip_blank_lines=True,index_col=False).drop_duplicates()"
   ]
  },
  {
   "cell_type": "code",
   "execution_count": 9,
   "metadata": {},
   "outputs": [],
   "source": [
    "# result_stops = list(df_stops_result['stopid'].unique())\n",
    "# print(\"No of stops:\",len(result_stops), \"first 5 stops:\",result_stops[:5])"
   ]
  },
  {
   "cell_type": "markdown",
   "metadata": {},
   "source": [
    "### Bus stops in stop_id_routes.csv which are NOT in result.csv"
   ]
  },
  {
   "cell_type": "code",
   "execution_count": 10,
   "metadata": {},
   "outputs": [],
   "source": [
    "# list(set(stop_id_route_stops) - set(result_stops))"
   ]
  },
  {
   "cell_type": "code",
   "execution_count": 11,
   "metadata": {},
   "outputs": [],
   "source": [
    "# list(set(result_stops) - set(stop_id_route_stops))"
   ]
  },
  {
   "cell_type": "markdown",
   "metadata": {},
   "source": [
    "## Janury_2018.csv"
   ]
  },
  {
   "cell_type": "code",
   "execution_count": 12,
   "metadata": {},
   "outputs": [],
   "source": [
    "df_Jan = pd.read_csv(\"../DB/monthlyData/January_2018.csv\",skip_blank_lines=True,index_col=False)\n",
    "df_Jan.drop('VEHICLEID',axis=1,inplace=True)"
   ]
  },
  {
   "cell_type": "code",
   "execution_count": 13,
   "metadata": {},
   "outputs": [
    {
     "name": "stdout",
     "output_type": "stream",
     "text": [
      "<class 'pandas.core.frame.DataFrame'>\n",
      "RangeIndex: 10525004 entries, 0 to 10525003\n",
      "Data columns (total 8 columns):\n",
      " #   Column           Non-Null Count     Dtype \n",
      "---  ------           --------------     ----- \n",
      " 0   DAYOFSERVICE     10525004 non-null  object\n",
      " 1   TRIPID           10525004 non-null  int64 \n",
      " 2   PROGRNUMBER      10525004 non-null  int64 \n",
      " 3   STOPPOINTID      10525004 non-null  int64 \n",
      " 4   PLANNEDTIME_ARR  10525004 non-null  int64 \n",
      " 5   PLANNEDTIME_DEP  10525004 non-null  int64 \n",
      " 6   ACTUALTIME_ARR   10525004 non-null  int64 \n",
      " 7   ACTUALTIME_DEP   10525004 non-null  int64 \n",
      "dtypes: int64(7), object(1)\n",
      "memory usage: 642.4+ MB\n",
      "None\n"
     ]
    }
   ],
   "source": [
    "print(df_Jan.info(null_counts = True))"
   ]
  },
  {
   "cell_type": "code",
   "execution_count": 14,
   "metadata": {
    "scrolled": true
   },
   "outputs": [
    {
     "data": {
      "text/html": [
       "<div>\n",
       "<style scoped>\n",
       "    .dataframe tbody tr th:only-of-type {\n",
       "        vertical-align: middle;\n",
       "    }\n",
       "\n",
       "    .dataframe tbody tr th {\n",
       "        vertical-align: top;\n",
       "    }\n",
       "\n",
       "    .dataframe thead th {\n",
       "        text-align: right;\n",
       "    }\n",
       "</style>\n",
       "<table border=\"1\" class=\"dataframe\">\n",
       "  <thead>\n",
       "    <tr style=\"text-align: right;\">\n",
       "      <th></th>\n",
       "      <th>DAYOFSERVICE</th>\n",
       "      <th>TRIPID</th>\n",
       "      <th>PROGRNUMBER</th>\n",
       "      <th>STOPPOINTID</th>\n",
       "      <th>PLANNEDTIME_ARR</th>\n",
       "      <th>PLANNEDTIME_DEP</th>\n",
       "      <th>ACTUALTIME_ARR</th>\n",
       "      <th>ACTUALTIME_DEP</th>\n",
       "    </tr>\n",
       "  </thead>\n",
       "  <tbody>\n",
       "    <tr>\n",
       "      <th>0</th>\n",
       "      <td>2018-01-01</td>\n",
       "      <td>5958355</td>\n",
       "      <td>3</td>\n",
       "      <td>1172</td>\n",
       "      <td>23799</td>\n",
       "      <td>23799</td>\n",
       "      <td>23863</td>\n",
       "      <td>23863</td>\n",
       "    </tr>\n",
       "    <tr>\n",
       "      <th>1</th>\n",
       "      <td>2018-01-01</td>\n",
       "      <td>5958355</td>\n",
       "      <td>4</td>\n",
       "      <td>1173</td>\n",
       "      <td>23860</td>\n",
       "      <td>23860</td>\n",
       "      <td>23934</td>\n",
       "      <td>24072</td>\n",
       "    </tr>\n",
       "    <tr>\n",
       "      <th>2</th>\n",
       "      <td>2018-01-01</td>\n",
       "      <td>5958355</td>\n",
       "      <td>5</td>\n",
       "      <td>1174</td>\n",
       "      <td>23937</td>\n",
       "      <td>23937</td>\n",
       "      <td>24114</td>\n",
       "      <td>24140</td>\n",
       "    </tr>\n",
       "    <tr>\n",
       "      <th>3</th>\n",
       "      <td>2018-01-01</td>\n",
       "      <td>5958355</td>\n",
       "      <td>6</td>\n",
       "      <td>1175</td>\n",
       "      <td>24048</td>\n",
       "      <td>24048</td>\n",
       "      <td>24180</td>\n",
       "      <td>24192</td>\n",
       "    </tr>\n",
       "    <tr>\n",
       "      <th>4</th>\n",
       "      <td>2018-01-01</td>\n",
       "      <td>5958355</td>\n",
       "      <td>7</td>\n",
       "      <td>15</td>\n",
       "      <td>24130</td>\n",
       "      <td>24130</td>\n",
       "      <td>24227</td>\n",
       "      <td>24257</td>\n",
       "    </tr>\n",
       "  </tbody>\n",
       "</table>\n",
       "</div>"
      ],
      "text/plain": [
       "  DAYOFSERVICE   TRIPID  PROGRNUMBER  STOPPOINTID  PLANNEDTIME_ARR  \\\n",
       "0   2018-01-01  5958355            3         1172            23799   \n",
       "1   2018-01-01  5958355            4         1173            23860   \n",
       "2   2018-01-01  5958355            5         1174            23937   \n",
       "3   2018-01-01  5958355            6         1175            24048   \n",
       "4   2018-01-01  5958355            7           15            24130   \n",
       "\n",
       "   PLANNEDTIME_DEP  ACTUALTIME_ARR  ACTUALTIME_DEP  \n",
       "0            23799           23863           23863  \n",
       "1            23860           23934           24072  \n",
       "2            23937           24114           24140  \n",
       "3            24048           24180           24192  \n",
       "4            24130           24227           24257  "
      ]
     },
     "execution_count": 14,
     "metadata": {},
     "output_type": "execute_result"
    }
   ],
   "source": [
    "df_Jan.head()"
   ]
  },
  {
   "cell_type": "code",
   "execution_count": 15,
   "metadata": {},
   "outputs": [
    {
     "data": {
      "text/plain": [
       "DAYOFSERVICE          31\n",
       "TRIPID             76453\n",
       "PROGRNUMBER          103\n",
       "STOPPOINTID         4714\n",
       "PLANNEDTIME_ARR    68859\n",
       "PLANNEDTIME_DEP    68859\n",
       "ACTUALTIME_ARR     71982\n",
       "ACTUALTIME_DEP     71965\n",
       "dtype: int64"
      ]
     },
     "execution_count": 15,
     "metadata": {},
     "output_type": "execute_result"
    }
   ],
   "source": [
    "df_Jan.nunique()"
   ]
  },
  {
   "cell_type": "markdown",
   "metadata": {},
   "source": [
    "## rt_trips_DB_2018.csv"
   ]
  },
  {
   "cell_type": "code",
   "execution_count": 16,
   "metadata": {},
   "outputs": [],
   "source": [
    "df_trips = pd.read_csv(\"../DB/monthlyData/rt_trips_DB_2018.csv\",skip_blank_lines=True,index_col=False)"
   ]
  },
  {
   "cell_type": "code",
   "execution_count": 17,
   "metadata": {},
   "outputs": [
    {
     "name": "stdout",
     "output_type": "stream",
     "text": [
      "<class 'pandas.core.frame.DataFrame'>\n",
      "RangeIndex: 2182637 entries, 0 to 2182636\n",
      "Data columns (total 9 columns):\n",
      " #   Column           Non-Null Count    Dtype  \n",
      "---  ------           --------------    -----  \n",
      " 0   DAYOFSERVICE     2182637 non-null  object \n",
      " 1   TRIPID           2182637 non-null  int64  \n",
      " 2   LINEID           2182637 non-null  object \n",
      " 3   ROUTEID          2182637 non-null  object \n",
      " 4   DIRECTION        2182637 non-null  int64  \n",
      " 5   PLANNEDTIME_ARR  2182637 non-null  int64  \n",
      " 6   PLANNEDTIME_DEP  2182637 non-null  int64  \n",
      " 7   ACTUALTIME_ARR   2045430 non-null  float64\n",
      " 8   ACTUALTIME_DEP   2018086 non-null  float64\n",
      "dtypes: float64(2), int64(4), object(3)\n",
      "memory usage: 149.9+ MB\n",
      "None\n"
     ]
    }
   ],
   "source": [
    "print(df_trips.info(null_counts = True))"
   ]
  },
  {
   "cell_type": "code",
   "execution_count": 18,
   "metadata": {},
   "outputs": [
    {
     "data": {
      "text/html": [
       "<div>\n",
       "<style scoped>\n",
       "    .dataframe tbody tr th:only-of-type {\n",
       "        vertical-align: middle;\n",
       "    }\n",
       "\n",
       "    .dataframe tbody tr th {\n",
       "        vertical-align: top;\n",
       "    }\n",
       "\n",
       "    .dataframe thead th {\n",
       "        text-align: right;\n",
       "    }\n",
       "</style>\n",
       "<table border=\"1\" class=\"dataframe\">\n",
       "  <thead>\n",
       "    <tr style=\"text-align: right;\">\n",
       "      <th></th>\n",
       "      <th>DAYOFSERVICE</th>\n",
       "      <th>TRIPID</th>\n",
       "      <th>LINEID</th>\n",
       "      <th>ROUTEID</th>\n",
       "      <th>DIRECTION</th>\n",
       "      <th>PLANNEDTIME_ARR</th>\n",
       "      <th>PLANNEDTIME_DEP</th>\n",
       "      <th>ACTUALTIME_ARR</th>\n",
       "      <th>ACTUALTIME_DEP</th>\n",
       "    </tr>\n",
       "  </thead>\n",
       "  <tbody>\n",
       "    <tr>\n",
       "      <th>0</th>\n",
       "      <td>07-FEB-18 00:00:00</td>\n",
       "      <td>6253783</td>\n",
       "      <td>68</td>\n",
       "      <td>68_80</td>\n",
       "      <td>1</td>\n",
       "      <td>87245</td>\n",
       "      <td>84600</td>\n",
       "      <td>87524.0</td>\n",
       "      <td>84600.0</td>\n",
       "    </tr>\n",
       "    <tr>\n",
       "      <th>1</th>\n",
       "      <td>07-FEB-18 00:00:00</td>\n",
       "      <td>6262138</td>\n",
       "      <td>25B</td>\n",
       "      <td>25B_271</td>\n",
       "      <td>2</td>\n",
       "      <td>30517</td>\n",
       "      <td>26460</td>\n",
       "      <td>32752.0</td>\n",
       "      <td>NaN</td>\n",
       "    </tr>\n",
       "    <tr>\n",
       "      <th>2</th>\n",
       "      <td>07-FEB-18 00:00:00</td>\n",
       "      <td>6254942</td>\n",
       "      <td>45A</td>\n",
       "      <td>45A_70</td>\n",
       "      <td>2</td>\n",
       "      <td>35512</td>\n",
       "      <td>32100</td>\n",
       "      <td>36329.0</td>\n",
       "      <td>32082.0</td>\n",
       "    </tr>\n",
       "    <tr>\n",
       "      <th>3</th>\n",
       "      <td>07-FEB-18 00:00:00</td>\n",
       "      <td>6259460</td>\n",
       "      <td>25A</td>\n",
       "      <td>25A_273</td>\n",
       "      <td>1</td>\n",
       "      <td>57261</td>\n",
       "      <td>54420</td>\n",
       "      <td>58463.0</td>\n",
       "      <td>54443.0</td>\n",
       "    </tr>\n",
       "    <tr>\n",
       "      <th>4</th>\n",
       "      <td>07-FEB-18 00:00:00</td>\n",
       "      <td>6253175</td>\n",
       "      <td>14</td>\n",
       "      <td>14_15</td>\n",
       "      <td>1</td>\n",
       "      <td>85383</td>\n",
       "      <td>81600</td>\n",
       "      <td>84682.0</td>\n",
       "      <td>81608.0</td>\n",
       "    </tr>\n",
       "  </tbody>\n",
       "</table>\n",
       "</div>"
      ],
      "text/plain": [
       "         DAYOFSERVICE   TRIPID LINEID  ROUTEID  DIRECTION  PLANNEDTIME_ARR  \\\n",
       "0  07-FEB-18 00:00:00  6253783     68    68_80          1            87245   \n",
       "1  07-FEB-18 00:00:00  6262138    25B  25B_271          2            30517   \n",
       "2  07-FEB-18 00:00:00  6254942    45A   45A_70          2            35512   \n",
       "3  07-FEB-18 00:00:00  6259460    25A  25A_273          1            57261   \n",
       "4  07-FEB-18 00:00:00  6253175     14    14_15          1            85383   \n",
       "\n",
       "   PLANNEDTIME_DEP  ACTUALTIME_ARR  ACTUALTIME_DEP  \n",
       "0            84600         87524.0         84600.0  \n",
       "1            26460         32752.0             NaN  \n",
       "2            32100         36329.0         32082.0  \n",
       "3            54420         58463.0         54443.0  \n",
       "4            81600         84682.0         81608.0  "
      ]
     },
     "execution_count": 18,
     "metadata": {},
     "output_type": "execute_result"
    }
   ],
   "source": [
    "df_trips.head()"
   ]
  },
  {
   "cell_type": "code",
   "execution_count": 19,
   "metadata": {
    "scrolled": true
   },
   "outputs": [
    {
     "data": {
      "text/plain": [
       "DAYOFSERVICE          360\n",
       "TRIPID             658964\n",
       "LINEID                130\n",
       "ROUTEID               588\n",
       "DIRECTION               2\n",
       "PLANNEDTIME_ARR     64461\n",
       "PLANNEDTIME_DEP       791\n",
       "ACTUALTIME_ARR      68122\n",
       "ACTUALTIME_DEP      66771\n",
       "dtype: int64"
      ]
     },
     "execution_count": 19,
     "metadata": {},
     "output_type": "execute_result"
    }
   ],
   "source": [
    "df_trips.nunique()"
   ]
  },
  {
   "cell_type": "code",
   "execution_count": 20,
   "metadata": {},
   "outputs": [
    {
     "data": {
      "text/html": [
       "<div>\n",
       "<style scoped>\n",
       "    .dataframe tbody tr th:only-of-type {\n",
       "        vertical-align: middle;\n",
       "    }\n",
       "\n",
       "    .dataframe tbody tr th {\n",
       "        vertical-align: top;\n",
       "    }\n",
       "\n",
       "    .dataframe thead th {\n",
       "        text-align: right;\n",
       "    }\n",
       "</style>\n",
       "<table border=\"1\" class=\"dataframe\">\n",
       "  <thead>\n",
       "    <tr style=\"text-align: right;\">\n",
       "      <th></th>\n",
       "      <th>DAYOFSERVICE</th>\n",
       "      <th>TRIPID</th>\n",
       "      <th>LINEID</th>\n",
       "      <th>ROUTEID</th>\n",
       "      <th>DIRECTION</th>\n",
       "      <th>PLANNEDTIME_ARR</th>\n",
       "      <th>PLANNEDTIME_DEP</th>\n",
       "      <th>ACTUALTIME_ARR</th>\n",
       "      <th>ACTUALTIME_DEP</th>\n",
       "    </tr>\n",
       "  </thead>\n",
       "  <tbody>\n",
       "  </tbody>\n",
       "</table>\n",
       "</div>"
      ],
      "text/plain": [
       "Empty DataFrame\n",
       "Columns: [DAYOFSERVICE, TRIPID, LINEID, ROUTEID, DIRECTION, PLANNEDTIME_ARR, PLANNEDTIME_DEP, ACTUALTIME_ARR, ACTUALTIME_DEP]\n",
       "Index: []"
      ]
     },
     "execution_count": 20,
     "metadata": {},
     "output_type": "execute_result"
    }
   ],
   "source": [
    "df_trips.loc[df_trips['LINEID'] == '155']"
   ]
  },
  {
   "cell_type": "markdown",
   "metadata": {},
   "source": [
    "## Merge df_Jan_route with df_trips['TRIPID','LINEID'] on 'TRIPID'"
   ]
  },
  {
   "cell_type": "code",
   "execution_count": 21,
   "metadata": {
    "scrolled": true
   },
   "outputs": [],
   "source": [
    "df_Jan_route_prgm = pd.merge(df_Jan[['STOPPOINTID','TRIPID','PROGRNUMBER']].drop_duplicates(),\\\n",
    "                             df_trips[['TRIPID','LINEID']],on='TRIPID', how='left').drop_duplicates()\n",
    "df_Jan_route_prgm = df_Jan_route_prgm[['STOPPOINTID','LINEID','PROGRNUMBER']]"
   ]
  },
  {
   "cell_type": "code",
   "execution_count": 22,
   "metadata": {
    "scrolled": false
   },
   "outputs": [
    {
     "name": "stdout",
     "output_type": "stream",
     "text": [
      "<class 'pandas.core.frame.DataFrame'>\n",
      "Int64Index: 4189396 entries, 0 to 11525309\n",
      "Data columns (total 3 columns):\n",
      " #   Column       Non-Null Count    Dtype \n",
      "---  ------       --------------    ----- \n",
      " 0   STOPPOINTID  4189396 non-null  int64 \n",
      " 1   LINEID       4189396 non-null  object\n",
      " 2   PROGRNUMBER  4189396 non-null  int64 \n",
      "dtypes: int64(2), object(1)\n",
      "memory usage: 127.9+ MB\n",
      "None\n"
     ]
    }
   ],
   "source": [
    "print(df_Jan_route_prgm.info(null_counts = True))"
   ]
  },
  {
   "cell_type": "code",
   "execution_count": 23,
   "metadata": {
    "scrolled": true
   },
   "outputs": [
    {
     "data": {
      "text/html": [
       "<div>\n",
       "<style scoped>\n",
       "    .dataframe tbody tr th:only-of-type {\n",
       "        vertical-align: middle;\n",
       "    }\n",
       "\n",
       "    .dataframe tbody tr th {\n",
       "        vertical-align: top;\n",
       "    }\n",
       "\n",
       "    .dataframe thead th {\n",
       "        text-align: right;\n",
       "    }\n",
       "</style>\n",
       "<table border=\"1\" class=\"dataframe\">\n",
       "  <thead>\n",
       "    <tr style=\"text-align: right;\">\n",
       "      <th></th>\n",
       "      <th>STOPPOINTID</th>\n",
       "      <th>LINEID</th>\n",
       "      <th>PROGRNUMBER</th>\n",
       "    </tr>\n",
       "  </thead>\n",
       "  <tbody>\n",
       "    <tr>\n",
       "      <th>0</th>\n",
       "      <td>1172</td>\n",
       "      <td>41</td>\n",
       "      <td>3</td>\n",
       "    </tr>\n",
       "    <tr>\n",
       "      <th>1</th>\n",
       "      <td>1173</td>\n",
       "      <td>41</td>\n",
       "      <td>4</td>\n",
       "    </tr>\n",
       "    <tr>\n",
       "      <th>2</th>\n",
       "      <td>1174</td>\n",
       "      <td>41</td>\n",
       "      <td>5</td>\n",
       "    </tr>\n",
       "    <tr>\n",
       "      <th>3</th>\n",
       "      <td>1175</td>\n",
       "      <td>41</td>\n",
       "      <td>6</td>\n",
       "    </tr>\n",
       "    <tr>\n",
       "      <th>4</th>\n",
       "      <td>15</td>\n",
       "      <td>41</td>\n",
       "      <td>7</td>\n",
       "    </tr>\n",
       "  </tbody>\n",
       "</table>\n",
       "</div>"
      ],
      "text/plain": [
       "   STOPPOINTID LINEID  PROGRNUMBER\n",
       "0         1172     41            3\n",
       "1         1173     41            4\n",
       "2         1174     41            5\n",
       "3         1175     41            6\n",
       "4           15     41            7"
      ]
     },
     "execution_count": 23,
     "metadata": {},
     "output_type": "execute_result"
    }
   ],
   "source": [
    "df_Jan_route_prgm.head()"
   ]
  },
  {
   "cell_type": "code",
   "execution_count": 24,
   "metadata": {
    "scrolled": true
   },
   "outputs": [
    {
     "data": {
      "text/plain": [
       "STOPPOINTID    4714\n",
       "LINEID          126\n",
       "PROGRNUMBER     103\n",
       "dtype: int64"
      ]
     },
     "execution_count": 24,
     "metadata": {},
     "output_type": "execute_result"
    }
   ],
   "source": [
    "df_Jan_route_prgm.nunique()"
   ]
  },
  {
   "cell_type": "code",
   "execution_count": 25,
   "metadata": {},
   "outputs": [
    {
     "data": {
      "text/html": [
       "<div>\n",
       "<style scoped>\n",
       "    .dataframe tbody tr th:only-of-type {\n",
       "        vertical-align: middle;\n",
       "    }\n",
       "\n",
       "    .dataframe tbody tr th {\n",
       "        vertical-align: top;\n",
       "    }\n",
       "\n",
       "    .dataframe thead th {\n",
       "        text-align: right;\n",
       "    }\n",
       "</style>\n",
       "<table border=\"1\" class=\"dataframe\">\n",
       "  <thead>\n",
       "    <tr style=\"text-align: right;\">\n",
       "      <th></th>\n",
       "      <th>STOPPOINTID</th>\n",
       "      <th>LINEID</th>\n",
       "      <th>PROGRNUMBER</th>\n",
       "    </tr>\n",
       "  </thead>\n",
       "  <tbody>\n",
       "  </tbody>\n",
       "</table>\n",
       "</div>"
      ],
      "text/plain": [
       "Empty DataFrame\n",
       "Columns: [STOPPOINTID, LINEID, PROGRNUMBER]\n",
       "Index: []"
      ]
     },
     "execution_count": 25,
     "metadata": {},
     "output_type": "execute_result"
    }
   ],
   "source": [
    "df_Jan_route_prgm.loc[df_Jan_route_prgm['LINEID'] == '155']"
   ]
  },
  {
   "cell_type": "markdown",
   "metadata": {},
   "source": [
    "## Merge df_stops_route with df_Jan_route_prgm on ['STOPPOINTID','LINEID'] pair"
   ]
  },
  {
   "cell_type": "code",
   "execution_count": 26,
   "metadata": {},
   "outputs": [],
   "source": [
    "df_stops_route_prog = pd.merge(df_stops_route,df_Jan_route_prgm,on=['STOPPOINTID','LINEID'], how='left').drop_duplicates()"
   ]
  },
  {
   "cell_type": "code",
   "execution_count": 27,
   "metadata": {
    "scrolled": true
   },
   "outputs": [
    {
     "name": "stdout",
     "output_type": "stream",
     "text": [
      "<class 'pandas.core.frame.DataFrame'>\n",
      "Int64Index: 16330 entries, 0 to 3762161\n",
      "Data columns (total 3 columns):\n",
      " #   Column       Non-Null Count  Dtype  \n",
      "---  ------       --------------  -----  \n",
      " 0   STOPPOINTID  16330 non-null  int64  \n",
      " 1   LINEID       16330 non-null  object \n",
      " 2   PROGRNUMBER  15255 non-null  float64\n",
      "dtypes: float64(1), int64(1), object(1)\n",
      "memory usage: 510.3+ KB\n",
      "None\n"
     ]
    }
   ],
   "source": [
    "print(df_stops_route_prog.info(null_counts = True))"
   ]
  },
  {
   "cell_type": "code",
   "execution_count": 28,
   "metadata": {},
   "outputs": [
    {
     "data": {
      "text/html": [
       "<div>\n",
       "<style scoped>\n",
       "    .dataframe tbody tr th:only-of-type {\n",
       "        vertical-align: middle;\n",
       "    }\n",
       "\n",
       "    .dataframe tbody tr th {\n",
       "        vertical-align: top;\n",
       "    }\n",
       "\n",
       "    .dataframe thead th {\n",
       "        text-align: right;\n",
       "    }\n",
       "</style>\n",
       "<table border=\"1\" class=\"dataframe\">\n",
       "  <thead>\n",
       "    <tr style=\"text-align: right;\">\n",
       "      <th></th>\n",
       "      <th>STOPPOINTID</th>\n",
       "      <th>LINEID</th>\n",
       "      <th>PROGRNUMBER</th>\n",
       "    </tr>\n",
       "  </thead>\n",
       "  <tbody>\n",
       "    <tr>\n",
       "      <th>0</th>\n",
       "      <td>2</td>\n",
       "      <td>38</td>\n",
       "      <td>10.0</td>\n",
       "    </tr>\n",
       "    <tr>\n",
       "      <th>327</th>\n",
       "      <td>2</td>\n",
       "      <td>38A</td>\n",
       "      <td>10.0</td>\n",
       "    </tr>\n",
       "    <tr>\n",
       "      <th>622</th>\n",
       "      <td>2</td>\n",
       "      <td>38D</td>\n",
       "      <td>10.0</td>\n",
       "    </tr>\n",
       "    <tr>\n",
       "      <th>627</th>\n",
       "      <td>2</td>\n",
       "      <td>38B</td>\n",
       "      <td>10.0</td>\n",
       "    </tr>\n",
       "    <tr>\n",
       "      <th>652</th>\n",
       "      <td>2</td>\n",
       "      <td>46A</td>\n",
       "      <td>50.0</td>\n",
       "    </tr>\n",
       "  </tbody>\n",
       "</table>\n",
       "</div>"
      ],
      "text/plain": [
       "     STOPPOINTID LINEID  PROGRNUMBER\n",
       "0              2     38         10.0\n",
       "327            2    38A         10.0\n",
       "622            2    38D         10.0\n",
       "627            2    38B         10.0\n",
       "652            2    46A         50.0"
      ]
     },
     "execution_count": 28,
     "metadata": {},
     "output_type": "execute_result"
    }
   ],
   "source": [
    "df_stops_route_prog.head()"
   ]
  },
  {
   "cell_type": "code",
   "execution_count": 29,
   "metadata": {},
   "outputs": [
    {
     "data": {
      "text/plain": [
       "STOPPOINTID    4601\n",
       "LINEID          132\n",
       "PROGRNUMBER     103\n",
       "dtype: int64"
      ]
     },
     "execution_count": 29,
     "metadata": {},
     "output_type": "execute_result"
    }
   ],
   "source": [
    "df_stops_route_prog.nunique()"
   ]
  },
  {
   "cell_type": "markdown",
   "metadata": {},
   "source": [
    "## Check STOPPOINTID, LINEID combinations with NaN PROGRNUMBER"
   ]
  },
  {
   "cell_type": "code",
   "execution_count": 30,
   "metadata": {},
   "outputs": [
    {
     "data": {
      "text/html": [
       "<div>\n",
       "<style scoped>\n",
       "    .dataframe tbody tr th:only-of-type {\n",
       "        vertical-align: middle;\n",
       "    }\n",
       "\n",
       "    .dataframe tbody tr th {\n",
       "        vertical-align: top;\n",
       "    }\n",
       "\n",
       "    .dataframe thead th {\n",
       "        text-align: right;\n",
       "    }\n",
       "</style>\n",
       "<table border=\"1\" class=\"dataframe\">\n",
       "  <thead>\n",
       "    <tr style=\"text-align: right;\">\n",
       "      <th></th>\n",
       "      <th>STOPPOINTID</th>\n",
       "      <th>LINEID</th>\n",
       "      <th>PROGRNUMBER</th>\n",
       "    </tr>\n",
       "  </thead>\n",
       "  <tbody>\n",
       "    <tr>\n",
       "      <th>5362</th>\n",
       "      <td>6</td>\n",
       "      <td>155</td>\n",
       "      <td>NaN</td>\n",
       "    </tr>\n",
       "    <tr>\n",
       "      <th>8947</th>\n",
       "      <td>10</td>\n",
       "      <td>16</td>\n",
       "      <td>NaN</td>\n",
       "    </tr>\n",
       "    <tr>\n",
       "      <th>8948</th>\n",
       "      <td>10</td>\n",
       "      <td>16C</td>\n",
       "      <td>NaN</td>\n",
       "    </tr>\n",
       "    <tr>\n",
       "      <th>22561</th>\n",
       "      <td>15</td>\n",
       "      <td>33E</td>\n",
       "      <td>NaN</td>\n",
       "    </tr>\n",
       "    <tr>\n",
       "      <th>25696</th>\n",
       "      <td>15</td>\n",
       "      <td>41D</td>\n",
       "      <td>NaN</td>\n",
       "    </tr>\n",
       "    <tr>\n",
       "      <th>...</th>\n",
       "      <td>...</td>\n",
       "      <td>...</td>\n",
       "      <td>...</td>\n",
       "    </tr>\n",
       "    <tr>\n",
       "      <th>3755488</th>\n",
       "      <td>7637</td>\n",
       "      <td>63A</td>\n",
       "      <td>NaN</td>\n",
       "    </tr>\n",
       "    <tr>\n",
       "      <th>3756463</th>\n",
       "      <td>7640</td>\n",
       "      <td>84A</td>\n",
       "      <td>NaN</td>\n",
       "    </tr>\n",
       "    <tr>\n",
       "      <th>3756464</th>\n",
       "      <td>7640</td>\n",
       "      <td>84</td>\n",
       "      <td>NaN</td>\n",
       "    </tr>\n",
       "    <tr>\n",
       "      <th>3759456</th>\n",
       "      <td>7651</td>\n",
       "      <td>63A</td>\n",
       "      <td>NaN</td>\n",
       "    </tr>\n",
       "    <tr>\n",
       "      <th>3762161</th>\n",
       "      <td>7667</td>\n",
       "      <td>7D</td>\n",
       "      <td>NaN</td>\n",
       "    </tr>\n",
       "  </tbody>\n",
       "</table>\n",
       "<p>1075 rows × 3 columns</p>\n",
       "</div>"
      ],
      "text/plain": [
       "         STOPPOINTID LINEID  PROGRNUMBER\n",
       "5362               6    155          NaN\n",
       "8947              10     16          NaN\n",
       "8948              10    16C          NaN\n",
       "22561             15    33E          NaN\n",
       "25696             15    41D          NaN\n",
       "...              ...    ...          ...\n",
       "3755488         7637    63A          NaN\n",
       "3756463         7640    84A          NaN\n",
       "3756464         7640     84          NaN\n",
       "3759456         7651    63A          NaN\n",
       "3762161         7667     7D          NaN\n",
       "\n",
       "[1075 rows x 3 columns]"
      ]
     },
     "execution_count": 30,
     "metadata": {},
     "output_type": "execute_result"
    }
   ],
   "source": [
    "df_stops_route_prog.loc[df_stops_route_prog['PROGRNUMBER'].isnull()]"
   ]
  },
  {
   "cell_type": "code",
   "execution_count": 31,
   "metadata": {
    "scrolled": true
   },
   "outputs": [
    {
     "data": {
      "text/html": [
       "<div>\n",
       "<style scoped>\n",
       "    .dataframe tbody tr th:only-of-type {\n",
       "        vertical-align: middle;\n",
       "    }\n",
       "\n",
       "    .dataframe tbody tr th {\n",
       "        vertical-align: top;\n",
       "    }\n",
       "\n",
       "    .dataframe thead th {\n",
       "        text-align: right;\n",
       "    }\n",
       "</style>\n",
       "<table border=\"1\" class=\"dataframe\">\n",
       "  <thead>\n",
       "    <tr style=\"text-align: right;\">\n",
       "      <th></th>\n",
       "      <th>STOPPOINTID</th>\n",
       "      <th>LINEID</th>\n",
       "      <th>PROGRNUMBER</th>\n",
       "    </tr>\n",
       "  </thead>\n",
       "  <tbody>\n",
       "    <tr>\n",
       "      <th>0</th>\n",
       "      <td>2</td>\n",
       "      <td>38</td>\n",
       "      <td>10.0</td>\n",
       "    </tr>\n",
       "    <tr>\n",
       "      <th>327</th>\n",
       "      <td>2</td>\n",
       "      <td>38A</td>\n",
       "      <td>10.0</td>\n",
       "    </tr>\n",
       "    <tr>\n",
       "      <th>622</th>\n",
       "      <td>2</td>\n",
       "      <td>38D</td>\n",
       "      <td>10.0</td>\n",
       "    </tr>\n",
       "    <tr>\n",
       "      <th>627</th>\n",
       "      <td>2</td>\n",
       "      <td>38B</td>\n",
       "      <td>10.0</td>\n",
       "    </tr>\n",
       "    <tr>\n",
       "      <th>652</th>\n",
       "      <td>2</td>\n",
       "      <td>46A</td>\n",
       "      <td>50.0</td>\n",
       "    </tr>\n",
       "    <tr>\n",
       "      <th>730</th>\n",
       "      <td>2</td>\n",
       "      <td>46A</td>\n",
       "      <td>30.0</td>\n",
       "    </tr>\n",
       "    <tr>\n",
       "      <th>731</th>\n",
       "      <td>2</td>\n",
       "      <td>46A</td>\n",
       "      <td>34.0</td>\n",
       "    </tr>\n",
       "    <tr>\n",
       "      <th>824</th>\n",
       "      <td>2</td>\n",
       "      <td>46A</td>\n",
       "      <td>3.0</td>\n",
       "    </tr>\n",
       "    <tr>\n",
       "      <th>1947</th>\n",
       "      <td>2</td>\n",
       "      <td>46E</td>\n",
       "      <td>36.0</td>\n",
       "    </tr>\n",
       "  </tbody>\n",
       "</table>\n",
       "</div>"
      ],
      "text/plain": [
       "      STOPPOINTID LINEID  PROGRNUMBER\n",
       "0               2     38         10.0\n",
       "327             2    38A         10.0\n",
       "622             2    38D         10.0\n",
       "627             2    38B         10.0\n",
       "652             2    46A         50.0\n",
       "730             2    46A         30.0\n",
       "731             2    46A         34.0\n",
       "824             2    46A          3.0\n",
       "1947            2    46E         36.0"
      ]
     },
     "execution_count": 31,
     "metadata": {},
     "output_type": "execute_result"
    }
   ],
   "source": [
    "df_stops_route_prog.loc[df_stops_route_prog['STOPPOINTID'] == 2]"
   ]
  },
  {
   "cell_type": "code",
   "execution_count": 32,
   "metadata": {},
   "outputs": [
    {
     "data": {
      "text/html": [
       "<div>\n",
       "<style scoped>\n",
       "    .dataframe tbody tr th:only-of-type {\n",
       "        vertical-align: middle;\n",
       "    }\n",
       "\n",
       "    .dataframe tbody tr th {\n",
       "        vertical-align: top;\n",
       "    }\n",
       "\n",
       "    .dataframe thead th {\n",
       "        text-align: right;\n",
       "    }\n",
       "</style>\n",
       "<table border=\"1\" class=\"dataframe\">\n",
       "  <thead>\n",
       "    <tr style=\"text-align: right;\">\n",
       "      <th></th>\n",
       "      <th>STOPPOINTID</th>\n",
       "      <th>LINEID</th>\n",
       "      <th>PROGRNUMBER</th>\n",
       "    </tr>\n",
       "  </thead>\n",
       "  <tbody>\n",
       "    <tr>\n",
       "      <th>5362</th>\n",
       "      <td>6</td>\n",
       "      <td>155</td>\n",
       "      <td>NaN</td>\n",
       "    </tr>\n",
       "    <tr>\n",
       "      <th>46363</th>\n",
       "      <td>27</td>\n",
       "      <td>155</td>\n",
       "      <td>NaN</td>\n",
       "    </tr>\n",
       "    <tr>\n",
       "      <th>48830</th>\n",
       "      <td>28</td>\n",
       "      <td>155</td>\n",
       "      <td>NaN</td>\n",
       "    </tr>\n",
       "    <tr>\n",
       "      <th>51187</th>\n",
       "      <td>29</td>\n",
       "      <td>155</td>\n",
       "      <td>NaN</td>\n",
       "    </tr>\n",
       "    <tr>\n",
       "      <th>56563</th>\n",
       "      <td>37</td>\n",
       "      <td>155</td>\n",
       "      <td>NaN</td>\n",
       "    </tr>\n",
       "    <tr>\n",
       "      <th>...</th>\n",
       "      <td>...</td>\n",
       "      <td>...</td>\n",
       "      <td>...</td>\n",
       "    </tr>\n",
       "    <tr>\n",
       "      <th>3574461</th>\n",
       "      <td>7113</td>\n",
       "      <td>155</td>\n",
       "      <td>NaN</td>\n",
       "    </tr>\n",
       "    <tr>\n",
       "      <th>3633829</th>\n",
       "      <td>7294</td>\n",
       "      <td>155</td>\n",
       "      <td>NaN</td>\n",
       "    </tr>\n",
       "    <tr>\n",
       "      <th>3651705</th>\n",
       "      <td>7353</td>\n",
       "      <td>155</td>\n",
       "      <td>NaN</td>\n",
       "    </tr>\n",
       "    <tr>\n",
       "      <th>3655329</th>\n",
       "      <td>7361</td>\n",
       "      <td>155</td>\n",
       "      <td>NaN</td>\n",
       "    </tr>\n",
       "    <tr>\n",
       "      <th>3655330</th>\n",
       "      <td>7362</td>\n",
       "      <td>155</td>\n",
       "      <td>NaN</td>\n",
       "    </tr>\n",
       "  </tbody>\n",
       "</table>\n",
       "<p>156 rows × 3 columns</p>\n",
       "</div>"
      ],
      "text/plain": [
       "         STOPPOINTID LINEID  PROGRNUMBER\n",
       "5362               6    155          NaN\n",
       "46363             27    155          NaN\n",
       "48830             28    155          NaN\n",
       "51187             29    155          NaN\n",
       "56563             37    155          NaN\n",
       "...              ...    ...          ...\n",
       "3574461         7113    155          NaN\n",
       "3633829         7294    155          NaN\n",
       "3651705         7353    155          NaN\n",
       "3655329         7361    155          NaN\n",
       "3655330         7362    155          NaN\n",
       "\n",
       "[156 rows x 3 columns]"
      ]
     },
     "execution_count": 32,
     "metadata": {},
     "output_type": "execute_result"
    }
   ],
   "source": [
    "df_stops_route_prog.loc[df_stops_route_prog['LINEID'] == '155']"
   ]
  },
  {
   "cell_type": "markdown",
   "metadata": {},
   "source": [
    "## Check interection of STOPPOINTID : df_Jan_route_prog and  df_stops_route_prog"
   ]
  },
  {
   "cell_type": "code",
   "execution_count": 33,
   "metadata": {},
   "outputs": [
    {
     "name": "stdout",
     "output_type": "stream",
     "text": [
      "No of stops: 4714 first 5 stops: [1172, 1173, 1174, 1175, 15]\n"
     ]
    }
   ],
   "source": [
    "Jan_route_prgm_stops = list(df_Jan_route_prgm['STOPPOINTID'].unique())\n",
    "print(\"No of stops:\",len(Jan_route_prgm_stops), \"first 5 stops:\",Jan_route_prgm_stops[:5])"
   ]
  },
  {
   "cell_type": "code",
   "execution_count": 34,
   "metadata": {},
   "outputs": [
    {
     "name": "stdout",
     "output_type": "stream",
     "text": [
      "No of stops: 4601 first 5 stops: [2, 3, 4, 6, 7]\n"
     ]
    }
   ],
   "source": [
    "stops_route_prog_stops = list(df_stops_route_prog['STOPPOINTID'].unique())\n",
    "print(\"No of stops:\",len(stops_route_prog_stops), \"first 5 stops:\",stops_route_prog_stops[:5])"
   ]
  },
  {
   "cell_type": "code",
   "execution_count": 35,
   "metadata": {
    "scrolled": true
   },
   "outputs": [
    {
     "name": "stdout",
     "output_type": "stream",
     "text": [
      "No of distinct current stops today: 0 first 5 stops: []\n"
     ]
    }
   ],
   "source": [
    "stops = list(set(stops_route_prog_stops) - set(Jan_route_prgm_stops))\n",
    "print(\"No of distinct current stops today:\",len(stops), \"first 5 stops:\",stops[:5])"
   ]
  },
  {
   "cell_type": "code",
   "execution_count": 36,
   "metadata": {
    "scrolled": true
   },
   "outputs": [
    {
     "name": "stdout",
     "output_type": "stream",
     "text": [
      "No of distinct current stops  in Jan2018: 113 first 5 stops: [2576, 2079, 6180, 3621, 4137]\n"
     ]
    }
   ],
   "source": [
    "stops = list(set(Jan_route_prgm_stops) - set(stops_route_prog_stops))\n",
    "print(\"No of distinct current stops  in Jan2018:\",len(stops), \"first 5 stops:\",stops[:5])"
   ]
  },
  {
   "cell_type": "markdown",
   "metadata": {},
   "source": [
    "## Check interection of LINEID : df_Jan_route_prog and  df_stops_route_prog"
   ]
  },
  {
   "cell_type": "code",
   "execution_count": 37,
   "metadata": {},
   "outputs": [
    {
     "name": "stdout",
     "output_type": "stream",
     "text": [
      "No of routes: 126 routes: ['41', '66', '77A', '83', '130', '151', '40', '122', '13', '65', '41C', '75', '33', '15', '7A', '27A', '67', '15B', '150', '39A', '123', '16', '27', '29A', '7', '145', '4', '39', '38', '46A', '18', '65B', '25A', '14', '25B', '31', '31A', '27B', '84', '40D', '15A', '17A', '54A', '38A', '9', '37', '33B', '184', '70', '104', '42', '63', '68', '66A', '32', '140', '47', '49', '44', '76', '61', '102', '43', '56A', '83A', '11', '79', '1', '120', '45A', '59', '69', '53', '17', '185', '270', '25', '79A', '238', '220', '26', '33A', '41B', '40B', '16C', '14C', '7D', '66B', '38B', '84A', '84X', '239', '68A', '111', '33X', '76A', '7B', '44B', '41A', '67X', '236', '31B', '39X', '66X', '114', '32X', '70D', '77X', '51X', '142', '25D', '51D', '69X', '42D', '27X', '25X', '46E', '38D', '41X', '116', '31D', '161', '118', '15D', '68X', '33D']\n"
     ]
    }
   ],
   "source": [
    "Jan_route_prgm_routes = list(df_Jan_route_prgm['LINEID'].unique())\n",
    "print(\"No of routes:\",len(Jan_route_prgm_routes), \"routes:\",Jan_route_prgm_routes)"
   ]
  },
  {
   "cell_type": "code",
   "execution_count": 38,
   "metadata": {},
   "outputs": [
    {
     "name": "stdout",
     "output_type": "stream",
     "text": [
      "No of routes: 132 routes: ['38', '38A', '38D', '38B', '46A', '46E', '120', '122', '7', '7A', '7B', '7D', '9', '4', '155', '13', '140', '40', '40B', '40D', '16', '16C', '11', '1', '44', '33E', '33', '41', '41B', '41C', '41D', '40E', '16D', '54A', '150', '220A', '220', '17A', '83', '83A', '14', '14C', '27B', '116', '747', '53', '123', '31A', '31B', '32', '29A', '31', '32X', '151', '41X', '27', '15', '27A', '142', '27X', '33D', '33X', '61', '118', '84X', '25', '25A', '25B', '25D', '25X', '26', '66', '66A', '67X', '66B', '66E', '66X', '67', '70', '51D', '51X', '37', '39', '39A', '145', '79A', '79', '15B', '15A', '15D', '77A', '56A', '47', '49', '77X', '84A', '17', '18', '130', '42', '43', '236', '238', '104', '175', '102', '65', '65B', '75', '75A', '68A', '68', '69X', '69', '17D', '236A', '63', '63A', '59', '45A', '45B', '111', '76', '76A', '185', '239', '44B', '84', '114', '184', '270', '161']\n"
     ]
    }
   ],
   "source": [
    "stops_route_prog_routes = list(df_stops_route_prog['LINEID'].unique())\n",
    "print(\"No of routes:\",len(stops_route_prog_routes), \"routes:\",stops_route_prog_routes)"
   ]
  },
  {
   "cell_type": "code",
   "execution_count": 39,
   "metadata": {},
   "outputs": [
    {
     "name": "stdout",
     "output_type": "stream",
     "text": [
      "No of Extra routes Today: 14 routes: ['175', '41D', '75A', '16D', '63A', '33E', '220A', '17D', '747', '40E', '45B', '155', '66E', '236A']\n"
     ]
    }
   ],
   "source": [
    "routes = list(set(stops_route_prog_routes) - set(Jan_route_prgm_routes))\n",
    "print(\"No of Extra routes Today:\",len(routes), \"routes:\",routes)"
   ]
  },
  {
   "cell_type": "code",
   "execution_count": 40,
   "metadata": {},
   "outputs": [
    {
     "name": "stdout",
     "output_type": "stream",
     "text": [
      "No of Extra routes in Jan2018: 8 routes: ['68X', '39X', '70D', '33A', '41A', '42D', '31D', '33B']\n"
     ]
    }
   ],
   "source": [
    "routes = list(set(Jan_route_prgm_routes) - set(stops_route_prog_routes))\n",
    "print(\"No of Extra routes in Jan2018:\",len(routes), \"routes:\",routes)"
   ]
  },
  {
   "cell_type": "code",
   "execution_count": null,
   "metadata": {},
   "outputs": [],
   "source": []
  }
 ],
 "metadata": {
  "kernelspec": {
   "display_name": "envDA",
   "language": "python",
   "name": "envda"
  },
  "language_info": {
   "codemirror_mode": {
    "name": "ipython",
    "version": 3
   },
   "file_extension": ".py",
   "mimetype": "text/x-python",
   "name": "python",
   "nbconvert_exporter": "python",
   "pygments_lexer": "ipython3",
   "version": "3.7.7"
  },
  "toc": {
   "base_numbering": 1,
   "nav_menu": {},
   "number_sections": true,
   "sideBar": true,
   "skip_h1_title": false,
   "title_cell": "Table of Contents",
   "title_sidebar": "Contents",
   "toc_cell": false,
   "toc_position": {},
   "toc_section_display": true,
   "toc_window_display": false
  }
 },
 "nbformat": 4,
 "nbformat_minor": 4
}
